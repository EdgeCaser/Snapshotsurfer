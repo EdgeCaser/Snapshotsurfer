{
 "cells": [
  {
   "cell_type": "code",
   "execution_count": 1,
   "metadata": {
    "collapsed": true,
    "pycharm": {
     "name": "#%%\n"
    }
   },
   "outputs": [],
   "source": [
    "global file\n",
    "file = input('Selet a folder to save output') ##enter your file path here - the file is in the repo \"summary_stats.csv\".\n",
    "raw_file = file"
   ]
  },
  {
   "cell_type": "code",
   "execution_count": 1,
   "outputs": [],
   "source": [
    "from datetime import datetime\n",
    "from datetime import date\n",
    "from subgrounds.subgraph import SyntheticField, FieldPath\n",
    "from subgrounds.subgrounds import Subgrounds\n",
    "import math\n",
    "import pandas as pd\n",
    "import  os as os\n",
    "import duckdb as db\n",
    "import seaborn as sns\n",
    "import matplotlib.pyplot as plt\n"
   ],
   "metadata": {
    "collapsed": false,
    "pycharm": {
     "name": "#%%\n"
    }
   }
  },
  {
   "cell_type": "code",
   "execution_count": 2,
   "outputs": [],
   "source": [
    "sg = Subgrounds()\n",
    "holders = sg.load_api('https://api.studio.thegraph.com/query/28103/token-holders/0.0.13')"
   ],
   "metadata": {
    "collapsed": false,
    "pycharm": {
     "name": "#%%\n"
    }
   }
  },
  {
   "cell_type": "code",
   "execution_count": 2,
   "outputs": [],
   "source": [],
   "metadata": {
    "collapsed": false,
    "pycharm": {
     "name": "#%%\n"
    }
   }
  },
  {
   "cell_type": "code",
   "execution_count": 60,
   "outputs": [],
   "source": [
    "token_balances = holders.Query.tokenHolderBalances(\n",
    "    orderBy='timestamp',\n",
    "    first=1000 ,\n",
    "    orderdirection = 'asc',\n",
    "    where=[\n",
    "            token_balances.date  > '2022-09-24'\n",
    "          ]\n",
    ")"
   ],
   "metadata": {
    "collapsed": false,
    "pycharm": {
     "name": "#%%\n"
    }
   }
  },
  {
   "cell_type": "code",
   "execution_count": 61,
   "outputs": [
    {
     "data": {
      "text/plain": "     tokenHolderBalances_date tokenHolderBalances_holder_token_id  \\\n0    2022-09-24T00:03:35.000Z                       gOHM/Ethereum   \n1    2022-09-24T00:03:35.000Z                       gOHM/Ethereum   \n2    2022-09-24T00:03:35.000Z                       gOHM/Ethereum   \n3    2022-09-24T00:35:59.000Z                       gOHM/Ethereum   \n4    2022-09-24T00:35:59.000Z                       gOHM/Ethereum   \n..                        ...                                 ...   \n995  2022-09-26T01:01:11.000Z                       gOHM/Ethereum   \n996  2022-09-26T01:01:11.000Z                       gOHM/Ethereum   \n997  2022-09-26T01:02:35.000Z                       gOHM/Ethereum   \n998  2022-09-26T01:02:35.000Z                       gOHM/Ethereum   \n999  2022-09-26T01:11:23.000Z                       gOHM/Ethereum   \n\n       tokenHolderBalances_holder_token_address  \\\n0    0x0ab87046fbb341d058f17cbc4c1133f25a20a52f   \n1    0x0ab87046fbb341d058f17cbc4c1133f25a20a52f   \n2    0x0ab87046fbb341d058f17cbc4c1133f25a20a52f   \n3    0x0ab87046fbb341d058f17cbc4c1133f25a20a52f   \n4    0x0ab87046fbb341d058f17cbc4c1133f25a20a52f   \n..                                          ...   \n995  0x0ab87046fbb341d058f17cbc4c1133f25a20a52f   \n996  0x0ab87046fbb341d058f17cbc4c1133f25a20a52f   \n997  0x0ab87046fbb341d058f17cbc4c1133f25a20a52f   \n998  0x0ab87046fbb341d058f17cbc4c1133f25a20a52f   \n999  0x0ab87046fbb341d058f17cbc4c1133f25a20a52f   \n\n    tokenHolderBalances_holder_token_blockchain  \\\n0                                      Ethereum   \n1                                      Ethereum   \n2                                      Ethereum   \n3                                      Ethereum   \n4                                      Ethereum   \n..                                          ...   \n995                                    Ethereum   \n996                                    Ethereum   \n997                                    Ethereum   \n998                                    Ethereum   \n999                                    Ethereum   \n\n    tokenHolderBalances_holder_token_name  \\\n0                                    gOHM   \n1                                    gOHM   \n2                                    gOHM   \n3                                    gOHM   \n4                                    gOHM   \n..                                    ...   \n995                                  gOHM   \n996                                  gOHM   \n997                                  gOHM   \n998                                  gOHM   \n999                                  gOHM   \n\n              tokenHolderBalances_holder_holder  tokenHolderBalances_balance  \n0    0x2796317b0ff8538f253012862c06787adfb8ceb6                 1.235389e+04  \n1    0x6571d6be3d8460cf5f7d6711cd9961860029d85f                 0.000000e+00  \n2    0xf3b844811e5c745143cf4104d7833b427208ddb3                 0.000000e+00  \n3    0x24902aa0cf0000a08c0ea0b003b0c0bf600000e0                 1.000000e-17  \n4    0xc987d503a9f78f6d1d782c1fff5af4cb34437e3f                 9.466921e+00  \n..                                          ...                          ...  \n995  0x08f68110f1e0ca67c80a24b4bd206675610f445d                 4.410036e+01  \n996  0xd54e4f8a55247487dd7c8c59f14ee5c0c2889477                 4.086038e-03  \n997  0xc987d503a9f78f6d1d782c1fff5af4cb34437e3f                 7.638779e+00  \n998  0xd8c07491caa1edf960db3ceff387426d53942ea0                 1.554847e-04  \n999  0xbaf209e70f2255986843c46984efbcef24cd28be                 1.348670e+01  \n\n[1000 rows x 7 columns]",
      "text/html": "<div>\n<style scoped>\n    .dataframe tbody tr th:only-of-type {\n        vertical-align: middle;\n    }\n\n    .dataframe tbody tr th {\n        vertical-align: top;\n    }\n\n    .dataframe thead th {\n        text-align: right;\n    }\n</style>\n<table border=\"1\" class=\"dataframe\">\n  <thead>\n    <tr style=\"text-align: right;\">\n      <th></th>\n      <th>tokenHolderBalances_date</th>\n      <th>tokenHolderBalances_holder_token_id</th>\n      <th>tokenHolderBalances_holder_token_address</th>\n      <th>tokenHolderBalances_holder_token_blockchain</th>\n      <th>tokenHolderBalances_holder_token_name</th>\n      <th>tokenHolderBalances_holder_holder</th>\n      <th>tokenHolderBalances_balance</th>\n    </tr>\n  </thead>\n  <tbody>\n    <tr>\n      <th>0</th>\n      <td>2022-09-24T00:03:35.000Z</td>\n      <td>gOHM/Ethereum</td>\n      <td>0x0ab87046fbb341d058f17cbc4c1133f25a20a52f</td>\n      <td>Ethereum</td>\n      <td>gOHM</td>\n      <td>0x2796317b0ff8538f253012862c06787adfb8ceb6</td>\n      <td>1.235389e+04</td>\n    </tr>\n    <tr>\n      <th>1</th>\n      <td>2022-09-24T00:03:35.000Z</td>\n      <td>gOHM/Ethereum</td>\n      <td>0x0ab87046fbb341d058f17cbc4c1133f25a20a52f</td>\n      <td>Ethereum</td>\n      <td>gOHM</td>\n      <td>0x6571d6be3d8460cf5f7d6711cd9961860029d85f</td>\n      <td>0.000000e+00</td>\n    </tr>\n    <tr>\n      <th>2</th>\n      <td>2022-09-24T00:03:35.000Z</td>\n      <td>gOHM/Ethereum</td>\n      <td>0x0ab87046fbb341d058f17cbc4c1133f25a20a52f</td>\n      <td>Ethereum</td>\n      <td>gOHM</td>\n      <td>0xf3b844811e5c745143cf4104d7833b427208ddb3</td>\n      <td>0.000000e+00</td>\n    </tr>\n    <tr>\n      <th>3</th>\n      <td>2022-09-24T00:35:59.000Z</td>\n      <td>gOHM/Ethereum</td>\n      <td>0x0ab87046fbb341d058f17cbc4c1133f25a20a52f</td>\n      <td>Ethereum</td>\n      <td>gOHM</td>\n      <td>0x24902aa0cf0000a08c0ea0b003b0c0bf600000e0</td>\n      <td>1.000000e-17</td>\n    </tr>\n    <tr>\n      <th>4</th>\n      <td>2022-09-24T00:35:59.000Z</td>\n      <td>gOHM/Ethereum</td>\n      <td>0x0ab87046fbb341d058f17cbc4c1133f25a20a52f</td>\n      <td>Ethereum</td>\n      <td>gOHM</td>\n      <td>0xc987d503a9f78f6d1d782c1fff5af4cb34437e3f</td>\n      <td>9.466921e+00</td>\n    </tr>\n    <tr>\n      <th>...</th>\n      <td>...</td>\n      <td>...</td>\n      <td>...</td>\n      <td>...</td>\n      <td>...</td>\n      <td>...</td>\n      <td>...</td>\n    </tr>\n    <tr>\n      <th>995</th>\n      <td>2022-09-26T01:01:11.000Z</td>\n      <td>gOHM/Ethereum</td>\n      <td>0x0ab87046fbb341d058f17cbc4c1133f25a20a52f</td>\n      <td>Ethereum</td>\n      <td>gOHM</td>\n      <td>0x08f68110f1e0ca67c80a24b4bd206675610f445d</td>\n      <td>4.410036e+01</td>\n    </tr>\n    <tr>\n      <th>996</th>\n      <td>2022-09-26T01:01:11.000Z</td>\n      <td>gOHM/Ethereum</td>\n      <td>0x0ab87046fbb341d058f17cbc4c1133f25a20a52f</td>\n      <td>Ethereum</td>\n      <td>gOHM</td>\n      <td>0xd54e4f8a55247487dd7c8c59f14ee5c0c2889477</td>\n      <td>4.086038e-03</td>\n    </tr>\n    <tr>\n      <th>997</th>\n      <td>2022-09-26T01:02:35.000Z</td>\n      <td>gOHM/Ethereum</td>\n      <td>0x0ab87046fbb341d058f17cbc4c1133f25a20a52f</td>\n      <td>Ethereum</td>\n      <td>gOHM</td>\n      <td>0xc987d503a9f78f6d1d782c1fff5af4cb34437e3f</td>\n      <td>7.638779e+00</td>\n    </tr>\n    <tr>\n      <th>998</th>\n      <td>2022-09-26T01:02:35.000Z</td>\n      <td>gOHM/Ethereum</td>\n      <td>0x0ab87046fbb341d058f17cbc4c1133f25a20a52f</td>\n      <td>Ethereum</td>\n      <td>gOHM</td>\n      <td>0xd8c07491caa1edf960db3ceff387426d53942ea0</td>\n      <td>1.554847e-04</td>\n    </tr>\n    <tr>\n      <th>999</th>\n      <td>2022-09-26T01:11:23.000Z</td>\n      <td>gOHM/Ethereum</td>\n      <td>0x0ab87046fbb341d058f17cbc4c1133f25a20a52f</td>\n      <td>Ethereum</td>\n      <td>gOHM</td>\n      <td>0xbaf209e70f2255986843c46984efbcef24cd28be</td>\n      <td>1.348670e+01</td>\n    </tr>\n  </tbody>\n</table>\n<p>1000 rows × 7 columns</p>\n</div>"
     },
     "execution_count": 61,
     "metadata": {},
     "output_type": "execute_result"
    }
   ],
   "source": [
    "balances = sg.query_df([\n",
    "    token_balances.date,\n",
    "    token_balances.holder.token,\n",
    "    token_balances.holder.holder,\n",
    "    token_balances.balance\n",
    "])\n",
    "balances"
   ],
   "metadata": {
    "collapsed": false,
    "pycharm": {
     "name": "#%%\n"
    }
   }
  },
  {
   "cell_type": "markdown",
   "source": [
    "token_balances_exp = holders.Query.tokenHolderBalances(\n",
    "    orderBy='timestamp',\n",
    "    orderdirection = 'asc',\n",
    "    first=1000,\n",
    "    skip= 1000,\n",
    "    where=[\n",
    "            token_balances.date  > '2022-05-05'\n",
    "          ]\n",
    ")\n",
    "balances_exp = sg.query_df([\n",
    "    token_balances_exp.date,\n",
    "    token_balances_exp.holder.token,\n",
    "    token_balances_exp.holder.holder,\n",
    "    token_balances_exp.balance\n",
    "])\n",
    "balances_exp"
   ],
   "metadata": {
    "collapsed": false,
    "pycharm": {
     "name": "#%% md\n"
    }
   }
  },
  {
   "cell_type": "code",
   "execution_count": 62,
   "outputs": [
    {
     "name": "stdout",
     "output_type": "stream",
     "text": [
      "iteration: 1 rows: 321 2022-09-26T01:11:23.000Z\n"
     ]
    },
    {
     "data": {
      "text/plain": "     tokenHolderBalances_date tokenHolderBalances_holder_token_id  \\\n0    2022-09-24T00:03:35.000Z                       gOHM/Ethereum   \n1    2022-09-24T00:03:35.000Z                       gOHM/Ethereum   \n2    2022-09-24T00:03:35.000Z                       gOHM/Ethereum   \n3    2022-09-24T00:35:59.000Z                       gOHM/Ethereum   \n4    2022-09-24T00:35:59.000Z                       gOHM/Ethereum   \n..                        ...                                 ...   \n316  2022-09-26T18:36:59.000Z                       gOHM/Ethereum   \n317  2022-09-26T18:36:59.000Z                       gOHM/Ethereum   \n318  2022-09-26T18:37:11.000Z                       gOHM/Ethereum   \n319  2022-09-26T18:37:11.000Z                       gOHM/Ethereum   \n320  2022-09-26T18:37:11.000Z                       gOHM/Ethereum   \n\n       tokenHolderBalances_holder_token_address  \\\n0    0x0ab87046fbb341d058f17cbc4c1133f25a20a52f   \n1    0x0ab87046fbb341d058f17cbc4c1133f25a20a52f   \n2    0x0ab87046fbb341d058f17cbc4c1133f25a20a52f   \n3    0x0ab87046fbb341d058f17cbc4c1133f25a20a52f   \n4    0x0ab87046fbb341d058f17cbc4c1133f25a20a52f   \n..                                          ...   \n316  0x0ab87046fbb341d058f17cbc4c1133f25a20a52f   \n317  0x0ab87046fbb341d058f17cbc4c1133f25a20a52f   \n318  0x0ab87046fbb341d058f17cbc4c1133f25a20a52f   \n319  0x0ab87046fbb341d058f17cbc4c1133f25a20a52f   \n320  0x0ab87046fbb341d058f17cbc4c1133f25a20a52f   \n\n    tokenHolderBalances_holder_token_blockchain  \\\n0                                      Ethereum   \n1                                      Ethereum   \n2                                      Ethereum   \n3                                      Ethereum   \n4                                      Ethereum   \n..                                          ...   \n316                                    Ethereum   \n317                                    Ethereum   \n318                                    Ethereum   \n319                                    Ethereum   \n320                                    Ethereum   \n\n    tokenHolderBalances_holder_token_name  \\\n0                                    gOHM   \n1                                    gOHM   \n2                                    gOHM   \n3                                    gOHM   \n4                                    gOHM   \n..                                    ...   \n316                                  gOHM   \n317                                  gOHM   \n318                                  gOHM   \n319                                  gOHM   \n320                                  gOHM   \n\n              tokenHolderBalances_holder_holder  tokenHolderBalances_balance  \n0    0x2796317b0ff8538f253012862c06787adfb8ceb6                 1.235389e+04  \n1    0x6571d6be3d8460cf5f7d6711cd9961860029d85f                 0.000000e+00  \n2    0xf3b844811e5c745143cf4104d7833b427208ddb3                 0.000000e+00  \n3    0x24902aa0cf0000a08c0ea0b003b0c0bf600000e0                 1.000000e-17  \n4    0xc987d503a9f78f6d1d782c1fff5af4cb34437e3f                 9.466921e+00  \n..                                          ...                          ...  \n316  0x74de5d4fcbf63e00296fd95d33236b9794016631                 0.000000e+00  \n317  0xc987d503a9f78f6d1d782c1fff5af4cb34437e3f                 7.175421e+00  \n318  0x74894a63ec289c71c641caa45c9688ed4bd93468                 7.855046e+00  \n319  0x74de5d4fcbf63e00296fd95d33236b9794016631                 0.000000e+00  \n320  0xc987d503a9f78f6d1d782c1fff5af4cb34437e3f                 7.275421e+00  \n\n[1321 rows x 7 columns]",
      "text/html": "<div>\n<style scoped>\n    .dataframe tbody tr th:only-of-type {\n        vertical-align: middle;\n    }\n\n    .dataframe tbody tr th {\n        vertical-align: top;\n    }\n\n    .dataframe thead th {\n        text-align: right;\n    }\n</style>\n<table border=\"1\" class=\"dataframe\">\n  <thead>\n    <tr style=\"text-align: right;\">\n      <th></th>\n      <th>tokenHolderBalances_date</th>\n      <th>tokenHolderBalances_holder_token_id</th>\n      <th>tokenHolderBalances_holder_token_address</th>\n      <th>tokenHolderBalances_holder_token_blockchain</th>\n      <th>tokenHolderBalances_holder_token_name</th>\n      <th>tokenHolderBalances_holder_holder</th>\n      <th>tokenHolderBalances_balance</th>\n    </tr>\n  </thead>\n  <tbody>\n    <tr>\n      <th>0</th>\n      <td>2022-09-24T00:03:35.000Z</td>\n      <td>gOHM/Ethereum</td>\n      <td>0x0ab87046fbb341d058f17cbc4c1133f25a20a52f</td>\n      <td>Ethereum</td>\n      <td>gOHM</td>\n      <td>0x2796317b0ff8538f253012862c06787adfb8ceb6</td>\n      <td>1.235389e+04</td>\n    </tr>\n    <tr>\n      <th>1</th>\n      <td>2022-09-24T00:03:35.000Z</td>\n      <td>gOHM/Ethereum</td>\n      <td>0x0ab87046fbb341d058f17cbc4c1133f25a20a52f</td>\n      <td>Ethereum</td>\n      <td>gOHM</td>\n      <td>0x6571d6be3d8460cf5f7d6711cd9961860029d85f</td>\n      <td>0.000000e+00</td>\n    </tr>\n    <tr>\n      <th>2</th>\n      <td>2022-09-24T00:03:35.000Z</td>\n      <td>gOHM/Ethereum</td>\n      <td>0x0ab87046fbb341d058f17cbc4c1133f25a20a52f</td>\n      <td>Ethereum</td>\n      <td>gOHM</td>\n      <td>0xf3b844811e5c745143cf4104d7833b427208ddb3</td>\n      <td>0.000000e+00</td>\n    </tr>\n    <tr>\n      <th>3</th>\n      <td>2022-09-24T00:35:59.000Z</td>\n      <td>gOHM/Ethereum</td>\n      <td>0x0ab87046fbb341d058f17cbc4c1133f25a20a52f</td>\n      <td>Ethereum</td>\n      <td>gOHM</td>\n      <td>0x24902aa0cf0000a08c0ea0b003b0c0bf600000e0</td>\n      <td>1.000000e-17</td>\n    </tr>\n    <tr>\n      <th>4</th>\n      <td>2022-09-24T00:35:59.000Z</td>\n      <td>gOHM/Ethereum</td>\n      <td>0x0ab87046fbb341d058f17cbc4c1133f25a20a52f</td>\n      <td>Ethereum</td>\n      <td>gOHM</td>\n      <td>0xc987d503a9f78f6d1d782c1fff5af4cb34437e3f</td>\n      <td>9.466921e+00</td>\n    </tr>\n    <tr>\n      <th>...</th>\n      <td>...</td>\n      <td>...</td>\n      <td>...</td>\n      <td>...</td>\n      <td>...</td>\n      <td>...</td>\n      <td>...</td>\n    </tr>\n    <tr>\n      <th>316</th>\n      <td>2022-09-26T18:36:59.000Z</td>\n      <td>gOHM/Ethereum</td>\n      <td>0x0ab87046fbb341d058f17cbc4c1133f25a20a52f</td>\n      <td>Ethereum</td>\n      <td>gOHM</td>\n      <td>0x74de5d4fcbf63e00296fd95d33236b9794016631</td>\n      <td>0.000000e+00</td>\n    </tr>\n    <tr>\n      <th>317</th>\n      <td>2022-09-26T18:36:59.000Z</td>\n      <td>gOHM/Ethereum</td>\n      <td>0x0ab87046fbb341d058f17cbc4c1133f25a20a52f</td>\n      <td>Ethereum</td>\n      <td>gOHM</td>\n      <td>0xc987d503a9f78f6d1d782c1fff5af4cb34437e3f</td>\n      <td>7.175421e+00</td>\n    </tr>\n    <tr>\n      <th>318</th>\n      <td>2022-09-26T18:37:11.000Z</td>\n      <td>gOHM/Ethereum</td>\n      <td>0x0ab87046fbb341d058f17cbc4c1133f25a20a52f</td>\n      <td>Ethereum</td>\n      <td>gOHM</td>\n      <td>0x74894a63ec289c71c641caa45c9688ed4bd93468</td>\n      <td>7.855046e+00</td>\n    </tr>\n    <tr>\n      <th>319</th>\n      <td>2022-09-26T18:37:11.000Z</td>\n      <td>gOHM/Ethereum</td>\n      <td>0x0ab87046fbb341d058f17cbc4c1133f25a20a52f</td>\n      <td>Ethereum</td>\n      <td>gOHM</td>\n      <td>0x74de5d4fcbf63e00296fd95d33236b9794016631</td>\n      <td>0.000000e+00</td>\n    </tr>\n    <tr>\n      <th>320</th>\n      <td>2022-09-26T18:37:11.000Z</td>\n      <td>gOHM/Ethereum</td>\n      <td>0x0ab87046fbb341d058f17cbc4c1133f25a20a52f</td>\n      <td>Ethereum</td>\n      <td>gOHM</td>\n      <td>0xc987d503a9f78f6d1d782c1fff5af4cb34437e3f</td>\n      <td>7.275421e+00</td>\n    </tr>\n  </tbody>\n</table>\n<p>1321 rows × 7 columns</p>\n</div>"
     },
     "execution_count": 62,
     "metadata": {},
     "output_type": "execute_result"
    }
   ],
   "source": [
    "##ok. We gotta retrieve pretty much every frickin' row. But only 1000 rows at a time, skipping by 1000 with every iteration. Until the number of rows returned is less than 1000. Orash\n",
    "n=0\n",
    "done = 0\n",
    "rowcount = 0\n",
    "while done == 0:\n",
    "    n=n+1\n",
    "    token_balances_2 = holders.Query.tokenHolderBalances(\n",
    "        orderBy='timestamp',\n",
    "        first=1000,\n",
    "        skip = 1000*1+n,\n",
    "        orderdirection = 'asc',\n",
    "        where=[\n",
    "            token_balances.date  > '2022-09-24'\n",
    "          ]\n",
    "    )\n",
    "\n",
    "    balances_2 = sg.query_df([\n",
    "        token_balances_2.date,\n",
    "        token_balances_2.holder.token,\n",
    "        token_balances_2.holder.holder,\n",
    "        token_balances_2.balance\n",
    "    ])\n",
    "    last_date = max(balances['tokenHolderBalances_date'])\n",
    "    rowcount = len(balances_2)\n",
    "    print(\"iteration:\",n,\"rows:\",rowcount, last_date)\n",
    "    frames = [balances, balances_2]\n",
    "    balances = pd.concat(frames)\n",
    "    if rowcount<1000:\n",
    "        done=1\n",
    "\n",
    "balances\n"
   ],
   "metadata": {
    "collapsed": false,
    "pycharm": {
     "name": "#%%\n"
    }
   }
  },
  {
   "cell_type": "code",
   "execution_count": 63,
   "outputs": [],
   "source": [
    "balances.to_csv(\"balances.csv\", index = False)"
   ],
   "metadata": {
    "collapsed": false,
    "pycharm": {
     "name": "#%%\n"
    }
   }
  }
 ],
 "metadata": {
  "kernelspec": {
   "display_name": "Python 3",
   "language": "python",
   "name": "python3"
  },
  "language_info": {
   "codemirror_mode": {
    "name": "ipython",
    "version": 2
   },
   "file_extension": ".py",
   "mimetype": "text/x-python",
   "name": "python",
   "nbconvert_exporter": "python",
   "pygments_lexer": "ipython2",
   "version": "2.7.6"
  }
 },
 "nbformat": 4,
 "nbformat_minor": 0
}