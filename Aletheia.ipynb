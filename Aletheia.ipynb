{
 "cells": [
  {
   "cell_type": "code",
   "execution_count": 1,
   "outputs": [
    {
     "name": "stderr",
     "output_type": "stream",
     "text": [
      "C:\\Users\\ianfe\\PycharmProjects\\pythonProject\\venv\\lib\\site-packages\\requests\\__init__.py:102: RequestsDependencyWarning: urllib3 (1.26.9) or chardet (5.0.0)/charset_normalizer (2.0.12) doesn't match a supported version!\n",
      "  warnings.warn(\"urllib3 ({}) or chardet ({})/charset_normalizer ({}) doesn't match a supported \"\n"
     ]
    }
   ],
   "source": [
    "from datetime import datetime, timedelta, date\n",
    "from subgrounds.subgrounds import Subgrounds\n",
    "import pandas as pd\n",
    "import os"
   ],
   "metadata": {
    "collapsed": false,
    "pycharm": {
     "name": "#%%\n"
    }
   }
  },
  {
   "cell_type": "code",
   "execution_count": 2,
   "outputs": [],
   "source": [
    "sg = Subgrounds()\n",
    "holders = sg.load_api('https://api.studio.thegraph.com/query/28103/token-holders/0.0.40')"
   ],
   "metadata": {
    "collapsed": false,
    "pycharm": {
     "name": "#%%\n"
    }
   }
  },
  {
   "cell_type": "code",
   "execution_count": 3,
   "outputs": [],
   "source": [
    "    start_date = datetime(2021,11,24)\n",
    "    today = datetime.today()\n",
    "    delta = timedelta(hours=1)"
   ],
   "metadata": {
    "collapsed": false,
    "pycharm": {
     "name": "#%%\n"
    }
   }
  },
  {
   "cell_type": "code",
   "execution_count": 4,
   "outputs": [
    {
     "name": "stdout",
     "output_type": "stream",
     "text": [
      "Fetching records for date:  2021-11-24 00:00:00\n",
      "page:  0\n",
      "records:  0\n",
      "Fetching records for date:  2021-11-24 01:00:00\n",
      "page:  0\n",
      "records:  0\n",
      "Fetching records for date:  2021-11-24 02:00:00\n",
      "page:  0\n",
      "records:  0\n",
      "Fetching records for date:  2021-11-24 03:00:00\n",
      "page:  0\n",
      "records:  0\n",
      "Fetching records for date:  2021-11-24 04:00:00\n",
      "page:  0\n",
      "records:  0\n",
      "Fetching records for date:  2021-11-24 05:00:00\n",
      "page:  0\n",
      "records:  0\n",
      "Fetching records for date:  2021-11-24 06:00:00\n",
      "page:  0\n",
      "records:  0\n",
      "Fetching records for date:  2021-11-24 07:00:00\n",
      "page:  0\n",
      "records:  0\n",
      "Fetching records for date:  2021-11-24 08:00:00\n",
      "page:  0\n",
      "records:  5\n",
      "Fetching records for date:  2021-11-24 09:00:00\n",
      "page:  0\n",
      "records:  0\n",
      "Fetching records for date:  2021-11-24 10:00:00\n",
      "page:  0\n",
      "records:  0\n",
      "Fetching records for date:  2021-11-24 11:00:00\n",
      "page:  0\n",
      "records:  0\n",
      "Fetching records for date:  2021-11-24 12:00:00\n",
      "page:  0\n",
      "records:  0\n",
      "Fetching records for date:  2021-11-24 13:00:00\n",
      "page:  0\n",
      "records:  0\n",
      "Fetching records for date:  2021-11-24 14:00:00\n",
      "page:  0\n",
      "records:  0\n",
      "Fetching records for date:  2021-11-24 15:00:00\n",
      "page:  0\n",
      "records:  0\n",
      "Fetching records for date:  2021-11-24 16:00:00\n",
      "page:  0\n",
      "records:  0\n",
      "Fetching records for date:  2021-11-24 17:00:00\n",
      "page:  0\n",
      "records:  0\n",
      "Fetching records for date:  2021-11-24 18:00:00\n",
      "page:  0\n",
      "records:  0\n",
      "Fetching records for date:  2021-11-24 19:00:00\n",
      "page:  0\n",
      "records:  0\n",
      "Fetching records for date:  2021-11-24 20:00:00\n",
      "page:  0\n",
      "records:  0\n",
      "Fetching records for date:  2021-11-24 21:00:00\n",
      "page:  0\n",
      "records:  0\n",
      "Fetching records for date:  2021-11-24 22:00:00\n",
      "page:  0\n",
      "records:  0\n",
      "Fetching records for date:  2021-11-24 23:00:00\n",
      "page:  0\n",
      "records:  0\n",
      "Fetching records for date:  2021-11-25 00:00:00\n",
      "page:  0\n",
      "records:  0\n",
      "Fetching records for date:  2021-11-25 01:00:00\n",
      "page:  0\n",
      "records:  0\n",
      "Fetching records for date:  2021-11-25 02:00:00\n",
      "page:  0\n",
      "records:  0\n",
      "Fetching records for date:  2021-11-25 03:00:00\n",
      "page:  0\n",
      "records:  0\n",
      "Fetching records for date:  2021-11-25 04:00:00\n",
      "page:  0\n",
      "records:  0\n",
      "Fetching records for date:  2021-11-25 05:00:00\n",
      "page:  0\n",
      "records:  0\n",
      "Fetching records for date:  2021-11-25 06:00:00\n",
      "page:  0\n",
      "records:  0\n",
      "Fetching records for date:  2021-11-25 07:00:00\n",
      "page:  0\n",
      "records:  0\n",
      "Fetching records for date:  2021-11-25 08:00:00\n",
      "page:  0\n",
      "records:  0\n",
      "Fetching records for date:  2021-11-25 09:00:00\n",
      "page:  0\n",
      "records:  0\n",
      "Fetching records for date:  2021-11-25 10:00:00\n",
      "page:  0\n",
      "records:  0\n",
      "Fetching records for date:  2021-11-25 11:00:00\n",
      "page:  0\n"
     ]
    },
    {
     "ename": "KeyboardInterrupt",
     "evalue": "",
     "output_type": "error",
     "traceback": [
      "\u001B[1;31m---------------------------------------------------------------------------\u001B[0m",
      "\u001B[1;31mKeyboardInterrupt\u001B[0m                         Traceback (most recent call last)",
      "Input \u001B[1;32mIn [4]\u001B[0m, in \u001B[0;36m<cell line: 37>\u001B[1;34m()\u001B[0m\n\u001B[0;32m     38\u001B[0m next_date \u001B[38;5;241m=\u001B[39m start_date \u001B[38;5;241m+\u001B[39m delta\n\u001B[0;32m     40\u001B[0m \u001B[38;5;66;03m# Fetch recursively\u001B[39;00m\n\u001B[1;32m---> 41\u001B[0m df \u001B[38;5;241m=\u001B[39m \u001B[43mdo_query\u001B[49m\u001B[43m(\u001B[49m\u001B[43mholders\u001B[49m\u001B[43m,\u001B[49m\u001B[43m \u001B[49m\u001B[38;5;241;43m0\u001B[39;49m\u001B[43m,\u001B[49m\u001B[43m \u001B[49m\u001B[43mstart_date\u001B[49m\u001B[43m,\u001B[49m\u001B[43m \u001B[49m\u001B[43mnext_date\u001B[49m\u001B[43m,\u001B[49m\u001B[43m \u001B[49m\u001B[43mdf\u001B[49m\u001B[43m)\u001B[49m\n\u001B[0;32m     43\u001B[0m \u001B[38;5;66;03m# Increment start date for the next loop\u001B[39;00m\n\u001B[0;32m     44\u001B[0m start_date \u001B[38;5;241m+\u001B[39m\u001B[38;5;241m=\u001B[39m delta\n",
      "Input \u001B[1;32mIn [4]\u001B[0m, in \u001B[0;36mdo_query\u001B[1;34m(holders, page, start_date, finish_date, df)\u001B[0m\n\u001B[0;32m     13\u001B[0m \u001B[38;5;28mprint\u001B[39m(\u001B[38;5;124m\"\u001B[39m\u001B[38;5;124mFetching records for date: \u001B[39m\u001B[38;5;124m\"\u001B[39m, start_date)\n\u001B[0;32m     14\u001B[0m \u001B[38;5;28mprint\u001B[39m(\u001B[38;5;124m\"\u001B[39m\u001B[38;5;124mpage: \u001B[39m\u001B[38;5;124m\"\u001B[39m, page)\n\u001B[1;32m---> 15\u001B[0m events \u001B[38;5;241m=\u001B[39m \u001B[43msg\u001B[49m\u001B[38;5;241;43m.\u001B[39;49m\u001B[43mquery_df\u001B[49m\u001B[43m(\u001B[49m\u001B[43m[\u001B[49m\n\u001B[0;32m     16\u001B[0m \u001B[43m    \u001B[49m\u001B[43mohm_transactions\u001B[49m\u001B[38;5;241;43m.\u001B[39;49m\u001B[43mdate\u001B[49m\u001B[43m,\u001B[49m\n\u001B[0;32m     17\u001B[0m \u001B[43m    \u001B[49m\u001B[43mohm_transactions\u001B[49m\u001B[38;5;241;43m.\u001B[39;49m\u001B[43mholder\u001B[49m\u001B[43m,\u001B[49m\n\u001B[0;32m     18\u001B[0m \u001B[43m    \u001B[49m\u001B[43mohm_transactions\u001B[49m\u001B[38;5;241;43m.\u001B[39;49m\u001B[43mid\u001B[49m\u001B[43m,\u001B[49m\n\u001B[0;32m     19\u001B[0m \u001B[43m    \u001B[49m\u001B[43mohm_transactions\u001B[49m\u001B[38;5;241;43m.\u001B[39;49m\u001B[43mtransaction\u001B[49m\u001B[43m,\u001B[49m\n\u001B[0;32m     20\u001B[0m \u001B[43m    \u001B[49m\u001B[43mohm_transactions\u001B[49m\u001B[38;5;241;43m.\u001B[39;49m\u001B[43mtype\u001B[49m\u001B[43m,\u001B[49m\n\u001B[0;32m     21\u001B[0m \u001B[43m    \u001B[49m\u001B[43mohm_transactions\u001B[49m\u001B[38;5;241;43m.\u001B[39;49m\u001B[43mvalue\u001B[49m\u001B[43m,\u001B[49m\n\u001B[0;32m     22\u001B[0m \u001B[43m    \u001B[49m\u001B[43mohm_transactions\u001B[49m\u001B[38;5;241;43m.\u001B[39;49m\u001B[43mholder\u001B[49m\u001B[38;5;241;43m.\u001B[39;49m\u001B[43mtoken\u001B[49m\u001B[38;5;241;43m.\u001B[39;49m\u001B[43mname\u001B[49m\u001B[43m,\u001B[49m\n\u001B[0;32m     23\u001B[0m \u001B[43m    \u001B[49m\u001B[43mohm_transactions\u001B[49m\u001B[38;5;241;43m.\u001B[39;49m\u001B[43mholder\u001B[49m\u001B[38;5;241;43m.\u001B[39;49m\u001B[43mtoken\u001B[49m\u001B[38;5;241;43m.\u001B[39;49m\u001B[43mblockchain\u001B[49m\u001B[43m,\u001B[49m\n\u001B[0;32m     24\u001B[0m \u001B[43m    \u001B[49m\u001B[43mohm_transactions\u001B[49m\u001B[38;5;241;43m.\u001B[39;49m\u001B[43mholder\u001B[49m\u001B[38;5;241;43m.\u001B[39;49m\u001B[43mtoken\u001B[49m\u001B[38;5;241;43m.\u001B[39;49m\u001B[43mname\u001B[49m\u001B[43m,\u001B[49m\n\u001B[0;32m     25\u001B[0m \u001B[43m    \u001B[49m\u001B[43mohm_transactions\u001B[49m\u001B[38;5;241;43m.\u001B[39;49m\u001B[43mbalance\u001B[49m\u001B[43m,\u001B[49m\n\u001B[0;32m     26\u001B[0m \u001B[43m    \u001B[49m\u001B[43mohm_transactions\u001B[49m\u001B[38;5;241;43m.\u001B[39;49m\u001B[43mpreviousBalance\u001B[49m\n\u001B[0;32m     27\u001B[0m \u001B[43m\u001B[49m\u001B[43m]\u001B[49m\u001B[43m)\u001B[49m\n\u001B[0;32m     28\u001B[0m \u001B[38;5;28mprint\u001B[39m(\u001B[38;5;124m\"\u001B[39m\u001B[38;5;124mrecords: \u001B[39m\u001B[38;5;124m\"\u001B[39m, \u001B[38;5;28mlen\u001B[39m(events))\n\u001B[0;32m     29\u001B[0m updated_df \u001B[38;5;241m=\u001B[39m pd\u001B[38;5;241m.\u001B[39mconcat([df, events])\n",
      "File \u001B[1;32m~\\PycharmProjects\\pythonProject\\venv\\lib\\site-packages\\subgrounds\\subgrounds.py:355\u001B[0m, in \u001B[0;36mSubgrounds.query_df\u001B[1;34m(self, fpaths, columns, concat, pagination_strategy)\u001B[0m\n\u001B[0;32m    284\u001B[0m \u001B[38;5;124;03m\"\"\"Same as :func:`Subgrounds.query` but formats the response data into a\u001B[39;00m\n\u001B[0;32m    285\u001B[0m \u001B[38;5;124;03mPandas DataFrame. If the response data cannot be flattened to a single query\u001B[39;00m\n\u001B[0;32m    286\u001B[0m \u001B[38;5;124;03m(e.g.: when querying multiple list fields that return different entities),\u001B[39;00m\n\u001B[1;32m   (...)\u001B[0m\n\u001B[0;32m    347\u001B[0m \u001B[38;5;124;03m    9       1643213196  2610.686563\u001B[39;00m\n\u001B[0;32m    348\u001B[0m \u001B[38;5;124;03m\"\"\"\u001B[39;00m\n\u001B[0;32m    349\u001B[0m fpaths \u001B[38;5;241m=\u001B[39m \u001B[38;5;28mlist\u001B[39m(\n\u001B[0;32m    350\u001B[0m   [fpaths]\n\u001B[0;32m    351\u001B[0m   \u001B[38;5;241m|\u001B[39m traverse\n\u001B[0;32m    352\u001B[0m   \u001B[38;5;241m|\u001B[39m \u001B[38;5;28mmap\u001B[39m(FieldPath\u001B[38;5;241m.\u001B[39m_auto_select)\n\u001B[0;32m    353\u001B[0m   \u001B[38;5;241m|\u001B[39m traverse\n\u001B[0;32m    354\u001B[0m )\n\u001B[1;32m--> 355\u001B[0m json_data \u001B[38;5;241m=\u001B[39m \u001B[38;5;28;43mself\u001B[39;49m\u001B[38;5;241;43m.\u001B[39;49m\u001B[43mquery_json\u001B[49m\u001B[43m(\u001B[49m\u001B[43mfpaths\u001B[49m\u001B[43m,\u001B[49m\u001B[43m \u001B[49m\u001B[43mpagination_strategy\u001B[49m\u001B[38;5;241;43m=\u001B[39;49m\u001B[43mpagination_strategy\u001B[49m\u001B[43m)\u001B[49m\n\u001B[0;32m    356\u001B[0m \u001B[38;5;28;01mreturn\u001B[39;00m df_of_json(json_data, fpaths, columns, concat)\n",
      "File \u001B[1;32m~\\PycharmProjects\\pythonProject\\venv\\lib\\site-packages\\subgrounds\\subgrounds.py:249\u001B[0m, in \u001B[0;36mSubgrounds.query_json\u001B[1;34m(self, fpaths, pagination_strategy)\u001B[0m\n\u001B[0;32m    242\u001B[0m fpaths \u001B[38;5;241m=\u001B[39m \u001B[38;5;28mlist\u001B[39m(\n\u001B[0;32m    243\u001B[0m   [fpaths]\n\u001B[0;32m    244\u001B[0m   \u001B[38;5;241m|\u001B[39m traverse\n\u001B[0;32m    245\u001B[0m   \u001B[38;5;241m|\u001B[39m \u001B[38;5;28mmap\u001B[39m(FieldPath\u001B[38;5;241m.\u001B[39m_auto_select)\n\u001B[0;32m    246\u001B[0m   \u001B[38;5;241m|\u001B[39m traverse\n\u001B[0;32m    247\u001B[0m )\n\u001B[0;32m    248\u001B[0m req \u001B[38;5;241m=\u001B[39m \u001B[38;5;28mself\u001B[39m\u001B[38;5;241m.\u001B[39mmk_request(fpaths)\n\u001B[1;32m--> 249\u001B[0m \u001B[38;5;28;01mreturn\u001B[39;00m \u001B[38;5;28;43mself\u001B[39;49m\u001B[38;5;241;43m.\u001B[39;49m\u001B[43mexecute\u001B[49m\u001B[43m(\u001B[49m\u001B[43mreq\u001B[49m\u001B[43m,\u001B[49m\u001B[43m \u001B[49m\u001B[43mpagination_strategy\u001B[49m\u001B[38;5;241;43m=\u001B[39;49m\u001B[43mpagination_strategy\u001B[49m\u001B[43m)\u001B[49m\n",
      "File \u001B[1;32m~\\PycharmProjects\\pythonProject\\venv\\lib\\site-packages\\subgrounds\\subgrounds.py:174\u001B[0m, in \u001B[0;36mSubgrounds.execute\u001B[1;34m(self, req, pagination_strategy)\u001B[0m\n\u001B[0;32m    164\u001B[0m   \u001B[38;5;28;01mmatch\u001B[39;00m transforms:\n\u001B[0;32m    165\u001B[0m     \u001B[38;5;28;01mcase\u001B[39;00m []:\n\u001B[0;32m    166\u001B[0m       \u001B[38;5;28;01mreturn\u001B[39;00m \u001B[38;5;28mlist\u001B[39m(req\u001B[38;5;241m.\u001B[39mdocuments \u001B[38;5;241m|\u001B[39m \u001B[38;5;28mmap\u001B[39m(\u001B[38;5;28;01mlambda\u001B[39;00m doc: transform_doc(\u001B[38;5;28mself\u001B[39m\u001B[38;5;241m.\u001B[39msubgraphs[doc\u001B[38;5;241m.\u001B[39murl]\u001B[38;5;241m.\u001B[39m_transforms, doc)))\n\u001B[1;32m   (...)\u001B[0m\n\u001B[0;32m    169\u001B[0m       data \u001B[38;5;241m=\u001B[39m transform_req(rest, new_req)\n\u001B[0;32m    170\u001B[0m       \u001B[38;5;28;01mreturn\u001B[39;00m transform\u001B[38;5;241m.\u001B[39mtransform_response(req, data)\n\u001B[0;32m    172\u001B[0m   \u001B[38;5;28;01massert\u001B[39;00m \u001B[38;5;28;01mFalse\u001B[39;00m  \u001B[38;5;66;03m# Suppress mypy missing return statement warning\u001B[39;00m\n\u001B[1;32m--> 174\u001B[0m \u001B[38;5;28;01mreturn\u001B[39;00m \u001B[43mtransform_req\u001B[49m\u001B[43m(\u001B[49m\u001B[38;5;28;43mself\u001B[39;49m\u001B[38;5;241;43m.\u001B[39;49m\u001B[43mglobal_transforms\u001B[49m\u001B[43m,\u001B[49m\u001B[43m \u001B[49m\u001B[43mreq\u001B[49m\u001B[43m)\u001B[49m\n",
      "File \u001B[1;32m~\\PycharmProjects\\pythonProject\\venv\\lib\\site-packages\\subgrounds\\subgrounds.py:166\u001B[0m, in \u001B[0;36mSubgrounds.execute.<locals>.transform_req\u001B[1;34m(transforms, req)\u001B[0m\n\u001B[0;32m    163\u001B[0m \u001B[38;5;28;01mdef\u001B[39;00m \u001B[38;5;21mtransform_req\u001B[39m(transforms: \u001B[38;5;28mlist\u001B[39m[RequestTransform], req: DataRequest) \u001B[38;5;241m-\u001B[39m\u001B[38;5;241m>\u001B[39m \u001B[38;5;28mlist\u001B[39m[\u001B[38;5;28mdict\u001B[39m]:\n\u001B[0;32m    164\u001B[0m   \u001B[38;5;28;01mmatch\u001B[39;00m transforms:\n\u001B[0;32m    165\u001B[0m     \u001B[38;5;28;01mcase\u001B[39;00m []:\n\u001B[1;32m--> 166\u001B[0m       \u001B[38;5;28;01mreturn\u001B[39;00m \u001B[38;5;28;43mlist\u001B[39;49m\u001B[43m(\u001B[49m\u001B[43mreq\u001B[49m\u001B[38;5;241;43m.\u001B[39;49m\u001B[43mdocuments\u001B[49m\u001B[43m \u001B[49m\u001B[38;5;241;43m|\u001B[39;49m\u001B[43m \u001B[49m\u001B[38;5;28;43mmap\u001B[39;49m\u001B[43m(\u001B[49m\u001B[38;5;28;43;01mlambda\u001B[39;49;00m\u001B[43m \u001B[49m\u001B[43mdoc\u001B[49m\u001B[43m:\u001B[49m\u001B[43m \u001B[49m\u001B[43mtransform_doc\u001B[49m\u001B[43m(\u001B[49m\u001B[38;5;28;43mself\u001B[39;49m\u001B[38;5;241;43m.\u001B[39;49m\u001B[43msubgraphs\u001B[49m\u001B[43m[\u001B[49m\u001B[43mdoc\u001B[49m\u001B[38;5;241;43m.\u001B[39;49m\u001B[43murl\u001B[49m\u001B[43m]\u001B[49m\u001B[38;5;241;43m.\u001B[39;49m\u001B[43m_transforms\u001B[49m\u001B[43m,\u001B[49m\u001B[43m \u001B[49m\u001B[43mdoc\u001B[49m\u001B[43m)\u001B[49m\u001B[43m)\u001B[49m\u001B[43m)\u001B[49m\n\u001B[0;32m    167\u001B[0m     \u001B[38;5;28;01mcase\u001B[39;00m [transform, \u001B[38;5;241m*\u001B[39mrest]:\n\u001B[0;32m    168\u001B[0m       new_req \u001B[38;5;241m=\u001B[39m transform\u001B[38;5;241m.\u001B[39mtransform_request(req)\n\u001B[0;32m    169\u001B[0m       data \u001B[38;5;241m=\u001B[39m transform_req(rest, new_req)\n\u001B[0;32m    170\u001B[0m       \u001B[38;5;28;01mreturn\u001B[39;00m transform\u001B[38;5;241m.\u001B[39mtransform_response(req, data)\n\u001B[0;32m    172\u001B[0m   \u001B[38;5;28;01massert\u001B[39;00m \u001B[38;5;28;01mFalse\u001B[39;00m\n",
      "File \u001B[1;32m~\\PycharmProjects\\pythonProject\\venv\\lib\\site-packages\\subgrounds\\subgrounds.py:166\u001B[0m, in \u001B[0;36mSubgrounds.execute.<locals>.transform_req.<locals>.<lambda>\u001B[1;34m(doc)\u001B[0m\n\u001B[0;32m    163\u001B[0m \u001B[38;5;28;01mdef\u001B[39;00m \u001B[38;5;21mtransform_req\u001B[39m(transforms: \u001B[38;5;28mlist\u001B[39m[RequestTransform], req: DataRequest) \u001B[38;5;241m-\u001B[39m\u001B[38;5;241m>\u001B[39m \u001B[38;5;28mlist\u001B[39m[\u001B[38;5;28mdict\u001B[39m]:\n\u001B[0;32m    164\u001B[0m   \u001B[38;5;28;01mmatch\u001B[39;00m transforms:\n\u001B[0;32m    165\u001B[0m     \u001B[38;5;28;01mcase\u001B[39;00m []:\n\u001B[1;32m--> 166\u001B[0m       \u001B[38;5;28;01mreturn\u001B[39;00m \u001B[38;5;28mlist\u001B[39m(req\u001B[38;5;241m.\u001B[39mdocuments \u001B[38;5;241m|\u001B[39m \u001B[38;5;28mmap\u001B[39m(\u001B[38;5;28;01mlambda\u001B[39;00m doc: \u001B[43mtransform_doc\u001B[49m\u001B[43m(\u001B[49m\u001B[38;5;28;43mself\u001B[39;49m\u001B[38;5;241;43m.\u001B[39;49m\u001B[43msubgraphs\u001B[49m\u001B[43m[\u001B[49m\u001B[43mdoc\u001B[49m\u001B[38;5;241;43m.\u001B[39;49m\u001B[43murl\u001B[49m\u001B[43m]\u001B[49m\u001B[38;5;241;43m.\u001B[39;49m\u001B[43m_transforms\u001B[49m\u001B[43m,\u001B[49m\u001B[43m \u001B[49m\u001B[43mdoc\u001B[49m\u001B[43m)\u001B[49m))\n\u001B[0;32m    167\u001B[0m     \u001B[38;5;28;01mcase\u001B[39;00m [transform, \u001B[38;5;241m*\u001B[39mrest]:\n\u001B[0;32m    168\u001B[0m       new_req \u001B[38;5;241m=\u001B[39m transform\u001B[38;5;241m.\u001B[39mtransform_request(req)\n\u001B[0;32m    169\u001B[0m       data \u001B[38;5;241m=\u001B[39m transform_req(rest, new_req)\n\u001B[0;32m    170\u001B[0m       \u001B[38;5;28;01mreturn\u001B[39;00m transform\u001B[38;5;241m.\u001B[39mtransform_response(req, data)\n\u001B[0;32m    172\u001B[0m   \u001B[38;5;28;01massert\u001B[39;00m \u001B[38;5;28;01mFalse\u001B[39;00m\n",
      "File \u001B[1;32m~\\PycharmProjects\\pythonProject\\venv\\lib\\site-packages\\subgrounds\\subgrounds.py:158\u001B[0m, in \u001B[0;36mSubgrounds.execute.<locals>.transform_doc\u001B[1;34m(transforms, doc)\u001B[0m\n\u001B[0;32m    151\u001B[0m \u001B[38;5;28;01mdef\u001B[39;00m \u001B[38;5;21mtransform_doc\u001B[39m(transforms: \u001B[38;5;28mlist\u001B[39m[DocumentTransform], doc: Document) \u001B[38;5;241m-\u001B[39m\u001B[38;5;241m>\u001B[39m \u001B[38;5;28mdict\u001B[39m:\n\u001B[0;32m    152\u001B[0m   logger\u001B[38;5;241m.\u001B[39mdebug(\u001B[38;5;124mf\u001B[39m\u001B[38;5;124m'\u001B[39m\u001B[38;5;124mexecute.transform_doc: doc = \u001B[39m\u001B[38;5;130;01m\\n\u001B[39;00m\u001B[38;5;132;01m{\u001B[39;00mdoc\u001B[38;5;241m.\u001B[39mgraphql\u001B[38;5;132;01m}\u001B[39;00m\u001B[38;5;124m'\u001B[39m)\n\u001B[0;32m    153\u001B[0m   \u001B[38;5;28;01mmatch\u001B[39;00m transforms:\n\u001B[0;32m    154\u001B[0m     \u001B[38;5;28;01mcase\u001B[39;00m []:\n\u001B[0;32m    155\u001B[0m       \u001B[38;5;28;01mreturn\u001B[39;00m execute_document(doc)\n\u001B[0;32m    156\u001B[0m     \u001B[38;5;28;01mcase\u001B[39;00m [transform, \u001B[38;5;241m*\u001B[39mrest]:\n\u001B[0;32m    157\u001B[0m       new_doc \u001B[38;5;241m=\u001B[39m transform\u001B[38;5;241m.\u001B[39mtransform_document(doc)\n\u001B[1;32m--> 158\u001B[0m       data \u001B[38;5;241m=\u001B[39m \u001B[43mtransform_doc\u001B[49m\u001B[43m(\u001B[49m\u001B[43mrest\u001B[49m\u001B[43m,\u001B[49m\u001B[43m \u001B[49m\u001B[43mnew_doc\u001B[49m\u001B[43m)\u001B[49m\n\u001B[0;32m    159\u001B[0m       \u001B[38;5;28;01mreturn\u001B[39;00m transform\u001B[38;5;241m.\u001B[39mtransform_response(doc, data)\n\u001B[0;32m    161\u001B[0m   \u001B[38;5;28;01massert\u001B[39;00m \u001B[38;5;28;01mFalse\u001B[39;00m\n",
      "File \u001B[1;32m~\\PycharmProjects\\pythonProject\\venv\\lib\\site-packages\\subgrounds\\subgrounds.py:158\u001B[0m, in \u001B[0;36mSubgrounds.execute.<locals>.transform_doc\u001B[1;34m(transforms, doc)\u001B[0m\n\u001B[0;32m    151\u001B[0m \u001B[38;5;28;01mdef\u001B[39;00m \u001B[38;5;21mtransform_doc\u001B[39m(transforms: \u001B[38;5;28mlist\u001B[39m[DocumentTransform], doc: Document) \u001B[38;5;241m-\u001B[39m\u001B[38;5;241m>\u001B[39m \u001B[38;5;28mdict\u001B[39m:\n\u001B[0;32m    152\u001B[0m   logger\u001B[38;5;241m.\u001B[39mdebug(\u001B[38;5;124mf\u001B[39m\u001B[38;5;124m'\u001B[39m\u001B[38;5;124mexecute.transform_doc: doc = \u001B[39m\u001B[38;5;130;01m\\n\u001B[39;00m\u001B[38;5;132;01m{\u001B[39;00mdoc\u001B[38;5;241m.\u001B[39mgraphql\u001B[38;5;132;01m}\u001B[39;00m\u001B[38;5;124m'\u001B[39m)\n\u001B[0;32m    153\u001B[0m   \u001B[38;5;28;01mmatch\u001B[39;00m transforms:\n\u001B[0;32m    154\u001B[0m     \u001B[38;5;28;01mcase\u001B[39;00m []:\n\u001B[0;32m    155\u001B[0m       \u001B[38;5;28;01mreturn\u001B[39;00m execute_document(doc)\n\u001B[0;32m    156\u001B[0m     \u001B[38;5;28;01mcase\u001B[39;00m [transform, \u001B[38;5;241m*\u001B[39mrest]:\n\u001B[0;32m    157\u001B[0m       new_doc \u001B[38;5;241m=\u001B[39m transform\u001B[38;5;241m.\u001B[39mtransform_document(doc)\n\u001B[1;32m--> 158\u001B[0m       data \u001B[38;5;241m=\u001B[39m \u001B[43mtransform_doc\u001B[49m\u001B[43m(\u001B[49m\u001B[43mrest\u001B[49m\u001B[43m,\u001B[49m\u001B[43m \u001B[49m\u001B[43mnew_doc\u001B[49m\u001B[43m)\u001B[49m\n\u001B[0;32m    159\u001B[0m       \u001B[38;5;28;01mreturn\u001B[39;00m transform\u001B[38;5;241m.\u001B[39mtransform_response(doc, data)\n\u001B[0;32m    161\u001B[0m   \u001B[38;5;28;01massert\u001B[39;00m \u001B[38;5;28;01mFalse\u001B[39;00m\n",
      "File \u001B[1;32m~\\PycharmProjects\\pythonProject\\venv\\lib\\site-packages\\subgrounds\\subgrounds.py:155\u001B[0m, in \u001B[0;36mSubgrounds.execute.<locals>.transform_doc\u001B[1;34m(transforms, doc)\u001B[0m\n\u001B[0;32m    151\u001B[0m \u001B[38;5;28;01mdef\u001B[39;00m \u001B[38;5;21mtransform_doc\u001B[39m(transforms: \u001B[38;5;28mlist\u001B[39m[DocumentTransform], doc: Document) \u001B[38;5;241m-\u001B[39m\u001B[38;5;241m>\u001B[39m \u001B[38;5;28mdict\u001B[39m:\n\u001B[0;32m    152\u001B[0m   logger\u001B[38;5;241m.\u001B[39mdebug(\u001B[38;5;124mf\u001B[39m\u001B[38;5;124m'\u001B[39m\u001B[38;5;124mexecute.transform_doc: doc = \u001B[39m\u001B[38;5;130;01m\\n\u001B[39;00m\u001B[38;5;132;01m{\u001B[39;00mdoc\u001B[38;5;241m.\u001B[39mgraphql\u001B[38;5;132;01m}\u001B[39;00m\u001B[38;5;124m'\u001B[39m)\n\u001B[0;32m    153\u001B[0m   \u001B[38;5;28;01mmatch\u001B[39;00m transforms:\n\u001B[0;32m    154\u001B[0m     \u001B[38;5;28;01mcase\u001B[39;00m []:\n\u001B[1;32m--> 155\u001B[0m       \u001B[38;5;28;01mreturn\u001B[39;00m \u001B[43mexecute_document\u001B[49m\u001B[43m(\u001B[49m\u001B[43mdoc\u001B[49m\u001B[43m)\u001B[49m\n\u001B[0;32m    156\u001B[0m     \u001B[38;5;28;01mcase\u001B[39;00m [transform, \u001B[38;5;241m*\u001B[39mrest]:\n\u001B[0;32m    157\u001B[0m       new_doc \u001B[38;5;241m=\u001B[39m transform\u001B[38;5;241m.\u001B[39mtransform_document(doc)\n\u001B[0;32m    158\u001B[0m       data \u001B[38;5;241m=\u001B[39m transform_doc(rest, new_doc)\n\u001B[0;32m    159\u001B[0m       \u001B[38;5;28;01mreturn\u001B[39;00m transform\u001B[38;5;241m.\u001B[39mtransform_response(doc, data)\n\u001B[0;32m    161\u001B[0m   \u001B[38;5;28;01massert\u001B[39;00m \u001B[38;5;28;01mFalse\u001B[39;00m\n",
      "File \u001B[1;32m~\\PycharmProjects\\pythonProject\\venv\\lib\\site-packages\\subgrounds\\subgrounds.py:149\u001B[0m, in \u001B[0;36mSubgrounds.execute.<locals>.execute_document\u001B[1;34m(doc)\u001B[0m\n\u001B[0;32m    147\u001B[0m   \u001B[38;5;28;01mreturn\u001B[39;00m paginate(subgraph\u001B[38;5;241m.\u001B[39m_schema, doc, pagination_strategy\u001B[38;5;241m=\u001B[39mpagination_strategy)\n\u001B[0;32m    148\u001B[0m \u001B[38;5;28;01melse\u001B[39;00m:\n\u001B[1;32m--> 149\u001B[0m   \u001B[38;5;28;01mreturn\u001B[39;00m \u001B[43mclient\u001B[49m\u001B[38;5;241;43m.\u001B[39;49m\u001B[43mquery\u001B[49m\u001B[43m(\u001B[49m\u001B[43mdoc\u001B[49m\u001B[38;5;241;43m.\u001B[39;49m\u001B[43murl\u001B[49m\u001B[43m,\u001B[49m\u001B[43m \u001B[49m\u001B[43mdoc\u001B[49m\u001B[38;5;241;43m.\u001B[39;49m\u001B[43mgraphql\u001B[49m\u001B[43m,\u001B[49m\u001B[43m \u001B[49m\u001B[43mvariables\u001B[49m\u001B[38;5;241;43m=\u001B[39;49m\u001B[43mdoc\u001B[49m\u001B[38;5;241;43m.\u001B[39;49m\u001B[43mvariables\u001B[49m\u001B[43m)\u001B[49m\n",
      "File \u001B[1;32m~\\PycharmProjects\\pythonProject\\venv\\lib\\site-packages\\subgrounds\\client.py:154\u001B[0m, in \u001B[0;36mquery\u001B[1;34m(url, query_str, variables)\u001B[0m\n\u001B[0;32m    134\u001B[0m \u001B[38;5;124;03m\"\"\" Executes the GraphQL query :attr:`query_str` with variables\u001B[39;00m\n\u001B[0;32m    135\u001B[0m \u001B[38;5;124;03m:attr:`variables` against the API served at :attr:`url` and returns the\u001B[39;00m\n\u001B[0;32m    136\u001B[0m \u001B[38;5;124;03mresponse data. In case of errors, an exception containing the error message is\u001B[39;00m\n\u001B[1;32m   (...)\u001B[0m\n\u001B[0;32m    149\u001B[0m \u001B[38;5;124;03m  dict[str, Any]: Response data\u001B[39;00m\n\u001B[0;32m    150\u001B[0m \u001B[38;5;124;03m\"\"\"\u001B[39;00m\n\u001B[0;32m    151\u001B[0m logger\u001B[38;5;241m.\u001B[39minfo(\n\u001B[0;32m    152\u001B[0m   \u001B[38;5;124mf\u001B[39m\u001B[38;5;124m'\u001B[39m\u001B[38;5;124mclient.query: url = \u001B[39m\u001B[38;5;132;01m{\u001B[39;00murl\u001B[38;5;132;01m}\u001B[39;00m\u001B[38;5;124m, variables = \u001B[39m\u001B[38;5;132;01m{\u001B[39;00mvariables\u001B[38;5;132;01m}\u001B[39;00m\u001B[38;5;130;01m\\n\u001B[39;00m\u001B[38;5;132;01m{\u001B[39;00mquery_str\u001B[38;5;132;01m}\u001B[39;00m\u001B[38;5;124m'\u001B[39m\n\u001B[0;32m    153\u001B[0m )\n\u001B[1;32m--> 154\u001B[0m resp \u001B[38;5;241m=\u001B[39m \u001B[43mrequests\u001B[49m\u001B[38;5;241;43m.\u001B[39;49m\u001B[43mpost\u001B[49m\u001B[43m(\u001B[49m\n\u001B[0;32m    155\u001B[0m \u001B[43m  \u001B[49m\u001B[43murl\u001B[49m\u001B[43m,\u001B[49m\n\u001B[0;32m    156\u001B[0m \u001B[43m  \u001B[49m\u001B[43mjson\u001B[49m\u001B[38;5;241;43m=\u001B[39;49m\u001B[43m(\u001B[49m\n\u001B[0;32m    157\u001B[0m \u001B[43m    \u001B[49m\u001B[43m{\u001B[49m\u001B[38;5;124;43m'\u001B[39;49m\u001B[38;5;124;43mquery\u001B[39;49m\u001B[38;5;124;43m'\u001B[39;49m\u001B[43m:\u001B[49m\u001B[43m \u001B[49m\u001B[43mquery_str\u001B[49m\u001B[43m}\u001B[49m\n\u001B[0;32m    158\u001B[0m \u001B[43m    \u001B[49m\u001B[38;5;28;43;01mif\u001B[39;49;00m\u001B[43m \u001B[49m\u001B[43mvariables\u001B[49m\u001B[43m \u001B[49m\u001B[38;5;241;43m==\u001B[39;49m\u001B[43m \u001B[49m\u001B[43m{\u001B[49m\u001B[43m}\u001B[49m\n\u001B[0;32m    159\u001B[0m \u001B[43m    \u001B[49m\u001B[38;5;28;43;01melse\u001B[39;49;00m\u001B[43m \u001B[49m\u001B[43m{\u001B[49m\u001B[38;5;124;43m'\u001B[39;49m\u001B[38;5;124;43mquery\u001B[39;49m\u001B[38;5;124;43m'\u001B[39;49m\u001B[43m:\u001B[49m\u001B[43m \u001B[49m\u001B[43mquery_str\u001B[49m\u001B[43m,\u001B[49m\u001B[43m \u001B[49m\u001B[38;5;124;43m'\u001B[39;49m\u001B[38;5;124;43mvariables\u001B[39;49m\u001B[38;5;124;43m'\u001B[39;49m\u001B[43m:\u001B[49m\u001B[43m \u001B[49m\u001B[43mvariables\u001B[49m\u001B[43m}\u001B[49m\n\u001B[0;32m    160\u001B[0m \u001B[43m  \u001B[49m\u001B[43m)\u001B[49m\u001B[43m,\u001B[49m\n\u001B[0;32m    161\u001B[0m \u001B[43m  \u001B[49m\u001B[43mheaders\u001B[49m\u001B[38;5;241;43m=\u001B[39;49m\u001B[43m{\u001B[49m\u001B[38;5;124;43m'\u001B[39;49m\u001B[38;5;124;43mContent-Type\u001B[39;49m\u001B[38;5;124;43m'\u001B[39;49m\u001B[43m:\u001B[49m\u001B[43m \u001B[49m\u001B[38;5;124;43m'\u001B[39;49m\u001B[38;5;124;43mapplication/json\u001B[39;49m\u001B[38;5;124;43m'\u001B[39;49m\u001B[43m}\u001B[49m\n\u001B[0;32m    162\u001B[0m \u001B[43m\u001B[49m\u001B[43m)\u001B[49m\u001B[38;5;241m.\u001B[39mjson()\n\u001B[0;32m    164\u001B[0m \u001B[38;5;28;01mtry\u001B[39;00m:\n\u001B[0;32m    165\u001B[0m   \u001B[38;5;28;01mreturn\u001B[39;00m resp[\u001B[38;5;124m'\u001B[39m\u001B[38;5;124mdata\u001B[39m\u001B[38;5;124m'\u001B[39m]\n",
      "File \u001B[1;32m~\\PycharmProjects\\pythonProject\\venv\\lib\\site-packages\\requests\\api.py:117\u001B[0m, in \u001B[0;36mpost\u001B[1;34m(url, data, json, **kwargs)\u001B[0m\n\u001B[0;32m    105\u001B[0m \u001B[38;5;28;01mdef\u001B[39;00m \u001B[38;5;21mpost\u001B[39m(url, data\u001B[38;5;241m=\u001B[39m\u001B[38;5;28;01mNone\u001B[39;00m, json\u001B[38;5;241m=\u001B[39m\u001B[38;5;28;01mNone\u001B[39;00m, \u001B[38;5;241m*\u001B[39m\u001B[38;5;241m*\u001B[39mkwargs):\n\u001B[0;32m    106\u001B[0m     \u001B[38;5;124mr\u001B[39m\u001B[38;5;124;03m\"\"\"Sends a POST request.\u001B[39;00m\n\u001B[0;32m    107\u001B[0m \n\u001B[0;32m    108\u001B[0m \u001B[38;5;124;03m    :param url: URL for the new :class:`Request` object.\u001B[39;00m\n\u001B[1;32m   (...)\u001B[0m\n\u001B[0;32m    114\u001B[0m \u001B[38;5;124;03m    :rtype: requests.Response\u001B[39;00m\n\u001B[0;32m    115\u001B[0m \u001B[38;5;124;03m    \"\"\"\u001B[39;00m\n\u001B[1;32m--> 117\u001B[0m     \u001B[38;5;28;01mreturn\u001B[39;00m request(\u001B[38;5;124m'\u001B[39m\u001B[38;5;124mpost\u001B[39m\u001B[38;5;124m'\u001B[39m, url, data\u001B[38;5;241m=\u001B[39mdata, json\u001B[38;5;241m=\u001B[39mjson, \u001B[38;5;241m*\u001B[39m\u001B[38;5;241m*\u001B[39mkwargs)\n",
      "File \u001B[1;32m~\\PycharmProjects\\pythonProject\\venv\\lib\\site-packages\\requests\\api.py:61\u001B[0m, in \u001B[0;36mrequest\u001B[1;34m(method, url, **kwargs)\u001B[0m\n\u001B[0;32m     57\u001B[0m \u001B[38;5;66;03m# By using the 'with' statement we are sure the session is closed, thus we\u001B[39;00m\n\u001B[0;32m     58\u001B[0m \u001B[38;5;66;03m# avoid leaving sockets open which can trigger a ResourceWarning in some\u001B[39;00m\n\u001B[0;32m     59\u001B[0m \u001B[38;5;66;03m# cases, and look like a memory leak in others.\u001B[39;00m\n\u001B[0;32m     60\u001B[0m \u001B[38;5;28;01mwith\u001B[39;00m sessions\u001B[38;5;241m.\u001B[39mSession() \u001B[38;5;28;01mas\u001B[39;00m session:\n\u001B[1;32m---> 61\u001B[0m     \u001B[38;5;28;01mreturn\u001B[39;00m session\u001B[38;5;241m.\u001B[39mrequest(method\u001B[38;5;241m=\u001B[39mmethod, url\u001B[38;5;241m=\u001B[39murl, \u001B[38;5;241m*\u001B[39m\u001B[38;5;241m*\u001B[39mkwargs)\n",
      "File \u001B[1;32m~\\PycharmProjects\\pythonProject\\venv\\lib\\site-packages\\requests\\sessions.py:529\u001B[0m, in \u001B[0;36mSession.request\u001B[1;34m(self, method, url, params, data, headers, cookies, files, auth, timeout, allow_redirects, proxies, hooks, stream, verify, cert, json)\u001B[0m\n\u001B[0;32m    524\u001B[0m send_kwargs \u001B[38;5;241m=\u001B[39m {\n\u001B[0;32m    525\u001B[0m     \u001B[38;5;124m'\u001B[39m\u001B[38;5;124mtimeout\u001B[39m\u001B[38;5;124m'\u001B[39m: timeout,\n\u001B[0;32m    526\u001B[0m     \u001B[38;5;124m'\u001B[39m\u001B[38;5;124mallow_redirects\u001B[39m\u001B[38;5;124m'\u001B[39m: allow_redirects,\n\u001B[0;32m    527\u001B[0m }\n\u001B[0;32m    528\u001B[0m send_kwargs\u001B[38;5;241m.\u001B[39mupdate(settings)\n\u001B[1;32m--> 529\u001B[0m resp \u001B[38;5;241m=\u001B[39m \u001B[38;5;28mself\u001B[39m\u001B[38;5;241m.\u001B[39msend(prep, \u001B[38;5;241m*\u001B[39m\u001B[38;5;241m*\u001B[39msend_kwargs)\n\u001B[0;32m    531\u001B[0m \u001B[38;5;28;01mreturn\u001B[39;00m resp\n",
      "File \u001B[1;32m~\\PycharmProjects\\pythonProject\\venv\\lib\\site-packages\\requests\\sessions.py:645\u001B[0m, in \u001B[0;36mSession.send\u001B[1;34m(self, request, **kwargs)\u001B[0m\n\u001B[0;32m    642\u001B[0m start \u001B[38;5;241m=\u001B[39m preferred_clock()\n\u001B[0;32m    644\u001B[0m \u001B[38;5;66;03m# Send the request\u001B[39;00m\n\u001B[1;32m--> 645\u001B[0m r \u001B[38;5;241m=\u001B[39m adapter\u001B[38;5;241m.\u001B[39msend(request, \u001B[38;5;241m*\u001B[39m\u001B[38;5;241m*\u001B[39mkwargs)\n\u001B[0;32m    647\u001B[0m \u001B[38;5;66;03m# Total elapsed time of the request (approximately)\u001B[39;00m\n\u001B[0;32m    648\u001B[0m elapsed \u001B[38;5;241m=\u001B[39m preferred_clock() \u001B[38;5;241m-\u001B[39m start\n",
      "File \u001B[1;32m~\\PycharmProjects\\pythonProject\\venv\\lib\\site-packages\\requests\\adapters.py:440\u001B[0m, in \u001B[0;36mHTTPAdapter.send\u001B[1;34m(self, request, stream, timeout, verify, cert, proxies)\u001B[0m\n\u001B[0;32m    438\u001B[0m \u001B[38;5;28;01mtry\u001B[39;00m:\n\u001B[0;32m    439\u001B[0m     \u001B[38;5;28;01mif\u001B[39;00m \u001B[38;5;129;01mnot\u001B[39;00m chunked:\n\u001B[1;32m--> 440\u001B[0m         resp \u001B[38;5;241m=\u001B[39m \u001B[43mconn\u001B[49m\u001B[38;5;241;43m.\u001B[39;49m\u001B[43murlopen\u001B[49m\u001B[43m(\u001B[49m\n\u001B[0;32m    441\u001B[0m \u001B[43m            \u001B[49m\u001B[43mmethod\u001B[49m\u001B[38;5;241;43m=\u001B[39;49m\u001B[43mrequest\u001B[49m\u001B[38;5;241;43m.\u001B[39;49m\u001B[43mmethod\u001B[49m\u001B[43m,\u001B[49m\n\u001B[0;32m    442\u001B[0m \u001B[43m            \u001B[49m\u001B[43murl\u001B[49m\u001B[38;5;241;43m=\u001B[39;49m\u001B[43murl\u001B[49m\u001B[43m,\u001B[49m\n\u001B[0;32m    443\u001B[0m \u001B[43m            \u001B[49m\u001B[43mbody\u001B[49m\u001B[38;5;241;43m=\u001B[39;49m\u001B[43mrequest\u001B[49m\u001B[38;5;241;43m.\u001B[39;49m\u001B[43mbody\u001B[49m\u001B[43m,\u001B[49m\n\u001B[0;32m    444\u001B[0m \u001B[43m            \u001B[49m\u001B[43mheaders\u001B[49m\u001B[38;5;241;43m=\u001B[39;49m\u001B[43mrequest\u001B[49m\u001B[38;5;241;43m.\u001B[39;49m\u001B[43mheaders\u001B[49m\u001B[43m,\u001B[49m\n\u001B[0;32m    445\u001B[0m \u001B[43m            \u001B[49m\u001B[43mredirect\u001B[49m\u001B[38;5;241;43m=\u001B[39;49m\u001B[38;5;28;43;01mFalse\u001B[39;49;00m\u001B[43m,\u001B[49m\n\u001B[0;32m    446\u001B[0m \u001B[43m            \u001B[49m\u001B[43massert_same_host\u001B[49m\u001B[38;5;241;43m=\u001B[39;49m\u001B[38;5;28;43;01mFalse\u001B[39;49;00m\u001B[43m,\u001B[49m\n\u001B[0;32m    447\u001B[0m \u001B[43m            \u001B[49m\u001B[43mpreload_content\u001B[49m\u001B[38;5;241;43m=\u001B[39;49m\u001B[38;5;28;43;01mFalse\u001B[39;49;00m\u001B[43m,\u001B[49m\n\u001B[0;32m    448\u001B[0m \u001B[43m            \u001B[49m\u001B[43mdecode_content\u001B[49m\u001B[38;5;241;43m=\u001B[39;49m\u001B[38;5;28;43;01mFalse\u001B[39;49;00m\u001B[43m,\u001B[49m\n\u001B[0;32m    449\u001B[0m \u001B[43m            \u001B[49m\u001B[43mretries\u001B[49m\u001B[38;5;241;43m=\u001B[39;49m\u001B[38;5;28;43mself\u001B[39;49m\u001B[38;5;241;43m.\u001B[39;49m\u001B[43mmax_retries\u001B[49m\u001B[43m,\u001B[49m\n\u001B[0;32m    450\u001B[0m \u001B[43m            \u001B[49m\u001B[43mtimeout\u001B[49m\u001B[38;5;241;43m=\u001B[39;49m\u001B[43mtimeout\u001B[49m\n\u001B[0;32m    451\u001B[0m \u001B[43m        \u001B[49m\u001B[43m)\u001B[49m\n\u001B[0;32m    453\u001B[0m     \u001B[38;5;66;03m# Send the request.\u001B[39;00m\n\u001B[0;32m    454\u001B[0m     \u001B[38;5;28;01melse\u001B[39;00m:\n\u001B[0;32m    455\u001B[0m         \u001B[38;5;28;01mif\u001B[39;00m \u001B[38;5;28mhasattr\u001B[39m(conn, \u001B[38;5;124m'\u001B[39m\u001B[38;5;124mproxy_pool\u001B[39m\u001B[38;5;124m'\u001B[39m):\n",
      "File \u001B[1;32m~\\PycharmProjects\\pythonProject\\venv\\lib\\site-packages\\urllib3\\connectionpool.py:703\u001B[0m, in \u001B[0;36mHTTPConnectionPool.urlopen\u001B[1;34m(self, method, url, body, headers, retries, redirect, assert_same_host, timeout, pool_timeout, release_conn, chunked, body_pos, **response_kw)\u001B[0m\n\u001B[0;32m    700\u001B[0m     \u001B[38;5;28mself\u001B[39m\u001B[38;5;241m.\u001B[39m_prepare_proxy(conn)\n\u001B[0;32m    702\u001B[0m \u001B[38;5;66;03m# Make the request on the httplib connection object.\u001B[39;00m\n\u001B[1;32m--> 703\u001B[0m httplib_response \u001B[38;5;241m=\u001B[39m \u001B[38;5;28;43mself\u001B[39;49m\u001B[38;5;241;43m.\u001B[39;49m\u001B[43m_make_request\u001B[49m\u001B[43m(\u001B[49m\n\u001B[0;32m    704\u001B[0m \u001B[43m    \u001B[49m\u001B[43mconn\u001B[49m\u001B[43m,\u001B[49m\n\u001B[0;32m    705\u001B[0m \u001B[43m    \u001B[49m\u001B[43mmethod\u001B[49m\u001B[43m,\u001B[49m\n\u001B[0;32m    706\u001B[0m \u001B[43m    \u001B[49m\u001B[43murl\u001B[49m\u001B[43m,\u001B[49m\n\u001B[0;32m    707\u001B[0m \u001B[43m    \u001B[49m\u001B[43mtimeout\u001B[49m\u001B[38;5;241;43m=\u001B[39;49m\u001B[43mtimeout_obj\u001B[49m\u001B[43m,\u001B[49m\n\u001B[0;32m    708\u001B[0m \u001B[43m    \u001B[49m\u001B[43mbody\u001B[49m\u001B[38;5;241;43m=\u001B[39;49m\u001B[43mbody\u001B[49m\u001B[43m,\u001B[49m\n\u001B[0;32m    709\u001B[0m \u001B[43m    \u001B[49m\u001B[43mheaders\u001B[49m\u001B[38;5;241;43m=\u001B[39;49m\u001B[43mheaders\u001B[49m\u001B[43m,\u001B[49m\n\u001B[0;32m    710\u001B[0m \u001B[43m    \u001B[49m\u001B[43mchunked\u001B[49m\u001B[38;5;241;43m=\u001B[39;49m\u001B[43mchunked\u001B[49m\u001B[43m,\u001B[49m\n\u001B[0;32m    711\u001B[0m \u001B[43m\u001B[49m\u001B[43m)\u001B[49m\n\u001B[0;32m    713\u001B[0m \u001B[38;5;66;03m# If we're going to release the connection in ``finally:``, then\u001B[39;00m\n\u001B[0;32m    714\u001B[0m \u001B[38;5;66;03m# the response doesn't need to know about the connection. Otherwise\u001B[39;00m\n\u001B[0;32m    715\u001B[0m \u001B[38;5;66;03m# it will also try to release it and we'll have a double-release\u001B[39;00m\n\u001B[0;32m    716\u001B[0m \u001B[38;5;66;03m# mess.\u001B[39;00m\n\u001B[0;32m    717\u001B[0m response_conn \u001B[38;5;241m=\u001B[39m conn \u001B[38;5;28;01mif\u001B[39;00m \u001B[38;5;129;01mnot\u001B[39;00m release_conn \u001B[38;5;28;01melse\u001B[39;00m \u001B[38;5;28;01mNone\u001B[39;00m\n",
      "File \u001B[1;32m~\\PycharmProjects\\pythonProject\\venv\\lib\\site-packages\\urllib3\\connectionpool.py:449\u001B[0m, in \u001B[0;36mHTTPConnectionPool._make_request\u001B[1;34m(self, conn, method, url, timeout, chunked, **httplib_request_kw)\u001B[0m\n\u001B[0;32m    444\u001B[0m             httplib_response \u001B[38;5;241m=\u001B[39m conn\u001B[38;5;241m.\u001B[39mgetresponse()\n\u001B[0;32m    445\u001B[0m         \u001B[38;5;28;01mexcept\u001B[39;00m \u001B[38;5;167;01mBaseException\u001B[39;00m \u001B[38;5;28;01mas\u001B[39;00m e:\n\u001B[0;32m    446\u001B[0m             \u001B[38;5;66;03m# Remove the TypeError from the exception chain in\u001B[39;00m\n\u001B[0;32m    447\u001B[0m             \u001B[38;5;66;03m# Python 3 (including for exceptions like SystemExit).\u001B[39;00m\n\u001B[0;32m    448\u001B[0m             \u001B[38;5;66;03m# Otherwise it looks like a bug in the code.\u001B[39;00m\n\u001B[1;32m--> 449\u001B[0m             \u001B[43msix\u001B[49m\u001B[38;5;241;43m.\u001B[39;49m\u001B[43mraise_from\u001B[49m\u001B[43m(\u001B[49m\u001B[43me\u001B[49m\u001B[43m,\u001B[49m\u001B[43m \u001B[49m\u001B[38;5;28;43;01mNone\u001B[39;49;00m\u001B[43m)\u001B[49m\n\u001B[0;32m    450\u001B[0m \u001B[38;5;28;01mexcept\u001B[39;00m (SocketTimeout, BaseSSLError, SocketError) \u001B[38;5;28;01mas\u001B[39;00m e:\n\u001B[0;32m    451\u001B[0m     \u001B[38;5;28mself\u001B[39m\u001B[38;5;241m.\u001B[39m_raise_timeout(err\u001B[38;5;241m=\u001B[39me, url\u001B[38;5;241m=\u001B[39murl, timeout_value\u001B[38;5;241m=\u001B[39mread_timeout)\n",
      "File \u001B[1;32m<string>:3\u001B[0m, in \u001B[0;36mraise_from\u001B[1;34m(value, from_value)\u001B[0m\n",
      "File \u001B[1;32m~\\PycharmProjects\\pythonProject\\venv\\lib\\site-packages\\urllib3\\connectionpool.py:444\u001B[0m, in \u001B[0;36mHTTPConnectionPool._make_request\u001B[1;34m(self, conn, method, url, timeout, chunked, **httplib_request_kw)\u001B[0m\n\u001B[0;32m    441\u001B[0m \u001B[38;5;28;01mexcept\u001B[39;00m \u001B[38;5;167;01mTypeError\u001B[39;00m:\n\u001B[0;32m    442\u001B[0m     \u001B[38;5;66;03m# Python 3\u001B[39;00m\n\u001B[0;32m    443\u001B[0m     \u001B[38;5;28;01mtry\u001B[39;00m:\n\u001B[1;32m--> 444\u001B[0m         httplib_response \u001B[38;5;241m=\u001B[39m \u001B[43mconn\u001B[49m\u001B[38;5;241;43m.\u001B[39;49m\u001B[43mgetresponse\u001B[49m\u001B[43m(\u001B[49m\u001B[43m)\u001B[49m\n\u001B[0;32m    445\u001B[0m     \u001B[38;5;28;01mexcept\u001B[39;00m \u001B[38;5;167;01mBaseException\u001B[39;00m \u001B[38;5;28;01mas\u001B[39;00m e:\n\u001B[0;32m    446\u001B[0m         \u001B[38;5;66;03m# Remove the TypeError from the exception chain in\u001B[39;00m\n\u001B[0;32m    447\u001B[0m         \u001B[38;5;66;03m# Python 3 (including for exceptions like SystemExit).\u001B[39;00m\n\u001B[0;32m    448\u001B[0m         \u001B[38;5;66;03m# Otherwise it looks like a bug in the code.\u001B[39;00m\n\u001B[0;32m    449\u001B[0m         six\u001B[38;5;241m.\u001B[39mraise_from(e, \u001B[38;5;28;01mNone\u001B[39;00m)\n",
      "File \u001B[1;32m~\\AppData\\Local\\Programs\\Python\\Python310\\lib\\http\\client.py:1368\u001B[0m, in \u001B[0;36mHTTPConnection.getresponse\u001B[1;34m(self)\u001B[0m\n\u001B[0;32m   1366\u001B[0m \u001B[38;5;28;01mtry\u001B[39;00m:\n\u001B[0;32m   1367\u001B[0m     \u001B[38;5;28;01mtry\u001B[39;00m:\n\u001B[1;32m-> 1368\u001B[0m         \u001B[43mresponse\u001B[49m\u001B[38;5;241;43m.\u001B[39;49m\u001B[43mbegin\u001B[49m\u001B[43m(\u001B[49m\u001B[43m)\u001B[49m\n\u001B[0;32m   1369\u001B[0m     \u001B[38;5;28;01mexcept\u001B[39;00m \u001B[38;5;167;01mConnectionError\u001B[39;00m:\n\u001B[0;32m   1370\u001B[0m         \u001B[38;5;28mself\u001B[39m\u001B[38;5;241m.\u001B[39mclose()\n",
      "File \u001B[1;32m~\\AppData\\Local\\Programs\\Python\\Python310\\lib\\http\\client.py:317\u001B[0m, in \u001B[0;36mHTTPResponse.begin\u001B[1;34m(self)\u001B[0m\n\u001B[0;32m    315\u001B[0m \u001B[38;5;66;03m# read until we get a non-100 response\u001B[39;00m\n\u001B[0;32m    316\u001B[0m \u001B[38;5;28;01mwhile\u001B[39;00m \u001B[38;5;28;01mTrue\u001B[39;00m:\n\u001B[1;32m--> 317\u001B[0m     version, status, reason \u001B[38;5;241m=\u001B[39m \u001B[38;5;28;43mself\u001B[39;49m\u001B[38;5;241;43m.\u001B[39;49m\u001B[43m_read_status\u001B[49m\u001B[43m(\u001B[49m\u001B[43m)\u001B[49m\n\u001B[0;32m    318\u001B[0m     \u001B[38;5;28;01mif\u001B[39;00m status \u001B[38;5;241m!=\u001B[39m CONTINUE:\n\u001B[0;32m    319\u001B[0m         \u001B[38;5;28;01mbreak\u001B[39;00m\n",
      "File \u001B[1;32m~\\AppData\\Local\\Programs\\Python\\Python310\\lib\\http\\client.py:278\u001B[0m, in \u001B[0;36mHTTPResponse._read_status\u001B[1;34m(self)\u001B[0m\n\u001B[0;32m    277\u001B[0m \u001B[38;5;28;01mdef\u001B[39;00m \u001B[38;5;21m_read_status\u001B[39m(\u001B[38;5;28mself\u001B[39m):\n\u001B[1;32m--> 278\u001B[0m     line \u001B[38;5;241m=\u001B[39m \u001B[38;5;28mstr\u001B[39m(\u001B[38;5;28;43mself\u001B[39;49m\u001B[38;5;241;43m.\u001B[39;49m\u001B[43mfp\u001B[49m\u001B[38;5;241;43m.\u001B[39;49m\u001B[43mreadline\u001B[49m\u001B[43m(\u001B[49m\u001B[43m_MAXLINE\u001B[49m\u001B[43m \u001B[49m\u001B[38;5;241;43m+\u001B[39;49m\u001B[43m \u001B[49m\u001B[38;5;241;43m1\u001B[39;49m\u001B[43m)\u001B[49m, \u001B[38;5;124m\"\u001B[39m\u001B[38;5;124miso-8859-1\u001B[39m\u001B[38;5;124m\"\u001B[39m)\n\u001B[0;32m    279\u001B[0m     \u001B[38;5;28;01mif\u001B[39;00m \u001B[38;5;28mlen\u001B[39m(line) \u001B[38;5;241m>\u001B[39m _MAXLINE:\n\u001B[0;32m    280\u001B[0m         \u001B[38;5;28;01mraise\u001B[39;00m LineTooLong(\u001B[38;5;124m\"\u001B[39m\u001B[38;5;124mstatus line\u001B[39m\u001B[38;5;124m\"\u001B[39m)\n",
      "File \u001B[1;32m~\\AppData\\Local\\Programs\\Python\\Python310\\lib\\socket.py:705\u001B[0m, in \u001B[0;36mSocketIO.readinto\u001B[1;34m(self, b)\u001B[0m\n\u001B[0;32m    703\u001B[0m \u001B[38;5;28;01mwhile\u001B[39;00m \u001B[38;5;28;01mTrue\u001B[39;00m:\n\u001B[0;32m    704\u001B[0m     \u001B[38;5;28;01mtry\u001B[39;00m:\n\u001B[1;32m--> 705\u001B[0m         \u001B[38;5;28;01mreturn\u001B[39;00m \u001B[38;5;28;43mself\u001B[39;49m\u001B[38;5;241;43m.\u001B[39;49m\u001B[43m_sock\u001B[49m\u001B[38;5;241;43m.\u001B[39;49m\u001B[43mrecv_into\u001B[49m\u001B[43m(\u001B[49m\u001B[43mb\u001B[49m\u001B[43m)\u001B[49m\n\u001B[0;32m    706\u001B[0m     \u001B[38;5;28;01mexcept\u001B[39;00m timeout:\n\u001B[0;32m    707\u001B[0m         \u001B[38;5;28mself\u001B[39m\u001B[38;5;241m.\u001B[39m_timeout_occurred \u001B[38;5;241m=\u001B[39m \u001B[38;5;28;01mTrue\u001B[39;00m\n",
      "File \u001B[1;32m~\\AppData\\Local\\Programs\\Python\\Python310\\lib\\ssl.py:1273\u001B[0m, in \u001B[0;36mSSLSocket.recv_into\u001B[1;34m(self, buffer, nbytes, flags)\u001B[0m\n\u001B[0;32m   1269\u001B[0m     \u001B[38;5;28;01mif\u001B[39;00m flags \u001B[38;5;241m!=\u001B[39m \u001B[38;5;241m0\u001B[39m:\n\u001B[0;32m   1270\u001B[0m         \u001B[38;5;28;01mraise\u001B[39;00m \u001B[38;5;167;01mValueError\u001B[39;00m(\n\u001B[0;32m   1271\u001B[0m           \u001B[38;5;124m\"\u001B[39m\u001B[38;5;124mnon-zero flags not allowed in calls to recv_into() on \u001B[39m\u001B[38;5;132;01m%s\u001B[39;00m\u001B[38;5;124m\"\u001B[39m \u001B[38;5;241m%\u001B[39m\n\u001B[0;32m   1272\u001B[0m           \u001B[38;5;28mself\u001B[39m\u001B[38;5;241m.\u001B[39m\u001B[38;5;18m__class__\u001B[39m)\n\u001B[1;32m-> 1273\u001B[0m     \u001B[38;5;28;01mreturn\u001B[39;00m \u001B[38;5;28;43mself\u001B[39;49m\u001B[38;5;241;43m.\u001B[39;49m\u001B[43mread\u001B[49m\u001B[43m(\u001B[49m\u001B[43mnbytes\u001B[49m\u001B[43m,\u001B[49m\u001B[43m \u001B[49m\u001B[43mbuffer\u001B[49m\u001B[43m)\u001B[49m\n\u001B[0;32m   1274\u001B[0m \u001B[38;5;28;01melse\u001B[39;00m:\n\u001B[0;32m   1275\u001B[0m     \u001B[38;5;28;01mreturn\u001B[39;00m \u001B[38;5;28msuper\u001B[39m()\u001B[38;5;241m.\u001B[39mrecv_into(buffer, nbytes, flags)\n",
      "File \u001B[1;32m~\\AppData\\Local\\Programs\\Python\\Python310\\lib\\ssl.py:1129\u001B[0m, in \u001B[0;36mSSLSocket.read\u001B[1;34m(self, len, buffer)\u001B[0m\n\u001B[0;32m   1127\u001B[0m \u001B[38;5;28;01mtry\u001B[39;00m:\n\u001B[0;32m   1128\u001B[0m     \u001B[38;5;28;01mif\u001B[39;00m buffer \u001B[38;5;129;01mis\u001B[39;00m \u001B[38;5;129;01mnot\u001B[39;00m \u001B[38;5;28;01mNone\u001B[39;00m:\n\u001B[1;32m-> 1129\u001B[0m         \u001B[38;5;28;01mreturn\u001B[39;00m \u001B[38;5;28;43mself\u001B[39;49m\u001B[38;5;241;43m.\u001B[39;49m\u001B[43m_sslobj\u001B[49m\u001B[38;5;241;43m.\u001B[39;49m\u001B[43mread\u001B[49m\u001B[43m(\u001B[49m\u001B[38;5;28;43mlen\u001B[39;49m\u001B[43m,\u001B[49m\u001B[43m \u001B[49m\u001B[43mbuffer\u001B[49m\u001B[43m)\u001B[49m\n\u001B[0;32m   1130\u001B[0m     \u001B[38;5;28;01melse\u001B[39;00m:\n\u001B[0;32m   1131\u001B[0m         \u001B[38;5;28;01mreturn\u001B[39;00m \u001B[38;5;28mself\u001B[39m\u001B[38;5;241m.\u001B[39m_sslobj\u001B[38;5;241m.\u001B[39mread(\u001B[38;5;28mlen\u001B[39m)\n",
      "\u001B[1;31mKeyboardInterrupt\u001B[0m: "
     ]
    }
   ],
   "source": [
    "def do_query(holders, page, start_date: datetime, finish_date: datetime, df):\n",
    "    # Fetch the next page and concatenate\n",
    "    ohm_transactions = holders.Query.tokenHolderTransactions(\n",
    "        orderBy=\"timestamp\",\n",
    "        orderDirection=\"asc\",\n",
    "        first=1000,\n",
    "        skip=1000*page,\n",
    "        where=[\n",
    "            holders.TokenHolderTransaction.date >= start_date.strftime(\"%Y-%m-%dT%H:%M:%S.000Z\"),\n",
    "            holders.TokenHolderTransaction.date < finish_date.strftime(\"%Y-%m-%dT%H:%M:%S.000Z\"),\n",
    "        ]\n",
    "    )\n",
    "    print(\"Fetching records for date: \", start_date)\n",
    "    print(\"page: \", page)\n",
    "    events = sg.query_df([\n",
    "        ohm_transactions.date,\n",
    "        ohm_transactions.holder,\n",
    "        ohm_transactions.id,\n",
    "        ohm_transactions.transaction,\n",
    "        ohm_transactions.type,\n",
    "        ohm_transactions.value,\n",
    "        ohm_transactions.holder.token.name,\n",
    "        ohm_transactions.holder.token.blockchain,\n",
    "        ohm_transactions.holder.token.name,\n",
    "        ohm_transactions.balance,\n",
    "        ohm_transactions.previousBalance\n",
    "    ])\n",
    "    print(\"records: \", len(events))\n",
    "    updated_df = pd.concat([df, events])\n",
    "\n",
    "    if len(events) < 1000:\n",
    "        return updated_df\n",
    "    return do_query(holders, page+1, start_date, finish_date, updated_df)\n",
    "\n",
    "df = pd.DataFrame()\n",
    "\n",
    "while start_date <= today:\n",
    "    next_date = start_date + delta\n",
    "\n",
    "    # Fetch recursively\n",
    "    df = do_query(holders, 0, start_date, next_date, df)\n",
    "\n",
    "    # Increment start date for the next loop\n",
    "    start_date += delta\n",
    "\n",
    "# Cache the results\n",
    "filename = \"results\"+str(date.today().strftime(\"%b-%d-%Y\"))+\".csv\"\n",
    "df.to_csv(filename, float_format=\"%.18f\")\n",
    "print(\"Wrote cached results\")\n",
    "\n"
   ],
   "metadata": {
    "collapsed": false,
    "pycharm": {
     "name": "#%%\n"
    }
   }
  },
  {
   "cell_type": "code",
   "execution_count": 5,
   "outputs": [
    {
     "data": {
      "text/plain": "  tokenHolderTransactions_date  \\\n0     2021-11-24T08:18:17.000Z   \n1     2021-11-24T08:21:28.000Z   \n2     2021-11-24T08:22:37.000Z   \n3     2021-11-24T08:58:07.000Z   \n4     2021-11-24T08:58:07.000Z   \n0     2021-11-27T02:39:44.000Z   \n1     2021-11-27T02:39:44.000Z   \n0     2021-11-27T18:41:18.000Z   \n1     2021-11-27T18:41:18.000Z   \n0     2021-11-27T19:27:54.000Z   \n\n                   tokenHolderTransactions_holder_id  \\\n0  gOHM/Ethereum/0xf9704b03e94b8c19cfd8a8803d81c9...   \n1  gOHM/Ethereum/0xf9704b03e94b8c19cfd8a8803d81c9...   \n2  gOHM/Ethereum/0xf9704b03e94b8c19cfd8a8803d81c9...   \n3  gOHM/Ethereum/0x5d8b27b839d86edf67a334139e8d51...   \n4  gOHM/Ethereum/0xf9704b03e94b8c19cfd8a8803d81c9...   \n0  gOHM/Ethereum/0x0af91fa049a7e1894f480bfe5bba20...   \n1  gOHM/Ethereum/0xf9704b03e94b8c19cfd8a8803d81c9...   \n0  gOHM/Ethereum/0x0af91fa049a7e1894f480bfe5bba20...   \n1  gOHM/Ethereum/0x42980e3e602178354e065723d9652b...   \n0  gOHM/Ethereum/0x2796317b0ff8538f253012862c0678...   \n\n   tokenHolderTransactions_holder_balance  \\\n0                            0.000000e+00   \n1                            0.000000e+00   \n2                            0.000000e+00   \n3                            1.000000e-09   \n4                            0.000000e+00   \n0                            0.000000e+00   \n1                            0.000000e+00   \n0                            0.000000e+00   \n1                            0.000000e+00   \n0                            1.178721e+04   \n\n        tokenHolderTransactions_holder_holder  \\\n0  0xf9704b03e94b8c19cfd8a8803d81c95e814d2a44   \n1  0xf9704b03e94b8c19cfd8a8803d81c95e814d2a44   \n2  0xf9704b03e94b8c19cfd8a8803d81c95e814d2a44   \n3  0x5d8b27b839d86edf67a334139e8d51a5348eeba2   \n4  0xf9704b03e94b8c19cfd8a8803d81c95e814d2a44   \n0  0x0af91fa049a7e1894f480bfe5bba20142c6c29a9   \n1  0xf9704b03e94b8c19cfd8a8803d81c95e814d2a44   \n0  0x0af91fa049a7e1894f480bfe5bba20142c6c29a9   \n1  0x42980e3e602178354e065723d9652bef79ae3673   \n0  0x2796317b0ff8538f253012862c06787adfb8ceb6   \n\n  tokenHolderTransactions_holder_token_id  \\\n0                           gOHM/Ethereum   \n1                           gOHM/Ethereum   \n2                           gOHM/Ethereum   \n3                           gOHM/Ethereum   \n4                           gOHM/Ethereum   \n0                           gOHM/Ethereum   \n1                           gOHM/Ethereum   \n0                           gOHM/Ethereum   \n1                           gOHM/Ethereum   \n0                           gOHM/Ethereum   \n\n                          tokenHolderTransactions_id  \\\n0  gOHM/Ethereum/0xf9704b03e94b8c19cfd8a8803d81c9...   \n1  gOHM/Ethereum/0xf9704b03e94b8c19cfd8a8803d81c9...   \n2  gOHM/Ethereum/0xf9704b03e94b8c19cfd8a8803d81c9...   \n3  gOHM/Ethereum/0x5d8b27b839d86edf67a334139e8d51...   \n4  gOHM/Ethereum/0xf9704b03e94b8c19cfd8a8803d81c9...   \n0  gOHM/Ethereum/0x0af91fa049a7e1894f480bfe5bba20...   \n1  gOHM/Ethereum/0xf9704b03e94b8c19cfd8a8803d81c9...   \n0  gOHM/Ethereum/0x0af91fa049a7e1894f480bfe5bba20...   \n1  gOHM/Ethereum/0x42980e3e602178354e065723d9652b...   \n0  gOHM/Ethereum/0x2796317b0ff8538f253012862c0678...   \n\n                 tokenHolderTransactions_transaction  \\\n0  0x1801ffca3dc2effe1dc34111057fe85dbe64c213a852...   \n1  0x206f8b4a3ddf9bf3ca9b1d5ef6994d6f4d979db51d93...   \n2  0x9d22aa742faedd1dc2d63c1c2643b296c6178b52300f...   \n3  0x7a5a72edbabd5011dc607c1a967da5d701b598f06ade...   \n4  0x7a5a72edbabd5011dc607c1a967da5d701b598f06ade...   \n0  0xdb5632348761e5393b92c66873336a4544b07558ea27...   \n1  0xdb5632348761e5393b92c66873336a4544b07558ea27...   \n0  0xddf8d1147a35cb70e238215640e68bd0c1f770f95ef6...   \n1  0xddf8d1147a35cb70e238215640e68bd0c1f770f95ef6...   \n0  0x7ef5f971b4f984d3c54ffc17527f97905b3936b61a92...   \n\n  tokenHolderTransactions_type  tokenHolderTransactions_value  \\\n0                     TRANSFER                   5.358220e-04   \n1                     TRANSFER                  -5.358220e-04   \n2                     TRANSFER                   5.368538e-04   \n3                     TRANSFER                   1.000000e-09   \n4                     TRANSFER                  -1.000000e-09   \n0                     TRANSFER                   5.368528e-04   \n1                     TRANSFER                  -5.368528e-04   \n0                     TRANSFER                  -5.368528e-04   \n1                     TRANSFER                   5.368528e-04   \n0                     TRANSFER                   5.368528e-04   \n\n  tokenHolderTransactions_holder_token_name  \\\n0                                      gOHM   \n1                                      gOHM   \n2                                      gOHM   \n3                                      gOHM   \n4                                      gOHM   \n0                                      gOHM   \n1                                      gOHM   \n0                                      gOHM   \n1                                      gOHM   \n0                                      gOHM   \n\n  tokenHolderTransactions_holder_token_blockchain  \\\n0                                        Ethereum   \n1                                        Ethereum   \n2                                        Ethereum   \n3                                        Ethereum   \n4                                        Ethereum   \n0                                        Ethereum   \n1                                        Ethereum   \n0                                        Ethereum   \n1                                        Ethereum   \n0                                        Ethereum   \n\n   tokenHolderTransactions_balance  tokenHolderTransactions_previousBalance  \n0                     5.358220e-04                                 0.000000  \n1                     0.000000e+00                                 0.000536  \n2                     5.368538e-04                                 0.000000  \n3                     1.000000e-09                                 0.000000  \n4                     5.368528e-04                                 0.000537  \n0                     5.368528e-04                                 0.000000  \n1                     0.000000e+00                                 0.000537  \n0                     0.000000e+00                                 0.000537  \n1                     5.368528e-04                                 0.000000  \n0                     5.368528e-04                                 0.000000  ",
      "text/html": "<div>\n<style scoped>\n    .dataframe tbody tr th:only-of-type {\n        vertical-align: middle;\n    }\n\n    .dataframe tbody tr th {\n        vertical-align: top;\n    }\n\n    .dataframe thead th {\n        text-align: right;\n    }\n</style>\n<table border=\"1\" class=\"dataframe\">\n  <thead>\n    <tr style=\"text-align: right;\">\n      <th></th>\n      <th>tokenHolderTransactions_date</th>\n      <th>tokenHolderTransactions_holder_id</th>\n      <th>tokenHolderTransactions_holder_balance</th>\n      <th>tokenHolderTransactions_holder_holder</th>\n      <th>tokenHolderTransactions_holder_token_id</th>\n      <th>tokenHolderTransactions_id</th>\n      <th>tokenHolderTransactions_transaction</th>\n      <th>tokenHolderTransactions_type</th>\n      <th>tokenHolderTransactions_value</th>\n      <th>tokenHolderTransactions_holder_token_name</th>\n      <th>tokenHolderTransactions_holder_token_blockchain</th>\n      <th>tokenHolderTransactions_balance</th>\n      <th>tokenHolderTransactions_previousBalance</th>\n    </tr>\n  </thead>\n  <tbody>\n    <tr>\n      <th>0</th>\n      <td>2021-11-24T08:18:17.000Z</td>\n      <td>gOHM/Ethereum/0xf9704b03e94b8c19cfd8a8803d81c9...</td>\n      <td>0.000000e+00</td>\n      <td>0xf9704b03e94b8c19cfd8a8803d81c95e814d2a44</td>\n      <td>gOHM/Ethereum</td>\n      <td>gOHM/Ethereum/0xf9704b03e94b8c19cfd8a8803d81c9...</td>\n      <td>0x1801ffca3dc2effe1dc34111057fe85dbe64c213a852...</td>\n      <td>TRANSFER</td>\n      <td>5.358220e-04</td>\n      <td>gOHM</td>\n      <td>Ethereum</td>\n      <td>5.358220e-04</td>\n      <td>0.000000</td>\n    </tr>\n    <tr>\n      <th>1</th>\n      <td>2021-11-24T08:21:28.000Z</td>\n      <td>gOHM/Ethereum/0xf9704b03e94b8c19cfd8a8803d81c9...</td>\n      <td>0.000000e+00</td>\n      <td>0xf9704b03e94b8c19cfd8a8803d81c95e814d2a44</td>\n      <td>gOHM/Ethereum</td>\n      <td>gOHM/Ethereum/0xf9704b03e94b8c19cfd8a8803d81c9...</td>\n      <td>0x206f8b4a3ddf9bf3ca9b1d5ef6994d6f4d979db51d93...</td>\n      <td>TRANSFER</td>\n      <td>-5.358220e-04</td>\n      <td>gOHM</td>\n      <td>Ethereum</td>\n      <td>0.000000e+00</td>\n      <td>0.000536</td>\n    </tr>\n    <tr>\n      <th>2</th>\n      <td>2021-11-24T08:22:37.000Z</td>\n      <td>gOHM/Ethereum/0xf9704b03e94b8c19cfd8a8803d81c9...</td>\n      <td>0.000000e+00</td>\n      <td>0xf9704b03e94b8c19cfd8a8803d81c95e814d2a44</td>\n      <td>gOHM/Ethereum</td>\n      <td>gOHM/Ethereum/0xf9704b03e94b8c19cfd8a8803d81c9...</td>\n      <td>0x9d22aa742faedd1dc2d63c1c2643b296c6178b52300f...</td>\n      <td>TRANSFER</td>\n      <td>5.368538e-04</td>\n      <td>gOHM</td>\n      <td>Ethereum</td>\n      <td>5.368538e-04</td>\n      <td>0.000000</td>\n    </tr>\n    <tr>\n      <th>3</th>\n      <td>2021-11-24T08:58:07.000Z</td>\n      <td>gOHM/Ethereum/0x5d8b27b839d86edf67a334139e8d51...</td>\n      <td>1.000000e-09</td>\n      <td>0x5d8b27b839d86edf67a334139e8d51a5348eeba2</td>\n      <td>gOHM/Ethereum</td>\n      <td>gOHM/Ethereum/0x5d8b27b839d86edf67a334139e8d51...</td>\n      <td>0x7a5a72edbabd5011dc607c1a967da5d701b598f06ade...</td>\n      <td>TRANSFER</td>\n      <td>1.000000e-09</td>\n      <td>gOHM</td>\n      <td>Ethereum</td>\n      <td>1.000000e-09</td>\n      <td>0.000000</td>\n    </tr>\n    <tr>\n      <th>4</th>\n      <td>2021-11-24T08:58:07.000Z</td>\n      <td>gOHM/Ethereum/0xf9704b03e94b8c19cfd8a8803d81c9...</td>\n      <td>0.000000e+00</td>\n      <td>0xf9704b03e94b8c19cfd8a8803d81c95e814d2a44</td>\n      <td>gOHM/Ethereum</td>\n      <td>gOHM/Ethereum/0xf9704b03e94b8c19cfd8a8803d81c9...</td>\n      <td>0x7a5a72edbabd5011dc607c1a967da5d701b598f06ade...</td>\n      <td>TRANSFER</td>\n      <td>-1.000000e-09</td>\n      <td>gOHM</td>\n      <td>Ethereum</td>\n      <td>5.368528e-04</td>\n      <td>0.000537</td>\n    </tr>\n    <tr>\n      <th>0</th>\n      <td>2021-11-27T02:39:44.000Z</td>\n      <td>gOHM/Ethereum/0x0af91fa049a7e1894f480bfe5bba20...</td>\n      <td>0.000000e+00</td>\n      <td>0x0af91fa049a7e1894f480bfe5bba20142c6c29a9</td>\n      <td>gOHM/Ethereum</td>\n      <td>gOHM/Ethereum/0x0af91fa049a7e1894f480bfe5bba20...</td>\n      <td>0xdb5632348761e5393b92c66873336a4544b07558ea27...</td>\n      <td>TRANSFER</td>\n      <td>5.368528e-04</td>\n      <td>gOHM</td>\n      <td>Ethereum</td>\n      <td>5.368528e-04</td>\n      <td>0.000000</td>\n    </tr>\n    <tr>\n      <th>1</th>\n      <td>2021-11-27T02:39:44.000Z</td>\n      <td>gOHM/Ethereum/0xf9704b03e94b8c19cfd8a8803d81c9...</td>\n      <td>0.000000e+00</td>\n      <td>0xf9704b03e94b8c19cfd8a8803d81c95e814d2a44</td>\n      <td>gOHM/Ethereum</td>\n      <td>gOHM/Ethereum/0xf9704b03e94b8c19cfd8a8803d81c9...</td>\n      <td>0xdb5632348761e5393b92c66873336a4544b07558ea27...</td>\n      <td>TRANSFER</td>\n      <td>-5.368528e-04</td>\n      <td>gOHM</td>\n      <td>Ethereum</td>\n      <td>0.000000e+00</td>\n      <td>0.000537</td>\n    </tr>\n    <tr>\n      <th>0</th>\n      <td>2021-11-27T18:41:18.000Z</td>\n      <td>gOHM/Ethereum/0x0af91fa049a7e1894f480bfe5bba20...</td>\n      <td>0.000000e+00</td>\n      <td>0x0af91fa049a7e1894f480bfe5bba20142c6c29a9</td>\n      <td>gOHM/Ethereum</td>\n      <td>gOHM/Ethereum/0x0af91fa049a7e1894f480bfe5bba20...</td>\n      <td>0xddf8d1147a35cb70e238215640e68bd0c1f770f95ef6...</td>\n      <td>TRANSFER</td>\n      <td>-5.368528e-04</td>\n      <td>gOHM</td>\n      <td>Ethereum</td>\n      <td>0.000000e+00</td>\n      <td>0.000537</td>\n    </tr>\n    <tr>\n      <th>1</th>\n      <td>2021-11-27T18:41:18.000Z</td>\n      <td>gOHM/Ethereum/0x42980e3e602178354e065723d9652b...</td>\n      <td>0.000000e+00</td>\n      <td>0x42980e3e602178354e065723d9652bef79ae3673</td>\n      <td>gOHM/Ethereum</td>\n      <td>gOHM/Ethereum/0x42980e3e602178354e065723d9652b...</td>\n      <td>0xddf8d1147a35cb70e238215640e68bd0c1f770f95ef6...</td>\n      <td>TRANSFER</td>\n      <td>5.368528e-04</td>\n      <td>gOHM</td>\n      <td>Ethereum</td>\n      <td>5.368528e-04</td>\n      <td>0.000000</td>\n    </tr>\n    <tr>\n      <th>0</th>\n      <td>2021-11-27T19:27:54.000Z</td>\n      <td>gOHM/Ethereum/0x2796317b0ff8538f253012862c0678...</td>\n      <td>1.178721e+04</td>\n      <td>0x2796317b0ff8538f253012862c06787adfb8ceb6</td>\n      <td>gOHM/Ethereum</td>\n      <td>gOHM/Ethereum/0x2796317b0ff8538f253012862c0678...</td>\n      <td>0x7ef5f971b4f984d3c54ffc17527f97905b3936b61a92...</td>\n      <td>TRANSFER</td>\n      <td>5.368528e-04</td>\n      <td>gOHM</td>\n      <td>Ethereum</td>\n      <td>5.368528e-04</td>\n      <td>0.000000</td>\n    </tr>\n  </tbody>\n</table>\n</div>"
     },
     "execution_count": 5,
     "metadata": {},
     "output_type": "execute_result"
    }
   ],
   "source": [
    "df.head(10)"
   ],
   "metadata": {
    "collapsed": false,
    "pycharm": {
     "name": "#%%\n"
    }
   }
  }
 ],
 "metadata": {
  "kernelspec": {
   "display_name": "Python 3",
   "language": "python",
   "name": "python3"
  },
  "language_info": {
   "codemirror_mode": {
    "name": "ipython",
    "version": 2
   },
   "file_extension": ".py",
   "mimetype": "text/x-python",
   "name": "python",
   "nbconvert_exporter": "python",
   "pygments_lexer": "ipython2",
   "version": "2.7.6"
  }
 },
 "nbformat": 4,
 "nbformat_minor": 0
}