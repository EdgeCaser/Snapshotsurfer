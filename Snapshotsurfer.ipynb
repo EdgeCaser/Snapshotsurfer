{
 "cells": [
  {
   "cell_type": "code",
   "execution_count": 12,
   "outputs": [],
   "source": [
    "global file\n",
    "file = input('Selet a folder to save output') ##enter your file path here - the file is in the repo \"summary_stats.csv\".\n",
    "raw_file = file"
   ],
   "metadata": {
    "collapsed": false,
    "pycharm": {
     "name": "#%%\n"
    }
   }
  },
  {
   "cell_type": "code",
   "execution_count": 13,
   "outputs": [],
   "source": [
    "from datetime import datetime\n",
    "from datetime import date\n",
    "from subgrounds.subgraph import SyntheticField, FieldPath\n",
    "from subgrounds.subgrounds import Subgrounds\n",
    "import math\n",
    "import pandas as pd\n",
    "import  os as os\n",
    "import duckdb as db\n",
    "import seaborn as sns\n",
    "import matplotlib.pyplot as plt"
   ],
   "metadata": {
    "collapsed": false,
    "pycharm": {
     "name": "#%%\n"
    }
   }
  },
  {
   "cell_type": "code",
   "execution_count": 14,
   "outputs": [],
   "source": [
    "sg = Subgrounds()\n",
    "snapshot = sg.load_api('https://hub.snapshot.org/graphql')"
   ],
   "metadata": {
    "collapsed": false,
    "pycharm": {
     "name": "#%%\n"
    }
   }
  },
  {
   "cell_type": "code",
   "execution_count": 15,
   "outputs": [],
   "source": [
    "snapshot.Proposal.datetime = SyntheticField(\n",
    "  lambda timestamp: str(datetime.fromtimestamp(timestamp)),\n",
    "  SyntheticField.STRING,\n",
    "  snapshot.Proposal.end,\n",
    ")"
   ],
   "metadata": {
    "collapsed": false,
    "pycharm": {
     "name": "#%%\n"
    }
   }
  },
  {
   "cell_type": "code",
   "execution_count": 16,
   "outputs": [],
   "source": [
    "spacename = input('spacename plz?')\n",
    "# based on their url, for example \"curve.eth\" for  https://snapshot.org/#/curve.eth\n",
    "proposals = snapshot.Query.proposals(\n",
    "  orderBy='created',\n",
    "  orderDirection='desc',\n",
    "  first=10000,\n",
    "  where=[\n",
    "    snapshot.Proposal.space == spacename, ##'fuse.eth',\n",
    "    snapshot.Proposal.state == 'closed'\n",
    "    ##snapshot.Proposal.title == 'OIP-18: Reward rate framework and reduction',\n",
    "  ]\n",
    ")"
   ],
   "metadata": {
    "collapsed": false,
    "pycharm": {
     "name": "#%%\n"
    }
   }
  },
  {
   "cell_type": "code",
   "execution_count": 17,
   "outputs": [],
   "source": [
    "proposals_snapshots = sg.query_df([\n",
    "    proposals.title,\n",
    "    proposals.id,\n",
    "    proposals.body,\n",
    "    proposals.scores_total\n",
    "])"
   ],
   "metadata": {
    "collapsed": false,
    "pycharm": {
     "name": "#%%\n"
    }
   }
  },
  {
   "cell_type": "code",
   "execution_count": 18,
   "outputs": [],
   "source": [
    "proposals_choices = sg.query(proposals.choices)"
   ],
   "metadata": {
    "collapsed": false,
    "pycharm": {
     "name": "#%%\n"
    }
   }
  },
  {
   "cell_type": "code",
   "execution_count": 19,
   "outputs": [],
   "source": [
    "proposals_choices = pd.DataFrame(proposals_choices)"
   ],
   "metadata": {
    "collapsed": false,
    "pycharm": {
     "name": "#%%\n"
    }
   }
  },
  {
   "cell_type": "code",
   "execution_count": 20,
   "outputs": [],
   "source": [
    "olympus_governance_view = pd.concat([proposals_snapshots,proposals_choices], axis=1)"
   ],
   "metadata": {
    "collapsed": false,
    "pycharm": {
     "name": "#%%\n"
    }
   }
  },
  {
   "cell_type": "code",
   "execution_count": 21,
   "outputs": [
    {
     "data": {
      "text/plain": "                                     proposals_title  \\\n0         [BIP-30] Purge Unused Gauges [second vote]   \n1  [BIP-36] Enable TEMPLE/DAI 80/20 Gague (Ethereum)   \n2  [BIP-35] Whitelist the Laguna Games’ Gnosis Sa...   \n3  [BIP-34] Enable the 50/50 RBW/wETH Gauge on Po...   \n4  [BIP-32] Funding Proposal for Daoism Systems: ...   \n\n                                        proposals_id  \\\n0  0x3a2cd227ab45ce9773d8f83f876035afc3267f31b6a6...   \n1  0x2f981dfc60e19d827cffdd6bcece6879abd33a0a83cf...   \n2  0x90076d5941a09e5223aa2ae4d0ca0baf5eb8fbd571d7...   \n3  0x71e3a7ca50a39bf521aaad05f180cf750c5d5f59a97a...   \n4  0x29a37ab71ce03a5e167fd012c363e72088bd0554d2b2...   \n\n                                      proposals_body  proposals_scores_total  \\\n0  ## Motivation\\n\\nBalancer currently has 50+ ac...            2.313253e+06   \n1  **## Summary:**\\n\\nThis proposal is to add a v...            5.338398e+05   \n2  ## Abstract\\nLaguna Games requests the whiteli...            5.110615e+05   \n3  ## **Summary:**\\n> **Laguna Games proposes to ...            5.206824e+05   \n4  **PROTOCOL REVENUE SHARING FOR POOL & FACTORY ...            1.224941e+06   \n\n                  0                        1        2     3     4  \n0  Yes, let's do it  No, this is not the way     None  None  None  \n1  Yes, let's do it  No, this is not the way     None  None  None  \n2  Yes, let's do it  No, this is not the way     None  None  None  \n3  Yes, let's do it  No, this is not the way     None  None  None  \n4  Yes, let's do it  No, this is not the way  Abstain  None  None  ",
      "text/html": "<div>\n<style scoped>\n    .dataframe tbody tr th:only-of-type {\n        vertical-align: middle;\n    }\n\n    .dataframe tbody tr th {\n        vertical-align: top;\n    }\n\n    .dataframe thead th {\n        text-align: right;\n    }\n</style>\n<table border=\"1\" class=\"dataframe\">\n  <thead>\n    <tr style=\"text-align: right;\">\n      <th></th>\n      <th>proposals_title</th>\n      <th>proposals_id</th>\n      <th>proposals_body</th>\n      <th>proposals_scores_total</th>\n      <th>0</th>\n      <th>1</th>\n      <th>2</th>\n      <th>3</th>\n      <th>4</th>\n    </tr>\n  </thead>\n  <tbody>\n    <tr>\n      <th>0</th>\n      <td>[BIP-30] Purge Unused Gauges [second vote]</td>\n      <td>0x3a2cd227ab45ce9773d8f83f876035afc3267f31b6a6...</td>\n      <td>## Motivation\\n\\nBalancer currently has 50+ ac...</td>\n      <td>2.313253e+06</td>\n      <td>Yes, let's do it</td>\n      <td>No, this is not the way</td>\n      <td>None</td>\n      <td>None</td>\n      <td>None</td>\n    </tr>\n    <tr>\n      <th>1</th>\n      <td>[BIP-36] Enable TEMPLE/DAI 80/20 Gague (Ethereum)</td>\n      <td>0x2f981dfc60e19d827cffdd6bcece6879abd33a0a83cf...</td>\n      <td>**## Summary:**\\n\\nThis proposal is to add a v...</td>\n      <td>5.338398e+05</td>\n      <td>Yes, let's do it</td>\n      <td>No, this is not the way</td>\n      <td>None</td>\n      <td>None</td>\n      <td>None</td>\n    </tr>\n    <tr>\n      <th>2</th>\n      <td>[BIP-35] Whitelist the Laguna Games’ Gnosis Sa...</td>\n      <td>0x90076d5941a09e5223aa2ae4d0ca0baf5eb8fbd571d7...</td>\n      <td>## Abstract\\nLaguna Games requests the whiteli...</td>\n      <td>5.110615e+05</td>\n      <td>Yes, let's do it</td>\n      <td>No, this is not the way</td>\n      <td>None</td>\n      <td>None</td>\n      <td>None</td>\n    </tr>\n    <tr>\n      <th>3</th>\n      <td>[BIP-34] Enable the 50/50 RBW/wETH Gauge on Po...</td>\n      <td>0x71e3a7ca50a39bf521aaad05f180cf750c5d5f59a97a...</td>\n      <td>## **Summary:**\\n&gt; **Laguna Games proposes to ...</td>\n      <td>5.206824e+05</td>\n      <td>Yes, let's do it</td>\n      <td>No, this is not the way</td>\n      <td>None</td>\n      <td>None</td>\n      <td>None</td>\n    </tr>\n    <tr>\n      <th>4</th>\n      <td>[BIP-32] Funding Proposal for Daoism Systems: ...</td>\n      <td>0x29a37ab71ce03a5e167fd012c363e72088bd0554d2b2...</td>\n      <td>**PROTOCOL REVENUE SHARING FOR POOL &amp; FACTORY ...</td>\n      <td>1.224941e+06</td>\n      <td>Yes, let's do it</td>\n      <td>No, this is not the way</td>\n      <td>Abstain</td>\n      <td>None</td>\n      <td>None</td>\n    </tr>\n  </tbody>\n</table>\n</div>"
     },
     "execution_count": 21,
     "metadata": {},
     "output_type": "execute_result"
    }
   ],
   "source": [
    "##let's view the output just to make sure\n",
    "olympus_governance_view.head(5)"
   ],
   "metadata": {
    "collapsed": false,
    "pycharm": {
     "name": "#%%\n"
    }
   }
  },
  {
   "cell_type": "code",
   "execution_count": 22,
   "outputs": [
    {
     "data": {
      "text/plain": "            DAO                                    proposals_title  \\\n0  balancer.eth         [BIP-30] Purge Unused Gauges [second vote]   \n1  balancer.eth  [BIP-36] Enable TEMPLE/DAI 80/20 Gague (Ethereum)   \n2  balancer.eth  [BIP-35] Whitelist the Laguna Games’ Gnosis Sa...   \n3  balancer.eth  [BIP-34] Enable the 50/50 RBW/wETH Gauge on Po...   \n4  balancer.eth  [BIP-32] Funding Proposal for Daoism Systems: ...   \n5  balancer.eth  [BIP-33] Orb Marketing Budget Proposal for the...   \n6  balancer.eth            [BIP-31] Authorize the Batch Relayer v3   \n7  balancer.eth                       [BIP-30] Purge Unused Gauges   \n8  balancer.eth                   [BIP-29] Introduce GaugeAdder v2   \n9  balancer.eth                     [BIP-28] Kill CREAM/WETH Gauge   \n\n                                        proposals_id  \\\n0  0x3a2cd227ab45ce9773d8f83f876035afc3267f31b6a6...   \n1  0x2f981dfc60e19d827cffdd6bcece6879abd33a0a83cf...   \n2  0x90076d5941a09e5223aa2ae4d0ca0baf5eb8fbd571d7...   \n3  0x71e3a7ca50a39bf521aaad05f180cf750c5d5f59a97a...   \n4  0x29a37ab71ce03a5e167fd012c363e72088bd0554d2b2...   \n5  0x797467e0b451a49773cfea97359a32ab880caee688d1...   \n6  0xf354daf0ed08373938b30da9e47e8814fd8922881eb6...   \n7  0x12c8fd18c644c8c230b673fc468a22f93cd28ff3526b...   \n8  0xe1e42fd73a2d734d78a65e514a6996c785e90bc82a2e...   \n9  0xedb78d2d1a7a6d0e28ecac1094840b9a5be0384fcbf7...   \n\n                                      proposals_body  proposals_scores_total  \\\n0  ## Motivation\\n\\nBalancer currently has 50+ ac...            2.313253e+06   \n1  **## Summary:**\\n\\nThis proposal is to add a v...            5.338398e+05   \n2  ## Abstract\\nLaguna Games requests the whiteli...            5.110615e+05   \n3  ## **Summary:**\\n> **Laguna Games proposes to ...            5.206824e+05   \n4  **PROTOCOL REVENUE SHARING FOR POOL & FACTORY ...            1.224941e+06   \n5  # Overview\\n\\nThis proposal aims to continue B...            1.754555e+06   \n6  ## Motivation\\n\\nFor a refresher on what the B...            1.266563e+06   \n7  ## Motivation\\n\\nBalancer currently has 50+ ac...            3.025596e+06   \n8  ## Motivation\\n\\nThe [GaugeAdder](https://ethe...            1.352403e+06   \n9  ### Motivation\\n\\nSince the [approval of the C...            3.683465e+06   \n\n                   0                        1        2     3     4  \n0   Yes, let's do it  No, this is not the way     None  None  None  \n1   Yes, let's do it  No, this is not the way     None  None  None  \n2   Yes, let's do it  No, this is not the way     None  None  None  \n3   Yes, let's do it  No, this is not the way     None  None  None  \n4   Yes, let's do it  No, this is not the way  Abstain  None  None  \n5  Yes, let's do it   No, this is not the way  Abstain  None  None  \n6   Yes, let's do it  No, this is not the way     None  None  None  \n7   Yes, let's do it  No, this is not the way     None  None  None  \n8   Yes, let's do it  No, this is not the way     None  None  None  \n9   Yes, let's do it  No, this is not the way     None  None  None  ",
      "text/html": "<div>\n<style scoped>\n    .dataframe tbody tr th:only-of-type {\n        vertical-align: middle;\n    }\n\n    .dataframe tbody tr th {\n        vertical-align: top;\n    }\n\n    .dataframe thead th {\n        text-align: right;\n    }\n</style>\n<table border=\"1\" class=\"dataframe\">\n  <thead>\n    <tr style=\"text-align: right;\">\n      <th></th>\n      <th>DAO</th>\n      <th>proposals_title</th>\n      <th>proposals_id</th>\n      <th>proposals_body</th>\n      <th>proposals_scores_total</th>\n      <th>0</th>\n      <th>1</th>\n      <th>2</th>\n      <th>3</th>\n      <th>4</th>\n    </tr>\n  </thead>\n  <tbody>\n    <tr>\n      <th>0</th>\n      <td>balancer.eth</td>\n      <td>[BIP-30] Purge Unused Gauges [second vote]</td>\n      <td>0x3a2cd227ab45ce9773d8f83f876035afc3267f31b6a6...</td>\n      <td>## Motivation\\n\\nBalancer currently has 50+ ac...</td>\n      <td>2.313253e+06</td>\n      <td>Yes, let's do it</td>\n      <td>No, this is not the way</td>\n      <td>None</td>\n      <td>None</td>\n      <td>None</td>\n    </tr>\n    <tr>\n      <th>1</th>\n      <td>balancer.eth</td>\n      <td>[BIP-36] Enable TEMPLE/DAI 80/20 Gague (Ethereum)</td>\n      <td>0x2f981dfc60e19d827cffdd6bcece6879abd33a0a83cf...</td>\n      <td>**## Summary:**\\n\\nThis proposal is to add a v...</td>\n      <td>5.338398e+05</td>\n      <td>Yes, let's do it</td>\n      <td>No, this is not the way</td>\n      <td>None</td>\n      <td>None</td>\n      <td>None</td>\n    </tr>\n    <tr>\n      <th>2</th>\n      <td>balancer.eth</td>\n      <td>[BIP-35] Whitelist the Laguna Games’ Gnosis Sa...</td>\n      <td>0x90076d5941a09e5223aa2ae4d0ca0baf5eb8fbd571d7...</td>\n      <td>## Abstract\\nLaguna Games requests the whiteli...</td>\n      <td>5.110615e+05</td>\n      <td>Yes, let's do it</td>\n      <td>No, this is not the way</td>\n      <td>None</td>\n      <td>None</td>\n      <td>None</td>\n    </tr>\n    <tr>\n      <th>3</th>\n      <td>balancer.eth</td>\n      <td>[BIP-34] Enable the 50/50 RBW/wETH Gauge on Po...</td>\n      <td>0x71e3a7ca50a39bf521aaad05f180cf750c5d5f59a97a...</td>\n      <td>## **Summary:**\\n&gt; **Laguna Games proposes to ...</td>\n      <td>5.206824e+05</td>\n      <td>Yes, let's do it</td>\n      <td>No, this is not the way</td>\n      <td>None</td>\n      <td>None</td>\n      <td>None</td>\n    </tr>\n    <tr>\n      <th>4</th>\n      <td>balancer.eth</td>\n      <td>[BIP-32] Funding Proposal for Daoism Systems: ...</td>\n      <td>0x29a37ab71ce03a5e167fd012c363e72088bd0554d2b2...</td>\n      <td>**PROTOCOL REVENUE SHARING FOR POOL &amp; FACTORY ...</td>\n      <td>1.224941e+06</td>\n      <td>Yes, let's do it</td>\n      <td>No, this is not the way</td>\n      <td>Abstain</td>\n      <td>None</td>\n      <td>None</td>\n    </tr>\n    <tr>\n      <th>5</th>\n      <td>balancer.eth</td>\n      <td>[BIP-33] Orb Marketing Budget Proposal for the...</td>\n      <td>0x797467e0b451a49773cfea97359a32ab880caee688d1...</td>\n      <td># Overview\\n\\nThis proposal aims to continue B...</td>\n      <td>1.754555e+06</td>\n      <td>Yes, let's do it</td>\n      <td>No, this is not the way</td>\n      <td>Abstain</td>\n      <td>None</td>\n      <td>None</td>\n    </tr>\n    <tr>\n      <th>6</th>\n      <td>balancer.eth</td>\n      <td>[BIP-31] Authorize the Batch Relayer v3</td>\n      <td>0xf354daf0ed08373938b30da9e47e8814fd8922881eb6...</td>\n      <td>## Motivation\\n\\nFor a refresher on what the B...</td>\n      <td>1.266563e+06</td>\n      <td>Yes, let's do it</td>\n      <td>No, this is not the way</td>\n      <td>None</td>\n      <td>None</td>\n      <td>None</td>\n    </tr>\n    <tr>\n      <th>7</th>\n      <td>balancer.eth</td>\n      <td>[BIP-30] Purge Unused Gauges</td>\n      <td>0x12c8fd18c644c8c230b673fc468a22f93cd28ff3526b...</td>\n      <td>## Motivation\\n\\nBalancer currently has 50+ ac...</td>\n      <td>3.025596e+06</td>\n      <td>Yes, let's do it</td>\n      <td>No, this is not the way</td>\n      <td>None</td>\n      <td>None</td>\n      <td>None</td>\n    </tr>\n    <tr>\n      <th>8</th>\n      <td>balancer.eth</td>\n      <td>[BIP-29] Introduce GaugeAdder v2</td>\n      <td>0xe1e42fd73a2d734d78a65e514a6996c785e90bc82a2e...</td>\n      <td>## Motivation\\n\\nThe [GaugeAdder](https://ethe...</td>\n      <td>1.352403e+06</td>\n      <td>Yes, let's do it</td>\n      <td>No, this is not the way</td>\n      <td>None</td>\n      <td>None</td>\n      <td>None</td>\n    </tr>\n    <tr>\n      <th>9</th>\n      <td>balancer.eth</td>\n      <td>[BIP-28] Kill CREAM/WETH Gauge</td>\n      <td>0xedb78d2d1a7a6d0e28ecac1094840b9a5be0384fcbf7...</td>\n      <td>### Motivation\\n\\nSince the [approval of the C...</td>\n      <td>3.683465e+06</td>\n      <td>Yes, let's do it</td>\n      <td>No, this is not the way</td>\n      <td>None</td>\n      <td>None</td>\n      <td>None</td>\n    </tr>\n  </tbody>\n</table>\n</div>"
     },
     "execution_count": 22,
     "metadata": {},
     "output_type": "execute_result"
    }
   ],
   "source": [
    "#let's remove duplicate rows the easy way, and add the name of the DAO to the table\n",
    "olympus_governance_view_clean = olympus_governance_view.copy(deep=True)\n",
    "olympus_governance_view_clean.insert(0, 'DAO', spacename)\n",
    "olympus_governance_view_clean.head(10)"
   ],
   "metadata": {
    "collapsed": false,
    "pycharm": {
     "name": "#%%\n"
    }
   }
  },
  {
   "cell_type": "code",
   "execution_count": 23,
   "outputs": [],
   "source": [
    "path =file+'/'+spacename+'_proposals_table_'+str(date.today().strftime(\"%b-%d-%Y\"))+'_'+str(len(olympus_governance_view_clean))+'_proposals.csv'\n",
    "olympus_governance_view_clean.to_csv(path, index = False)"
   ],
   "metadata": {
    "collapsed": false,
    "pycharm": {
     "name": "#%%\n"
    }
   }
  },
  {
   "cell_type": "code",
   "execution_count": 24,
   "outputs": [
    {
     "data": {
      "text/plain": "178"
     },
     "execution_count": 24,
     "metadata": {},
     "output_type": "execute_result"
    }
   ],
   "source": [
    "total_proposals = len(olympus_governance_view_clean)\n",
    "total_proposals"
   ],
   "metadata": {
    "collapsed": false,
    "pycharm": {
     "name": "#%%\n"
    }
   }
  },
  {
   "cell_type": "code",
   "execution_count": 25,
   "outputs": [
    {
     "data": {
      "text/plain": "'0x3a2cd227ab45ce9773d8f83f876035afc3267f31b6a6de20ee8f58e7cbb7e978'"
     },
     "execution_count": 25,
     "metadata": {},
     "output_type": "execute_result"
    }
   ],
   "source": [
    "proposal_id = olympus_governance_view_clean.iloc[0,2]\n",
    "proposal_id"
   ],
   "metadata": {
    "collapsed": false,
    "pycharm": {
     "name": "#%%\n"
    }
   }
  },
  {
   "cell_type": "code",
   "execution_count": 26,
   "outputs": [],
   "source": [
    "vote_tracker = snapshot.Query.votes(\n",
    "orderBy = 'created',\n",
    "orderDirection='desc',\n",
    "first=10000,\n",
    "where=[\n",
    "  snapshot.Vote.proposal == proposal_id\n",
    "]\n",
    ")"
   ],
   "metadata": {
    "collapsed": false,
    "pycharm": {
     "name": "#%%\n"
    }
   }
  },
  {
   "cell_type": "code",
   "execution_count": 27,
   "outputs": [],
   "source": [
    "voting_snapshots_list = sg.query_df([\n",
    "    vote_tracker.id,\n",
    "    vote_tracker.voter,\n",
    "    vote_tracker.created,\n",
    "    vote_tracker.choice,\n",
    "    vote_tracker.vp\n",
    "])"
   ],
   "metadata": {
    "collapsed": false,
    "pycharm": {
     "name": "#%%\n"
    }
   }
  },
  {
   "cell_type": "code",
   "execution_count": 28,
   "outputs": [
    {
     "data": {
      "text/plain": "                                            votes_id  \\\n0  0x5e9a19bef83a56ea822173d00e13af9898ec3825c5ef...   \n1  0xb6b7555be488139856e49d7ce1196a5f24cbef7ec20a...   \n2  0xd0da7be355e27a4e4ee2e7deccdfe576c6c14b2afdc6...   \n3  0xdd73428201e41bf549ed92c08fe85342c8f49fcca75e...   \n4  0xdeb0a9fa9371b0042c66faa208e97a631927d253fc29...   \n5  0xbc669244513040ffd5ea8e219b7f1219bd80d08b228d...   \n6  0xa642dc928320f1818b03d067d35f7f77ea7a1adffef7...   \n7  0x18c53a2d9037e3e0d8ecec428095c1ce4d80f65ccaa2...   \n8  0x4e5f15745897c0a360965afd69a5884e5d8a1835ecc6...   \n9  0x8bc79dba16ade685cd60676ad7918cd5a35cd3831d91...   \n\n                                  votes_voter  votes_created  votes_choice  \\\n0  0x73C91af57C657DfD05a31DAcA7Bff1aEb5754629     1659288595             1   \n1  0x3f182Ba493f8Dc5cF6F713C41F9A2cC96062Ed1d     1659283888             1   \n2  0x41D59Fb5463b41b714D69175CBc4A66a983F6812     1659283207             1   \n3  0x30De4047b8dE74F011E3D8337079E19fAfD508a1     1659282930             1   \n4  0xF01Cc7154e255D20489E091a5aEA10Bc136696a8     1659282096             1   \n5  0xf0CF2338eA5a498bC6C30976Fc39660d23509468     1659282069             1   \n6  0x01F92621aDDBD8B688FE6539F6a69a0F892502eC     1659281321             1   \n7  0xE3ba5e216Ed8156d3De3524ffEc7Bb14056D6C84     1659281020             1   \n8  0x64cc60a9F6F97ddCb8ac1378dA9390b85Be6dA37     1659280234             1   \n9  0x5244736b3A8F898149aE33f013126A20cE7abc62     1659279109             1   \n\n       votes_vp  \n0    581.009529  \n1  24409.206207  \n2      1.085216  \n3      2.273754  \n4   5034.366758  \n5   1561.314430  \n6      2.351608  \n7      1.774989  \n8      0.000000  \n9      0.839664  ",
      "text/html": "<div>\n<style scoped>\n    .dataframe tbody tr th:only-of-type {\n        vertical-align: middle;\n    }\n\n    .dataframe tbody tr th {\n        vertical-align: top;\n    }\n\n    .dataframe thead th {\n        text-align: right;\n    }\n</style>\n<table border=\"1\" class=\"dataframe\">\n  <thead>\n    <tr style=\"text-align: right;\">\n      <th></th>\n      <th>votes_id</th>\n      <th>votes_voter</th>\n      <th>votes_created</th>\n      <th>votes_choice</th>\n      <th>votes_vp</th>\n    </tr>\n  </thead>\n  <tbody>\n    <tr>\n      <th>0</th>\n      <td>0x5e9a19bef83a56ea822173d00e13af9898ec3825c5ef...</td>\n      <td>0x73C91af57C657DfD05a31DAcA7Bff1aEb5754629</td>\n      <td>1659288595</td>\n      <td>1</td>\n      <td>581.009529</td>\n    </tr>\n    <tr>\n      <th>1</th>\n      <td>0xb6b7555be488139856e49d7ce1196a5f24cbef7ec20a...</td>\n      <td>0x3f182Ba493f8Dc5cF6F713C41F9A2cC96062Ed1d</td>\n      <td>1659283888</td>\n      <td>1</td>\n      <td>24409.206207</td>\n    </tr>\n    <tr>\n      <th>2</th>\n      <td>0xd0da7be355e27a4e4ee2e7deccdfe576c6c14b2afdc6...</td>\n      <td>0x41D59Fb5463b41b714D69175CBc4A66a983F6812</td>\n      <td>1659283207</td>\n      <td>1</td>\n      <td>1.085216</td>\n    </tr>\n    <tr>\n      <th>3</th>\n      <td>0xdd73428201e41bf549ed92c08fe85342c8f49fcca75e...</td>\n      <td>0x30De4047b8dE74F011E3D8337079E19fAfD508a1</td>\n      <td>1659282930</td>\n      <td>1</td>\n      <td>2.273754</td>\n    </tr>\n    <tr>\n      <th>4</th>\n      <td>0xdeb0a9fa9371b0042c66faa208e97a631927d253fc29...</td>\n      <td>0xF01Cc7154e255D20489E091a5aEA10Bc136696a8</td>\n      <td>1659282096</td>\n      <td>1</td>\n      <td>5034.366758</td>\n    </tr>\n    <tr>\n      <th>5</th>\n      <td>0xbc669244513040ffd5ea8e219b7f1219bd80d08b228d...</td>\n      <td>0xf0CF2338eA5a498bC6C30976Fc39660d23509468</td>\n      <td>1659282069</td>\n      <td>1</td>\n      <td>1561.314430</td>\n    </tr>\n    <tr>\n      <th>6</th>\n      <td>0xa642dc928320f1818b03d067d35f7f77ea7a1adffef7...</td>\n      <td>0x01F92621aDDBD8B688FE6539F6a69a0F892502eC</td>\n      <td>1659281321</td>\n      <td>1</td>\n      <td>2.351608</td>\n    </tr>\n    <tr>\n      <th>7</th>\n      <td>0x18c53a2d9037e3e0d8ecec428095c1ce4d80f65ccaa2...</td>\n      <td>0xE3ba5e216Ed8156d3De3524ffEc7Bb14056D6C84</td>\n      <td>1659281020</td>\n      <td>1</td>\n      <td>1.774989</td>\n    </tr>\n    <tr>\n      <th>8</th>\n      <td>0x4e5f15745897c0a360965afd69a5884e5d8a1835ecc6...</td>\n      <td>0x64cc60a9F6F97ddCb8ac1378dA9390b85Be6dA37</td>\n      <td>1659280234</td>\n      <td>1</td>\n      <td>0.000000</td>\n    </tr>\n    <tr>\n      <th>9</th>\n      <td>0x8bc79dba16ade685cd60676ad7918cd5a35cd3831d91...</td>\n      <td>0x5244736b3A8F898149aE33f013126A20cE7abc62</td>\n      <td>1659279109</td>\n      <td>1</td>\n      <td>0.839664</td>\n    </tr>\n  </tbody>\n</table>\n</div>"
     },
     "execution_count": 28,
     "metadata": {},
     "output_type": "execute_result"
    }
   ],
   "source": [
    "voting_snapshots_list.head(10)"
   ],
   "metadata": {
    "collapsed": false,
    "pycharm": {
     "name": "#%%\n"
    }
   }
  },
  {
   "cell_type": "code",
   "execution_count": 29,
   "outputs": [
    {
     "name": "stdout",
     "output_type": "stream",
     "text": [
      "52894  records\n"
     ]
    }
   ],
   "source": [
    "x=0\n",
    "while x <total_proposals:\n",
    "    proposal_id = olympus_governance_view_clean.iloc[x,2]\n",
    "\n",
    "    vote_tracker = snapshot.Query.votes(\n",
    "    orderBy = 'created',\n",
    "    orderDirection='desc',\n",
    "    first=10000,\n",
    "    where=[\n",
    "      snapshot.Vote.proposal == proposal_id\n",
    "    ]\n",
    "    )\n",
    "    voting_snapshots = sg.query_df([\n",
    "    vote_tracker.id,\n",
    "    vote_tracker.voter,\n",
    "    vote_tracker.created,\n",
    "    vote_tracker.choice,\n",
    "    vote_tracker.vp\n",
    "    ])\n",
    "\n",
    "    voting_snapshots['Proposal'] = proposal_id\n",
    "    voting_snapshots_list=pd.concat([voting_snapshots_list, voting_snapshots])\n",
    "\n",
    "    x=x+1\n",
    "    progress = 100*(round(x/total_proposals,0))\n",
    "    ##clear_output(wait=True)\n",
    "\n",
    "print(len(voting_snapshots_list),' records')"
   ],
   "metadata": {
    "collapsed": false,
    "pycharm": {
     "name": "#%%\n"
    }
   }
  },
  {
   "cell_type": "code",
   "execution_count": 30,
   "outputs": [],
   "source": [
    "#spit out the file\n",
    "path =file+'/'+spacename+'_voting_snapshots_list_'+str(date.today().strftime(\"%b-%d-%Y\"))+'_'+str(len(olympus_governance_view_clean))+'.csv'\n",
    "voting_snapshots_list.to_csv(path, index = False)"
   ],
   "metadata": {
    "collapsed": false,
    "pycharm": {
     "name": "#%%\n"
    }
   }
  },
  {
   "cell_type": "code",
   "execution_count": 31,
   "outputs": [
    {
     "data": {
      "text/plain": "                                            votes_id  \\\n0  0x5e9a19bef83a56ea822173d00e13af9898ec3825c5ef...   \n1  0xb6b7555be488139856e49d7ce1196a5f24cbef7ec20a...   \n2  0xd0da7be355e27a4e4ee2e7deccdfe576c6c14b2afdc6...   \n3  0xdd73428201e41bf549ed92c08fe85342c8f49fcca75e...   \n4  0xdeb0a9fa9371b0042c66faa208e97a631927d253fc29...   \n5  0xbc669244513040ffd5ea8e219b7f1219bd80d08b228d...   \n6  0xa642dc928320f1818b03d067d35f7f77ea7a1adffef7...   \n7  0x18c53a2d9037e3e0d8ecec428095c1ce4d80f65ccaa2...   \n8  0x4e5f15745897c0a360965afd69a5884e5d8a1835ecc6...   \n9  0x8bc79dba16ade685cd60676ad7918cd5a35cd3831d91...   \n\n                                  votes_voter  votes_created votes_choice  \\\n0  0x73C91af57C657DfD05a31DAcA7Bff1aEb5754629     1659288595            1   \n1  0x3f182Ba493f8Dc5cF6F713C41F9A2cC96062Ed1d     1659283888            1   \n2  0x41D59Fb5463b41b714D69175CBc4A66a983F6812     1659283207            1   \n3  0x30De4047b8dE74F011E3D8337079E19fAfD508a1     1659282930            1   \n4  0xF01Cc7154e255D20489E091a5aEA10Bc136696a8     1659282096            1   \n5  0xf0CF2338eA5a498bC6C30976Fc39660d23509468     1659282069            1   \n6  0x01F92621aDDBD8B688FE6539F6a69a0F892502eC     1659281321            1   \n7  0xE3ba5e216Ed8156d3De3524ffEc7Bb14056D6C84     1659281020            1   \n8  0x64cc60a9F6F97ddCb8ac1378dA9390b85Be6dA37     1659280234            1   \n9  0x5244736b3A8F898149aE33f013126A20cE7abc62     1659279109            1   \n\n       votes_vp                                           Proposal  \\\n0    581.009529  0x3a2cd227ab45ce9773d8f83f876035afc3267f31b6a6...   \n1  24409.206207  0x3a2cd227ab45ce9773d8f83f876035afc3267f31b6a6...   \n2      1.085216  0x3a2cd227ab45ce9773d8f83f876035afc3267f31b6a6...   \n3      2.273754  0x3a2cd227ab45ce9773d8f83f876035afc3267f31b6a6...   \n4   5034.366758  0x3a2cd227ab45ce9773d8f83f876035afc3267f31b6a6...   \n5   1561.314430  0x3a2cd227ab45ce9773d8f83f876035afc3267f31b6a6...   \n6      2.351608  0x3a2cd227ab45ce9773d8f83f876035afc3267f31b6a6...   \n7      1.774989  0x3a2cd227ab45ce9773d8f83f876035afc3267f31b6a6...   \n8      0.000000  0x3a2cd227ab45ce9773d8f83f876035afc3267f31b6a6...   \n9      0.839664  0x3a2cd227ab45ce9773d8f83f876035afc3267f31b6a6...   \n\n            DAO                             proposals_title  \\\n0  balancer.eth  [BIP-30] Purge Unused Gauges [second vote]   \n1  balancer.eth  [BIP-30] Purge Unused Gauges [second vote]   \n2  balancer.eth  [BIP-30] Purge Unused Gauges [second vote]   \n3  balancer.eth  [BIP-30] Purge Unused Gauges [second vote]   \n4  balancer.eth  [BIP-30] Purge Unused Gauges [second vote]   \n5  balancer.eth  [BIP-30] Purge Unused Gauges [second vote]   \n6  balancer.eth  [BIP-30] Purge Unused Gauges [second vote]   \n7  balancer.eth  [BIP-30] Purge Unused Gauges [second vote]   \n8  balancer.eth  [BIP-30] Purge Unused Gauges [second vote]   \n9  balancer.eth  [BIP-30] Purge Unused Gauges [second vote]   \n\n                                        proposals_id  proposals_scores_total  \\\n0  0x3a2cd227ab45ce9773d8f83f876035afc3267f31b6a6...            2.313253e+06   \n1  0x3a2cd227ab45ce9773d8f83f876035afc3267f31b6a6...            2.313253e+06   \n2  0x3a2cd227ab45ce9773d8f83f876035afc3267f31b6a6...            2.313253e+06   \n3  0x3a2cd227ab45ce9773d8f83f876035afc3267f31b6a6...            2.313253e+06   \n4  0x3a2cd227ab45ce9773d8f83f876035afc3267f31b6a6...            2.313253e+06   \n5  0x3a2cd227ab45ce9773d8f83f876035afc3267f31b6a6...            2.313253e+06   \n6  0x3a2cd227ab45ce9773d8f83f876035afc3267f31b6a6...            2.313253e+06   \n7  0x3a2cd227ab45ce9773d8f83f876035afc3267f31b6a6...            2.313253e+06   \n8  0x3a2cd227ab45ce9773d8f83f876035afc3267f31b6a6...            2.313253e+06   \n9  0x3a2cd227ab45ce9773d8f83f876035afc3267f31b6a6...            2.313253e+06   \n\n                  0                        1     2     3     4  \n0  Yes, let's do it  No, this is not the way  None  None  None  \n1  Yes, let's do it  No, this is not the way  None  None  None  \n2  Yes, let's do it  No, this is not the way  None  None  None  \n3  Yes, let's do it  No, this is not the way  None  None  None  \n4  Yes, let's do it  No, this is not the way  None  None  None  \n5  Yes, let's do it  No, this is not the way  None  None  None  \n6  Yes, let's do it  No, this is not the way  None  None  None  \n7  Yes, let's do it  No, this is not the way  None  None  None  \n8  Yes, let's do it  No, this is not the way  None  None  None  \n9  Yes, let's do it  No, this is not the way  None  None  None  ",
      "text/html": "<div>\n<style scoped>\n    .dataframe tbody tr th:only-of-type {\n        vertical-align: middle;\n    }\n\n    .dataframe tbody tr th {\n        vertical-align: top;\n    }\n\n    .dataframe thead th {\n        text-align: right;\n    }\n</style>\n<table border=\"1\" class=\"dataframe\">\n  <thead>\n    <tr style=\"text-align: right;\">\n      <th></th>\n      <th>votes_id</th>\n      <th>votes_voter</th>\n      <th>votes_created</th>\n      <th>votes_choice</th>\n      <th>votes_vp</th>\n      <th>Proposal</th>\n      <th>DAO</th>\n      <th>proposals_title</th>\n      <th>proposals_id</th>\n      <th>proposals_scores_total</th>\n      <th>0</th>\n      <th>1</th>\n      <th>2</th>\n      <th>3</th>\n      <th>4</th>\n    </tr>\n  </thead>\n  <tbody>\n    <tr>\n      <th>0</th>\n      <td>0x5e9a19bef83a56ea822173d00e13af9898ec3825c5ef...</td>\n      <td>0x73C91af57C657DfD05a31DAcA7Bff1aEb5754629</td>\n      <td>1659288595</td>\n      <td>1</td>\n      <td>581.009529</td>\n      <td>0x3a2cd227ab45ce9773d8f83f876035afc3267f31b6a6...</td>\n      <td>balancer.eth</td>\n      <td>[BIP-30] Purge Unused Gauges [second vote]</td>\n      <td>0x3a2cd227ab45ce9773d8f83f876035afc3267f31b6a6...</td>\n      <td>2.313253e+06</td>\n      <td>Yes, let's do it</td>\n      <td>No, this is not the way</td>\n      <td>None</td>\n      <td>None</td>\n      <td>None</td>\n    </tr>\n    <tr>\n      <th>1</th>\n      <td>0xb6b7555be488139856e49d7ce1196a5f24cbef7ec20a...</td>\n      <td>0x3f182Ba493f8Dc5cF6F713C41F9A2cC96062Ed1d</td>\n      <td>1659283888</td>\n      <td>1</td>\n      <td>24409.206207</td>\n      <td>0x3a2cd227ab45ce9773d8f83f876035afc3267f31b6a6...</td>\n      <td>balancer.eth</td>\n      <td>[BIP-30] Purge Unused Gauges [second vote]</td>\n      <td>0x3a2cd227ab45ce9773d8f83f876035afc3267f31b6a6...</td>\n      <td>2.313253e+06</td>\n      <td>Yes, let's do it</td>\n      <td>No, this is not the way</td>\n      <td>None</td>\n      <td>None</td>\n      <td>None</td>\n    </tr>\n    <tr>\n      <th>2</th>\n      <td>0xd0da7be355e27a4e4ee2e7deccdfe576c6c14b2afdc6...</td>\n      <td>0x41D59Fb5463b41b714D69175CBc4A66a983F6812</td>\n      <td>1659283207</td>\n      <td>1</td>\n      <td>1.085216</td>\n      <td>0x3a2cd227ab45ce9773d8f83f876035afc3267f31b6a6...</td>\n      <td>balancer.eth</td>\n      <td>[BIP-30] Purge Unused Gauges [second vote]</td>\n      <td>0x3a2cd227ab45ce9773d8f83f876035afc3267f31b6a6...</td>\n      <td>2.313253e+06</td>\n      <td>Yes, let's do it</td>\n      <td>No, this is not the way</td>\n      <td>None</td>\n      <td>None</td>\n      <td>None</td>\n    </tr>\n    <tr>\n      <th>3</th>\n      <td>0xdd73428201e41bf549ed92c08fe85342c8f49fcca75e...</td>\n      <td>0x30De4047b8dE74F011E3D8337079E19fAfD508a1</td>\n      <td>1659282930</td>\n      <td>1</td>\n      <td>2.273754</td>\n      <td>0x3a2cd227ab45ce9773d8f83f876035afc3267f31b6a6...</td>\n      <td>balancer.eth</td>\n      <td>[BIP-30] Purge Unused Gauges [second vote]</td>\n      <td>0x3a2cd227ab45ce9773d8f83f876035afc3267f31b6a6...</td>\n      <td>2.313253e+06</td>\n      <td>Yes, let's do it</td>\n      <td>No, this is not the way</td>\n      <td>None</td>\n      <td>None</td>\n      <td>None</td>\n    </tr>\n    <tr>\n      <th>4</th>\n      <td>0xdeb0a9fa9371b0042c66faa208e97a631927d253fc29...</td>\n      <td>0xF01Cc7154e255D20489E091a5aEA10Bc136696a8</td>\n      <td>1659282096</td>\n      <td>1</td>\n      <td>5034.366758</td>\n      <td>0x3a2cd227ab45ce9773d8f83f876035afc3267f31b6a6...</td>\n      <td>balancer.eth</td>\n      <td>[BIP-30] Purge Unused Gauges [second vote]</td>\n      <td>0x3a2cd227ab45ce9773d8f83f876035afc3267f31b6a6...</td>\n      <td>2.313253e+06</td>\n      <td>Yes, let's do it</td>\n      <td>No, this is not the way</td>\n      <td>None</td>\n      <td>None</td>\n      <td>None</td>\n    </tr>\n    <tr>\n      <th>5</th>\n      <td>0xbc669244513040ffd5ea8e219b7f1219bd80d08b228d...</td>\n      <td>0xf0CF2338eA5a498bC6C30976Fc39660d23509468</td>\n      <td>1659282069</td>\n      <td>1</td>\n      <td>1561.314430</td>\n      <td>0x3a2cd227ab45ce9773d8f83f876035afc3267f31b6a6...</td>\n      <td>balancer.eth</td>\n      <td>[BIP-30] Purge Unused Gauges [second vote]</td>\n      <td>0x3a2cd227ab45ce9773d8f83f876035afc3267f31b6a6...</td>\n      <td>2.313253e+06</td>\n      <td>Yes, let's do it</td>\n      <td>No, this is not the way</td>\n      <td>None</td>\n      <td>None</td>\n      <td>None</td>\n    </tr>\n    <tr>\n      <th>6</th>\n      <td>0xa642dc928320f1818b03d067d35f7f77ea7a1adffef7...</td>\n      <td>0x01F92621aDDBD8B688FE6539F6a69a0F892502eC</td>\n      <td>1659281321</td>\n      <td>1</td>\n      <td>2.351608</td>\n      <td>0x3a2cd227ab45ce9773d8f83f876035afc3267f31b6a6...</td>\n      <td>balancer.eth</td>\n      <td>[BIP-30] Purge Unused Gauges [second vote]</td>\n      <td>0x3a2cd227ab45ce9773d8f83f876035afc3267f31b6a6...</td>\n      <td>2.313253e+06</td>\n      <td>Yes, let's do it</td>\n      <td>No, this is not the way</td>\n      <td>None</td>\n      <td>None</td>\n      <td>None</td>\n    </tr>\n    <tr>\n      <th>7</th>\n      <td>0x18c53a2d9037e3e0d8ecec428095c1ce4d80f65ccaa2...</td>\n      <td>0xE3ba5e216Ed8156d3De3524ffEc7Bb14056D6C84</td>\n      <td>1659281020</td>\n      <td>1</td>\n      <td>1.774989</td>\n      <td>0x3a2cd227ab45ce9773d8f83f876035afc3267f31b6a6...</td>\n      <td>balancer.eth</td>\n      <td>[BIP-30] Purge Unused Gauges [second vote]</td>\n      <td>0x3a2cd227ab45ce9773d8f83f876035afc3267f31b6a6...</td>\n      <td>2.313253e+06</td>\n      <td>Yes, let's do it</td>\n      <td>No, this is not the way</td>\n      <td>None</td>\n      <td>None</td>\n      <td>None</td>\n    </tr>\n    <tr>\n      <th>8</th>\n      <td>0x4e5f15745897c0a360965afd69a5884e5d8a1835ecc6...</td>\n      <td>0x64cc60a9F6F97ddCb8ac1378dA9390b85Be6dA37</td>\n      <td>1659280234</td>\n      <td>1</td>\n      <td>0.000000</td>\n      <td>0x3a2cd227ab45ce9773d8f83f876035afc3267f31b6a6...</td>\n      <td>balancer.eth</td>\n      <td>[BIP-30] Purge Unused Gauges [second vote]</td>\n      <td>0x3a2cd227ab45ce9773d8f83f876035afc3267f31b6a6...</td>\n      <td>2.313253e+06</td>\n      <td>Yes, let's do it</td>\n      <td>No, this is not the way</td>\n      <td>None</td>\n      <td>None</td>\n      <td>None</td>\n    </tr>\n    <tr>\n      <th>9</th>\n      <td>0x8bc79dba16ade685cd60676ad7918cd5a35cd3831d91...</td>\n      <td>0x5244736b3A8F898149aE33f013126A20cE7abc62</td>\n      <td>1659279109</td>\n      <td>1</td>\n      <td>0.839664</td>\n      <td>0x3a2cd227ab45ce9773d8f83f876035afc3267f31b6a6...</td>\n      <td>balancer.eth</td>\n      <td>[BIP-30] Purge Unused Gauges [second vote]</td>\n      <td>0x3a2cd227ab45ce9773d8f83f876035afc3267f31b6a6...</td>\n      <td>2.313253e+06</td>\n      <td>Yes, let's do it</td>\n      <td>No, this is not the way</td>\n      <td>None</td>\n      <td>None</td>\n      <td>None</td>\n    </tr>\n  </tbody>\n</table>\n</div>"
     },
     "execution_count": 31,
     "metadata": {},
     "output_type": "execute_result"
    }
   ],
   "source": [
    "#I join these two tables to create my charts as it makes life easier. We are going to build the charts here now, so here we go\n",
    "governance_data = pd.merge(voting_snapshots_list, olympus_governance_view_clean, how='inner', left_on='Proposal', right_on='proposals_id')\n",
    "del governance_data[\"proposals_body\"]\n",
    "governance_data.head(10)"
   ],
   "metadata": {
    "collapsed": false,
    "pycharm": {
     "name": "#%%\n"
    }
   }
  },
  {
   "cell_type": "code",
   "execution_count": 32,
   "outputs": [],
   "source": [
    "#Spit out the file, but save it in its own folder for easy access\n",
    "final_file = file+'\\\\'+'final'\n",
    "final_raw_file = final_file\n",
    "os.makedirs(final_raw_file, exist_ok=True)\n",
    "final_path =file+'\\\\'+spacename+'governance_data_'+str(date.today().strftime(\"%b-%d-%Y\"))+'_'+str(len(governance_data))+'.csv'\n",
    "governance_data.to_csv(final_path, index = False)"
   ],
   "metadata": {
    "collapsed": false,
    "pycharm": {
     "name": "#%%\n"
    }
   }
  },
  {
   "cell_type": "code",
   "execution_count": 33,
   "outputs": [
    {
     "data": {
      "text/plain": "            DAO                                           Proposal  \\\n0  balancer.eth  0x00305705cf9c57b648729494c07224c5902bda5f1db5...   \n1  balancer.eth  0x00305705cf9c57b648729494c07224c5902bda5f1db5...   \n2  balancer.eth  0x00305705cf9c57b648729494c07224c5902bda5f1db5...   \n3  balancer.eth  0x00305705cf9c57b648729494c07224c5902bda5f1db5...   \n4  balancer.eth  0x00305705cf9c57b648729494c07224c5902bda5f1db5...   \n5  balancer.eth  0x00305705cf9c57b648729494c07224c5902bda5f1db5...   \n6  balancer.eth  0x00305705cf9c57b648729494c07224c5902bda5f1db5...   \n7  balancer.eth  0x00305705cf9c57b648729494c07224c5902bda5f1db5...   \n8  balancer.eth  0x00305705cf9c57b648729494c07224c5902bda5f1db5...   \n9  balancer.eth  0x00305705cf9c57b648729494c07224c5902bda5f1db5...   \n\n                                  votes_voter votes_choice      votes_vp  \\\n0  0x121111a0b0C09Ceca66C7a8bB5b4B3098572a0eA            1  98696.185223   \n1  0xFE73B5a595405baC396C329C674571a7a3DB528c            1  66652.809619   \n2  0x4f58985B75EeC8f14C536878A19EAdF4a1960D6c            1  24236.632556   \n3  0x3b96f42780993619e4b47b30387DEBbc98934220            1  20215.109863   \n4  0xD5431FecbB14f20f8Ee68360b586D84D589F9f77            1  14246.906972   \n5  0xE67dE4aeD51B94E6462c3D26C4d28b4e545d7638            1   9717.147424   \n6  0x0700D5329642fEa897b4B09CE3675bA131de154D            1   6364.246467   \n7  0xFeFe8736B8DEbEb1592DaC993c81e002aF8C34e9            1   6133.969782   \n8  0x0BF93eA5a1FA4CE3Dd22C7ffd314462d3869777F            1   3471.958926   \n9  0xc6339709Cb26e8655595c2273886ec6a535511F2            1   2831.423960   \n\n   votes_created  cumulative_vp      total_vp  percentage_of_total_vp  \\\n0     1635715619   98696.185223  271015.21336                0.364172   \n1     1635641635  165348.994842  271015.21336                0.245938   \n2     1635543121  189585.627398  271015.21336                0.089429   \n3     1635543479  209800.737262  271015.21336                0.074590   \n4     1635578481  224047.644233  271015.21336                0.052569   \n5     1635543865  233764.791657  271015.21336                0.035855   \n6     1635575757  240129.038124  271015.21336                0.023483   \n7     1635554026  246263.007906  271015.21336                0.022633   \n8     1635738332  249734.966831  271015.21336                0.012811   \n9     1635574365  252566.390791  271015.21336                0.010447   \n\n   cum_percentage_of_total_vp  cum_percentage_of_total_vp_stepped  \\\n0                    0.364172                                 0.0   \n1                    0.610110                                 1.0   \n2                    0.699539                                 1.0   \n3                    0.774129                                 1.0   \n4                    0.826698                                 1.0   \n5                    0.862552                                 1.0   \n6                    0.886035                                 1.0   \n7                    0.908669                                 1.0   \n8                    0.921480                                 1.0   \n9                    0.931927                                 1.0   \n\n   proposal_voter_rank  total_voters  percentage_voters_counted  \\\n0                    1             1                   0.004785   \n1                    2             2                   0.009569   \n2                    3             3                   0.014354   \n3                    4             4                   0.019139   \n4                    5             5                   0.023923   \n5                    6             6                   0.028708   \n6                    7             7                   0.033493   \n7                    8             8                   0.038278   \n8                    9             9                   0.043062   \n9                   10            10                   0.047847   \n\n   percentage_voters_counted_stepped  \n0                                0.0  \n1                                1.0  \n2                                1.0  \n3                                2.0  \n4                                2.0  \n5                                3.0  \n6                                3.0  \n7                                4.0  \n8                                4.0  \n9                                5.0  ",
      "text/html": "<div>\n<style scoped>\n    .dataframe tbody tr th:only-of-type {\n        vertical-align: middle;\n    }\n\n    .dataframe tbody tr th {\n        vertical-align: top;\n    }\n\n    .dataframe thead th {\n        text-align: right;\n    }\n</style>\n<table border=\"1\" class=\"dataframe\">\n  <thead>\n    <tr style=\"text-align: right;\">\n      <th></th>\n      <th>DAO</th>\n      <th>Proposal</th>\n      <th>votes_voter</th>\n      <th>votes_choice</th>\n      <th>votes_vp</th>\n      <th>votes_created</th>\n      <th>cumulative_vp</th>\n      <th>total_vp</th>\n      <th>percentage_of_total_vp</th>\n      <th>cum_percentage_of_total_vp</th>\n      <th>cum_percentage_of_total_vp_stepped</th>\n      <th>proposal_voter_rank</th>\n      <th>total_voters</th>\n      <th>percentage_voters_counted</th>\n      <th>percentage_voters_counted_stepped</th>\n    </tr>\n  </thead>\n  <tbody>\n    <tr>\n      <th>0</th>\n      <td>balancer.eth</td>\n      <td>0x00305705cf9c57b648729494c07224c5902bda5f1db5...</td>\n      <td>0x121111a0b0C09Ceca66C7a8bB5b4B3098572a0eA</td>\n      <td>1</td>\n      <td>98696.185223</td>\n      <td>1635715619</td>\n      <td>98696.185223</td>\n      <td>271015.21336</td>\n      <td>0.364172</td>\n      <td>0.364172</td>\n      <td>0.0</td>\n      <td>1</td>\n      <td>1</td>\n      <td>0.004785</td>\n      <td>0.0</td>\n    </tr>\n    <tr>\n      <th>1</th>\n      <td>balancer.eth</td>\n      <td>0x00305705cf9c57b648729494c07224c5902bda5f1db5...</td>\n      <td>0xFE73B5a595405baC396C329C674571a7a3DB528c</td>\n      <td>1</td>\n      <td>66652.809619</td>\n      <td>1635641635</td>\n      <td>165348.994842</td>\n      <td>271015.21336</td>\n      <td>0.245938</td>\n      <td>0.610110</td>\n      <td>1.0</td>\n      <td>2</td>\n      <td>2</td>\n      <td>0.009569</td>\n      <td>1.0</td>\n    </tr>\n    <tr>\n      <th>2</th>\n      <td>balancer.eth</td>\n      <td>0x00305705cf9c57b648729494c07224c5902bda5f1db5...</td>\n      <td>0x4f58985B75EeC8f14C536878A19EAdF4a1960D6c</td>\n      <td>1</td>\n      <td>24236.632556</td>\n      <td>1635543121</td>\n      <td>189585.627398</td>\n      <td>271015.21336</td>\n      <td>0.089429</td>\n      <td>0.699539</td>\n      <td>1.0</td>\n      <td>3</td>\n      <td>3</td>\n      <td>0.014354</td>\n      <td>1.0</td>\n    </tr>\n    <tr>\n      <th>3</th>\n      <td>balancer.eth</td>\n      <td>0x00305705cf9c57b648729494c07224c5902bda5f1db5...</td>\n      <td>0x3b96f42780993619e4b47b30387DEBbc98934220</td>\n      <td>1</td>\n      <td>20215.109863</td>\n      <td>1635543479</td>\n      <td>209800.737262</td>\n      <td>271015.21336</td>\n      <td>0.074590</td>\n      <td>0.774129</td>\n      <td>1.0</td>\n      <td>4</td>\n      <td>4</td>\n      <td>0.019139</td>\n      <td>2.0</td>\n    </tr>\n    <tr>\n      <th>4</th>\n      <td>balancer.eth</td>\n      <td>0x00305705cf9c57b648729494c07224c5902bda5f1db5...</td>\n      <td>0xD5431FecbB14f20f8Ee68360b586D84D589F9f77</td>\n      <td>1</td>\n      <td>14246.906972</td>\n      <td>1635578481</td>\n      <td>224047.644233</td>\n      <td>271015.21336</td>\n      <td>0.052569</td>\n      <td>0.826698</td>\n      <td>1.0</td>\n      <td>5</td>\n      <td>5</td>\n      <td>0.023923</td>\n      <td>2.0</td>\n    </tr>\n    <tr>\n      <th>5</th>\n      <td>balancer.eth</td>\n      <td>0x00305705cf9c57b648729494c07224c5902bda5f1db5...</td>\n      <td>0xE67dE4aeD51B94E6462c3D26C4d28b4e545d7638</td>\n      <td>1</td>\n      <td>9717.147424</td>\n      <td>1635543865</td>\n      <td>233764.791657</td>\n      <td>271015.21336</td>\n      <td>0.035855</td>\n      <td>0.862552</td>\n      <td>1.0</td>\n      <td>6</td>\n      <td>6</td>\n      <td>0.028708</td>\n      <td>3.0</td>\n    </tr>\n    <tr>\n      <th>6</th>\n      <td>balancer.eth</td>\n      <td>0x00305705cf9c57b648729494c07224c5902bda5f1db5...</td>\n      <td>0x0700D5329642fEa897b4B09CE3675bA131de154D</td>\n      <td>1</td>\n      <td>6364.246467</td>\n      <td>1635575757</td>\n      <td>240129.038124</td>\n      <td>271015.21336</td>\n      <td>0.023483</td>\n      <td>0.886035</td>\n      <td>1.0</td>\n      <td>7</td>\n      <td>7</td>\n      <td>0.033493</td>\n      <td>3.0</td>\n    </tr>\n    <tr>\n      <th>7</th>\n      <td>balancer.eth</td>\n      <td>0x00305705cf9c57b648729494c07224c5902bda5f1db5...</td>\n      <td>0xFeFe8736B8DEbEb1592DaC993c81e002aF8C34e9</td>\n      <td>1</td>\n      <td>6133.969782</td>\n      <td>1635554026</td>\n      <td>246263.007906</td>\n      <td>271015.21336</td>\n      <td>0.022633</td>\n      <td>0.908669</td>\n      <td>1.0</td>\n      <td>8</td>\n      <td>8</td>\n      <td>0.038278</td>\n      <td>4.0</td>\n    </tr>\n    <tr>\n      <th>8</th>\n      <td>balancer.eth</td>\n      <td>0x00305705cf9c57b648729494c07224c5902bda5f1db5...</td>\n      <td>0x0BF93eA5a1FA4CE3Dd22C7ffd314462d3869777F</td>\n      <td>1</td>\n      <td>3471.958926</td>\n      <td>1635738332</td>\n      <td>249734.966831</td>\n      <td>271015.21336</td>\n      <td>0.012811</td>\n      <td>0.921480</td>\n      <td>1.0</td>\n      <td>9</td>\n      <td>9</td>\n      <td>0.043062</td>\n      <td>4.0</td>\n    </tr>\n    <tr>\n      <th>9</th>\n      <td>balancer.eth</td>\n      <td>0x00305705cf9c57b648729494c07224c5902bda5f1db5...</td>\n      <td>0xc6339709Cb26e8655595c2273886ec6a535511F2</td>\n      <td>1</td>\n      <td>2831.423960</td>\n      <td>1635574365</td>\n      <td>252566.390791</td>\n      <td>271015.21336</td>\n      <td>0.010447</td>\n      <td>0.931927</td>\n      <td>1.0</td>\n      <td>10</td>\n      <td>10</td>\n      <td>0.047847</td>\n      <td>5.0</td>\n    </tr>\n  </tbody>\n</table>\n</div>"
     },
     "execution_count": 33,
     "metadata": {},
     "output_type": "execute_result"
    }
   ],
   "source": [
    "crunch_data = db.query(\"select \"\n",
    "                           \"Proposal\"\n",
    "                           \",votes_voter \"\n",
    "                           \",votes_choice\"\n",
    "                           \",votes_vp\"\n",
    "                           \",votes_created\"\n",
    "                           \",sum(votes_vp) over (Partition by Proposal  order by votes_vp desc, votes_created asc) as cumulative_vp\"\n",
    "                           \",sum(votes_vp) over (Partition by Proposal) as total_vp\"\n",
    "                           \",(votes_vp::decimal/sum(votes_vp::decimal) over (Partition by Proposal)) as percentage_of_total_vp \"\n",
    "                           \",((sum(votes_vp) over (Partition by Proposal  order by votes_vp desc, votes_created asc))::decimal/sum(votes_vp::decimal) over (Partition by Proposal)) as cum_percentage_of_total_vp \"\n",
    "                       \",round((sum(votes_vp) over (Partition by Proposal  order by votes_vp desc, votes_created asc))::decimal/sum(votes_vp::decimal) over (Partition by Proposal)) as cum_percentage_of_total_vp_stepped \"\n",
    "                           \",row_number() over (Partition by Proposal order by votes_vp desc, votes_created asc) as proposal_voter_rank \"\n",
    "                           \",count(votes_voter) over (Partition by Proposal  order by votes_vp desc, votes_created asc) total_voters \"\n",
    "                           \",(count(*) over (Partition by Proposal  order by votes_vp desc, votes_created asc))::decimal/(count(*) over (Partition by Proposal))::decimal percentage_voters_counted \"\n",
    "                           \",round(100*(count(*) over (Partition by Proposal  order by votes_vp desc, votes_created asc))::decimal/(count(*) over (Partition by Proposal)))::decimal percentage_voters_counted_stepped \"\n",
    "                       \"from \"\n",
    "                       \"    governance_data  \"\n",
    "                       \"\"\n",
    "                       \"Group by \"\n",
    "                       \"    Proposal\"\n",
    "                       \"    ,votes_voter\"\n",
    "                       \"    ,votes_choice\"\n",
    "                       \"    , votes_vp \"\n",
    "                       \"    , votes_created \"\n",
    "                       \"\"\n",
    "                       \"Order by \"\n",
    "                       \"    Proposal, \"\n",
    "                       \"    votes_vp desc \"\n",
    "                       \"    , votes_created asc\"\n",
    "                       \"\").df()\n",
    "\n",
    "\n",
    "crunch_data.insert(0, 'DAO', spacename)\n",
    "crunch_data.head(n=10)\n"
   ],
   "metadata": {
    "collapsed": false,
    "pycharm": {
     "name": "#%%\n"
    }
   }
  },
  {
   "cell_type": "code",
   "execution_count": 34,
   "outputs": [
    {
     "data": {
      "text/plain": "              DAO                                           Proposal  \\\n0    balancer.eth  0x00305705cf9c57b648729494c07224c5902bda5f1db5...   \n1    balancer.eth  0x00761b3668d93e1e5bf81eb29d03b04b8493f493577c...   \n2    balancer.eth  0x00761b3668d93e1e5bf81eb29d03b04b8493f493577c...   \n3    balancer.eth  0x00761b3668d93e1e5bf81eb29d03b04b8493f493577c...   \n4    balancer.eth  0x00a742a0d9f4d776acd61172614f1932926d587d021c...   \n..            ...                                                ...   \n466  balancer.eth     QmfQL7iBcQ5yFVsADdHij5TgYheFkqiJGFQk2xBkkZiJS9   \n467  balancer.eth     QmfQvMzyj2THiLhS6Jx4MSETq7c1D4SCEz9xMyVPGYf1tA   \n468  balancer.eth     QmfQvMzyj2THiLhS6Jx4MSETq7c1D4SCEz9xMyVPGYf1tA   \n469  balancer.eth     QmfQvMzyj2THiLhS6Jx4MSETq7c1D4SCEz9xMyVPGYf1tA   \n470  balancer.eth     QmfQvMzyj2THiLhS6Jx4MSETq7c1D4SCEz9xMyVPGYf1tA   \n\n                                    votes_voter votes_choice      votes_vp  \\\n0    0xFE73B5a595405baC396C329C674571a7a3DB528c            1  66652.809619   \n1    0x36f8A9eBb4479B1b877920b4cE0a11Ee25C29a8b            1  73146.766958   \n2    0x20EADfcaf91BD98674FF8fc341D148E1731576A4            2  61065.633734   \n3    0xff0281256B2A478905B79895c1A2038A679E1751            2  45040.479509   \n4    0x9f74662aD05840Ba35d111930501c617920dD68e            1  23904.781235   \n..                                          ...          ...           ...   \n466  0x4f58985B75EeC8f14C536878A19EAdF4a1960D6c            1  22947.223124   \n467  0x1a249E361F9e6f9b9de4BB528A72e6A1F8345241            1  17228.447829   \n468  0x0154d25120Ed20A516fE43991702e7463c5A6F6e            1  11388.409090   \n469  0xa23F5e6974633D93B3f456D33B336628E6199947            1  11318.206000   \n470  0x3bfE14B758D1cEc88e29C4748C09420b6E4319Db            1  10724.143689   \n\n     votes_created  cumulative_vp       total_vp  percentage_of_total_vp  \\\n0       1635641635  165348.994842  271015.213360                0.245938   \n1       1656652006  158387.214555  467024.315128                0.156623   \n2       1656865491  219452.848289  467024.315128                0.130755   \n3       1656641287  264493.327798  467024.315128                0.096441   \n4       1654784859   54343.756326  133863.951568                0.178575   \n..             ...            ...            ...                     ...   \n466     1631928426  161066.144358  312681.998967                0.073388   \n467     1598131851   41308.763177  147984.702579                0.116420   \n468     1598114004   52697.172267  147984.702579                0.076957   \n469     1598129731   64015.378267  147984.702579                0.076482   \n470     1598123378   74739.521956  147984.702579                0.072468   \n\n     cum_percentage_of_total_vp  cum_percentage_of_total_vp_stepped  \\\n0                      0.610110                                 1.0   \n1                      0.339141                                 0.0   \n2                      0.469896                                 0.0   \n3                      0.566337                                 1.0   \n4                      0.405963                                 0.0   \n..                          ...                                 ...   \n466                    0.515112                                 1.0   \n467                    0.279142                                 0.0   \n468                    0.356099                                 0.0   \n469                    0.432581                                 0.0   \n470                    0.505049                                 1.0   \n\n     proposal_voter_rank  total_voters  percentage_voters_counted  \\\n0                      2             2                   0.009569   \n1                      2             2                   0.028986   \n2                      3             3                   0.043478   \n3                      4             4                   0.057971   \n4                      2             2                   0.031250   \n..                   ...           ...                        ...   \n466                    4             4                   0.018868   \n467                    2             2                   0.036364   \n468                    3             3                   0.054545   \n469                    4             4                   0.072727   \n470                    5             5                   0.090909   \n\n     percentage_voters_counted_stepped  \\\n0                                  1.0   \n1                                  3.0   \n2                                  4.0   \n3                                  6.0   \n4                                  3.0   \n..                                 ...   \n466                                2.0   \n467                                4.0   \n468                                5.0   \n469                                7.0   \n470                                9.0   \n\n                                            Proposal_2  \\\n0    0x00305705cf9c57b648729494c07224c5902bda5f1db5...   \n1    0x00761b3668d93e1e5bf81eb29d03b04b8493f493577c...   \n2    0x00761b3668d93e1e5bf81eb29d03b04b8493f493577c...   \n3    0x00761b3668d93e1e5bf81eb29d03b04b8493f493577c...   \n4    0x00a742a0d9f4d776acd61172614f1932926d587d021c...   \n..                                                 ...   \n466     QmfQL7iBcQ5yFVsADdHij5TgYheFkqiJGFQk2xBkkZiJS9   \n467     QmfQvMzyj2THiLhS6Jx4MSETq7c1D4SCEz9xMyVPGYf1tA   \n468     QmfQvMzyj2THiLhS6Jx4MSETq7c1D4SCEz9xMyVPGYf1tA   \n469     QmfQvMzyj2THiLhS6Jx4MSETq7c1D4SCEz9xMyVPGYf1tA   \n470     QmfQvMzyj2THiLhS6Jx4MSETq7c1D4SCEz9xMyVPGYf1tA   \n\n                                  votes_voter_2  proposal_voter_rank_2  \\\n0    0x121111a0b0C09Ceca66C7a8bB5b4B3098572a0eA                      1   \n1    0x512fce9B07Ce64590849115EE6B32fd40eC0f5F3                      1   \n2    0x36f8A9eBb4479B1b877920b4cE0a11Ee25C29a8b                      2   \n3    0x20EADfcaf91BD98674FF8fc341D148E1731576A4                      3   \n4    0x71506af8e1Bc762B4a7745665595ca07548A944D                      1   \n..                                          ...                    ...   \n466  0x4026b3Da349C2952255Ca9db4F055ea57F4e037C                      3   \n467  0x6E5CCA8A4e4462aE3698465E31F0459aA91A6A2a                      1   \n468  0x1a249E361F9e6f9b9de4BB528A72e6A1F8345241                      2   \n469  0x0154d25120Ed20A516fE43991702e7463c5A6F6e                      3   \n470  0xa23F5e6974633D93B3f456D33B336628E6199947                      4   \n\n     leader_rank  \n0              2  \n1              2  \n2              3  \n3              4  \n4              2  \n..           ...  \n466            4  \n467            2  \n468            3  \n469            4  \n470            5  \n\n[471 rows x 19 columns]",
      "text/html": "<div>\n<style scoped>\n    .dataframe tbody tr th:only-of-type {\n        vertical-align: middle;\n    }\n\n    .dataframe tbody tr th {\n        vertical-align: top;\n    }\n\n    .dataframe thead th {\n        text-align: right;\n    }\n</style>\n<table border=\"1\" class=\"dataframe\">\n  <thead>\n    <tr style=\"text-align: right;\">\n      <th></th>\n      <th>DAO</th>\n      <th>Proposal</th>\n      <th>votes_voter</th>\n      <th>votes_choice</th>\n      <th>votes_vp</th>\n      <th>votes_created</th>\n      <th>cumulative_vp</th>\n      <th>total_vp</th>\n      <th>percentage_of_total_vp</th>\n      <th>cum_percentage_of_total_vp</th>\n      <th>cum_percentage_of_total_vp_stepped</th>\n      <th>proposal_voter_rank</th>\n      <th>total_voters</th>\n      <th>percentage_voters_counted</th>\n      <th>percentage_voters_counted_stepped</th>\n      <th>Proposal_2</th>\n      <th>votes_voter_2</th>\n      <th>proposal_voter_rank_2</th>\n      <th>leader_rank</th>\n    </tr>\n  </thead>\n  <tbody>\n    <tr>\n      <th>0</th>\n      <td>balancer.eth</td>\n      <td>0x00305705cf9c57b648729494c07224c5902bda5f1db5...</td>\n      <td>0xFE73B5a595405baC396C329C674571a7a3DB528c</td>\n      <td>1</td>\n      <td>66652.809619</td>\n      <td>1635641635</td>\n      <td>165348.994842</td>\n      <td>271015.213360</td>\n      <td>0.245938</td>\n      <td>0.610110</td>\n      <td>1.0</td>\n      <td>2</td>\n      <td>2</td>\n      <td>0.009569</td>\n      <td>1.0</td>\n      <td>0x00305705cf9c57b648729494c07224c5902bda5f1db5...</td>\n      <td>0x121111a0b0C09Ceca66C7a8bB5b4B3098572a0eA</td>\n      <td>1</td>\n      <td>2</td>\n    </tr>\n    <tr>\n      <th>1</th>\n      <td>balancer.eth</td>\n      <td>0x00761b3668d93e1e5bf81eb29d03b04b8493f493577c...</td>\n      <td>0x36f8A9eBb4479B1b877920b4cE0a11Ee25C29a8b</td>\n      <td>1</td>\n      <td>73146.766958</td>\n      <td>1656652006</td>\n      <td>158387.214555</td>\n      <td>467024.315128</td>\n      <td>0.156623</td>\n      <td>0.339141</td>\n      <td>0.0</td>\n      <td>2</td>\n      <td>2</td>\n      <td>0.028986</td>\n      <td>3.0</td>\n      <td>0x00761b3668d93e1e5bf81eb29d03b04b8493f493577c...</td>\n      <td>0x512fce9B07Ce64590849115EE6B32fd40eC0f5F3</td>\n      <td>1</td>\n      <td>2</td>\n    </tr>\n    <tr>\n      <th>2</th>\n      <td>balancer.eth</td>\n      <td>0x00761b3668d93e1e5bf81eb29d03b04b8493f493577c...</td>\n      <td>0x20EADfcaf91BD98674FF8fc341D148E1731576A4</td>\n      <td>2</td>\n      <td>61065.633734</td>\n      <td>1656865491</td>\n      <td>219452.848289</td>\n      <td>467024.315128</td>\n      <td>0.130755</td>\n      <td>0.469896</td>\n      <td>0.0</td>\n      <td>3</td>\n      <td>3</td>\n      <td>0.043478</td>\n      <td>4.0</td>\n      <td>0x00761b3668d93e1e5bf81eb29d03b04b8493f493577c...</td>\n      <td>0x36f8A9eBb4479B1b877920b4cE0a11Ee25C29a8b</td>\n      <td>2</td>\n      <td>3</td>\n    </tr>\n    <tr>\n      <th>3</th>\n      <td>balancer.eth</td>\n      <td>0x00761b3668d93e1e5bf81eb29d03b04b8493f493577c...</td>\n      <td>0xff0281256B2A478905B79895c1A2038A679E1751</td>\n      <td>2</td>\n      <td>45040.479509</td>\n      <td>1656641287</td>\n      <td>264493.327798</td>\n      <td>467024.315128</td>\n      <td>0.096441</td>\n      <td>0.566337</td>\n      <td>1.0</td>\n      <td>4</td>\n      <td>4</td>\n      <td>0.057971</td>\n      <td>6.0</td>\n      <td>0x00761b3668d93e1e5bf81eb29d03b04b8493f493577c...</td>\n      <td>0x20EADfcaf91BD98674FF8fc341D148E1731576A4</td>\n      <td>3</td>\n      <td>4</td>\n    </tr>\n    <tr>\n      <th>4</th>\n      <td>balancer.eth</td>\n      <td>0x00a742a0d9f4d776acd61172614f1932926d587d021c...</td>\n      <td>0x9f74662aD05840Ba35d111930501c617920dD68e</td>\n      <td>1</td>\n      <td>23904.781235</td>\n      <td>1654784859</td>\n      <td>54343.756326</td>\n      <td>133863.951568</td>\n      <td>0.178575</td>\n      <td>0.405963</td>\n      <td>0.0</td>\n      <td>2</td>\n      <td>2</td>\n      <td>0.031250</td>\n      <td>3.0</td>\n      <td>0x00a742a0d9f4d776acd61172614f1932926d587d021c...</td>\n      <td>0x71506af8e1Bc762B4a7745665595ca07548A944D</td>\n      <td>1</td>\n      <td>2</td>\n    </tr>\n    <tr>\n      <th>...</th>\n      <td>...</td>\n      <td>...</td>\n      <td>...</td>\n      <td>...</td>\n      <td>...</td>\n      <td>...</td>\n      <td>...</td>\n      <td>...</td>\n      <td>...</td>\n      <td>...</td>\n      <td>...</td>\n      <td>...</td>\n      <td>...</td>\n      <td>...</td>\n      <td>...</td>\n      <td>...</td>\n      <td>...</td>\n      <td>...</td>\n      <td>...</td>\n    </tr>\n    <tr>\n      <th>466</th>\n      <td>balancer.eth</td>\n      <td>QmfQL7iBcQ5yFVsADdHij5TgYheFkqiJGFQk2xBkkZiJS9</td>\n      <td>0x4f58985B75EeC8f14C536878A19EAdF4a1960D6c</td>\n      <td>1</td>\n      <td>22947.223124</td>\n      <td>1631928426</td>\n      <td>161066.144358</td>\n      <td>312681.998967</td>\n      <td>0.073388</td>\n      <td>0.515112</td>\n      <td>1.0</td>\n      <td>4</td>\n      <td>4</td>\n      <td>0.018868</td>\n      <td>2.0</td>\n      <td>QmfQL7iBcQ5yFVsADdHij5TgYheFkqiJGFQk2xBkkZiJS9</td>\n      <td>0x4026b3Da349C2952255Ca9db4F055ea57F4e037C</td>\n      <td>3</td>\n      <td>4</td>\n    </tr>\n    <tr>\n      <th>467</th>\n      <td>balancer.eth</td>\n      <td>QmfQvMzyj2THiLhS6Jx4MSETq7c1D4SCEz9xMyVPGYf1tA</td>\n      <td>0x1a249E361F9e6f9b9de4BB528A72e6A1F8345241</td>\n      <td>1</td>\n      <td>17228.447829</td>\n      <td>1598131851</td>\n      <td>41308.763177</td>\n      <td>147984.702579</td>\n      <td>0.116420</td>\n      <td>0.279142</td>\n      <td>0.0</td>\n      <td>2</td>\n      <td>2</td>\n      <td>0.036364</td>\n      <td>4.0</td>\n      <td>QmfQvMzyj2THiLhS6Jx4MSETq7c1D4SCEz9xMyVPGYf1tA</td>\n      <td>0x6E5CCA8A4e4462aE3698465E31F0459aA91A6A2a</td>\n      <td>1</td>\n      <td>2</td>\n    </tr>\n    <tr>\n      <th>468</th>\n      <td>balancer.eth</td>\n      <td>QmfQvMzyj2THiLhS6Jx4MSETq7c1D4SCEz9xMyVPGYf1tA</td>\n      <td>0x0154d25120Ed20A516fE43991702e7463c5A6F6e</td>\n      <td>1</td>\n      <td>11388.409090</td>\n      <td>1598114004</td>\n      <td>52697.172267</td>\n      <td>147984.702579</td>\n      <td>0.076957</td>\n      <td>0.356099</td>\n      <td>0.0</td>\n      <td>3</td>\n      <td>3</td>\n      <td>0.054545</td>\n      <td>5.0</td>\n      <td>QmfQvMzyj2THiLhS6Jx4MSETq7c1D4SCEz9xMyVPGYf1tA</td>\n      <td>0x1a249E361F9e6f9b9de4BB528A72e6A1F8345241</td>\n      <td>2</td>\n      <td>3</td>\n    </tr>\n    <tr>\n      <th>469</th>\n      <td>balancer.eth</td>\n      <td>QmfQvMzyj2THiLhS6Jx4MSETq7c1D4SCEz9xMyVPGYf1tA</td>\n      <td>0xa23F5e6974633D93B3f456D33B336628E6199947</td>\n      <td>1</td>\n      <td>11318.206000</td>\n      <td>1598129731</td>\n      <td>64015.378267</td>\n      <td>147984.702579</td>\n      <td>0.076482</td>\n      <td>0.432581</td>\n      <td>0.0</td>\n      <td>4</td>\n      <td>4</td>\n      <td>0.072727</td>\n      <td>7.0</td>\n      <td>QmfQvMzyj2THiLhS6Jx4MSETq7c1D4SCEz9xMyVPGYf1tA</td>\n      <td>0x0154d25120Ed20A516fE43991702e7463c5A6F6e</td>\n      <td>3</td>\n      <td>4</td>\n    </tr>\n    <tr>\n      <th>470</th>\n      <td>balancer.eth</td>\n      <td>QmfQvMzyj2THiLhS6Jx4MSETq7c1D4SCEz9xMyVPGYf1tA</td>\n      <td>0x3bfE14B758D1cEc88e29C4748C09420b6E4319Db</td>\n      <td>1</td>\n      <td>10724.143689</td>\n      <td>1598123378</td>\n      <td>74739.521956</td>\n      <td>147984.702579</td>\n      <td>0.072468</td>\n      <td>0.505049</td>\n      <td>1.0</td>\n      <td>5</td>\n      <td>5</td>\n      <td>0.090909</td>\n      <td>9.0</td>\n      <td>QmfQvMzyj2THiLhS6Jx4MSETq7c1D4SCEz9xMyVPGYf1tA</td>\n      <td>0xa23F5e6974633D93B3f456D33B336628E6199947</td>\n      <td>4</td>\n      <td>5</td>\n    </tr>\n  </tbody>\n</table>\n<p>471 rows × 19 columns</p>\n</div>"
     },
     "execution_count": 34,
     "metadata": {},
     "output_type": "execute_result"
    }
   ],
   "source": [
    "#leaders = crunch_data.loc[crunch_data['proposal_voter_rank'] <=3]\n",
    "#leader_count = leaders.votes_voter.nunique()\n",
    "#leader_count\n",
    "#DONT ASK ME WHY THIS DIDNT WORK. HAVE TO DO IT THE UGLY WAY\n",
    "\n",
    "leader_ranks = db.query(\"with leader_ranks as \"\n",
    "                        \"(Select distinct \"\n",
    "                        \"   B.Proposal\"\n",
    "                        \"   ,B.votes_voter\"\n",
    "                        \"   ,B.proposal_voter_rank \"\n",
    "                        \"   ,(B.proposal_voter_rank +1) as leader_rank \"\n",
    "                        \"From \"\n",
    "                        \"   (select \"\n",
    "                               \"Proposal\"\n",
    "                               \",votes_voter \"\n",
    "                               \",votes_choice\"\n",
    "                               \",votes_vp\"\n",
    "                               \",votes_created\"\n",
    "                               \",sum(votes_vp) over (Partition by Proposal  order by votes_vp desc, votes_created asc) as cumulative_vp\"\n",
    "                               \",sum(votes_vp) over (Partition by Proposal) as total_vp\"\n",
    "                               \",(votes_vp::decimal/sum(votes_vp::decimal) over (Partition by Proposal)) as percentage_of_total_vp \"\n",
    "                               \",((sum(votes_vp) over (Partition by Proposal  order by votes_vp desc, votes_created asc))::decimal/sum(votes_vp::decimal) over (Partition by Proposal)) as cum_percentage_of_total_vp \"\n",
    "                           \"    ,round((sum(votes_vp) over (Partition by Proposal  order by votes_vp desc, votes_created asc))::decimal/sum(votes_vp::decimal) over (Partition by Proposal)) as cum_percentage_of_total_vp_stepped \"\n",
    "                               \",row_number() over (Partition by Proposal order by votes_vp desc, votes_created asc) as proposal_voter_rank \"\n",
    "                               \",count(votes_voter) over (Partition by Proposal  order by votes_vp desc, votes_created asc) total_voters \"\n",
    "                               \",(count(*) over (Partition by Proposal  order by votes_vp desc, votes_created asc))::decimal/(count(*) over (Partition by Proposal))::decimal percentage_voters_counted \"\n",
    "                               \",round(100*(count(*) over (Partition by Proposal  order by votes_vp desc, votes_created asc))::decimal/(count(*) over (Partition by Proposal)))::decimal percentage_voters_counted_stepped \"\n",
    "                           \"from \"\n",
    "                           \"    governance_data  \"\n",
    "                               \"\"\n",
    "                           \"Group by \"\n",
    "                           \"    Proposal\"\n",
    "                           \"    ,votes_voter\"\n",
    "                           \"    ,votes_choice\"\n",
    "                           \"    , votes_vp \"\n",
    "                           \"    , votes_created \"\n",
    "                           \"\"\n",
    "                           \"Order by \"\n",
    "                           \"    Proposal, \"\n",
    "                           \"    votes_vp desc \"\n",
    "                           \"    , votes_created asc) B \"\n",
    "                        \"where \"\n",
    "                        \"   B.cum_percentage_of_total_vp<=0.5) \"\n",
    "                        \"\"\n",
    "                        \"Select \"\n",
    "                        \"   *\"\n",
    "                        \"From crunch_data A\"\n",
    "                        \"   Join leader_ranks B on A.proposal_voter_rank = B.leader_rank and A.Proposal = B.Proposal\"\n",
    "                        \"\"\n",
    "                    ).df()\n",
    "leader_ranks\n",
    "\n"
   ],
   "metadata": {
    "collapsed": false,
    "pycharm": {
     "name": "#%%\n"
    }
   }
  },
  {
   "cell_type": "code",
   "execution_count": 35,
   "outputs": [
    {
     "name": "stdout",
     "output_type": "stream",
     "text": [
      "8179 1.08%\n"
     ]
    }
   ],
   "source": [
    "dao_members = crunch_data.groupby('DAO').votes_voter.nunique()\n",
    "dao_members = dao_members.iloc[0]\n",
    "leader_count =leader_ranks.votes_voter.nunique()\n",
    "elite = round((leader_count)/(dao_members),4)\n",
    "\n",
    "print(dao_members, \"{0:.2%}\".format(elite))\n"
   ],
   "metadata": {
    "collapsed": false,
    "pycharm": {
     "name": "#%%\n"
    }
   }
  },
  {
   "cell_type": "code",
   "execution_count": 36,
   "outputs": [],
   "source": [
    "##spit out the file!\n",
    "crunch_data_path =final_file+'\\\\'+spacename+'_crunch_data_path'+str(date.today().strftime(\"%b-%d-%Y\"))+'_'+str(len(crunch_data))+'.csv'\n",
    "crunch_data.to_csv(crunch_data_path, index = False)"
   ],
   "metadata": {
    "collapsed": false,
    "pycharm": {
     "name": "#%%\n"
    }
   }
  },
  {
   "cell_type": "code",
   "execution_count": 37,
   "outputs": [
    {
     "name": "stderr",
     "output_type": "stream",
     "text": [
      "/var/folders/1w/wk9cxfds41sfnl71qqxkt5qw0000gn/T/ipykernel_26936/2547385743.py:1: FutureWarning: Indexing with multiple keys (implicitly converted to a tuple of keys) will be deprecated, use a list instead.\n",
      "  data_means = crunch_data.groupby(\"percentage_voters_counted_stepped\")[\"cum_percentage_of_total_vp\", \"percentage_voters_counted\"].agg(\"mean\").reset_index()\n"
     ]
    }
   ],
   "source": [
    "data_means = crunch_data.groupby(\"percentage_voters_counted_stepped\")[\"cum_percentage_of_total_vp\", \"percentage_voters_counted\"].agg(\"mean\").reset_index()\n",
    "data_means.insert(0, 'DAO', spacename)\n",
    "data_means =final_file+'\\\\'+spacename+'data_means_'+str(date.today().strftime(\"%b-%d-%Y\"))+'_'+str(len(crunch_data))+'.csv'\n",
    "crunch_data.to_csv(crunch_data_path, index = False)"
   ],
   "metadata": {
    "collapsed": false,
    "pycharm": {
     "name": "#%%\n"
    }
   }
  },
  {
   "cell_type": "code",
   "execution_count": 38,
   "outputs": [
    {
     "name": "stderr",
     "output_type": "stream",
     "text": [
      "/var/folders/1w/wk9cxfds41sfnl71qqxkt5qw0000gn/T/ipykernel_26936/2233744753.py:4: FutureWarning: Indexing with multiple keys (implicitly converted to a tuple of keys) will be deprecated, use a list instead.\n",
      "  data_means = crunch_data.groupby(\"percentage_voters_counted_stepped\")[\"cum_percentage_of_total_vp\",\"percentage_voters_counted\"].agg(\"mean\").reset_index()\n"
     ]
    },
    {
     "name": "stdout",
     "output_type": "stream",
     "text": [
      "AxesSubplot(0.125,0.125;0.775x0.755)\n"
     ]
    },
    {
     "data": {
      "text/plain": "     percentage_voters_counted_stepped  cum_percentage_of_total_vp  \\\n0                                  0.0                    0.427838   \n1                                  1.0                    0.636418   \n2                                  2.0                    0.744804   \n3                                  3.0                    0.820007   \n4                                  4.0                    0.862784   \n..                                 ...                         ...   \n96                                96.0                    0.999999   \n97                                97.0                    1.000000   \n98                                98.0                    1.000000   \n99                                99.0                    1.000000   \n100                              100.0                    1.000000   \n\n     percentage_voters_counted  \n0                     0.002915  \n1                     0.010183  \n2                     0.019886  \n3                     0.030029  \n4                     0.039970  \n..                         ...  \n96                    0.960030  \n97                    0.969893  \n98                    0.980058  \n99                    0.989817  \n100                   0.998493  \n\n[101 rows x 3 columns]",
      "text/html": "<div>\n<style scoped>\n    .dataframe tbody tr th:only-of-type {\n        vertical-align: middle;\n    }\n\n    .dataframe tbody tr th {\n        vertical-align: top;\n    }\n\n    .dataframe thead th {\n        text-align: right;\n    }\n</style>\n<table border=\"1\" class=\"dataframe\">\n  <thead>\n    <tr style=\"text-align: right;\">\n      <th></th>\n      <th>percentage_voters_counted_stepped</th>\n      <th>cum_percentage_of_total_vp</th>\n      <th>percentage_voters_counted</th>\n    </tr>\n  </thead>\n  <tbody>\n    <tr>\n      <th>0</th>\n      <td>0.0</td>\n      <td>0.427838</td>\n      <td>0.002915</td>\n    </tr>\n    <tr>\n      <th>1</th>\n      <td>1.0</td>\n      <td>0.636418</td>\n      <td>0.010183</td>\n    </tr>\n    <tr>\n      <th>2</th>\n      <td>2.0</td>\n      <td>0.744804</td>\n      <td>0.019886</td>\n    </tr>\n    <tr>\n      <th>3</th>\n      <td>3.0</td>\n      <td>0.820007</td>\n      <td>0.030029</td>\n    </tr>\n    <tr>\n      <th>4</th>\n      <td>4.0</td>\n      <td>0.862784</td>\n      <td>0.039970</td>\n    </tr>\n    <tr>\n      <th>...</th>\n      <td>...</td>\n      <td>...</td>\n      <td>...</td>\n    </tr>\n    <tr>\n      <th>96</th>\n      <td>96.0</td>\n      <td>0.999999</td>\n      <td>0.960030</td>\n    </tr>\n    <tr>\n      <th>97</th>\n      <td>97.0</td>\n      <td>1.000000</td>\n      <td>0.969893</td>\n    </tr>\n    <tr>\n      <th>98</th>\n      <td>98.0</td>\n      <td>1.000000</td>\n      <td>0.980058</td>\n    </tr>\n    <tr>\n      <th>99</th>\n      <td>99.0</td>\n      <td>1.000000</td>\n      <td>0.989817</td>\n    </tr>\n    <tr>\n      <th>100</th>\n      <td>100.0</td>\n      <td>1.000000</td>\n      <td>0.998493</td>\n    </tr>\n  </tbody>\n</table>\n<p>101 rows × 3 columns</p>\n</div>"
     },
     "execution_count": 38,
     "metadata": {},
     "output_type": "execute_result"
    },
    {
     "data": {
      "text/plain": "<Figure size 432x288 with 1 Axes>",
      "image/png": "[encoded data removed]"
     },
     "metadata": {
      "needs_background": "light"
     },
     "output_type": "display_data"
    }
   ],
   "source": [
    "plt.rc(\"figure\", figsize=(40, 20))\n",
    "sns.set_style(\"whitegrid\")\n",
    "plt.rc(\"font\", size=25)\n",
    "data_means = crunch_data.groupby(\"percentage_voters_counted_stepped\")[\"cum_percentage_of_total_vp\",\"percentage_voters_counted\"].agg(\"mean\").reset_index()\n",
    "##print(data_means)\n",
    "plot_title = spacename + ' snapshots % of vote along population with Average as X'\n",
    "\n",
    "ax=sns.scatterplot(data=crunch_data, y=\"cum_percentage_of_total_vp\",x=\"percentage_voters_counted_stepped\").set(title=plot_title,xlabel='% of voters',ylabel='% of voting power')\n",
    "chart = sns.scatterplot(data=data_means,x=\"percentage_voters_counted_stepped\",y=\"cum_percentage_of_total_vp\",zorder=3, s=600,marker='X',color = 'orange')\n",
    "#and save the chart file, too\n",
    "plt.savefig(final_file+'\\\\'+spacename+' vote power distribution.png', dpi=100)\n",
    "\n",
    "means_data_path =final_file+'\\\\'+spacename+'_means_'+'.csv'\n",
    "data_means.to_csv(means_data_path, index = False)\n",
    "\n",
    "print(chart)\n",
    "data_means"
   ],
   "metadata": {
    "collapsed": false,
    "pycharm": {
     "name": "#%%\n"
    }
   }
  },
  {
   "cell_type": "markdown",
   "source": [
    "The chart above shows what % of all possible votes has been cast (Y axis) as each incremental percent of the voting population casts their vote (X axis). Each line is a Proposal and has a unique color, so that a dot on each percent point represents what % of total voting power was accumulated by that group. The color represents which vote was cast.\n",
    "The Orange X shows the average % of power accumulated across all elections."
   ],
   "metadata": {
    "collapsed": false,
    "pycharm": {
     "name": "#%% md\n"
    }
   }
  },
  {
   "cell_type": "code",
   "execution_count": 39,
   "outputs": [
    {
     "name": "stdout",
     "output_type": "stream",
     "text": [
      "On average, a proposal at  balancer.eth takes  1.02 % of the voting population.\n",
      "A total of  88 wallets have driven the result of all proposals at balancer.eth\n",
      "That's 1.08% of all DAO voters.\n"
     ]
    }
   ],
   "source": [
    "p50 = db.query(\"select min(percentage_voters_counted) \"\n",
    "               \"from data_means  where cum_percentage_of_total_vp>=0.5 \").df()\n",
    "p50display = round(100*(p50.iloc[0,0]),2)\n",
    "print('On average, a proposal at ', spacename, 'takes ',p50display,'% of the voting population.')\n",
    "\n",
    "print('A total of ',leader_count, 'wallets have driven the result of all proposals at',spacename,)\n",
    "print('That\\'s', (\"{0:.2%}\".format(elite)), 'of all DAO voters.')"
   ],
   "metadata": {
    "collapsed": false,
    "pycharm": {
     "name": "#%%\n"
    }
   }
  },
  {
   "cell_type": "code",
   "execution_count": 39,
   "outputs": [],
   "source": [
    "\n"
   ],
   "metadata": {
    "collapsed": false,
    "pycharm": {
     "name": "#%%\n"
    }
   }
  },
  {
   "cell_type": "code",
   "execution_count": 39,
   "outputs": [],
   "source": [],
   "metadata": {
    "collapsed": false,
    "pycharm": {
     "name": "#%%\n"
    }
   }
  },
  {
   "cell_type": "markdown",
   "source": [],
   "metadata": {
    "collapsed": false,
    "pycharm": {
     "name": "#%% md\n"
    }
   },
   "execution_count": 2074
  }
 ],
 "metadata": {
  "kernelspec": {
   "display_name": "Python 3",
   "language": "python",
   "name": "python3"
  },
  "language_info": {
   "codemirror_mode": {
    "name": "ipython",
    "version": 2
   },
   "file_extension": ".py",
   "mimetype": "text/x-python",
   "name": "python",
   "nbconvert_exporter": "python",
   "pygments_lexer": "ipython2",
   "version": "2.7.6"
  }
 },
 "nbformat": 4,
 "nbformat_minor": 0
}