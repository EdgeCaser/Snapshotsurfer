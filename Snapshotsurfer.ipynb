{
 "cells": [
  {
   "cell_type": "code",
   "execution_count": 1,
   "outputs": [],
   "source": [
    "global file\n",
    "file = input('Selet a folder to save output') ##enter your file path here - the file is in the repo \"summary_stats.csv\".\n",
    "raw_file = file"
   ],
   "metadata": {
    "collapsed": false,
    "pycharm": {
     "name": "#%%\n"
    }
   }
  },
  {
   "cell_type": "code",
   "execution_count": 2,
   "outputs": [],
   "source": [
    "from datetime import datetime\n",
    "from datetime import date\n",
    "from subgrounds.subgraph import SyntheticField, FieldPath\n",
    "from subgrounds.subgrounds import Subgrounds\n",
    "import math\n",
    "import pandas as pd\n",
    "import  os as os\n",
    "import duckdb as db\n",
    "import seaborn as sns\n",
    "import matplotlib.pyplot as plt\n"
   ],
   "metadata": {
    "collapsed": false,
    "pycharm": {
     "name": "#%%\n"
    }
   }
  },
  {
   "cell_type": "code",
   "execution_count": 3,
   "outputs": [],
   "source": [
    "sg = Subgrounds()\n",
    "snapshot = sg.load_api('https://hub.snapshot.org/graphql')\n"
   ],
   "metadata": {
    "collapsed": false,
    "pycharm": {
     "name": "#%%\n"
    }
   }
  },
  {
   "cell_type": "code",
   "execution_count": 4,
   "outputs": [],
   "source": [
    "snapshot.Proposal.datetime = SyntheticField(\n",
    "  lambda timestamp: str(datetime.fromtimestamp(timestamp)),\n",
    "  SyntheticField.STRING,\n",
    "  snapshot.Proposal.end,\n",
    ")"
   ],
   "metadata": {
    "collapsed": false,
    "pycharm": {
     "name": "#%%\n"
    }
   }
  },
  {
   "cell_type": "code",
   "execution_count": 5,
   "outputs": [],
   "source": [
    "spaces = snapshot.Query.spaces(\n",
    "    first=5000,\n",
    "    orderby = 'name',\n",
    "    orderdirection = 'asc'\n",
    ")"
   ],
   "metadata": {
    "collapsed": false,
    "pycharm": {
     "name": "#%%\n"
    }
   }
  },
  {
   "cell_type": "markdown",
   "source": [
    "spaces_list = sg.query_df([\n",
    "    spaces.name\n",
    "])\n",
    "spaces_list"
   ],
   "metadata": {
    "collapsed": false,
    "pycharm": {
     "name": "#%% md\n"
    }
   }
  },
  {
   "cell_type": "code",
   "execution_count": 6,
   "outputs": [],
   "source": [
    "spacename = input('spacename plz?')\n",
    "# based on their url, for example \"curve.eth\" for  https://snapshot.org/#/curve.eth\n"
   ],
   "metadata": {
    "collapsed": false,
    "pycharm": {
     "name": "#%%\n"
    }
   }
  },
  {
   "cell_type": "code",
   "execution_count": 7,
   "outputs": [],
   "source": [
    "proposals = snapshot.Query.proposals(\n",
    "  orderBy='created',\n",
    "  orderDirection='desc',\n",
    "  first=10000,\n",
    "  where=[\n",
    "    snapshot.Proposal.space == spacename, ##'fuse.eth',\n",
    "    snapshot.Proposal.state == 'closed'\n",
    "    ##snapshot.Proposal.title == 'OIP-18: Reward rate framework and reduction',\n",
    "  ]\n",
    ")\n"
   ],
   "metadata": {
    "collapsed": false,
    "pycharm": {
     "name": "#%%\n"
    }
   }
  },
  {
   "cell_type": "code",
   "execution_count": 8,
   "outputs": [],
   "source": [
    "proposals_snapshots = sg.query_df([\n",
    "    proposals.title,\n",
    "    proposals.id,\n",
    "    proposals.body,\n",
    "    proposals.scores_total,\n",
    "    proposals.created\n",
    "])"
   ],
   "metadata": {
    "collapsed": false,
    "pycharm": {
     "name": "#%%\n"
    }
   }
  },
  {
   "cell_type": "code",
   "execution_count": 9,
   "outputs": [],
   "source": [
    "proposals_choices = sg.query(proposals.choices)"
   ],
   "metadata": {
    "collapsed": false,
    "pycharm": {
     "name": "#%%\n"
    }
   }
  },
  {
   "cell_type": "code",
   "execution_count": 10,
   "outputs": [],
   "source": [
    "proposals_choices = pd.DataFrame(proposals_choices)"
   ],
   "metadata": {
    "collapsed": false,
    "pycharm": {
     "name": "#%%\n"
    }
   }
  },
  {
   "cell_type": "code",
   "execution_count": 11,
   "outputs": [],
   "source": [
    "olympus_governance_view = pd.concat([proposals_snapshots,proposals_choices], axis=1)"
   ],
   "metadata": {
    "collapsed": false,
    "pycharm": {
     "name": "#%%\n"
    }
   }
  },
  {
   "cell_type": "code",
   "execution_count": 12,
   "outputs": [
    {
     "data": {
      "text/plain": "                                     proposals_title  \\\n0                CIP-112: Parcel Zero Autonomization   \n1   CIP-115: CityDAO Academic Conference and Journal   \n2      CIP-114: Teach Anything! with Tippi Fifestarr   \n3               CIP-69 Q3 Guild Structure and Budget   \n4        CIP-102: Acquire Baby Parcel for NFT Leases   \n\n                                        proposals_id  \\\n0  0x45356a3d2344b79db7191c4e209baa4fa38d781594c3...   \n1  0x26ceb955ca87bc0a2ad76552d1a8ea03f7cd3ff5d541...   \n2  0x79ee72c1e39ff40a637b660ef9af9d652142b65cf10e...   \n3  0x2b54d9b32411103a6d55d9efe74500a60b123d9250d1...   \n4  0x2f258399b295a8f8e9a35dbaa060b9cd8960fd2cdd7f...   \n\n                                      proposals_body  proposals_scores_total  \\\n0  Parcel Zero is CityDAO’s largest and most sign...                     223   \n1  Summary\\n\\nThis CIP seeks funding for ScottA t...                     172   \n2  SUMMARY\\n\\nSince May 20th, Tippi has, for free...                     179   \n3  ## Citizens, \\n\\nThe following is a proposal f...                     320   \n4  ## Proposal full text:\\nhttps://forum.citydao....                     353   \n\n   proposals_created        0       1     2     3     4     5     6     7  \\\n0         1659131037  Approve  Reject  None  None  None  None  None  None   \n1         1659128299  Approve  Reject  None  None  None  None  None  None   \n2         1659128210  Approve  Reject  None  None  None  None  None  None   \n3         1658103160  APPROVE  REJECT  None  None  None  None  None  None   \n4         1657904154  APPROVE  REJECT  None  None  None  None  None  None   \n\n      8     9    10    11    12    13    14  \n0  None  None  None  None  None  None  None  \n1  None  None  None  None  None  None  None  \n2  None  None  None  None  None  None  None  \n3  None  None  None  None  None  None  None  \n4  None  None  None  None  None  None  None  ",
      "text/html": "<div>\n<style scoped>\n    .dataframe tbody tr th:only-of-type {\n        vertical-align: middle;\n    }\n\n    .dataframe tbody tr th {\n        vertical-align: top;\n    }\n\n    .dataframe thead th {\n        text-align: right;\n    }\n</style>\n<table border=\"1\" class=\"dataframe\">\n  <thead>\n    <tr style=\"text-align: right;\">\n      <th></th>\n      <th>proposals_title</th>\n      <th>proposals_id</th>\n      <th>proposals_body</th>\n      <th>proposals_scores_total</th>\n      <th>proposals_created</th>\n      <th>0</th>\n      <th>1</th>\n      <th>2</th>\n      <th>3</th>\n      <th>4</th>\n      <th>5</th>\n      <th>6</th>\n      <th>7</th>\n      <th>8</th>\n      <th>9</th>\n      <th>10</th>\n      <th>11</th>\n      <th>12</th>\n      <th>13</th>\n      <th>14</th>\n    </tr>\n  </thead>\n  <tbody>\n    <tr>\n      <th>0</th>\n      <td>CIP-112: Parcel Zero Autonomization</td>\n      <td>0x45356a3d2344b79db7191c4e209baa4fa38d781594c3...</td>\n      <td>Parcel Zero is CityDAO’s largest and most sign...</td>\n      <td>223</td>\n      <td>1659131037</td>\n      <td>Approve</td>\n      <td>Reject</td>\n      <td>None</td>\n      <td>None</td>\n      <td>None</td>\n      <td>None</td>\n      <td>None</td>\n      <td>None</td>\n      <td>None</td>\n      <td>None</td>\n      <td>None</td>\n      <td>None</td>\n      <td>None</td>\n      <td>None</td>\n      <td>None</td>\n    </tr>\n    <tr>\n      <th>1</th>\n      <td>CIP-115: CityDAO Academic Conference and Journal</td>\n      <td>0x26ceb955ca87bc0a2ad76552d1a8ea03f7cd3ff5d541...</td>\n      <td>Summary\\n\\nThis CIP seeks funding for ScottA t...</td>\n      <td>172</td>\n      <td>1659128299</td>\n      <td>Approve</td>\n      <td>Reject</td>\n      <td>None</td>\n      <td>None</td>\n      <td>None</td>\n      <td>None</td>\n      <td>None</td>\n      <td>None</td>\n      <td>None</td>\n      <td>None</td>\n      <td>None</td>\n      <td>None</td>\n      <td>None</td>\n      <td>None</td>\n      <td>None</td>\n    </tr>\n    <tr>\n      <th>2</th>\n      <td>CIP-114: Teach Anything! with Tippi Fifestarr</td>\n      <td>0x79ee72c1e39ff40a637b660ef9af9d652142b65cf10e...</td>\n      <td>SUMMARY\\n\\nSince May 20th, Tippi has, for free...</td>\n      <td>179</td>\n      <td>1659128210</td>\n      <td>Approve</td>\n      <td>Reject</td>\n      <td>None</td>\n      <td>None</td>\n      <td>None</td>\n      <td>None</td>\n      <td>None</td>\n      <td>None</td>\n      <td>None</td>\n      <td>None</td>\n      <td>None</td>\n      <td>None</td>\n      <td>None</td>\n      <td>None</td>\n      <td>None</td>\n    </tr>\n    <tr>\n      <th>3</th>\n      <td>CIP-69 Q3 Guild Structure and Budget</td>\n      <td>0x2b54d9b32411103a6d55d9efe74500a60b123d9250d1...</td>\n      <td>## Citizens, \\n\\nThe following is a proposal f...</td>\n      <td>320</td>\n      <td>1658103160</td>\n      <td>APPROVE</td>\n      <td>REJECT</td>\n      <td>None</td>\n      <td>None</td>\n      <td>None</td>\n      <td>None</td>\n      <td>None</td>\n      <td>None</td>\n      <td>None</td>\n      <td>None</td>\n      <td>None</td>\n      <td>None</td>\n      <td>None</td>\n      <td>None</td>\n      <td>None</td>\n    </tr>\n    <tr>\n      <th>4</th>\n      <td>CIP-102: Acquire Baby Parcel for NFT Leases</td>\n      <td>0x2f258399b295a8f8e9a35dbaa060b9cd8960fd2cdd7f...</td>\n      <td>## Proposal full text:\\nhttps://forum.citydao....</td>\n      <td>353</td>\n      <td>1657904154</td>\n      <td>APPROVE</td>\n      <td>REJECT</td>\n      <td>None</td>\n      <td>None</td>\n      <td>None</td>\n      <td>None</td>\n      <td>None</td>\n      <td>None</td>\n      <td>None</td>\n      <td>None</td>\n      <td>None</td>\n      <td>None</td>\n      <td>None</td>\n      <td>None</td>\n      <td>None</td>\n    </tr>\n  </tbody>\n</table>\n</div>"
     },
     "execution_count": 12,
     "metadata": {},
     "output_type": "execute_result"
    }
   ],
   "source": [
    "##let's view the output just to make sure\n",
    "olympus_governance_view.head(5)"
   ],
   "metadata": {
    "collapsed": false,
    "pycharm": {
     "name": "#%%\n"
    }
   }
  },
  {
   "cell_type": "code",
   "execution_count": 13,
   "outputs": [
    {
     "data": {
      "text/plain": "           DAO                                    proposals_title  \\\n0  daocity.eth                CIP-112: Parcel Zero Autonomization   \n1  daocity.eth   CIP-115: CityDAO Academic Conference and Journal   \n2  daocity.eth      CIP-114: Teach Anything! with Tippi Fifestarr   \n3  daocity.eth               CIP-69 Q3 Guild Structure and Budget   \n4  daocity.eth        CIP-102: Acquire Baby Parcel for NFT Leases   \n5  daocity.eth                        CIP-63: CityDAO Parcel Home   \n6  daocity.eth                             CIP 66: The Big Parcel   \n7  daocity.eth         CIP 61 - Reimbursement for Parcel 0 Visit    \n8  daocity.eth  CIP-48: CityDAO Conversion to partial Quadrati...   \n9  daocity.eth              CIP 57: Treasury Management Authority   \n\n                                        proposals_id  \\\n0  0x45356a3d2344b79db7191c4e209baa4fa38d781594c3...   \n1  0x26ceb955ca87bc0a2ad76552d1a8ea03f7cd3ff5d541...   \n2  0x79ee72c1e39ff40a637b660ef9af9d652142b65cf10e...   \n3  0x2b54d9b32411103a6d55d9efe74500a60b123d9250d1...   \n4  0x2f258399b295a8f8e9a35dbaa060b9cd8960fd2cdd7f...   \n5  bafkreiem3is7kq2w3g3lnxn3npheu6u7kmirnldrfgpsk...   \n6  0xc0fe2a52b9864be8215a4ca6df627182586376aab77b...   \n7  0xb10e94b005db1e632d28c7eab30078c9849552301dc6...   \n8  0x03fa9dd24efa6b64f3f05b1b55b794d9c8b2de98ee82...   \n9  0xe035403d359bf3fd84af12bd2a118b2855fb2ca1f8ca...   \n\n                                      proposals_body  proposals_scores_total  \\\n0  Parcel Zero is CityDAO’s largest and most sign...                     223   \n1  Summary\\n\\nThis CIP seeks funding for ScottA t...                     172   \n2  SUMMARY\\n\\nSince May 20th, Tippi has, for free...                     179   \n3  ## Citizens, \\n\\nThe following is a proposal f...                     320   \n4  ## Proposal full text:\\nhttps://forum.citydao....                     353   \n5  TL/DR: This proposal authorizes up to $650k fo...                     927   \n6  PROPOSAL OVERVIEW: With a “Parcel 1” proposal ...                     693   \n7  Introduction\\n\\nThis is a proposal to reimburs...                     295   \n8  Citizens,\\n\\nIt is proposed that we switch fro...                     562   \n9  Citizens,\\n\\nCityDAO must ensure treasury fund...                     505   \n\n   proposals_created             0                          1    2    3  ...  \\\n0         1659131037       Approve                     Reject  NaN  NaN  ...   \n1         1659128299       Approve                     Reject  NaN  NaN  ...   \n2         1659128210       Approve                     Reject  NaN  NaN  ...   \n3         1658103160       APPROVE                     REJECT  NaN  NaN  ...   \n4         1657904154       APPROVE                     REJECT  NaN  NaN  ...   \n5         1656457997       Approve                     Reject  NaN  NaN  ...   \n6         1656104347       Approve                     Reject  NaN  NaN  ...   \n7         1655052079       Approve                     Reject  NaN  NaN  ...   \n8         1652720336  Switch to QV  Remain One-Token One-Vote  NaN  NaN  ...   \n9         1651852600       APPROVE                     REJECT  NaN  NaN  ...   \n\n     6    7    8    9   10   11   12   13   14 proposal_date  \n0  NaN  NaN  NaN  NaN  NaN  NaN  NaN  NaN  NaN    2022-07-29  \n1  NaN  NaN  NaN  NaN  NaN  NaN  NaN  NaN  NaN    2022-07-29  \n2  NaN  NaN  NaN  NaN  NaN  NaN  NaN  NaN  NaN    2022-07-29  \n3  NaN  NaN  NaN  NaN  NaN  NaN  NaN  NaN  NaN    2022-07-18  \n4  NaN  NaN  NaN  NaN  NaN  NaN  NaN  NaN  NaN    2022-07-15  \n5  NaN  NaN  NaN  NaN  NaN  NaN  NaN  NaN  NaN    2022-06-28  \n6  NaN  NaN  NaN  NaN  NaN  NaN  NaN  NaN  NaN    2022-06-24  \n7  NaN  NaN  NaN  NaN  NaN  NaN  NaN  NaN  NaN    2022-06-12  \n8  NaN  NaN  NaN  NaN  NaN  NaN  NaN  NaN  NaN    2022-05-16  \n9  NaN  NaN  NaN  NaN  NaN  NaN  NaN  NaN  NaN    2022-05-06  \n\n[10 rows x 22 columns]",
      "text/html": "<div>\n<style scoped>\n    .dataframe tbody tr th:only-of-type {\n        vertical-align: middle;\n    }\n\n    .dataframe tbody tr th {\n        vertical-align: top;\n    }\n\n    .dataframe thead th {\n        text-align: right;\n    }\n</style>\n<table border=\"1\" class=\"dataframe\">\n  <thead>\n    <tr style=\"text-align: right;\">\n      <th></th>\n      <th>DAO</th>\n      <th>proposals_title</th>\n      <th>proposals_id</th>\n      <th>proposals_body</th>\n      <th>proposals_scores_total</th>\n      <th>proposals_created</th>\n      <th>0</th>\n      <th>1</th>\n      <th>2</th>\n      <th>3</th>\n      <th>...</th>\n      <th>6</th>\n      <th>7</th>\n      <th>8</th>\n      <th>9</th>\n      <th>10</th>\n      <th>11</th>\n      <th>12</th>\n      <th>13</th>\n      <th>14</th>\n      <th>proposal_date</th>\n    </tr>\n  </thead>\n  <tbody>\n    <tr>\n      <th>0</th>\n      <td>daocity.eth</td>\n      <td>CIP-112: Parcel Zero Autonomization</td>\n      <td>0x45356a3d2344b79db7191c4e209baa4fa38d781594c3...</td>\n      <td>Parcel Zero is CityDAO’s largest and most sign...</td>\n      <td>223</td>\n      <td>1659131037</td>\n      <td>Approve</td>\n      <td>Reject</td>\n      <td>NaN</td>\n      <td>NaN</td>\n      <td>...</td>\n      <td>NaN</td>\n      <td>NaN</td>\n      <td>NaN</td>\n      <td>NaN</td>\n      <td>NaN</td>\n      <td>NaN</td>\n      <td>NaN</td>\n      <td>NaN</td>\n      <td>NaN</td>\n      <td>2022-07-29</td>\n    </tr>\n    <tr>\n      <th>1</th>\n      <td>daocity.eth</td>\n      <td>CIP-115: CityDAO Academic Conference and Journal</td>\n      <td>0x26ceb955ca87bc0a2ad76552d1a8ea03f7cd3ff5d541...</td>\n      <td>Summary\\n\\nThis CIP seeks funding for ScottA t...</td>\n      <td>172</td>\n      <td>1659128299</td>\n      <td>Approve</td>\n      <td>Reject</td>\n      <td>NaN</td>\n      <td>NaN</td>\n      <td>...</td>\n      <td>NaN</td>\n      <td>NaN</td>\n      <td>NaN</td>\n      <td>NaN</td>\n      <td>NaN</td>\n      <td>NaN</td>\n      <td>NaN</td>\n      <td>NaN</td>\n      <td>NaN</td>\n      <td>2022-07-29</td>\n    </tr>\n    <tr>\n      <th>2</th>\n      <td>daocity.eth</td>\n      <td>CIP-114: Teach Anything! with Tippi Fifestarr</td>\n      <td>0x79ee72c1e39ff40a637b660ef9af9d652142b65cf10e...</td>\n      <td>SUMMARY\\n\\nSince May 20th, Tippi has, for free...</td>\n      <td>179</td>\n      <td>1659128210</td>\n      <td>Approve</td>\n      <td>Reject</td>\n      <td>NaN</td>\n      <td>NaN</td>\n      <td>...</td>\n      <td>NaN</td>\n      <td>NaN</td>\n      <td>NaN</td>\n      <td>NaN</td>\n      <td>NaN</td>\n      <td>NaN</td>\n      <td>NaN</td>\n      <td>NaN</td>\n      <td>NaN</td>\n      <td>2022-07-29</td>\n    </tr>\n    <tr>\n      <th>3</th>\n      <td>daocity.eth</td>\n      <td>CIP-69 Q3 Guild Structure and Budget</td>\n      <td>0x2b54d9b32411103a6d55d9efe74500a60b123d9250d1...</td>\n      <td>## Citizens, \\n\\nThe following is a proposal f...</td>\n      <td>320</td>\n      <td>1658103160</td>\n      <td>APPROVE</td>\n      <td>REJECT</td>\n      <td>NaN</td>\n      <td>NaN</td>\n      <td>...</td>\n      <td>NaN</td>\n      <td>NaN</td>\n      <td>NaN</td>\n      <td>NaN</td>\n      <td>NaN</td>\n      <td>NaN</td>\n      <td>NaN</td>\n      <td>NaN</td>\n      <td>NaN</td>\n      <td>2022-07-18</td>\n    </tr>\n    <tr>\n      <th>4</th>\n      <td>daocity.eth</td>\n      <td>CIP-102: Acquire Baby Parcel for NFT Leases</td>\n      <td>0x2f258399b295a8f8e9a35dbaa060b9cd8960fd2cdd7f...</td>\n      <td>## Proposal full text:\\nhttps://forum.citydao....</td>\n      <td>353</td>\n      <td>1657904154</td>\n      <td>APPROVE</td>\n      <td>REJECT</td>\n      <td>NaN</td>\n      <td>NaN</td>\n      <td>...</td>\n      <td>NaN</td>\n      <td>NaN</td>\n      <td>NaN</td>\n      <td>NaN</td>\n      <td>NaN</td>\n      <td>NaN</td>\n      <td>NaN</td>\n      <td>NaN</td>\n      <td>NaN</td>\n      <td>2022-07-15</td>\n    </tr>\n    <tr>\n      <th>5</th>\n      <td>daocity.eth</td>\n      <td>CIP-63: CityDAO Parcel Home</td>\n      <td>bafkreiem3is7kq2w3g3lnxn3npheu6u7kmirnldrfgpsk...</td>\n      <td>TL/DR: This proposal authorizes up to $650k fo...</td>\n      <td>927</td>\n      <td>1656457997</td>\n      <td>Approve</td>\n      <td>Reject</td>\n      <td>NaN</td>\n      <td>NaN</td>\n      <td>...</td>\n      <td>NaN</td>\n      <td>NaN</td>\n      <td>NaN</td>\n      <td>NaN</td>\n      <td>NaN</td>\n      <td>NaN</td>\n      <td>NaN</td>\n      <td>NaN</td>\n      <td>NaN</td>\n      <td>2022-06-28</td>\n    </tr>\n    <tr>\n      <th>6</th>\n      <td>daocity.eth</td>\n      <td>CIP 66: The Big Parcel</td>\n      <td>0xc0fe2a52b9864be8215a4ca6df627182586376aab77b...</td>\n      <td>PROPOSAL OVERVIEW: With a “Parcel 1” proposal ...</td>\n      <td>693</td>\n      <td>1656104347</td>\n      <td>Approve</td>\n      <td>Reject</td>\n      <td>NaN</td>\n      <td>NaN</td>\n      <td>...</td>\n      <td>NaN</td>\n      <td>NaN</td>\n      <td>NaN</td>\n      <td>NaN</td>\n      <td>NaN</td>\n      <td>NaN</td>\n      <td>NaN</td>\n      <td>NaN</td>\n      <td>NaN</td>\n      <td>2022-06-24</td>\n    </tr>\n    <tr>\n      <th>7</th>\n      <td>daocity.eth</td>\n      <td>CIP 61 - Reimbursement for Parcel 0 Visit</td>\n      <td>0xb10e94b005db1e632d28c7eab30078c9849552301dc6...</td>\n      <td>Introduction\\n\\nThis is a proposal to reimburs...</td>\n      <td>295</td>\n      <td>1655052079</td>\n      <td>Approve</td>\n      <td>Reject</td>\n      <td>NaN</td>\n      <td>NaN</td>\n      <td>...</td>\n      <td>NaN</td>\n      <td>NaN</td>\n      <td>NaN</td>\n      <td>NaN</td>\n      <td>NaN</td>\n      <td>NaN</td>\n      <td>NaN</td>\n      <td>NaN</td>\n      <td>NaN</td>\n      <td>2022-06-12</td>\n    </tr>\n    <tr>\n      <th>8</th>\n      <td>daocity.eth</td>\n      <td>CIP-48: CityDAO Conversion to partial Quadrati...</td>\n      <td>0x03fa9dd24efa6b64f3f05b1b55b794d9c8b2de98ee82...</td>\n      <td>Citizens,\\n\\nIt is proposed that we switch fro...</td>\n      <td>562</td>\n      <td>1652720336</td>\n      <td>Switch to QV</td>\n      <td>Remain One-Token One-Vote</td>\n      <td>NaN</td>\n      <td>NaN</td>\n      <td>...</td>\n      <td>NaN</td>\n      <td>NaN</td>\n      <td>NaN</td>\n      <td>NaN</td>\n      <td>NaN</td>\n      <td>NaN</td>\n      <td>NaN</td>\n      <td>NaN</td>\n      <td>NaN</td>\n      <td>2022-05-16</td>\n    </tr>\n    <tr>\n      <th>9</th>\n      <td>daocity.eth</td>\n      <td>CIP 57: Treasury Management Authority</td>\n      <td>0xe035403d359bf3fd84af12bd2a118b2855fb2ca1f8ca...</td>\n      <td>Citizens,\\n\\nCityDAO must ensure treasury fund...</td>\n      <td>505</td>\n      <td>1651852600</td>\n      <td>APPROVE</td>\n      <td>REJECT</td>\n      <td>NaN</td>\n      <td>NaN</td>\n      <td>...</td>\n      <td>NaN</td>\n      <td>NaN</td>\n      <td>NaN</td>\n      <td>NaN</td>\n      <td>NaN</td>\n      <td>NaN</td>\n      <td>NaN</td>\n      <td>NaN</td>\n      <td>NaN</td>\n      <td>2022-05-06</td>\n    </tr>\n  </tbody>\n</table>\n<p>10 rows × 22 columns</p>\n</div>"
     },
     "execution_count": 13,
     "metadata": {},
     "output_type": "execute_result"
    }
   ],
   "source": [
    "#let's remove duplicate rows the easy way, and add the name of the DAO to the table\n",
    "olympus_governance_view_clean = olympus_governance_view.copy(deep=True)\n",
    "olympus_governance_view_clean = db.query(\"select \"\n",
    "                                 \"  *\"\n",
    "                                 \"  , (to_timestamp((proposals_created::bigint)))::date proposal_date  \"\n",
    "                                 \"\"\n",
    "                                 \"from olympus_governance_view\").df()\n",
    "#make sure we know which DAO we are working with\n",
    "olympus_governance_view_clean.insert(0, 'DAO', spacename)\n",
    "olympus_governance_view_clean.head(10)"
   ],
   "metadata": {
    "collapsed": false,
    "pycharm": {
     "name": "#%%\n"
    }
   }
  },
  {
   "cell_type": "code",
   "execution_count": 14,
   "outputs": [
    {
     "data": {
      "text/plain": "39"
     },
     "execution_count": 14,
     "metadata": {},
     "output_type": "execute_result"
    }
   ],
   "source": [
    "total_proposals = len(olympus_governance_view_clean)\n",
    "total_proposals"
   ],
   "metadata": {
    "collapsed": false,
    "pycharm": {
     "name": "#%%\n"
    }
   }
  },
  {
   "cell_type": "code",
   "execution_count": 15,
   "outputs": [
    {
     "data": {
      "text/plain": "22"
     },
     "execution_count": 15,
     "metadata": {},
     "output_type": "execute_result"
    }
   ],
   "source": [
    "max_index = len(olympus_governance_view_clean.columns)\n",
    "max_index"
   ],
   "metadata": {
    "collapsed": false,
    "pycharm": {
     "name": "#%%\n"
    }
   }
  },
  {
   "cell_type": "code",
   "execution_count": 16,
   "outputs": [],
   "source": [
    "path =file+'/'+spacename+'_proposals_table_'+str(date.today().strftime(\"%b-%d-%Y\"))+'_'+str(len(olympus_governance_view_clean))+'_proposals.csv'\n",
    "olympus_governance_view_clean.to_csv(path, index = False)"
   ],
   "metadata": {
    "collapsed": false,
    "pycharm": {
     "name": "#%%\n"
    }
   }
  },
  {
   "cell_type": "code",
   "execution_count": 17,
   "outputs": [
    {
     "data": {
      "text/plain": "'0x45356a3d2344b79db7191c4e209baa4fa38d781594c37b1a42702e6b44ec8a6c'"
     },
     "execution_count": 17,
     "metadata": {},
     "output_type": "execute_result"
    }
   ],
   "source": [
    "proposal_id = olympus_governance_view_clean.iloc[0,2]\n",
    "proposal_id"
   ],
   "metadata": {
    "collapsed": false,
    "pycharm": {
     "name": "#%%\n"
    }
   }
  },
  {
   "cell_type": "code",
   "execution_count": 18,
   "outputs": [],
   "source": [
    "vote_tracker = snapshot.Query.votes(\n",
    "orderBy = 'created',\n",
    "orderDirection='desc',\n",
    "first=10000,\n",
    "where=[\n",
    "  snapshot.Vote.proposal == proposal_id\n",
    "]\n",
    ")"
   ],
   "metadata": {
    "collapsed": false,
    "pycharm": {
     "name": "#%%\n"
    }
   }
  },
  {
   "cell_type": "code",
   "execution_count": 19,
   "outputs": [],
   "source": [
    "voting_snapshots_list_pre = sg.query_df([\n",
    "    vote_tracker.id,\n",
    "    vote_tracker.voter,\n",
    "    vote_tracker.created,\n",
    "    vote_tracker.choice,\n",
    "    vote_tracker.vp\n",
    "])"
   ],
   "metadata": {
    "collapsed": false,
    "pycharm": {
     "name": "#%%\n"
    }
   }
  },
  {
   "cell_type": "code",
   "execution_count": 20,
   "outputs": [],
   "source": [
    "voting_snapshots_list = db.query(\"select \"\n",
    "                                 \"  *\"\n",
    "                                 \"  , to_timestamp((votes_Created::bigint)) vote_timestamp  \"\n",
    "                                 \"\"\n",
    "                                 \"from voting_snapshots_list_pre\").df()"
   ],
   "metadata": {
    "collapsed": false,
    "pycharm": {
     "name": "#%%\n"
    }
   }
  },
  {
   "cell_type": "code",
   "execution_count": 21,
   "outputs": [
    {
     "data": {
      "text/plain": "                                            votes_id  \\\n0  0xe6d83af6b85f1ac5fb6060b770dc414c9d0769ab5b17...   \n1  0xc8e1ba340d90f175f025e7d2501041178e4e47804064...   \n2  0xa36ebf6daeb2f9d6b0013348d91eb94e5c8323f55dfc...   \n3  0xa07ab89d64ddf1af580a5626ff34eb25d84e3f46d89e...   \n4  0x83887440b01a8364357c991d1bb7c6fb01269552f765...   \n5  bafkreibmzt6oaphwhm3bqhzumrdsom4a5bnr3gyvhn573...   \n6  0xe0a58e29c50fa16225e403d47b080563100457512676...   \n7  0x16cad55c6ab7dc8260d5a83acdeefb0c2964a4e900e1...   \n8  bafkreiheglnzhiersrmc3eiflfpjnqm26skmw5bcojluu...   \n9  0xcc0f88bce63921f12ddf9ec49b02f590e92b9f1a1e96...   \n\n                                  votes_voter  votes_created  votes_choice  \\\n0  0xa7ad91C27701ec98f1014e4b200A0aE5a22C0dEe     1659732998             1   \n1  0x2FcF7cA533D94f6535d63D0A5EC9dE85Ad2efd08     1659731782             1   \n2  0xB6f3A96F8FB7d9af243365025Ae328030BE04dbD     1659730613             2   \n3  0xbBE712b3aead4A4090DB1f25Fd3E92854033ea36     1659729641             2   \n4  0x43eD63322703Ca6249DDD5A094D9bee0A3E8aaF7     1659729186             1   \n5  0xE293e09513210f578bab3772c39e3eaf5d23D834     1659729065             2   \n6  0xE7846949d13003DBaa2f98D555426A2A3DCa5e6f     1659729028             1   \n7  0xa5c33795dA7022f2D783a4f80f006e53F0E10cA4     1659725155             1   \n8  0x089AdE4C4523102E4c5F18271DA4370a7f546Ef8     1659721440             1   \n9  0x70718F62a25Cc3cd0FF8885716dB52da0bfdd2bc     1659712555             1   \n\n   votes_vp      vote_timestamp  \n0         1 2022-08-05 20:56:38  \n1         1 2022-08-05 20:36:22  \n2         2 2022-08-05 20:16:53  \n3         1 2022-08-05 20:00:41  \n4         1 2022-08-05 19:53:06  \n5         1 2022-08-05 19:51:05  \n6         1 2022-08-05 19:50:28  \n7         1 2022-08-05 18:45:55  \n8         1 2022-08-05 17:44:00  \n9         1 2022-08-05 15:15:55  ",
      "text/html": "<div>\n<style scoped>\n    .dataframe tbody tr th:only-of-type {\n        vertical-align: middle;\n    }\n\n    .dataframe tbody tr th {\n        vertical-align: top;\n    }\n\n    .dataframe thead th {\n        text-align: right;\n    }\n</style>\n<table border=\"1\" class=\"dataframe\">\n  <thead>\n    <tr style=\"text-align: right;\">\n      <th></th>\n      <th>votes_id</th>\n      <th>votes_voter</th>\n      <th>votes_created</th>\n      <th>votes_choice</th>\n      <th>votes_vp</th>\n      <th>vote_timestamp</th>\n    </tr>\n  </thead>\n  <tbody>\n    <tr>\n      <th>0</th>\n      <td>0xe6d83af6b85f1ac5fb6060b770dc414c9d0769ab5b17...</td>\n      <td>0xa7ad91C27701ec98f1014e4b200A0aE5a22C0dEe</td>\n      <td>1659732998</td>\n      <td>1</td>\n      <td>1</td>\n      <td>2022-08-05 20:56:38</td>\n    </tr>\n    <tr>\n      <th>1</th>\n      <td>0xc8e1ba340d90f175f025e7d2501041178e4e47804064...</td>\n      <td>0x2FcF7cA533D94f6535d63D0A5EC9dE85Ad2efd08</td>\n      <td>1659731782</td>\n      <td>1</td>\n      <td>1</td>\n      <td>2022-08-05 20:36:22</td>\n    </tr>\n    <tr>\n      <th>2</th>\n      <td>0xa36ebf6daeb2f9d6b0013348d91eb94e5c8323f55dfc...</td>\n      <td>0xB6f3A96F8FB7d9af243365025Ae328030BE04dbD</td>\n      <td>1659730613</td>\n      <td>2</td>\n      <td>2</td>\n      <td>2022-08-05 20:16:53</td>\n    </tr>\n    <tr>\n      <th>3</th>\n      <td>0xa07ab89d64ddf1af580a5626ff34eb25d84e3f46d89e...</td>\n      <td>0xbBE712b3aead4A4090DB1f25Fd3E92854033ea36</td>\n      <td>1659729641</td>\n      <td>2</td>\n      <td>1</td>\n      <td>2022-08-05 20:00:41</td>\n    </tr>\n    <tr>\n      <th>4</th>\n      <td>0x83887440b01a8364357c991d1bb7c6fb01269552f765...</td>\n      <td>0x43eD63322703Ca6249DDD5A094D9bee0A3E8aaF7</td>\n      <td>1659729186</td>\n      <td>1</td>\n      <td>1</td>\n      <td>2022-08-05 19:53:06</td>\n    </tr>\n    <tr>\n      <th>5</th>\n      <td>bafkreibmzt6oaphwhm3bqhzumrdsom4a5bnr3gyvhn573...</td>\n      <td>0xE293e09513210f578bab3772c39e3eaf5d23D834</td>\n      <td>1659729065</td>\n      <td>2</td>\n      <td>1</td>\n      <td>2022-08-05 19:51:05</td>\n    </tr>\n    <tr>\n      <th>6</th>\n      <td>0xe0a58e29c50fa16225e403d47b080563100457512676...</td>\n      <td>0xE7846949d13003DBaa2f98D555426A2A3DCa5e6f</td>\n      <td>1659729028</td>\n      <td>1</td>\n      <td>1</td>\n      <td>2022-08-05 19:50:28</td>\n    </tr>\n    <tr>\n      <th>7</th>\n      <td>0x16cad55c6ab7dc8260d5a83acdeefb0c2964a4e900e1...</td>\n      <td>0xa5c33795dA7022f2D783a4f80f006e53F0E10cA4</td>\n      <td>1659725155</td>\n      <td>1</td>\n      <td>1</td>\n      <td>2022-08-05 18:45:55</td>\n    </tr>\n    <tr>\n      <th>8</th>\n      <td>bafkreiheglnzhiersrmc3eiflfpjnqm26skmw5bcojluu...</td>\n      <td>0x089AdE4C4523102E4c5F18271DA4370a7f546Ef8</td>\n      <td>1659721440</td>\n      <td>1</td>\n      <td>1</td>\n      <td>2022-08-05 17:44:00</td>\n    </tr>\n    <tr>\n      <th>9</th>\n      <td>0xcc0f88bce63921f12ddf9ec49b02f590e92b9f1a1e96...</td>\n      <td>0x70718F62a25Cc3cd0FF8885716dB52da0bfdd2bc</td>\n      <td>1659712555</td>\n      <td>1</td>\n      <td>1</td>\n      <td>2022-08-05 15:15:55</td>\n    </tr>\n  </tbody>\n</table>\n</div>"
     },
     "execution_count": 21,
     "metadata": {},
     "output_type": "execute_result"
    }
   ],
   "source": [
    "voting_snapshots_list.head(10)"
   ],
   "metadata": {
    "collapsed": false,
    "pycharm": {
     "name": "#%%\n"
    }
   }
  },
  {
   "cell_type": "code",
   "execution_count": 22,
   "outputs": [
    {
     "name": "stdout",
     "output_type": "stream",
     "text": [
      "18769  records\n"
     ]
    }
   ],
   "source": [
    "x=0\n",
    "while x <total_proposals:\n",
    "    proposal_id = olympus_governance_view_clean.iloc[x,2]\n",
    "\n",
    "    vote_tracker = snapshot.Query.votes(\n",
    "    orderBy = 'created',\n",
    "    orderDirection='desc',\n",
    "    first=10000,\n",
    "    where=[\n",
    "      snapshot.Vote.proposal == proposal_id\n",
    "    ]\n",
    "    )\n",
    "    voting_snapshots = sg.query_df([\n",
    "    vote_tracker.id,\n",
    "    vote_tracker.voter,\n",
    "    vote_tracker.created,\n",
    "    vote_tracker.choice,\n",
    "    vote_tracker.vp\n",
    "    ])\n",
    "\n",
    "    voting_snapshots['Proposal'] = proposal_id\n",
    "    voting_snapshots_list=pd.concat([voting_snapshots_list, voting_snapshots])\n",
    "\n",
    "    x=x+1\n",
    "    progress = 100*(round(x/total_proposals,0))\n",
    "    ##clear_output(wait=True)\n",
    "\n",
    "print(len(voting_snapshots_list),' records')"
   ],
   "metadata": {
    "collapsed": false,
    "pycharm": {
     "name": "#%%\n"
    }
   }
  },
  {
   "cell_type": "code",
   "execution_count": 23,
   "outputs": [],
   "source": [
    "#spit out the file\n",
    "path =file+'/'+spacename+'_voting_snapshots_list_'+str(date.today().strftime(\"%b-%d-%Y\"))+'_'+str(len(olympus_governance_view_clean))+'.csv'\n",
    "voting_snapshots_list.to_csv(path, index = False)"
   ],
   "metadata": {
    "collapsed": false,
    "pycharm": {
     "name": "#%%\n"
    }
   }
  },
  {
   "cell_type": "code",
   "execution_count": 24,
   "outputs": [
    {
     "data": {
      "text/plain": "                                            votes_id  \\\n0  0xe6d83af6b85f1ac5fb6060b770dc414c9d0769ab5b17...   \n1  0xc8e1ba340d90f175f025e7d2501041178e4e47804064...   \n2  0xa36ebf6daeb2f9d6b0013348d91eb94e5c8323f55dfc...   \n3  0xa07ab89d64ddf1af580a5626ff34eb25d84e3f46d89e...   \n4  0x83887440b01a8364357c991d1bb7c6fb01269552f765...   \n5  bafkreibmzt6oaphwhm3bqhzumrdsom4a5bnr3gyvhn573...   \n6  0xe0a58e29c50fa16225e403d47b080563100457512676...   \n7  0x16cad55c6ab7dc8260d5a83acdeefb0c2964a4e900e1...   \n8  bafkreiheglnzhiersrmc3eiflfpjnqm26skmw5bcojluu...   \n9  0xcc0f88bce63921f12ddf9ec49b02f590e92b9f1a1e96...   \n\n                                  votes_voter  votes_created  votes_choice  \\\n0  0xa7ad91C27701ec98f1014e4b200A0aE5a22C0dEe     1659732998             1   \n1  0x2FcF7cA533D94f6535d63D0A5EC9dE85Ad2efd08     1659731782             1   \n2  0xB6f3A96F8FB7d9af243365025Ae328030BE04dbD     1659730613             2   \n3  0xbBE712b3aead4A4090DB1f25Fd3E92854033ea36     1659729641             2   \n4  0x43eD63322703Ca6249DDD5A094D9bee0A3E8aaF7     1659729186             1   \n5  0xE293e09513210f578bab3772c39e3eaf5d23D834     1659729065             2   \n6  0xE7846949d13003DBaa2f98D555426A2A3DCa5e6f     1659729028             1   \n7  0xa5c33795dA7022f2D783a4f80f006e53F0E10cA4     1659725155             1   \n8  0x089AdE4C4523102E4c5F18271DA4370a7f546Ef8     1659721440             1   \n9  0x70718F62a25Cc3cd0FF8885716dB52da0bfdd2bc     1659712555             1   \n\n   votes_vp vote_timestamp                                           Proposal  \\\n0         1            NaT  0x45356a3d2344b79db7191c4e209baa4fa38d781594c3...   \n1         1            NaT  0x45356a3d2344b79db7191c4e209baa4fa38d781594c3...   \n2         2            NaT  0x45356a3d2344b79db7191c4e209baa4fa38d781594c3...   \n3         1            NaT  0x45356a3d2344b79db7191c4e209baa4fa38d781594c3...   \n4         1            NaT  0x45356a3d2344b79db7191c4e209baa4fa38d781594c3...   \n5         1            NaT  0x45356a3d2344b79db7191c4e209baa4fa38d781594c3...   \n6         1            NaT  0x45356a3d2344b79db7191c4e209baa4fa38d781594c3...   \n7         1            NaT  0x45356a3d2344b79db7191c4e209baa4fa38d781594c3...   \n8         1            NaT  0x45356a3d2344b79db7191c4e209baa4fa38d781594c3...   \n9         1            NaT  0x45356a3d2344b79db7191c4e209baa4fa38d781594c3...   \n\n           DAO                       proposals_title  \\\n0  daocity.eth   CIP-112: Parcel Zero Autonomization   \n1  daocity.eth   CIP-112: Parcel Zero Autonomization   \n2  daocity.eth   CIP-112: Parcel Zero Autonomization   \n3  daocity.eth   CIP-112: Parcel Zero Autonomization   \n4  daocity.eth   CIP-112: Parcel Zero Autonomization   \n5  daocity.eth   CIP-112: Parcel Zero Autonomization   \n6  daocity.eth   CIP-112: Parcel Zero Autonomization   \n7  daocity.eth   CIP-112: Parcel Zero Autonomization   \n8  daocity.eth   CIP-112: Parcel Zero Autonomization   \n9  daocity.eth   CIP-112: Parcel Zero Autonomization   \n\n                                        proposals_id  ...    6    7    8    9  \\\n0  0x45356a3d2344b79db7191c4e209baa4fa38d781594c3...  ...  NaN  NaN  NaN  NaN   \n1  0x45356a3d2344b79db7191c4e209baa4fa38d781594c3...  ...  NaN  NaN  NaN  NaN   \n2  0x45356a3d2344b79db7191c4e209baa4fa38d781594c3...  ...  NaN  NaN  NaN  NaN   \n3  0x45356a3d2344b79db7191c4e209baa4fa38d781594c3...  ...  NaN  NaN  NaN  NaN   \n4  0x45356a3d2344b79db7191c4e209baa4fa38d781594c3...  ...  NaN  NaN  NaN  NaN   \n5  0x45356a3d2344b79db7191c4e209baa4fa38d781594c3...  ...  NaN  NaN  NaN  NaN   \n6  0x45356a3d2344b79db7191c4e209baa4fa38d781594c3...  ...  NaN  NaN  NaN  NaN   \n7  0x45356a3d2344b79db7191c4e209baa4fa38d781594c3...  ...  NaN  NaN  NaN  NaN   \n8  0x45356a3d2344b79db7191c4e209baa4fa38d781594c3...  ...  NaN  NaN  NaN  NaN   \n9  0x45356a3d2344b79db7191c4e209baa4fa38d781594c3...  ...  NaN  NaN  NaN  NaN   \n\n    10   11   12   13   14 proposal_date  \n0  NaN  NaN  NaN  NaN  NaN    2022-07-29  \n1  NaN  NaN  NaN  NaN  NaN    2022-07-29  \n2  NaN  NaN  NaN  NaN  NaN    2022-07-29  \n3  NaN  NaN  NaN  NaN  NaN    2022-07-29  \n4  NaN  NaN  NaN  NaN  NaN    2022-07-29  \n5  NaN  NaN  NaN  NaN  NaN    2022-07-29  \n6  NaN  NaN  NaN  NaN  NaN    2022-07-29  \n7  NaN  NaN  NaN  NaN  NaN    2022-07-29  \n8  NaN  NaN  NaN  NaN  NaN    2022-07-29  \n9  NaN  NaN  NaN  NaN  NaN    2022-07-29  \n\n[10 rows x 28 columns]",
      "text/html": "<div>\n<style scoped>\n    .dataframe tbody tr th:only-of-type {\n        vertical-align: middle;\n    }\n\n    .dataframe tbody tr th {\n        vertical-align: top;\n    }\n\n    .dataframe thead th {\n        text-align: right;\n    }\n</style>\n<table border=\"1\" class=\"dataframe\">\n  <thead>\n    <tr style=\"text-align: right;\">\n      <th></th>\n      <th>votes_id</th>\n      <th>votes_voter</th>\n      <th>votes_created</th>\n      <th>votes_choice</th>\n      <th>votes_vp</th>\n      <th>vote_timestamp</th>\n      <th>Proposal</th>\n      <th>DAO</th>\n      <th>proposals_title</th>\n      <th>proposals_id</th>\n      <th>...</th>\n      <th>6</th>\n      <th>7</th>\n      <th>8</th>\n      <th>9</th>\n      <th>10</th>\n      <th>11</th>\n      <th>12</th>\n      <th>13</th>\n      <th>14</th>\n      <th>proposal_date</th>\n    </tr>\n  </thead>\n  <tbody>\n    <tr>\n      <th>0</th>\n      <td>0xe6d83af6b85f1ac5fb6060b770dc414c9d0769ab5b17...</td>\n      <td>0xa7ad91C27701ec98f1014e4b200A0aE5a22C0dEe</td>\n      <td>1659732998</td>\n      <td>1</td>\n      <td>1</td>\n      <td>NaT</td>\n      <td>0x45356a3d2344b79db7191c4e209baa4fa38d781594c3...</td>\n      <td>daocity.eth</td>\n      <td>CIP-112: Parcel Zero Autonomization</td>\n      <td>0x45356a3d2344b79db7191c4e209baa4fa38d781594c3...</td>\n      <td>...</td>\n      <td>NaN</td>\n      <td>NaN</td>\n      <td>NaN</td>\n      <td>NaN</td>\n      <td>NaN</td>\n      <td>NaN</td>\n      <td>NaN</td>\n      <td>NaN</td>\n      <td>NaN</td>\n      <td>2022-07-29</td>\n    </tr>\n    <tr>\n      <th>1</th>\n      <td>0xc8e1ba340d90f175f025e7d2501041178e4e47804064...</td>\n      <td>0x2FcF7cA533D94f6535d63D0A5EC9dE85Ad2efd08</td>\n      <td>1659731782</td>\n      <td>1</td>\n      <td>1</td>\n      <td>NaT</td>\n      <td>0x45356a3d2344b79db7191c4e209baa4fa38d781594c3...</td>\n      <td>daocity.eth</td>\n      <td>CIP-112: Parcel Zero Autonomization</td>\n      <td>0x45356a3d2344b79db7191c4e209baa4fa38d781594c3...</td>\n      <td>...</td>\n      <td>NaN</td>\n      <td>NaN</td>\n      <td>NaN</td>\n      <td>NaN</td>\n      <td>NaN</td>\n      <td>NaN</td>\n      <td>NaN</td>\n      <td>NaN</td>\n      <td>NaN</td>\n      <td>2022-07-29</td>\n    </tr>\n    <tr>\n      <th>2</th>\n      <td>0xa36ebf6daeb2f9d6b0013348d91eb94e5c8323f55dfc...</td>\n      <td>0xB6f3A96F8FB7d9af243365025Ae328030BE04dbD</td>\n      <td>1659730613</td>\n      <td>2</td>\n      <td>2</td>\n      <td>NaT</td>\n      <td>0x45356a3d2344b79db7191c4e209baa4fa38d781594c3...</td>\n      <td>daocity.eth</td>\n      <td>CIP-112: Parcel Zero Autonomization</td>\n      <td>0x45356a3d2344b79db7191c4e209baa4fa38d781594c3...</td>\n      <td>...</td>\n      <td>NaN</td>\n      <td>NaN</td>\n      <td>NaN</td>\n      <td>NaN</td>\n      <td>NaN</td>\n      <td>NaN</td>\n      <td>NaN</td>\n      <td>NaN</td>\n      <td>NaN</td>\n      <td>2022-07-29</td>\n    </tr>\n    <tr>\n      <th>3</th>\n      <td>0xa07ab89d64ddf1af580a5626ff34eb25d84e3f46d89e...</td>\n      <td>0xbBE712b3aead4A4090DB1f25Fd3E92854033ea36</td>\n      <td>1659729641</td>\n      <td>2</td>\n      <td>1</td>\n      <td>NaT</td>\n      <td>0x45356a3d2344b79db7191c4e209baa4fa38d781594c3...</td>\n      <td>daocity.eth</td>\n      <td>CIP-112: Parcel Zero Autonomization</td>\n      <td>0x45356a3d2344b79db7191c4e209baa4fa38d781594c3...</td>\n      <td>...</td>\n      <td>NaN</td>\n      <td>NaN</td>\n      <td>NaN</td>\n      <td>NaN</td>\n      <td>NaN</td>\n      <td>NaN</td>\n      <td>NaN</td>\n      <td>NaN</td>\n      <td>NaN</td>\n      <td>2022-07-29</td>\n    </tr>\n    <tr>\n      <th>4</th>\n      <td>0x83887440b01a8364357c991d1bb7c6fb01269552f765...</td>\n      <td>0x43eD63322703Ca6249DDD5A094D9bee0A3E8aaF7</td>\n      <td>1659729186</td>\n      <td>1</td>\n      <td>1</td>\n      <td>NaT</td>\n      <td>0x45356a3d2344b79db7191c4e209baa4fa38d781594c3...</td>\n      <td>daocity.eth</td>\n      <td>CIP-112: Parcel Zero Autonomization</td>\n      <td>0x45356a3d2344b79db7191c4e209baa4fa38d781594c3...</td>\n      <td>...</td>\n      <td>NaN</td>\n      <td>NaN</td>\n      <td>NaN</td>\n      <td>NaN</td>\n      <td>NaN</td>\n      <td>NaN</td>\n      <td>NaN</td>\n      <td>NaN</td>\n      <td>NaN</td>\n      <td>2022-07-29</td>\n    </tr>\n    <tr>\n      <th>5</th>\n      <td>bafkreibmzt6oaphwhm3bqhzumrdsom4a5bnr3gyvhn573...</td>\n      <td>0xE293e09513210f578bab3772c39e3eaf5d23D834</td>\n      <td>1659729065</td>\n      <td>2</td>\n      <td>1</td>\n      <td>NaT</td>\n      <td>0x45356a3d2344b79db7191c4e209baa4fa38d781594c3...</td>\n      <td>daocity.eth</td>\n      <td>CIP-112: Parcel Zero Autonomization</td>\n      <td>0x45356a3d2344b79db7191c4e209baa4fa38d781594c3...</td>\n      <td>...</td>\n      <td>NaN</td>\n      <td>NaN</td>\n      <td>NaN</td>\n      <td>NaN</td>\n      <td>NaN</td>\n      <td>NaN</td>\n      <td>NaN</td>\n      <td>NaN</td>\n      <td>NaN</td>\n      <td>2022-07-29</td>\n    </tr>\n    <tr>\n      <th>6</th>\n      <td>0xe0a58e29c50fa16225e403d47b080563100457512676...</td>\n      <td>0xE7846949d13003DBaa2f98D555426A2A3DCa5e6f</td>\n      <td>1659729028</td>\n      <td>1</td>\n      <td>1</td>\n      <td>NaT</td>\n      <td>0x45356a3d2344b79db7191c4e209baa4fa38d781594c3...</td>\n      <td>daocity.eth</td>\n      <td>CIP-112: Parcel Zero Autonomization</td>\n      <td>0x45356a3d2344b79db7191c4e209baa4fa38d781594c3...</td>\n      <td>...</td>\n      <td>NaN</td>\n      <td>NaN</td>\n      <td>NaN</td>\n      <td>NaN</td>\n      <td>NaN</td>\n      <td>NaN</td>\n      <td>NaN</td>\n      <td>NaN</td>\n      <td>NaN</td>\n      <td>2022-07-29</td>\n    </tr>\n    <tr>\n      <th>7</th>\n      <td>0x16cad55c6ab7dc8260d5a83acdeefb0c2964a4e900e1...</td>\n      <td>0xa5c33795dA7022f2D783a4f80f006e53F0E10cA4</td>\n      <td>1659725155</td>\n      <td>1</td>\n      <td>1</td>\n      <td>NaT</td>\n      <td>0x45356a3d2344b79db7191c4e209baa4fa38d781594c3...</td>\n      <td>daocity.eth</td>\n      <td>CIP-112: Parcel Zero Autonomization</td>\n      <td>0x45356a3d2344b79db7191c4e209baa4fa38d781594c3...</td>\n      <td>...</td>\n      <td>NaN</td>\n      <td>NaN</td>\n      <td>NaN</td>\n      <td>NaN</td>\n      <td>NaN</td>\n      <td>NaN</td>\n      <td>NaN</td>\n      <td>NaN</td>\n      <td>NaN</td>\n      <td>2022-07-29</td>\n    </tr>\n    <tr>\n      <th>8</th>\n      <td>bafkreiheglnzhiersrmc3eiflfpjnqm26skmw5bcojluu...</td>\n      <td>0x089AdE4C4523102E4c5F18271DA4370a7f546Ef8</td>\n      <td>1659721440</td>\n      <td>1</td>\n      <td>1</td>\n      <td>NaT</td>\n      <td>0x45356a3d2344b79db7191c4e209baa4fa38d781594c3...</td>\n      <td>daocity.eth</td>\n      <td>CIP-112: Parcel Zero Autonomization</td>\n      <td>0x45356a3d2344b79db7191c4e209baa4fa38d781594c3...</td>\n      <td>...</td>\n      <td>NaN</td>\n      <td>NaN</td>\n      <td>NaN</td>\n      <td>NaN</td>\n      <td>NaN</td>\n      <td>NaN</td>\n      <td>NaN</td>\n      <td>NaN</td>\n      <td>NaN</td>\n      <td>2022-07-29</td>\n    </tr>\n    <tr>\n      <th>9</th>\n      <td>0xcc0f88bce63921f12ddf9ec49b02f590e92b9f1a1e96...</td>\n      <td>0x70718F62a25Cc3cd0FF8885716dB52da0bfdd2bc</td>\n      <td>1659712555</td>\n      <td>1</td>\n      <td>1</td>\n      <td>NaT</td>\n      <td>0x45356a3d2344b79db7191c4e209baa4fa38d781594c3...</td>\n      <td>daocity.eth</td>\n      <td>CIP-112: Parcel Zero Autonomization</td>\n      <td>0x45356a3d2344b79db7191c4e209baa4fa38d781594c3...</td>\n      <td>...</td>\n      <td>NaN</td>\n      <td>NaN</td>\n      <td>NaN</td>\n      <td>NaN</td>\n      <td>NaN</td>\n      <td>NaN</td>\n      <td>NaN</td>\n      <td>NaN</td>\n      <td>NaN</td>\n      <td>2022-07-29</td>\n    </tr>\n  </tbody>\n</table>\n<p>10 rows × 28 columns</p>\n</div>"
     },
     "execution_count": 24,
     "metadata": {},
     "output_type": "execute_result"
    }
   ],
   "source": [
    "#I join these two tables to create my charts as it makes life easier. We are going to build the charts here now, so here we go\n",
    "governance_data = pd.merge(voting_snapshots_list, olympus_governance_view_clean, how='inner', left_on='Proposal', right_on='proposals_id')\n",
    "del governance_data[\"proposals_body\"] #breaks the table with weird characters\n",
    "#governance_data[\"vote_value\"] = governance_data[\"votes_vp\"]*governance_data[\"usd_price\"]\n",
    "governance_data.head(10)"
   ],
   "metadata": {
    "collapsed": false,
    "pycharm": {
     "name": "#%%\n"
    }
   }
  },
  {
   "cell_type": "code",
   "execution_count": 25,
   "outputs": [],
   "source": [
    "#Spit out the file, but save it in its own folder for easy access\n",
    "final_file = file+'\\\\'+'final'\n",
    "final_raw_file = final_file\n",
    "os.makedirs(final_raw_file, exist_ok=True)\n",
    "final_path =file+'\\\\'+spacename+'governance_data_'+str(date.today().strftime(\"%b-%d-%Y\"))+'_'+str(len(governance_data))+'.csv'\n",
    "governance_data.to_csv(final_path, index = False)"
   ],
   "metadata": {
    "collapsed": false,
    "pycharm": {
     "name": "#%%\n"
    }
   }
  },
  {
   "cell_type": "code",
   "execution_count": 26,
   "outputs": [
    {
     "data": {
      "text/plain": "           DAO                                        Proposal  \\\n0  daocity.eth  QmYFsHd2xMNxidhiwkdxKLyXBAztVN7Zmb1ojwD8h7RAMn   \n1  daocity.eth  QmUf17vQtnbgS2o2v9sEGsz5QFfgBoKqVKXPsMjq1p2UTh   \n2  daocity.eth  QmYFsHd2xMNxidhiwkdxKLyXBAztVN7Zmb1ojwD8h7RAMn   \n3  daocity.eth  QmUf17vQtnbgS2o2v9sEGsz5QFfgBoKqVKXPsMjq1p2UTh   \n4  daocity.eth  QmUf17vQtnbgS2o2v9sEGsz5QFfgBoKqVKXPsMjq1p2UTh   \n5  daocity.eth  QmYFsHd2xMNxidhiwkdxKLyXBAztVN7Zmb1ojwD8h7RAMn   \n6  daocity.eth  QmYFsHd2xMNxidhiwkdxKLyXBAztVN7Zmb1ojwD8h7RAMn   \n7  daocity.eth  QmUf17vQtnbgS2o2v9sEGsz5QFfgBoKqVKXPsMjq1p2UTh   \n8  daocity.eth  QmUf17vQtnbgS2o2v9sEGsz5QFfgBoKqVKXPsMjq1p2UTh   \n9  daocity.eth  QmYFsHd2xMNxidhiwkdxKLyXBAztVN7Zmb1ojwD8h7RAMn   \n\n                                  votes_voter  votes_choice  votes_vp  \\\n0  0x681Cbae1C41e5eeC8411dD8e009fA71F81D03F7F             1         4   \n1  0x681Cbae1C41e5eeC8411dD8e009fA71F81D03F7F             2         4   \n2  0x3270d3832289d7Da29e643bcE66ffb3F1E5214b1             1         3   \n3  0x3270d3832289d7Da29e643bcE66ffb3F1E5214b1             2         3   \n4  0xF7a8331336D43Ead6fD72faA942C2A1C644BAaD3             2         3   \n5  0xF7a8331336D43Ead6fD72faA942C2A1C644BAaD3             1         3   \n6  0x1fc67D49c686bE84Ca8178C452C0a6D0368843Fe             1         2   \n7  0x1fc67D49c686bE84Ca8178C452C0a6D0368843Fe             1         2   \n8  0x1B366f42D0478aFf04C77105B4E994fa574DAdcA             2         2   \n9  0x1B366f42D0478aFf04C77105B4E994fa574DAdcA             1         2   \n\n   votes_created                                    proposals_title  \\\n0     1630441163               Shall we adopt the following budget?   \n1     1630448903  How many initial land parcel NFTs should we ma...   \n2     1630460790               Shall we adopt the following budget?   \n3     1630460923  How many initial land parcel NFTs should we ma...   \n4     1630519880  How many initial land parcel NFTs should we ma...   \n5     1630519947               Shall we adopt the following budget?   \n6     1630492662               Shall we adopt the following budget?   \n7     1630492826  How many initial land parcel NFTs should we ma...   \n8     1630521120  How many initial land parcel NFTs should we ma...   \n9     1630521217               Shall we adopt the following budget?   \n\n  proposal_date     proposal_date_2  cumulative_vp  total_vp  \\\n0    2021-08-31 2021-08-31 20:19:23            4.0      32.0   \n1    2021-08-31 2021-08-31 22:28:23            4.0      44.0   \n2    2021-08-31 2021-09-01 01:46:30            7.0      32.0   \n3    2021-08-31 2021-09-01 01:48:43            7.0      44.0   \n4    2021-08-31 2021-09-01 18:11:20           10.0      44.0   \n5    2021-08-31 2021-09-01 18:12:27           10.0      32.0   \n6    2021-08-31 2021-09-01 10:37:42           12.0      32.0   \n7    2021-08-31 2021-09-01 10:40:26           12.0      44.0   \n8    2021-08-31 2021-09-01 18:32:00           14.0      44.0   \n9    2021-08-31 2021-09-01 18:33:37           14.0      32.0   \n\n   percentage_of_total_vp  cum_percentage_of_total_vp  \\\n0                0.125000                    0.125000   \n1                0.090909                    0.090909   \n2                0.093750                    0.218750   \n3                0.068182                    0.159091   \n4                0.068182                    0.227273   \n5                0.093750                    0.312500   \n6                0.062500                    0.375000   \n7                0.045455                    0.272727   \n8                0.045455                    0.318182   \n9                0.062500                    0.437500   \n\n   cum_percentage_of_total_vp_stepped  proposal_voter_rank  total_voters  \\\n0                                 0.0                    1             1   \n1                                 0.0                    1             1   \n2                                 0.0                    2             2   \n3                                 0.0                    2             2   \n4                                 0.0                    3             3   \n5                                 0.0                    3             3   \n6                                 0.0                    4             4   \n7                                 0.0                    4             4   \n8                                 0.0                    5             5   \n9                                 0.0                    5             5   \n\n   percentage_voters_counted  percentage_voters_counted_stepped  \n0                   0.043478                                4.0  \n1                   0.028571                                3.0  \n2                   0.086957                                9.0  \n3                   0.057143                                6.0  \n4                   0.085714                                9.0  \n5                   0.130435                               13.0  \n6                   0.173913                               17.0  \n7                   0.114286                               11.0  \n8                   0.142857                               14.0  \n9                   0.217391                               22.0  ",
      "text/html": "<div>\n<style scoped>\n    .dataframe tbody tr th:only-of-type {\n        vertical-align: middle;\n    }\n\n    .dataframe tbody tr th {\n        vertical-align: top;\n    }\n\n    .dataframe thead th {\n        text-align: right;\n    }\n</style>\n<table border=\"1\" class=\"dataframe\">\n  <thead>\n    <tr style=\"text-align: right;\">\n      <th></th>\n      <th>DAO</th>\n      <th>Proposal</th>\n      <th>votes_voter</th>\n      <th>votes_choice</th>\n      <th>votes_vp</th>\n      <th>votes_created</th>\n      <th>proposals_title</th>\n      <th>proposal_date</th>\n      <th>proposal_date_2</th>\n      <th>cumulative_vp</th>\n      <th>total_vp</th>\n      <th>percentage_of_total_vp</th>\n      <th>cum_percentage_of_total_vp</th>\n      <th>cum_percentage_of_total_vp_stepped</th>\n      <th>proposal_voter_rank</th>\n      <th>total_voters</th>\n      <th>percentage_voters_counted</th>\n      <th>percentage_voters_counted_stepped</th>\n    </tr>\n  </thead>\n  <tbody>\n    <tr>\n      <th>0</th>\n      <td>daocity.eth</td>\n      <td>QmYFsHd2xMNxidhiwkdxKLyXBAztVN7Zmb1ojwD8h7RAMn</td>\n      <td>0x681Cbae1C41e5eeC8411dD8e009fA71F81D03F7F</td>\n      <td>1</td>\n      <td>4</td>\n      <td>1630441163</td>\n      <td>Shall we adopt the following budget?</td>\n      <td>2021-08-31</td>\n      <td>2021-08-31 20:19:23</td>\n      <td>4.0</td>\n      <td>32.0</td>\n      <td>0.125000</td>\n      <td>0.125000</td>\n      <td>0.0</td>\n      <td>1</td>\n      <td>1</td>\n      <td>0.043478</td>\n      <td>4.0</td>\n    </tr>\n    <tr>\n      <th>1</th>\n      <td>daocity.eth</td>\n      <td>QmUf17vQtnbgS2o2v9sEGsz5QFfgBoKqVKXPsMjq1p2UTh</td>\n      <td>0x681Cbae1C41e5eeC8411dD8e009fA71F81D03F7F</td>\n      <td>2</td>\n      <td>4</td>\n      <td>1630448903</td>\n      <td>How many initial land parcel NFTs should we ma...</td>\n      <td>2021-08-31</td>\n      <td>2021-08-31 22:28:23</td>\n      <td>4.0</td>\n      <td>44.0</td>\n      <td>0.090909</td>\n      <td>0.090909</td>\n      <td>0.0</td>\n      <td>1</td>\n      <td>1</td>\n      <td>0.028571</td>\n      <td>3.0</td>\n    </tr>\n    <tr>\n      <th>2</th>\n      <td>daocity.eth</td>\n      <td>QmYFsHd2xMNxidhiwkdxKLyXBAztVN7Zmb1ojwD8h7RAMn</td>\n      <td>0x3270d3832289d7Da29e643bcE66ffb3F1E5214b1</td>\n      <td>1</td>\n      <td>3</td>\n      <td>1630460790</td>\n      <td>Shall we adopt the following budget?</td>\n      <td>2021-08-31</td>\n      <td>2021-09-01 01:46:30</td>\n      <td>7.0</td>\n      <td>32.0</td>\n      <td>0.093750</td>\n      <td>0.218750</td>\n      <td>0.0</td>\n      <td>2</td>\n      <td>2</td>\n      <td>0.086957</td>\n      <td>9.0</td>\n    </tr>\n    <tr>\n      <th>3</th>\n      <td>daocity.eth</td>\n      <td>QmUf17vQtnbgS2o2v9sEGsz5QFfgBoKqVKXPsMjq1p2UTh</td>\n      <td>0x3270d3832289d7Da29e643bcE66ffb3F1E5214b1</td>\n      <td>2</td>\n      <td>3</td>\n      <td>1630460923</td>\n      <td>How many initial land parcel NFTs should we ma...</td>\n      <td>2021-08-31</td>\n      <td>2021-09-01 01:48:43</td>\n      <td>7.0</td>\n      <td>44.0</td>\n      <td>0.068182</td>\n      <td>0.159091</td>\n      <td>0.0</td>\n      <td>2</td>\n      <td>2</td>\n      <td>0.057143</td>\n      <td>6.0</td>\n    </tr>\n    <tr>\n      <th>4</th>\n      <td>daocity.eth</td>\n      <td>QmUf17vQtnbgS2o2v9sEGsz5QFfgBoKqVKXPsMjq1p2UTh</td>\n      <td>0xF7a8331336D43Ead6fD72faA942C2A1C644BAaD3</td>\n      <td>2</td>\n      <td>3</td>\n      <td>1630519880</td>\n      <td>How many initial land parcel NFTs should we ma...</td>\n      <td>2021-08-31</td>\n      <td>2021-09-01 18:11:20</td>\n      <td>10.0</td>\n      <td>44.0</td>\n      <td>0.068182</td>\n      <td>0.227273</td>\n      <td>0.0</td>\n      <td>3</td>\n      <td>3</td>\n      <td>0.085714</td>\n      <td>9.0</td>\n    </tr>\n    <tr>\n      <th>5</th>\n      <td>daocity.eth</td>\n      <td>QmYFsHd2xMNxidhiwkdxKLyXBAztVN7Zmb1ojwD8h7RAMn</td>\n      <td>0xF7a8331336D43Ead6fD72faA942C2A1C644BAaD3</td>\n      <td>1</td>\n      <td>3</td>\n      <td>1630519947</td>\n      <td>Shall we adopt the following budget?</td>\n      <td>2021-08-31</td>\n      <td>2021-09-01 18:12:27</td>\n      <td>10.0</td>\n      <td>32.0</td>\n      <td>0.093750</td>\n      <td>0.312500</td>\n      <td>0.0</td>\n      <td>3</td>\n      <td>3</td>\n      <td>0.130435</td>\n      <td>13.0</td>\n    </tr>\n    <tr>\n      <th>6</th>\n      <td>daocity.eth</td>\n      <td>QmYFsHd2xMNxidhiwkdxKLyXBAztVN7Zmb1ojwD8h7RAMn</td>\n      <td>0x1fc67D49c686bE84Ca8178C452C0a6D0368843Fe</td>\n      <td>1</td>\n      <td>2</td>\n      <td>1630492662</td>\n      <td>Shall we adopt the following budget?</td>\n      <td>2021-08-31</td>\n      <td>2021-09-01 10:37:42</td>\n      <td>12.0</td>\n      <td>32.0</td>\n      <td>0.062500</td>\n      <td>0.375000</td>\n      <td>0.0</td>\n      <td>4</td>\n      <td>4</td>\n      <td>0.173913</td>\n      <td>17.0</td>\n    </tr>\n    <tr>\n      <th>7</th>\n      <td>daocity.eth</td>\n      <td>QmUf17vQtnbgS2o2v9sEGsz5QFfgBoKqVKXPsMjq1p2UTh</td>\n      <td>0x1fc67D49c686bE84Ca8178C452C0a6D0368843Fe</td>\n      <td>1</td>\n      <td>2</td>\n      <td>1630492826</td>\n      <td>How many initial land parcel NFTs should we ma...</td>\n      <td>2021-08-31</td>\n      <td>2021-09-01 10:40:26</td>\n      <td>12.0</td>\n      <td>44.0</td>\n      <td>0.045455</td>\n      <td>0.272727</td>\n      <td>0.0</td>\n      <td>4</td>\n      <td>4</td>\n      <td>0.114286</td>\n      <td>11.0</td>\n    </tr>\n    <tr>\n      <th>8</th>\n      <td>daocity.eth</td>\n      <td>QmUf17vQtnbgS2o2v9sEGsz5QFfgBoKqVKXPsMjq1p2UTh</td>\n      <td>0x1B366f42D0478aFf04C77105B4E994fa574DAdcA</td>\n      <td>2</td>\n      <td>2</td>\n      <td>1630521120</td>\n      <td>How many initial land parcel NFTs should we ma...</td>\n      <td>2021-08-31</td>\n      <td>2021-09-01 18:32:00</td>\n      <td>14.0</td>\n      <td>44.0</td>\n      <td>0.045455</td>\n      <td>0.318182</td>\n      <td>0.0</td>\n      <td>5</td>\n      <td>5</td>\n      <td>0.142857</td>\n      <td>14.0</td>\n    </tr>\n    <tr>\n      <th>9</th>\n      <td>daocity.eth</td>\n      <td>QmYFsHd2xMNxidhiwkdxKLyXBAztVN7Zmb1ojwD8h7RAMn</td>\n      <td>0x1B366f42D0478aFf04C77105B4E994fa574DAdcA</td>\n      <td>1</td>\n      <td>2</td>\n      <td>1630521217</td>\n      <td>Shall we adopt the following budget?</td>\n      <td>2021-08-31</td>\n      <td>2021-09-01 18:33:37</td>\n      <td>14.0</td>\n      <td>32.0</td>\n      <td>0.062500</td>\n      <td>0.437500</td>\n      <td>0.0</td>\n      <td>5</td>\n      <td>5</td>\n      <td>0.217391</td>\n      <td>22.0</td>\n    </tr>\n  </tbody>\n</table>\n</div>"
     },
     "execution_count": 26,
     "metadata": {},
     "output_type": "execute_result"
    }
   ],
   "source": [
    "crunch_data = db.query(\"select \"\n",
    "                           \"Proposal\"\n",
    "                           \",votes_voter \"\n",
    "                           \",votes_choice\"\n",
    "                           \",votes_vp\"\n",
    "                           \",votes_created \"\n",
    "                       \"    ,proposals_title \"\n",
    "                       \"    ,proposal_date\"\n",
    "                    \"       , to_timestamp(min(votes_Created::bigint)) proposal_date \"\n",
    "                           \",sum(votes_vp) over (Partition by Proposal  order by votes_vp desc, votes_created asc) as cumulative_vp \"\n",
    "                           \",sum(votes_vp) over (Partition by Proposal) as total_vp \"\n",
    "                           \",(votes_vp::decimal/sum(votes_vp::decimal) over (Partition by Proposal)) as percentage_of_total_vp \"\n",
    "                           \",((sum(votes_vp) over (Partition by Proposal  order by votes_vp desc, votes_created asc))::decimal/sum(votes_vp::decimal) over (Partition by Proposal)) as cum_percentage_of_total_vp \"\n",
    "                       \",round((sum(votes_vp) over (Partition by Proposal  order by votes_vp desc, votes_created asc))::decimal/sum(votes_vp::decimal) over (Partition by Proposal)) as cum_percentage_of_total_vp_stepped \"\n",
    "                           \",row_number() over (Partition by Proposal order by votes_vp desc, votes_created asc) as proposal_voter_rank \"\n",
    "                           \",count(votes_voter) over (Partition by Proposal  order by votes_vp desc, votes_created asc) total_voters \"\n",
    "                           \",(count(*) over (Partition by Proposal  order by votes_vp desc, votes_created asc))::decimal/(count(*) over (Partition by Proposal))::decimal percentage_voters_counted \"\n",
    "                           \",round(100*(count(*) over (Partition by Proposal  order by votes_vp desc, votes_created asc))::decimal/(count(*) over (Partition by Proposal)))::decimal percentage_voters_counted_stepped \"\n",
    "                       \"from \"\n",
    "                       \"    governance_data  \"\n",
    "                       \"\"\n",
    "                       \"Group by \"\n",
    "                       \"    Proposal\"\n",
    "                       \"    ,votes_voter\"\n",
    "                       \"    ,votes_choice\"\n",
    "                       \"    , votes_vp \"\n",
    "                       \"    , votes_created \"\n",
    "                       \"    , proposals_title \"\n",
    "                       \"    ,proposal_date \"\n",
    "                       \"\"\n",
    "                       \"Order by \"\n",
    "                       \"    7 asc, \"\n",
    "                       \"    votes_vp desc \"\n",
    "                       \"    , votes_created asc\"\n",
    "                       \"\").df()\n",
    "\n",
    "\n",
    "crunch_data.insert(0, 'DAO', spacename)\n",
    "crunch_data.head(n=10)\n"
   ],
   "metadata": {
    "collapsed": false,
    "pycharm": {
     "name": "#%%\n"
    }
   }
  },
  {
   "cell_type": "code",
   "execution_count": 27,
   "outputs": [
    {
     "data": {
      "text/plain": "              DAO                                           Proposal  \\\n0     daocity.eth     QmYFsHd2xMNxidhiwkdxKLyXBAztVN7Zmb1ojwD8h7RAMn   \n1     daocity.eth     QmUf17vQtnbgS2o2v9sEGsz5QFfgBoKqVKXPsMjq1p2UTh   \n2     daocity.eth     QmUf17vQtnbgS2o2v9sEGsz5QFfgBoKqVKXPsMjq1p2UTh   \n3     daocity.eth     QmYFsHd2xMNxidhiwkdxKLyXBAztVN7Zmb1ojwD8h7RAMn   \n4     daocity.eth     QmYFsHd2xMNxidhiwkdxKLyXBAztVN7Zmb1ojwD8h7RAMn   \n...           ...                                                ...   \n5734  daocity.eth  0x45356a3d2344b79db7191c4e209baa4fa38d781594c3...   \n5735  daocity.eth  0x26ceb955ca87bc0a2ad76552d1a8ea03f7cd3ff5d541...   \n5736  daocity.eth  0x26ceb955ca87bc0a2ad76552d1a8ea03f7cd3ff5d541...   \n5737  daocity.eth  0x45356a3d2344b79db7191c4e209baa4fa38d781594c3...   \n5738  daocity.eth  0x26ceb955ca87bc0a2ad76552d1a8ea03f7cd3ff5d541...   \n\n                                     votes_voter  votes_choice  votes_vp  \\\n0     0x3270d3832289d7Da29e643bcE66ffb3F1E5214b1             1         3   \n1     0x3270d3832289d7Da29e643bcE66ffb3F1E5214b1             2         3   \n2     0xF7a8331336D43Ead6fD72faA942C2A1C644BAaD3             2         3   \n3     0xF7a8331336D43Ead6fD72faA942C2A1C644BAaD3             1         3   \n4     0x1fc67D49c686bE84Ca8178C452C0a6D0368843Fe             1         2   \n...                                          ...           ...       ...   \n5734  0x21BF63C0418D4f1D13f884C50498B2259B321b43             1         1   \n5735  0xa1d27284C85D9d1db6E40f8ee3a86d7f5759CD80             1         1   \n5736  0x37683Ed1c92897B920D4b399d867DFd9ED8B1C01             2         1   \n5737  0xe854E410fD76aba8Ef411724a4624E176aa5408e             1         1   \n5738  0x03FaB3Fb53ca48AA3821e76826188c388C77D4CF             1         1   \n\n      votes_created                                    proposals_title  \\\n0        1630460790               Shall we adopt the following budget?   \n1        1630460923  How many initial land parcel NFTs should we ma...   \n2        1630519880  How many initial land parcel NFTs should we ma...   \n3        1630519947               Shall we adopt the following budget?   \n4        1630492662               Shall we adopt the following budget?   \n...             ...                                                ...   \n5734     1659169078                CIP-112: Parcel Zero Autonomization   \n5735     1659193639   CIP-115: CityDAO Academic Conference and Journal   \n5736     1659194858   CIP-115: CityDAO Academic Conference and Journal   \n5737     1659205386                CIP-112: Parcel Zero Autonomization   \n5738     1659276824   CIP-115: CityDAO Academic Conference and Journal   \n\n     proposal_date     proposal_date_2  cumulative_vp  ...  \\\n0       2021-08-31 2021-09-01 01:46:30            7.0  ...   \n1       2021-08-31 2021-09-01 01:48:43            7.0  ...   \n2       2021-08-31 2021-09-01 18:11:20           10.0  ...   \n3       2021-08-31 2021-09-01 18:12:27           10.0  ...   \n4       2021-08-31 2021-09-01 10:37:42           12.0  ...   \n...            ...                 ...            ...  ...   \n5734    2022-07-29 2022-07-30 08:17:58           92.0  ...   \n5735    2022-07-29 2022-07-30 15:07:19           68.0  ...   \n5736    2022-07-29 2022-07-30 15:27:38           69.0  ...   \n5737    2022-07-29 2022-07-30 18:23:06          111.0  ...   \n5738    2022-07-29 2022-07-31 14:13:44           79.0  ...   \n\n      cum_percentage_of_total_vp  cum_percentage_of_total_vp_stepped  \\\n0                       0.218750                                 0.0   \n1                       0.159091                                 0.0   \n2                       0.227273                                 0.0   \n3                       0.312500                                 0.0   \n4                       0.375000                                 0.0   \n...                          ...                                 ...   \n5734                    0.412556                                 0.0   \n5735                    0.395349                                 0.0   \n5736                    0.401163                                 0.0   \n5737                    0.497758                                 0.0   \n5738                    0.459302                                 0.0   \n\n      proposal_voter_rank  total_voters  percentage_voters_counted  \\\n0                       2             2                   0.086957   \n1                       2             2                   0.057143   \n2                       3             3                   0.085714   \n3                       3             3                   0.130435   \n4                       4             4                   0.173913   \n...                   ...           ...                        ...   \n5734                   47            47                   0.264045   \n5735                   45            45                   0.302013   \n5736                   46            46                   0.308725   \n5737                   66            66                   0.370787   \n5738                   56            56                   0.375839   \n\n      percentage_voters_counted_stepped  \\\n0                                   9.0   \n1                                   6.0   \n2                                   9.0   \n3                                  13.0   \n4                                  17.0   \n...                                 ...   \n5734                               26.0   \n5735                               30.0   \n5736                               31.0   \n5737                               37.0   \n5738                               38.0   \n\n                                             Proposal_2  \\\n0        QmYFsHd2xMNxidhiwkdxKLyXBAztVN7Zmb1ojwD8h7RAMn   \n1        QmUf17vQtnbgS2o2v9sEGsz5QFfgBoKqVKXPsMjq1p2UTh   \n2        QmUf17vQtnbgS2o2v9sEGsz5QFfgBoKqVKXPsMjq1p2UTh   \n3        QmYFsHd2xMNxidhiwkdxKLyXBAztVN7Zmb1ojwD8h7RAMn   \n4        QmYFsHd2xMNxidhiwkdxKLyXBAztVN7Zmb1ojwD8h7RAMn   \n...                                                 ...   \n5734  0x45356a3d2344b79db7191c4e209baa4fa38d781594c3...   \n5735  0x26ceb955ca87bc0a2ad76552d1a8ea03f7cd3ff5d541...   \n5736  0x26ceb955ca87bc0a2ad76552d1a8ea03f7cd3ff5d541...   \n5737  0x45356a3d2344b79db7191c4e209baa4fa38d781594c3...   \n5738  0x26ceb955ca87bc0a2ad76552d1a8ea03f7cd3ff5d541...   \n\n                                   votes_voter_2 proposal_voter_rank_2  \\\n0     0x681Cbae1C41e5eeC8411dD8e009fA71F81D03F7F                     1   \n1     0x681Cbae1C41e5eeC8411dD8e009fA71F81D03F7F                     1   \n2     0x3270d3832289d7Da29e643bcE66ffb3F1E5214b1                     2   \n3     0x3270d3832289d7Da29e643bcE66ffb3F1E5214b1                     2   \n4     0xF7a8331336D43Ead6fD72faA942C2A1C644BAaD3                     3   \n...                                          ...                   ...   \n5734  0xCf352e50Bc2dD51D0D2169Ce7DbeFFd5A5Cc04df                    46   \n5735  0x0891636C32eF9386d9CC754793Afb2affb094054                    44   \n5736  0xa1d27284C85D9d1db6E40f8ee3a86d7f5759CD80                    45   \n5737  0xe9A651eAE16c7A0EAC636De6eA9DF84e3C57D1f5                    65   \n5738  0x5739C96553b16863643c08F3bdb2E81eFc00B935                    55   \n\n     leader_rank  \n0              2  \n1              2  \n2              3  \n3              3  \n4              4  \n...          ...  \n5734          47  \n5735          45  \n5736          46  \n5737          66  \n5738          56  \n\n[5739 rows x 22 columns]",
      "text/html": "<div>\n<style scoped>\n    .dataframe tbody tr th:only-of-type {\n        vertical-align: middle;\n    }\n\n    .dataframe tbody tr th {\n        vertical-align: top;\n    }\n\n    .dataframe thead th {\n        text-align: right;\n    }\n</style>\n<table border=\"1\" class=\"dataframe\">\n  <thead>\n    <tr style=\"text-align: right;\">\n      <th></th>\n      <th>DAO</th>\n      <th>Proposal</th>\n      <th>votes_voter</th>\n      <th>votes_choice</th>\n      <th>votes_vp</th>\n      <th>votes_created</th>\n      <th>proposals_title</th>\n      <th>proposal_date</th>\n      <th>proposal_date_2</th>\n      <th>cumulative_vp</th>\n      <th>...</th>\n      <th>cum_percentage_of_total_vp</th>\n      <th>cum_percentage_of_total_vp_stepped</th>\n      <th>proposal_voter_rank</th>\n      <th>total_voters</th>\n      <th>percentage_voters_counted</th>\n      <th>percentage_voters_counted_stepped</th>\n      <th>Proposal_2</th>\n      <th>votes_voter_2</th>\n      <th>proposal_voter_rank_2</th>\n      <th>leader_rank</th>\n    </tr>\n  </thead>\n  <tbody>\n    <tr>\n      <th>0</th>\n      <td>daocity.eth</td>\n      <td>QmYFsHd2xMNxidhiwkdxKLyXBAztVN7Zmb1ojwD8h7RAMn</td>\n      <td>0x3270d3832289d7Da29e643bcE66ffb3F1E5214b1</td>\n      <td>1</td>\n      <td>3</td>\n      <td>1630460790</td>\n      <td>Shall we adopt the following budget?</td>\n      <td>2021-08-31</td>\n      <td>2021-09-01 01:46:30</td>\n      <td>7.0</td>\n      <td>...</td>\n      <td>0.218750</td>\n      <td>0.0</td>\n      <td>2</td>\n      <td>2</td>\n      <td>0.086957</td>\n      <td>9.0</td>\n      <td>QmYFsHd2xMNxidhiwkdxKLyXBAztVN7Zmb1ojwD8h7RAMn</td>\n      <td>0x681Cbae1C41e5eeC8411dD8e009fA71F81D03F7F</td>\n      <td>1</td>\n      <td>2</td>\n    </tr>\n    <tr>\n      <th>1</th>\n      <td>daocity.eth</td>\n      <td>QmUf17vQtnbgS2o2v9sEGsz5QFfgBoKqVKXPsMjq1p2UTh</td>\n      <td>0x3270d3832289d7Da29e643bcE66ffb3F1E5214b1</td>\n      <td>2</td>\n      <td>3</td>\n      <td>1630460923</td>\n      <td>How many initial land parcel NFTs should we ma...</td>\n      <td>2021-08-31</td>\n      <td>2021-09-01 01:48:43</td>\n      <td>7.0</td>\n      <td>...</td>\n      <td>0.159091</td>\n      <td>0.0</td>\n      <td>2</td>\n      <td>2</td>\n      <td>0.057143</td>\n      <td>6.0</td>\n      <td>QmUf17vQtnbgS2o2v9sEGsz5QFfgBoKqVKXPsMjq1p2UTh</td>\n      <td>0x681Cbae1C41e5eeC8411dD8e009fA71F81D03F7F</td>\n      <td>1</td>\n      <td>2</td>\n    </tr>\n    <tr>\n      <th>2</th>\n      <td>daocity.eth</td>\n      <td>QmUf17vQtnbgS2o2v9sEGsz5QFfgBoKqVKXPsMjq1p2UTh</td>\n      <td>0xF7a8331336D43Ead6fD72faA942C2A1C644BAaD3</td>\n      <td>2</td>\n      <td>3</td>\n      <td>1630519880</td>\n      <td>How many initial land parcel NFTs should we ma...</td>\n      <td>2021-08-31</td>\n      <td>2021-09-01 18:11:20</td>\n      <td>10.0</td>\n      <td>...</td>\n      <td>0.227273</td>\n      <td>0.0</td>\n      <td>3</td>\n      <td>3</td>\n      <td>0.085714</td>\n      <td>9.0</td>\n      <td>QmUf17vQtnbgS2o2v9sEGsz5QFfgBoKqVKXPsMjq1p2UTh</td>\n      <td>0x3270d3832289d7Da29e643bcE66ffb3F1E5214b1</td>\n      <td>2</td>\n      <td>3</td>\n    </tr>\n    <tr>\n      <th>3</th>\n      <td>daocity.eth</td>\n      <td>QmYFsHd2xMNxidhiwkdxKLyXBAztVN7Zmb1ojwD8h7RAMn</td>\n      <td>0xF7a8331336D43Ead6fD72faA942C2A1C644BAaD3</td>\n      <td>1</td>\n      <td>3</td>\n      <td>1630519947</td>\n      <td>Shall we adopt the following budget?</td>\n      <td>2021-08-31</td>\n      <td>2021-09-01 18:12:27</td>\n      <td>10.0</td>\n      <td>...</td>\n      <td>0.312500</td>\n      <td>0.0</td>\n      <td>3</td>\n      <td>3</td>\n      <td>0.130435</td>\n      <td>13.0</td>\n      <td>QmYFsHd2xMNxidhiwkdxKLyXBAztVN7Zmb1ojwD8h7RAMn</td>\n      <td>0x3270d3832289d7Da29e643bcE66ffb3F1E5214b1</td>\n      <td>2</td>\n      <td>3</td>\n    </tr>\n    <tr>\n      <th>4</th>\n      <td>daocity.eth</td>\n      <td>QmYFsHd2xMNxidhiwkdxKLyXBAztVN7Zmb1ojwD8h7RAMn</td>\n      <td>0x1fc67D49c686bE84Ca8178C452C0a6D0368843Fe</td>\n      <td>1</td>\n      <td>2</td>\n      <td>1630492662</td>\n      <td>Shall we adopt the following budget?</td>\n      <td>2021-08-31</td>\n      <td>2021-09-01 10:37:42</td>\n      <td>12.0</td>\n      <td>...</td>\n      <td>0.375000</td>\n      <td>0.0</td>\n      <td>4</td>\n      <td>4</td>\n      <td>0.173913</td>\n      <td>17.0</td>\n      <td>QmYFsHd2xMNxidhiwkdxKLyXBAztVN7Zmb1ojwD8h7RAMn</td>\n      <td>0xF7a8331336D43Ead6fD72faA942C2A1C644BAaD3</td>\n      <td>3</td>\n      <td>4</td>\n    </tr>\n    <tr>\n      <th>...</th>\n      <td>...</td>\n      <td>...</td>\n      <td>...</td>\n      <td>...</td>\n      <td>...</td>\n      <td>...</td>\n      <td>...</td>\n      <td>...</td>\n      <td>...</td>\n      <td>...</td>\n      <td>...</td>\n      <td>...</td>\n      <td>...</td>\n      <td>...</td>\n      <td>...</td>\n      <td>...</td>\n      <td>...</td>\n      <td>...</td>\n      <td>...</td>\n      <td>...</td>\n      <td>...</td>\n    </tr>\n    <tr>\n      <th>5734</th>\n      <td>daocity.eth</td>\n      <td>0x45356a3d2344b79db7191c4e209baa4fa38d781594c3...</td>\n      <td>0x21BF63C0418D4f1D13f884C50498B2259B321b43</td>\n      <td>1</td>\n      <td>1</td>\n      <td>1659169078</td>\n      <td>CIP-112: Parcel Zero Autonomization</td>\n      <td>2022-07-29</td>\n      <td>2022-07-30 08:17:58</td>\n      <td>92.0</td>\n      <td>...</td>\n      <td>0.412556</td>\n      <td>0.0</td>\n      <td>47</td>\n      <td>47</td>\n      <td>0.264045</td>\n      <td>26.0</td>\n      <td>0x45356a3d2344b79db7191c4e209baa4fa38d781594c3...</td>\n      <td>0xCf352e50Bc2dD51D0D2169Ce7DbeFFd5A5Cc04df</td>\n      <td>46</td>\n      <td>47</td>\n    </tr>\n    <tr>\n      <th>5735</th>\n      <td>daocity.eth</td>\n      <td>0x26ceb955ca87bc0a2ad76552d1a8ea03f7cd3ff5d541...</td>\n      <td>0xa1d27284C85D9d1db6E40f8ee3a86d7f5759CD80</td>\n      <td>1</td>\n      <td>1</td>\n      <td>1659193639</td>\n      <td>CIP-115: CityDAO Academic Conference and Journal</td>\n      <td>2022-07-29</td>\n      <td>2022-07-30 15:07:19</td>\n      <td>68.0</td>\n      <td>...</td>\n      <td>0.395349</td>\n      <td>0.0</td>\n      <td>45</td>\n      <td>45</td>\n      <td>0.302013</td>\n      <td>30.0</td>\n      <td>0x26ceb955ca87bc0a2ad76552d1a8ea03f7cd3ff5d541...</td>\n      <td>0x0891636C32eF9386d9CC754793Afb2affb094054</td>\n      <td>44</td>\n      <td>45</td>\n    </tr>\n    <tr>\n      <th>5736</th>\n      <td>daocity.eth</td>\n      <td>0x26ceb955ca87bc0a2ad76552d1a8ea03f7cd3ff5d541...</td>\n      <td>0x37683Ed1c92897B920D4b399d867DFd9ED8B1C01</td>\n      <td>2</td>\n      <td>1</td>\n      <td>1659194858</td>\n      <td>CIP-115: CityDAO Academic Conference and Journal</td>\n      <td>2022-07-29</td>\n      <td>2022-07-30 15:27:38</td>\n      <td>69.0</td>\n      <td>...</td>\n      <td>0.401163</td>\n      <td>0.0</td>\n      <td>46</td>\n      <td>46</td>\n      <td>0.308725</td>\n      <td>31.0</td>\n      <td>0x26ceb955ca87bc0a2ad76552d1a8ea03f7cd3ff5d541...</td>\n      <td>0xa1d27284C85D9d1db6E40f8ee3a86d7f5759CD80</td>\n      <td>45</td>\n      <td>46</td>\n    </tr>\n    <tr>\n      <th>5737</th>\n      <td>daocity.eth</td>\n      <td>0x45356a3d2344b79db7191c4e209baa4fa38d781594c3...</td>\n      <td>0xe854E410fD76aba8Ef411724a4624E176aa5408e</td>\n      <td>1</td>\n      <td>1</td>\n      <td>1659205386</td>\n      <td>CIP-112: Parcel Zero Autonomization</td>\n      <td>2022-07-29</td>\n      <td>2022-07-30 18:23:06</td>\n      <td>111.0</td>\n      <td>...</td>\n      <td>0.497758</td>\n      <td>0.0</td>\n      <td>66</td>\n      <td>66</td>\n      <td>0.370787</td>\n      <td>37.0</td>\n      <td>0x45356a3d2344b79db7191c4e209baa4fa38d781594c3...</td>\n      <td>0xe9A651eAE16c7A0EAC636De6eA9DF84e3C57D1f5</td>\n      <td>65</td>\n      <td>66</td>\n    </tr>\n    <tr>\n      <th>5738</th>\n      <td>daocity.eth</td>\n      <td>0x26ceb955ca87bc0a2ad76552d1a8ea03f7cd3ff5d541...</td>\n      <td>0x03FaB3Fb53ca48AA3821e76826188c388C77D4CF</td>\n      <td>1</td>\n      <td>1</td>\n      <td>1659276824</td>\n      <td>CIP-115: CityDAO Academic Conference and Journal</td>\n      <td>2022-07-29</td>\n      <td>2022-07-31 14:13:44</td>\n      <td>79.0</td>\n      <td>...</td>\n      <td>0.459302</td>\n      <td>0.0</td>\n      <td>56</td>\n      <td>56</td>\n      <td>0.375839</td>\n      <td>38.0</td>\n      <td>0x26ceb955ca87bc0a2ad76552d1a8ea03f7cd3ff5d541...</td>\n      <td>0x5739C96553b16863643c08F3bdb2E81eFc00B935</td>\n      <td>55</td>\n      <td>56</td>\n    </tr>\n  </tbody>\n</table>\n<p>5739 rows × 22 columns</p>\n</div>"
     },
     "execution_count": 27,
     "metadata": {},
     "output_type": "execute_result"
    }
   ],
   "source": [
    "#leaders = crunch_data.loc[crunch_data['proposal_voter_rank'] <=3]\n",
    "#leader_count = leaders.votes_voter.nunique()\n",
    "#leader_count\n",
    "#DONT ASK ME WHY THIS DIDNT WORK. HAVE TO DO IT THE UGLY WAY\n",
    "\n",
    "leader_ranks = db.query(\"with leader_ranks as \"\n",
    "                        \"(Select distinct \"\n",
    "                        \"   B.Proposal\"\n",
    "                        \"   ,B.votes_voter\"\n",
    "                        \"   ,B.proposal_voter_rank \"\n",
    "                        \"   ,(B.proposal_voter_rank +1) as leader_rank \"\n",
    "                        \"From \"\n",
    "                        \"   (select \"\n",
    "                               \"Proposal\"\n",
    "                               \",votes_voter \"\n",
    "                               \",votes_choice\"\n",
    "                               \",votes_vp\"\n",
    "                               \",votes_created  \"\n",
    "                               \",sum(votes_vp) over (Partition by Proposal  order by votes_vp desc, votes_created asc) as cumulative_vp\"\n",
    "                               \",sum(votes_vp) over (Partition by Proposal) as total_vp\"\n",
    "                               \",(votes_vp::decimal/sum(votes_vp::decimal) over (Partition by Proposal)) as percentage_of_total_vp \"\n",
    "                               \",((sum(votes_vp) over (Partition by Proposal  order by votes_vp desc, votes_created asc))::decimal/sum(votes_vp::decimal) over (Partition by Proposal)) as cum_percentage_of_total_vp \"\n",
    "                           \"    ,round((sum(votes_vp) over (Partition by Proposal  order by votes_vp desc, votes_created asc))::decimal/sum(votes_vp::decimal) over (Partition by Proposal)) as cum_percentage_of_total_vp_stepped \"\n",
    "                               \",row_number() over (Partition by Proposal order by votes_vp desc, votes_created asc) as proposal_voter_rank \"\n",
    "                               \",count(votes_voter) over (Partition by Proposal  order by votes_vp desc, votes_created asc) total_voters \"\n",
    "                               \",(count(*) over (Partition by Proposal  order by votes_vp desc, votes_created asc))::decimal/(count(*) over (Partition by Proposal))::decimal percentage_voters_counted \"\n",
    "                               \",round(100*(count(*) over (Partition by Proposal  order by votes_vp desc, votes_created asc))::decimal/(count(*) over (Partition by Proposal)))::decimal percentage_voters_counted_stepped \"\n",
    "                           \"from \"\n",
    "                           \"    governance_data  \"\n",
    "                               \"\"\n",
    "                           \"Group by \"\n",
    "                           \"    Proposal\"\n",
    "                           \"    ,votes_voter\"\n",
    "                           \"    ,votes_choice\"\n",
    "                           \"    , votes_vp \"\n",
    "                           \"    , votes_created \"\n",
    "                           \"\"\n",
    "                           \"Order by \"\n",
    "                           \"    Proposal \"\n",
    "                           \"    ,votes_vp desc \"\n",
    "                           \"    , votes_created asc) B \"\n",
    "                        \"where \"\n",
    "                        \"   B.cum_percentage_of_total_vp<=0.5) \"\n",
    "                        \"\"\n",
    "                        \"Select \"\n",
    "                        \"   *\"\n",
    "                        \"From crunch_data A\"\n",
    "                        \"   Join leader_ranks B on A.proposal_voter_rank = B.leader_rank and A.Proposal = B.Proposal\"\n",
    "                        \"\"\n",
    "                    ).df()\n",
    "leader_ranks\n",
    "\n",
    "\n"
   ],
   "metadata": {
    "collapsed": false,
    "pycharm": {
     "name": "#%%\n"
    }
   }
  },
  {
   "cell_type": "code",
   "execution_count": 28,
   "outputs": [],
   "source": [
    "#dao_members = db.query(\"Select count(distinct votes_voter) from crunch_data\")\n",
    "#dao_members"
   ],
   "metadata": {
    "collapsed": false,
    "pycharm": {
     "name": "#%%\n"
    }
   }
  },
  {
   "cell_type": "code",
   "execution_count": 29,
   "outputs": [
    {
     "name": "stdout",
     "output_type": "stream",
     "text": [
      "3181 51.78%\n"
     ]
    }
   ],
   "source": [
    "dao_members = crunch_data.groupby('DAO').votes_voter.nunique()\n",
    "dao_members = dao_members.iloc[0]\n",
    "leader_count =leader_ranks.votes_voter.nunique()\n",
    "elite = round((leader_count)/(dao_members),4)\n",
    "\n",
    "print(dao_members, \"{0:.2%}\".format(elite))\n"
   ],
   "metadata": {
    "collapsed": false,
    "pycharm": {
     "name": "#%%\n"
    }
   }
  },
  {
   "cell_type": "code",
   "execution_count": 30,
   "outputs": [
    {
     "data": {
      "text/plain": "           DAO                                        Proposal  \\\n0  daocity.eth  QmYFsHd2xMNxidhiwkdxKLyXBAztVN7Zmb1ojwD8h7RAMn   \n1  daocity.eth  QmUf17vQtnbgS2o2v9sEGsz5QFfgBoKqVKXPsMjq1p2UTh   \n2  daocity.eth  QmYFsHd2xMNxidhiwkdxKLyXBAztVN7Zmb1ojwD8h7RAMn   \n3  daocity.eth  QmUf17vQtnbgS2o2v9sEGsz5QFfgBoKqVKXPsMjq1p2UTh   \n4  daocity.eth  QmUf17vQtnbgS2o2v9sEGsz5QFfgBoKqVKXPsMjq1p2UTh   \n5  daocity.eth  QmYFsHd2xMNxidhiwkdxKLyXBAztVN7Zmb1ojwD8h7RAMn   \n6  daocity.eth  QmYFsHd2xMNxidhiwkdxKLyXBAztVN7Zmb1ojwD8h7RAMn   \n7  daocity.eth  QmUf17vQtnbgS2o2v9sEGsz5QFfgBoKqVKXPsMjq1p2UTh   \n8  daocity.eth  QmUf17vQtnbgS2o2v9sEGsz5QFfgBoKqVKXPsMjq1p2UTh   \n9  daocity.eth  QmYFsHd2xMNxidhiwkdxKLyXBAztVN7Zmb1ojwD8h7RAMn   \n\n                                  votes_voter  votes_choice  votes_vp  \\\n0  0x681Cbae1C41e5eeC8411dD8e009fA71F81D03F7F             1         4   \n1  0x681Cbae1C41e5eeC8411dD8e009fA71F81D03F7F             2         4   \n2  0x3270d3832289d7Da29e643bcE66ffb3F1E5214b1             1         3   \n3  0x3270d3832289d7Da29e643bcE66ffb3F1E5214b1             2         3   \n4  0xF7a8331336D43Ead6fD72faA942C2A1C644BAaD3             2         3   \n5  0xF7a8331336D43Ead6fD72faA942C2A1C644BAaD3             1         3   \n6  0x1fc67D49c686bE84Ca8178C452C0a6D0368843Fe             1         2   \n7  0x1fc67D49c686bE84Ca8178C452C0a6D0368843Fe             1         2   \n8  0x1B366f42D0478aFf04C77105B4E994fa574DAdcA             2         2   \n9  0x1B366f42D0478aFf04C77105B4E994fa574DAdcA             1         2   \n\n   votes_created                                    proposals_title  \\\n0     1630441163               Shall we adopt the following budget?   \n1     1630448903  How many initial land parcel NFTs should we ma...   \n2     1630460790               Shall we adopt the following budget?   \n3     1630460923  How many initial land parcel NFTs should we ma...   \n4     1630519880  How many initial land parcel NFTs should we ma...   \n5     1630519947               Shall we adopt the following budget?   \n6     1630492662               Shall we adopt the following budget?   \n7     1630492826  How many initial land parcel NFTs should we ma...   \n8     1630521120  How many initial land parcel NFTs should we ma...   \n9     1630521217               Shall we adopt the following budget?   \n\n  proposal_date     proposal_date_2  cumulative_vp  total_vp  \\\n0    2021-08-31 2021-08-31 20:19:23            4.0      32.0   \n1    2021-08-31 2021-08-31 22:28:23            4.0      44.0   \n2    2021-08-31 2021-09-01 01:46:30            7.0      32.0   \n3    2021-08-31 2021-09-01 01:48:43            7.0      44.0   \n4    2021-08-31 2021-09-01 18:11:20           10.0      44.0   \n5    2021-08-31 2021-09-01 18:12:27           10.0      32.0   \n6    2021-08-31 2021-09-01 10:37:42           12.0      32.0   \n7    2021-08-31 2021-09-01 10:40:26           12.0      44.0   \n8    2021-08-31 2021-09-01 18:32:00           14.0      44.0   \n9    2021-08-31 2021-09-01 18:33:37           14.0      32.0   \n\n   percentage_of_total_vp  cum_percentage_of_total_vp  \\\n0                0.125000                    0.125000   \n1                0.090909                    0.090909   \n2                0.093750                    0.218750   \n3                0.068182                    0.159091   \n4                0.068182                    0.227273   \n5                0.093750                    0.312500   \n6                0.062500                    0.375000   \n7                0.045455                    0.272727   \n8                0.045455                    0.318182   \n9                0.062500                    0.437500   \n\n   cum_percentage_of_total_vp_stepped  proposal_voter_rank  total_voters  \\\n0                                 0.0                    1             1   \n1                                 0.0                    1             1   \n2                                 0.0                    2             2   \n3                                 0.0                    2             2   \n4                                 0.0                    3             3   \n5                                 0.0                    3             3   \n6                                 0.0                    4             4   \n7                                 0.0                    4             4   \n8                                 0.0                    5             5   \n9                                 0.0                    5             5   \n\n   percentage_voters_counted  percentage_voters_counted_stepped  \n0                   0.043478                                4.0  \n1                   0.028571                                3.0  \n2                   0.086957                                9.0  \n3                   0.057143                                6.0  \n4                   0.085714                                9.0  \n5                   0.130435                               13.0  \n6                   0.173913                               17.0  \n7                   0.114286                               11.0  \n8                   0.142857                               14.0  \n9                   0.217391                               22.0  ",
      "text/html": "<div>\n<style scoped>\n    .dataframe tbody tr th:only-of-type {\n        vertical-align: middle;\n    }\n\n    .dataframe tbody tr th {\n        vertical-align: top;\n    }\n\n    .dataframe thead th {\n        text-align: right;\n    }\n</style>\n<table border=\"1\" class=\"dataframe\">\n  <thead>\n    <tr style=\"text-align: right;\">\n      <th></th>\n      <th>DAO</th>\n      <th>Proposal</th>\n      <th>votes_voter</th>\n      <th>votes_choice</th>\n      <th>votes_vp</th>\n      <th>votes_created</th>\n      <th>proposals_title</th>\n      <th>proposal_date</th>\n      <th>proposal_date_2</th>\n      <th>cumulative_vp</th>\n      <th>total_vp</th>\n      <th>percentage_of_total_vp</th>\n      <th>cum_percentage_of_total_vp</th>\n      <th>cum_percentage_of_total_vp_stepped</th>\n      <th>proposal_voter_rank</th>\n      <th>total_voters</th>\n      <th>percentage_voters_counted</th>\n      <th>percentage_voters_counted_stepped</th>\n    </tr>\n  </thead>\n  <tbody>\n    <tr>\n      <th>0</th>\n      <td>daocity.eth</td>\n      <td>QmYFsHd2xMNxidhiwkdxKLyXBAztVN7Zmb1ojwD8h7RAMn</td>\n      <td>0x681Cbae1C41e5eeC8411dD8e009fA71F81D03F7F</td>\n      <td>1</td>\n      <td>4</td>\n      <td>1630441163</td>\n      <td>Shall we adopt the following budget?</td>\n      <td>2021-08-31</td>\n      <td>2021-08-31 20:19:23</td>\n      <td>4.0</td>\n      <td>32.0</td>\n      <td>0.125000</td>\n      <td>0.125000</td>\n      <td>0.0</td>\n      <td>1</td>\n      <td>1</td>\n      <td>0.043478</td>\n      <td>4.0</td>\n    </tr>\n    <tr>\n      <th>1</th>\n      <td>daocity.eth</td>\n      <td>QmUf17vQtnbgS2o2v9sEGsz5QFfgBoKqVKXPsMjq1p2UTh</td>\n      <td>0x681Cbae1C41e5eeC8411dD8e009fA71F81D03F7F</td>\n      <td>2</td>\n      <td>4</td>\n      <td>1630448903</td>\n      <td>How many initial land parcel NFTs should we ma...</td>\n      <td>2021-08-31</td>\n      <td>2021-08-31 22:28:23</td>\n      <td>4.0</td>\n      <td>44.0</td>\n      <td>0.090909</td>\n      <td>0.090909</td>\n      <td>0.0</td>\n      <td>1</td>\n      <td>1</td>\n      <td>0.028571</td>\n      <td>3.0</td>\n    </tr>\n    <tr>\n      <th>2</th>\n      <td>daocity.eth</td>\n      <td>QmYFsHd2xMNxidhiwkdxKLyXBAztVN7Zmb1ojwD8h7RAMn</td>\n      <td>0x3270d3832289d7Da29e643bcE66ffb3F1E5214b1</td>\n      <td>1</td>\n      <td>3</td>\n      <td>1630460790</td>\n      <td>Shall we adopt the following budget?</td>\n      <td>2021-08-31</td>\n      <td>2021-09-01 01:46:30</td>\n      <td>7.0</td>\n      <td>32.0</td>\n      <td>0.093750</td>\n      <td>0.218750</td>\n      <td>0.0</td>\n      <td>2</td>\n      <td>2</td>\n      <td>0.086957</td>\n      <td>9.0</td>\n    </tr>\n    <tr>\n      <th>3</th>\n      <td>daocity.eth</td>\n      <td>QmUf17vQtnbgS2o2v9sEGsz5QFfgBoKqVKXPsMjq1p2UTh</td>\n      <td>0x3270d3832289d7Da29e643bcE66ffb3F1E5214b1</td>\n      <td>2</td>\n      <td>3</td>\n      <td>1630460923</td>\n      <td>How many initial land parcel NFTs should we ma...</td>\n      <td>2021-08-31</td>\n      <td>2021-09-01 01:48:43</td>\n      <td>7.0</td>\n      <td>44.0</td>\n      <td>0.068182</td>\n      <td>0.159091</td>\n      <td>0.0</td>\n      <td>2</td>\n      <td>2</td>\n      <td>0.057143</td>\n      <td>6.0</td>\n    </tr>\n    <tr>\n      <th>4</th>\n      <td>daocity.eth</td>\n      <td>QmUf17vQtnbgS2o2v9sEGsz5QFfgBoKqVKXPsMjq1p2UTh</td>\n      <td>0xF7a8331336D43Ead6fD72faA942C2A1C644BAaD3</td>\n      <td>2</td>\n      <td>3</td>\n      <td>1630519880</td>\n      <td>How many initial land parcel NFTs should we ma...</td>\n      <td>2021-08-31</td>\n      <td>2021-09-01 18:11:20</td>\n      <td>10.0</td>\n      <td>44.0</td>\n      <td>0.068182</td>\n      <td>0.227273</td>\n      <td>0.0</td>\n      <td>3</td>\n      <td>3</td>\n      <td>0.085714</td>\n      <td>9.0</td>\n    </tr>\n    <tr>\n      <th>5</th>\n      <td>daocity.eth</td>\n      <td>QmYFsHd2xMNxidhiwkdxKLyXBAztVN7Zmb1ojwD8h7RAMn</td>\n      <td>0xF7a8331336D43Ead6fD72faA942C2A1C644BAaD3</td>\n      <td>1</td>\n      <td>3</td>\n      <td>1630519947</td>\n      <td>Shall we adopt the following budget?</td>\n      <td>2021-08-31</td>\n      <td>2021-09-01 18:12:27</td>\n      <td>10.0</td>\n      <td>32.0</td>\n      <td>0.093750</td>\n      <td>0.312500</td>\n      <td>0.0</td>\n      <td>3</td>\n      <td>3</td>\n      <td>0.130435</td>\n      <td>13.0</td>\n    </tr>\n    <tr>\n      <th>6</th>\n      <td>daocity.eth</td>\n      <td>QmYFsHd2xMNxidhiwkdxKLyXBAztVN7Zmb1ojwD8h7RAMn</td>\n      <td>0x1fc67D49c686bE84Ca8178C452C0a6D0368843Fe</td>\n      <td>1</td>\n      <td>2</td>\n      <td>1630492662</td>\n      <td>Shall we adopt the following budget?</td>\n      <td>2021-08-31</td>\n      <td>2021-09-01 10:37:42</td>\n      <td>12.0</td>\n      <td>32.0</td>\n      <td>0.062500</td>\n      <td>0.375000</td>\n      <td>0.0</td>\n      <td>4</td>\n      <td>4</td>\n      <td>0.173913</td>\n      <td>17.0</td>\n    </tr>\n    <tr>\n      <th>7</th>\n      <td>daocity.eth</td>\n      <td>QmUf17vQtnbgS2o2v9sEGsz5QFfgBoKqVKXPsMjq1p2UTh</td>\n      <td>0x1fc67D49c686bE84Ca8178C452C0a6D0368843Fe</td>\n      <td>1</td>\n      <td>2</td>\n      <td>1630492826</td>\n      <td>How many initial land parcel NFTs should we ma...</td>\n      <td>2021-08-31</td>\n      <td>2021-09-01 10:40:26</td>\n      <td>12.0</td>\n      <td>44.0</td>\n      <td>0.045455</td>\n      <td>0.272727</td>\n      <td>0.0</td>\n      <td>4</td>\n      <td>4</td>\n      <td>0.114286</td>\n      <td>11.0</td>\n    </tr>\n    <tr>\n      <th>8</th>\n      <td>daocity.eth</td>\n      <td>QmUf17vQtnbgS2o2v9sEGsz5QFfgBoKqVKXPsMjq1p2UTh</td>\n      <td>0x1B366f42D0478aFf04C77105B4E994fa574DAdcA</td>\n      <td>2</td>\n      <td>2</td>\n      <td>1630521120</td>\n      <td>How many initial land parcel NFTs should we ma...</td>\n      <td>2021-08-31</td>\n      <td>2021-09-01 18:32:00</td>\n      <td>14.0</td>\n      <td>44.0</td>\n      <td>0.045455</td>\n      <td>0.318182</td>\n      <td>0.0</td>\n      <td>5</td>\n      <td>5</td>\n      <td>0.142857</td>\n      <td>14.0</td>\n    </tr>\n    <tr>\n      <th>9</th>\n      <td>daocity.eth</td>\n      <td>QmYFsHd2xMNxidhiwkdxKLyXBAztVN7Zmb1ojwD8h7RAMn</td>\n      <td>0x1B366f42D0478aFf04C77105B4E994fa574DAdcA</td>\n      <td>1</td>\n      <td>2</td>\n      <td>1630521217</td>\n      <td>Shall we adopt the following budget?</td>\n      <td>2021-08-31</td>\n      <td>2021-09-01 18:33:37</td>\n      <td>14.0</td>\n      <td>32.0</td>\n      <td>0.062500</td>\n      <td>0.437500</td>\n      <td>0.0</td>\n      <td>5</td>\n      <td>5</td>\n      <td>0.217391</td>\n      <td>22.0</td>\n    </tr>\n  </tbody>\n</table>\n</div>"
     },
     "execution_count": 30,
     "metadata": {},
     "output_type": "execute_result"
    }
   ],
   "source": [
    "crunch_data.head(10)"
   ],
   "metadata": {
    "collapsed": false,
    "pycharm": {
     "name": "#%%\n"
    }
   }
  },
  {
   "cell_type": "code",
   "execution_count": 31,
   "outputs": [
    {
     "data": {
      "text/plain": "       votes_choice      votes_vp  votes_created  cumulative_vp      total_vp  \\\ncount  18591.000000  18591.000000   1.859100e+04   18591.000000  18591.000000   \nmean       2.390243      1.397773   1.644160e+09     818.503738   1303.722500   \nstd        2.740486      2.905130   6.576990e+06     687.859702    923.226659   \nmin        1.000000      1.000000   1.630437e+09       2.000000     11.000000   \n25%        1.000000      1.000000   1.639028e+09     330.000000    592.000000   \n50%        1.000000      1.000000   1.642013e+09     601.000000   1071.000000   \n75%        2.000000      1.000000   1.649053e+09    1063.500000   1897.000000   \nmax       15.000000    224.000000   1.659733e+09    3275.000000   3275.000000   \n\n       percentage_of_total_vp  cum_percentage_of_total_vp  \\\ncount            18591.000000                18591.000000   \nmean                 0.002098                    0.626199   \nstd                  0.005579                    0.233113   \nmin                  0.000305                    0.008499   \n25%                  0.000577                    0.453740   \n50%                  0.001040                    0.642090   \n75%                  0.001862                    0.821985   \nmax                  0.241640                    1.000000   \n\n       cum_percentage_of_total_vp_stepped  proposal_voter_rank  total_voters  \\\ncount                        18591.000000         18591.000000  18591.000000   \nmean                             0.692163           472.819106    473.376311   \nstd                              0.461611           473.203514    473.990612   \nmin                              0.000000             1.000000      1.000000   \n25%                              0.000000           137.000000    137.000000   \n50%                              1.000000           311.000000    311.000000   \n75%                              1.000000           654.000000    654.000000   \nmax                              1.000000          2378.000000   2378.000000   \n\n       percentage_voters_counted  percentage_voters_counted_stepped  \ncount               18591.000000                       18591.000000  \nmean                    0.501307                          50.130439  \nstd                     0.288690                          28.868130  \nmin                     0.000421                           0.000000  \n25%                     0.251238                          25.000000  \n50%                     0.501650                          50.000000  \n75%                     0.751273                          75.000000  \nmax                     1.000000                         100.000000  ",
      "text/html": "<div>\n<style scoped>\n    .dataframe tbody tr th:only-of-type {\n        vertical-align: middle;\n    }\n\n    .dataframe tbody tr th {\n        vertical-align: top;\n    }\n\n    .dataframe thead th {\n        text-align: right;\n    }\n</style>\n<table border=\"1\" class=\"dataframe\">\n  <thead>\n    <tr style=\"text-align: right;\">\n      <th></th>\n      <th>votes_choice</th>\n      <th>votes_vp</th>\n      <th>votes_created</th>\n      <th>cumulative_vp</th>\n      <th>total_vp</th>\n      <th>percentage_of_total_vp</th>\n      <th>cum_percentage_of_total_vp</th>\n      <th>cum_percentage_of_total_vp_stepped</th>\n      <th>proposal_voter_rank</th>\n      <th>total_voters</th>\n      <th>percentage_voters_counted</th>\n      <th>percentage_voters_counted_stepped</th>\n    </tr>\n  </thead>\n  <tbody>\n    <tr>\n      <th>count</th>\n      <td>18591.000000</td>\n      <td>18591.000000</td>\n      <td>1.859100e+04</td>\n      <td>18591.000000</td>\n      <td>18591.000000</td>\n      <td>18591.000000</td>\n      <td>18591.000000</td>\n      <td>18591.000000</td>\n      <td>18591.000000</td>\n      <td>18591.000000</td>\n      <td>18591.000000</td>\n      <td>18591.000000</td>\n    </tr>\n    <tr>\n      <th>mean</th>\n      <td>2.390243</td>\n      <td>1.397773</td>\n      <td>1.644160e+09</td>\n      <td>818.503738</td>\n      <td>1303.722500</td>\n      <td>0.002098</td>\n      <td>0.626199</td>\n      <td>0.692163</td>\n      <td>472.819106</td>\n      <td>473.376311</td>\n      <td>0.501307</td>\n      <td>50.130439</td>\n    </tr>\n    <tr>\n      <th>std</th>\n      <td>2.740486</td>\n      <td>2.905130</td>\n      <td>6.576990e+06</td>\n      <td>687.859702</td>\n      <td>923.226659</td>\n      <td>0.005579</td>\n      <td>0.233113</td>\n      <td>0.461611</td>\n      <td>473.203514</td>\n      <td>473.990612</td>\n      <td>0.288690</td>\n      <td>28.868130</td>\n    </tr>\n    <tr>\n      <th>min</th>\n      <td>1.000000</td>\n      <td>1.000000</td>\n      <td>1.630437e+09</td>\n      <td>2.000000</td>\n      <td>11.000000</td>\n      <td>0.000305</td>\n      <td>0.008499</td>\n      <td>0.000000</td>\n      <td>1.000000</td>\n      <td>1.000000</td>\n      <td>0.000421</td>\n      <td>0.000000</td>\n    </tr>\n    <tr>\n      <th>25%</th>\n      <td>1.000000</td>\n      <td>1.000000</td>\n      <td>1.639028e+09</td>\n      <td>330.000000</td>\n      <td>592.000000</td>\n      <td>0.000577</td>\n      <td>0.453740</td>\n      <td>0.000000</td>\n      <td>137.000000</td>\n      <td>137.000000</td>\n      <td>0.251238</td>\n      <td>25.000000</td>\n    </tr>\n    <tr>\n      <th>50%</th>\n      <td>1.000000</td>\n      <td>1.000000</td>\n      <td>1.642013e+09</td>\n      <td>601.000000</td>\n      <td>1071.000000</td>\n      <td>0.001040</td>\n      <td>0.642090</td>\n      <td>1.000000</td>\n      <td>311.000000</td>\n      <td>311.000000</td>\n      <td>0.501650</td>\n      <td>50.000000</td>\n    </tr>\n    <tr>\n      <th>75%</th>\n      <td>2.000000</td>\n      <td>1.000000</td>\n      <td>1.649053e+09</td>\n      <td>1063.500000</td>\n      <td>1897.000000</td>\n      <td>0.001862</td>\n      <td>0.821985</td>\n      <td>1.000000</td>\n      <td>654.000000</td>\n      <td>654.000000</td>\n      <td>0.751273</td>\n      <td>75.000000</td>\n    </tr>\n    <tr>\n      <th>max</th>\n      <td>15.000000</td>\n      <td>224.000000</td>\n      <td>1.659733e+09</td>\n      <td>3275.000000</td>\n      <td>3275.000000</td>\n      <td>0.241640</td>\n      <td>1.000000</td>\n      <td>1.000000</td>\n      <td>2378.000000</td>\n      <td>2378.000000</td>\n      <td>1.000000</td>\n      <td>100.000000</td>\n    </tr>\n  </tbody>\n</table>\n</div>"
     },
     "execution_count": 31,
     "metadata": {},
     "output_type": "execute_result"
    }
   ],
   "source": [
    "crunch_data.describe()"
   ],
   "metadata": {
    "collapsed": false,
    "pycharm": {
     "name": "#%%\n"
    }
   }
  },
  {
   "cell_type": "code",
   "execution_count": 32,
   "outputs": [],
   "source": [
    "##spit out the file!\n",
    "crunch_data_path =final_file+'\\\\'+spacename+'_crunch_data_path'+str(date.today().strftime(\"%b-%d-%Y\"))+'_'+str(len(crunch_data))+'.csv'\n",
    "crunch_data.to_csv(crunch_data_path, index = False)"
   ],
   "metadata": {
    "collapsed": false,
    "pycharm": {
     "name": "#%%\n"
    }
   }
  },
  {
   "cell_type": "code",
   "execution_count": 33,
   "outputs": [
    {
     "name": "stderr",
     "output_type": "stream",
     "text": [
      "C:\\Users\\ianfe\\AppData\\Local\\Temp\\ipykernel_24144\\105482612.py:1: FutureWarning: Indexing with multiple keys (implicitly converted to a tuple of keys) will be deprecated, use a list instead.\n",
      "  data_means = crunch_data.groupby(\"percentage_voters_counted_stepped\")[\"cum_percentage_of_total_vp\", \"percentage_voters_counted\"].agg(\"mean\").reset_index()\n"
     ]
    },
    {
     "data": {
      "text/plain": "            DAO  percentage_voters_counted_stepped  \\\n0   daocity.eth                                0.0   \n1   daocity.eth                                1.0   \n2   daocity.eth                                2.0   \n3   daocity.eth                                3.0   \n4   daocity.eth                                4.0   \n5   daocity.eth                                5.0   \n6   daocity.eth                                6.0   \n7   daocity.eth                                7.0   \n8   daocity.eth                                8.0   \n9   daocity.eth                                9.0   \n10  daocity.eth                               10.0   \n11  daocity.eth                               11.0   \n12  daocity.eth                               12.0   \n13  daocity.eth                               13.0   \n14  daocity.eth                               14.0   \n15  daocity.eth                               15.0   \n16  daocity.eth                               16.0   \n17  daocity.eth                               17.0   \n18  daocity.eth                               18.0   \n19  daocity.eth                               19.0   \n20  daocity.eth                               20.0   \n21  daocity.eth                               21.0   \n22  daocity.eth                               22.0   \n23  daocity.eth                               23.0   \n24  daocity.eth                               24.0   \n25  daocity.eth                               25.0   \n26  daocity.eth                               26.0   \n27  daocity.eth                               27.0   \n28  daocity.eth                               28.0   \n29  daocity.eth                               29.0   \n30  daocity.eth                               30.0   \n31  daocity.eth                               31.0   \n32  daocity.eth                               32.0   \n33  daocity.eth                               33.0   \n34  daocity.eth                               34.0   \n35  daocity.eth                               35.0   \n36  daocity.eth                               36.0   \n37  daocity.eth                               37.0   \n38  daocity.eth                               38.0   \n39  daocity.eth                               39.0   \n40  daocity.eth                               40.0   \n41  daocity.eth                               41.0   \n42  daocity.eth                               42.0   \n43  daocity.eth                               43.0   \n44  daocity.eth                               44.0   \n45  daocity.eth                               45.0   \n46  daocity.eth                               46.0   \n47  daocity.eth                               47.0   \n48  daocity.eth                               48.0   \n49  daocity.eth                               49.0   \n50  daocity.eth                               50.0   \n\n    cum_percentage_of_total_vp  percentage_voters_counted  \n0                     0.046279                   0.002862  \n1                     0.095022                   0.009766  \n2                     0.146601                   0.019982  \n3                     0.174898                   0.029798  \n4                     0.202743                   0.039715  \n5                     0.224150                   0.049804  \n6                     0.244132                   0.060084  \n7                     0.261751                   0.070399  \n8                     0.275357                   0.080032  \n9                     0.293678                   0.089847  \n10                    0.308024                   0.100015  \n11                    0.319616                   0.109908  \n12                    0.335960                   0.119708  \n13                    0.346162                   0.129803  \n14                    0.361360                   0.139984  \n15                    0.372735                   0.149929  \n16                    0.382067                   0.159834  \n17                    0.391480                   0.169590  \n18                    0.400841                   0.179793  \n19                    0.409653                   0.189940  \n20                    0.416516                   0.200101  \n21                    0.423520                   0.210233  \n22                    0.433738                   0.220210  \n23                    0.440357                   0.230308  \n24                    0.446248                   0.239805  \n25                    0.454344                   0.249933  \n26                    0.460835                   0.260194  \n27                    0.470271                   0.270035  \n28                    0.476117                   0.280188  \n29                    0.482049                   0.289803  \n30                    0.491936                   0.299675  \n31                    0.497949                   0.310144  \n32                    0.503187                   0.319788  \n33                    0.512086                   0.329709  \n34                    0.519213                   0.340050  \n35                    0.529276                   0.350330  \n36                    0.534015                   0.360091  \n37                    0.541243                   0.370079  \n38                    0.549819                   0.379998  \n39                    0.555627                   0.389896  \n40                    0.561705                   0.399842  \n41                    0.572801                   0.410232  \n42                    0.576560                   0.419918  \n43                    0.586409                   0.430066  \n44                    0.592060                   0.440028  \n45                    0.599963                   0.450037  \n46                    0.607851                   0.460091  \n47                    0.613191                   0.470071  \n48                    0.621694                   0.479975  \n49                    0.629753                   0.490232  \n50                    0.635878                   0.500292  ",
      "text/html": "<div>\n<style scoped>\n    .dataframe tbody tr th:only-of-type {\n        vertical-align: middle;\n    }\n\n    .dataframe tbody tr th {\n        vertical-align: top;\n    }\n\n    .dataframe thead th {\n        text-align: right;\n    }\n</style>\n<table border=\"1\" class=\"dataframe\">\n  <thead>\n    <tr style=\"text-align: right;\">\n      <th></th>\n      <th>DAO</th>\n      <th>percentage_voters_counted_stepped</th>\n      <th>cum_percentage_of_total_vp</th>\n      <th>percentage_voters_counted</th>\n    </tr>\n  </thead>\n  <tbody>\n    <tr>\n      <th>0</th>\n      <td>daocity.eth</td>\n      <td>0.0</td>\n      <td>0.046279</td>\n      <td>0.002862</td>\n    </tr>\n    <tr>\n      <th>1</th>\n      <td>daocity.eth</td>\n      <td>1.0</td>\n      <td>0.095022</td>\n      <td>0.009766</td>\n    </tr>\n    <tr>\n      <th>2</th>\n      <td>daocity.eth</td>\n      <td>2.0</td>\n      <td>0.146601</td>\n      <td>0.019982</td>\n    </tr>\n    <tr>\n      <th>3</th>\n      <td>daocity.eth</td>\n      <td>3.0</td>\n      <td>0.174898</td>\n      <td>0.029798</td>\n    </tr>\n    <tr>\n      <th>4</th>\n      <td>daocity.eth</td>\n      <td>4.0</td>\n      <td>0.202743</td>\n      <td>0.039715</td>\n    </tr>\n    <tr>\n      <th>5</th>\n      <td>daocity.eth</td>\n      <td>5.0</td>\n      <td>0.224150</td>\n      <td>0.049804</td>\n    </tr>\n    <tr>\n      <th>6</th>\n      <td>daocity.eth</td>\n      <td>6.0</td>\n      <td>0.244132</td>\n      <td>0.060084</td>\n    </tr>\n    <tr>\n      <th>7</th>\n      <td>daocity.eth</td>\n      <td>7.0</td>\n      <td>0.261751</td>\n      <td>0.070399</td>\n    </tr>\n    <tr>\n      <th>8</th>\n      <td>daocity.eth</td>\n      <td>8.0</td>\n      <td>0.275357</td>\n      <td>0.080032</td>\n    </tr>\n    <tr>\n      <th>9</th>\n      <td>daocity.eth</td>\n      <td>9.0</td>\n      <td>0.293678</td>\n      <td>0.089847</td>\n    </tr>\n    <tr>\n      <th>10</th>\n      <td>daocity.eth</td>\n      <td>10.0</td>\n      <td>0.308024</td>\n      <td>0.100015</td>\n    </tr>\n    <tr>\n      <th>11</th>\n      <td>daocity.eth</td>\n      <td>11.0</td>\n      <td>0.319616</td>\n      <td>0.109908</td>\n    </tr>\n    <tr>\n      <th>12</th>\n      <td>daocity.eth</td>\n      <td>12.0</td>\n      <td>0.335960</td>\n      <td>0.119708</td>\n    </tr>\n    <tr>\n      <th>13</th>\n      <td>daocity.eth</td>\n      <td>13.0</td>\n      <td>0.346162</td>\n      <td>0.129803</td>\n    </tr>\n    <tr>\n      <th>14</th>\n      <td>daocity.eth</td>\n      <td>14.0</td>\n      <td>0.361360</td>\n      <td>0.139984</td>\n    </tr>\n    <tr>\n      <th>15</th>\n      <td>daocity.eth</td>\n      <td>15.0</td>\n      <td>0.372735</td>\n      <td>0.149929</td>\n    </tr>\n    <tr>\n      <th>16</th>\n      <td>daocity.eth</td>\n      <td>16.0</td>\n      <td>0.382067</td>\n      <td>0.159834</td>\n    </tr>\n    <tr>\n      <th>17</th>\n      <td>daocity.eth</td>\n      <td>17.0</td>\n      <td>0.391480</td>\n      <td>0.169590</td>\n    </tr>\n    <tr>\n      <th>18</th>\n      <td>daocity.eth</td>\n      <td>18.0</td>\n      <td>0.400841</td>\n      <td>0.179793</td>\n    </tr>\n    <tr>\n      <th>19</th>\n      <td>daocity.eth</td>\n      <td>19.0</td>\n      <td>0.409653</td>\n      <td>0.189940</td>\n    </tr>\n    <tr>\n      <th>20</th>\n      <td>daocity.eth</td>\n      <td>20.0</td>\n      <td>0.416516</td>\n      <td>0.200101</td>\n    </tr>\n    <tr>\n      <th>21</th>\n      <td>daocity.eth</td>\n      <td>21.0</td>\n      <td>0.423520</td>\n      <td>0.210233</td>\n    </tr>\n    <tr>\n      <th>22</th>\n      <td>daocity.eth</td>\n      <td>22.0</td>\n      <td>0.433738</td>\n      <td>0.220210</td>\n    </tr>\n    <tr>\n      <th>23</th>\n      <td>daocity.eth</td>\n      <td>23.0</td>\n      <td>0.440357</td>\n      <td>0.230308</td>\n    </tr>\n    <tr>\n      <th>24</th>\n      <td>daocity.eth</td>\n      <td>24.0</td>\n      <td>0.446248</td>\n      <td>0.239805</td>\n    </tr>\n    <tr>\n      <th>25</th>\n      <td>daocity.eth</td>\n      <td>25.0</td>\n      <td>0.454344</td>\n      <td>0.249933</td>\n    </tr>\n    <tr>\n      <th>26</th>\n      <td>daocity.eth</td>\n      <td>26.0</td>\n      <td>0.460835</td>\n      <td>0.260194</td>\n    </tr>\n    <tr>\n      <th>27</th>\n      <td>daocity.eth</td>\n      <td>27.0</td>\n      <td>0.470271</td>\n      <td>0.270035</td>\n    </tr>\n    <tr>\n      <th>28</th>\n      <td>daocity.eth</td>\n      <td>28.0</td>\n      <td>0.476117</td>\n      <td>0.280188</td>\n    </tr>\n    <tr>\n      <th>29</th>\n      <td>daocity.eth</td>\n      <td>29.0</td>\n      <td>0.482049</td>\n      <td>0.289803</td>\n    </tr>\n    <tr>\n      <th>30</th>\n      <td>daocity.eth</td>\n      <td>30.0</td>\n      <td>0.491936</td>\n      <td>0.299675</td>\n    </tr>\n    <tr>\n      <th>31</th>\n      <td>daocity.eth</td>\n      <td>31.0</td>\n      <td>0.497949</td>\n      <td>0.310144</td>\n    </tr>\n    <tr>\n      <th>32</th>\n      <td>daocity.eth</td>\n      <td>32.0</td>\n      <td>0.503187</td>\n      <td>0.319788</td>\n    </tr>\n    <tr>\n      <th>33</th>\n      <td>daocity.eth</td>\n      <td>33.0</td>\n      <td>0.512086</td>\n      <td>0.329709</td>\n    </tr>\n    <tr>\n      <th>34</th>\n      <td>daocity.eth</td>\n      <td>34.0</td>\n      <td>0.519213</td>\n      <td>0.340050</td>\n    </tr>\n    <tr>\n      <th>35</th>\n      <td>daocity.eth</td>\n      <td>35.0</td>\n      <td>0.529276</td>\n      <td>0.350330</td>\n    </tr>\n    <tr>\n      <th>36</th>\n      <td>daocity.eth</td>\n      <td>36.0</td>\n      <td>0.534015</td>\n      <td>0.360091</td>\n    </tr>\n    <tr>\n      <th>37</th>\n      <td>daocity.eth</td>\n      <td>37.0</td>\n      <td>0.541243</td>\n      <td>0.370079</td>\n    </tr>\n    <tr>\n      <th>38</th>\n      <td>daocity.eth</td>\n      <td>38.0</td>\n      <td>0.549819</td>\n      <td>0.379998</td>\n    </tr>\n    <tr>\n      <th>39</th>\n      <td>daocity.eth</td>\n      <td>39.0</td>\n      <td>0.555627</td>\n      <td>0.389896</td>\n    </tr>\n    <tr>\n      <th>40</th>\n      <td>daocity.eth</td>\n      <td>40.0</td>\n      <td>0.561705</td>\n      <td>0.399842</td>\n    </tr>\n    <tr>\n      <th>41</th>\n      <td>daocity.eth</td>\n      <td>41.0</td>\n      <td>0.572801</td>\n      <td>0.410232</td>\n    </tr>\n    <tr>\n      <th>42</th>\n      <td>daocity.eth</td>\n      <td>42.0</td>\n      <td>0.576560</td>\n      <td>0.419918</td>\n    </tr>\n    <tr>\n      <th>43</th>\n      <td>daocity.eth</td>\n      <td>43.0</td>\n      <td>0.586409</td>\n      <td>0.430066</td>\n    </tr>\n    <tr>\n      <th>44</th>\n      <td>daocity.eth</td>\n      <td>44.0</td>\n      <td>0.592060</td>\n      <td>0.440028</td>\n    </tr>\n    <tr>\n      <th>45</th>\n      <td>daocity.eth</td>\n      <td>45.0</td>\n      <td>0.599963</td>\n      <td>0.450037</td>\n    </tr>\n    <tr>\n      <th>46</th>\n      <td>daocity.eth</td>\n      <td>46.0</td>\n      <td>0.607851</td>\n      <td>0.460091</td>\n    </tr>\n    <tr>\n      <th>47</th>\n      <td>daocity.eth</td>\n      <td>47.0</td>\n      <td>0.613191</td>\n      <td>0.470071</td>\n    </tr>\n    <tr>\n      <th>48</th>\n      <td>daocity.eth</td>\n      <td>48.0</td>\n      <td>0.621694</td>\n      <td>0.479975</td>\n    </tr>\n    <tr>\n      <th>49</th>\n      <td>daocity.eth</td>\n      <td>49.0</td>\n      <td>0.629753</td>\n      <td>0.490232</td>\n    </tr>\n    <tr>\n      <th>50</th>\n      <td>daocity.eth</td>\n      <td>50.0</td>\n      <td>0.635878</td>\n      <td>0.500292</td>\n    </tr>\n  </tbody>\n</table>\n</div>"
     },
     "execution_count": 33,
     "metadata": {},
     "output_type": "execute_result"
    }
   ],
   "source": [
    "data_means = crunch_data.groupby(\"percentage_voters_counted_stepped\")[\"cum_percentage_of_total_vp\", \"percentage_voters_counted\"].agg(\"mean\").reset_index()\n",
    "data_means.insert(0, 'DAO', spacename)\n",
    "data_means.head(51)"
   ],
   "metadata": {
    "collapsed": false,
    "pycharm": {
     "name": "#%%\n"
    }
   }
  },
  {
   "cell_type": "code",
   "execution_count": 34,
   "outputs": [],
   "source": [
    "data_means_file =final_file+'\\\\'+spacename+'data_means_'+str(date.today().strftime(\"%b-%d-%Y\"))+'_'+str(len(crunch_data))+'.csv'\n",
    "crunch_data.to_csv(data_means_file, index = False)"
   ],
   "metadata": {
    "collapsed": false,
    "pycharm": {
     "name": "#%%\n"
    }
   }
  },
  {
   "cell_type": "code",
   "execution_count": 35,
   "outputs": [
    {
     "name": "stderr",
     "output_type": "stream",
     "text": [
      "C:\\Users\\ianfe\\AppData\\Local\\Temp\\ipykernel_24144\\2233744753.py:4: FutureWarning: Indexing with multiple keys (implicitly converted to a tuple of keys) will be deprecated, use a list instead.\n",
      "  data_means = crunch_data.groupby(\"percentage_voters_counted_stepped\")[\"cum_percentage_of_total_vp\",\"percentage_voters_counted\"].agg(\"mean\").reset_index()\n"
     ]
    },
    {
     "name": "stdout",
     "output_type": "stream",
     "text": [
      "AxesSubplot(0.125,0.125;0.775x0.755)\n"
     ]
    },
    {
     "data": {
      "text/plain": "     percentage_voters_counted_stepped  cum_percentage_of_total_vp  \\\n0                                  0.0                    0.046279   \n1                                  1.0                    0.095022   \n2                                  2.0                    0.146601   \n3                                  3.0                    0.174898   \n4                                  4.0                    0.202743   \n..                                 ...                         ...   \n96                                96.0                    0.970826   \n97                                97.0                    0.978005   \n98                                98.0                    0.985597   \n99                                99.0                    0.992938   \n100                              100.0                    0.998631   \n\n     percentage_voters_counted  \n0                     0.002862  \n1                     0.009766  \n2                     0.019982  \n3                     0.029798  \n4                     0.039715  \n..                         ...  \n96                    0.959920  \n97                    0.969834  \n98                    0.980114  \n99                    0.990288  \n100                   0.998132  \n\n[101 rows x 3 columns]",
      "text/html": "<div>\n<style scoped>\n    .dataframe tbody tr th:only-of-type {\n        vertical-align: middle;\n    }\n\n    .dataframe tbody tr th {\n        vertical-align: top;\n    }\n\n    .dataframe thead th {\n        text-align: right;\n    }\n</style>\n<table border=\"1\" class=\"dataframe\">\n  <thead>\n    <tr style=\"text-align: right;\">\n      <th></th>\n      <th>percentage_voters_counted_stepped</th>\n      <th>cum_percentage_of_total_vp</th>\n      <th>percentage_voters_counted</th>\n    </tr>\n  </thead>\n  <tbody>\n    <tr>\n      <th>0</th>\n      <td>0.0</td>\n      <td>0.046279</td>\n      <td>0.002862</td>\n    </tr>\n    <tr>\n      <th>1</th>\n      <td>1.0</td>\n      <td>0.095022</td>\n      <td>0.009766</td>\n    </tr>\n    <tr>\n      <th>2</th>\n      <td>2.0</td>\n      <td>0.146601</td>\n      <td>0.019982</td>\n    </tr>\n    <tr>\n      <th>3</th>\n      <td>3.0</td>\n      <td>0.174898</td>\n      <td>0.029798</td>\n    </tr>\n    <tr>\n      <th>4</th>\n      <td>4.0</td>\n      <td>0.202743</td>\n      <td>0.039715</td>\n    </tr>\n    <tr>\n      <th>...</th>\n      <td>...</td>\n      <td>...</td>\n      <td>...</td>\n    </tr>\n    <tr>\n      <th>96</th>\n      <td>96.0</td>\n      <td>0.970826</td>\n      <td>0.959920</td>\n    </tr>\n    <tr>\n      <th>97</th>\n      <td>97.0</td>\n      <td>0.978005</td>\n      <td>0.969834</td>\n    </tr>\n    <tr>\n      <th>98</th>\n      <td>98.0</td>\n      <td>0.985597</td>\n      <td>0.980114</td>\n    </tr>\n    <tr>\n      <th>99</th>\n      <td>99.0</td>\n      <td>0.992938</td>\n      <td>0.990288</td>\n    </tr>\n    <tr>\n      <th>100</th>\n      <td>100.0</td>\n      <td>0.998631</td>\n      <td>0.998132</td>\n    </tr>\n  </tbody>\n</table>\n<p>101 rows × 3 columns</p>\n</div>"
     },
     "execution_count": 35,
     "metadata": {},
     "output_type": "execute_result"
    },
    {
     "data": {
      "text/plain": "<Figure size 432x288 with 1 Axes>",
      "image/png": "[encoded data removed]"
     },
     "metadata": {
      "needs_background": "light"
     },
     "output_type": "display_data"
    }
   ],
   "source": [
    "plt.rc(\"figure\", figsize=(40, 20))\n",
    "sns.set_style(\"whitegrid\")\n",
    "plt.rc(\"font\", size=25)\n",
    "data_means = crunch_data.groupby(\"percentage_voters_counted_stepped\")[\"cum_percentage_of_total_vp\",\"percentage_voters_counted\"].agg(\"mean\").reset_index()\n",
    "##print(data_means)\n",
    "plot_title = spacename + ' snapshots % of vote along population with Average as X'\n",
    "\n",
    "ax=sns.scatterplot(data=crunch_data, y=\"cum_percentage_of_total_vp\",x=\"percentage_voters_counted_stepped\").set(title=plot_title,xlabel='% of voters',ylabel='% of voting power')\n",
    "chart = sns.scatterplot(data=data_means,x=\"percentage_voters_counted_stepped\",y=\"cum_percentage_of_total_vp\",zorder=3, s=600,marker='X',color = 'orange')\n",
    "#and save the chart file, too\n",
    "plt.savefig(final_file+'\\\\'+spacename+' vote power distribution.png', dpi=100)\n",
    "\n",
    "means_data_path =final_file+'\\\\'+spacename+'_means_'+'.csv'\n",
    "data_means.to_csv(means_data_path, index = False)\n",
    "\n",
    "print(chart)\n",
    "data_means"
   ],
   "metadata": {
    "collapsed": false,
    "pycharm": {
     "name": "#%%\n"
    }
   }
  },
  {
   "cell_type": "markdown",
   "source": [
    "The chart above shows what % of all possible votes has been cast (Y axis) as each incremental percent of the voting population casts their vote (X axis). Each line is a Proposal and has a unique color, so that a dot on each percent point represents what % of total voting power was accumulated by that group. The color represents which vote was cast.\n",
    "The Orange X shows the average % of power accumulated across all elections."
   ],
   "metadata": {
    "collapsed": false,
    "pycharm": {
     "name": "#%% md\n"
    }
   }
  },
  {
   "cell_type": "code",
   "execution_count": 36,
   "outputs": [
    {
     "name": "stdout",
     "output_type": "stream",
     "text": [
      "AxesSubplot(0.125,0.125;0.775x0.755)\n"
     ]
    },
    {
     "data": {
      "text/plain": "<Figure size 432x288 with 1 Axes>",
      "image/png": "[encoded data removed]"
     },
     "metadata": {
      "needs_background": "light"
     },
     "output_type": "display_data"
    }
   ],
   "source": [
    "voters_df = db.query(\"select  proposals_title, count(distinct votes_voter) total_voters,  min(proposal_date) proposal_date from crunch_data group by 1 order by 1 asc\").df()\n",
    "\n",
    "chart = sns.barplot(data=voters_df,x=\"proposals_title\",y=\"total_voters\", color = 'orange')\n",
    "#and save the chart file, too\n",
    "\n",
    "print(chart)\n",
    "\n"
   ],
   "metadata": {
    "collapsed": false,
    "pycharm": {
     "name": "#%%\n"
    }
   }
  },
  {
   "cell_type": "code",
   "execution_count": 37,
   "outputs": [
    {
     "name": "stdout",
     "output_type": "stream",
     "text": [
      "AxesSubplot(0.125,0.125;0.775x0.755)\n"
     ]
    },
    {
     "data": {
      "text/plain": "<Figure size 432x288 with 1 Axes>",
      "image/png": "[encoded data removed]"
     },
     "metadata": {
      "needs_background": "light"
     },
     "output_type": "display_data"
    }
   ],
   "source": [
    "voters_df = db.query(\"select  proposals_title, count(distinct votes_voter) total_voters,  min(proposal_date) proposal_date from crunch_data group by 1 order by 1 asc\").df()\n",
    "\n",
    "chart = sns.barplot(data=voters_df,x=\"proposals_title\",y=\"total_voters\", color = 'orange')\n",
    "#and save the chart file, too\n",
    "\n",
    "print(chart)\n",
    "\n"
   ],
   "metadata": {
    "collapsed": false,
    "pycharm": {
     "name": "#%%\n"
    }
   }
  },
  {
   "cell_type": "code",
   "execution_count": 38,
   "outputs": [
    {
     "name": "stdout",
     "output_type": "stream",
     "text": [
      "On average, a proposal at  daocity.eth takes  31.98 % of the voting population.\n",
      "A total of  1647 wallets have driven the result of all proposals at daocity.eth\n",
      "That's 51.78% of all DAO voters.\n"
     ]
    }
   ],
   "source": [
    "p50 = db.query(\"select min(percentage_voters_counted) \"\n",
    "               \"from data_means  where cum_percentage_of_total_vp>=0.5 \").df()\n",
    "p50display = round(100*(p50.iloc[0,0]),2)\n",
    "print('On average, a proposal at ', spacename, 'takes ',p50display,'% of the voting population.')\n",
    "\n",
    "print('A total of ',leader_count, 'wallets have driven the result of all proposals at',spacename,)\n",
    "print('That\\'s', (\"{0:.2%}\".format(elite)), 'of all DAO voters.')"
   ],
   "metadata": {
    "collapsed": false,
    "pycharm": {
     "name": "#%%\n"
    }
   }
  },
  {
   "cell_type": "markdown",
   "source": [],
   "metadata": {
    "collapsed": false,
    "pycharm": {
     "name": "#%% md\n"
    }
   },
   "execution_count": 2074
  }
 ],
 "metadata": {
  "kernelspec": {
   "display_name": "Python 3",
   "language": "python",
   "name": "python3"
  },
  "language_info": {
   "codemirror_mode": {
    "name": "ipython",
    "version": 2
   },
   "file_extension": ".py",
   "mimetype": "text/x-python",
   "name": "python",
   "nbconvert_exporter": "python",
   "pygments_lexer": "ipython2",
   "version": "2.7.6"
  }
 },
 "nbformat": 4,
 "nbformat_minor": 0
}