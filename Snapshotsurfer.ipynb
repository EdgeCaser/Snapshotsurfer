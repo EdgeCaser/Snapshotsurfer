{
 "cells": [
  {
   "cell_type": "code",
   "execution_count": null,
   "outputs": [],
   "source": [
    "global file\n",
    "file = input('Selet a folder to save output') ##enter your file path here - the file is in the repo \"summary_stats.csv\".\n",
    "raw_file = file"
   ],
   "metadata": {
    "collapsed": false,
    "pycharm": {
     "name": "#%%\n"
    }
   }
  },
  {
   "cell_type": "code",
   "execution_count": 2,
   "outputs": [],
   "source": [
    "from datetime import datetime\n",
    "from datetime import date\n",
    "from subgrounds.subgraph import SyntheticField, FieldPath\n",
    "from subgrounds.subgrounds import Subgrounds\n",
    "import math\n",
    "import pandas as pd\n",
    "import  os as os\n",
    "import duckdb as db\n",
    "import seaborn as sns\n",
    "import matplotlib.pyplot as plt\n",
    "\n",
    "from pycoingecko import CoinGeckoAPI\n"
   ],
   "metadata": {
    "collapsed": false,
    "pycharm": {
     "name": "#%%\n"
    }
   }
  },
  {
   "cell_type": "code",
   "execution_count": 3,
   "outputs": [],
   "source": [
    "sg = Subgrounds()\n",
    "snapshot = sg.load_api('https://hub.snapshot.org/graphql')\n",
    "\n",
    "cg = CoinGeckoAPI()"
   ],
   "metadata": {
    "collapsed": false,
    "pycharm": {
     "name": "#%%\n"
    }
   }
  },
  {
   "cell_type": "code",
   "execution_count": 4,
   "outputs": [],
   "source": [
    "snapshot.Proposal.datetime = SyntheticField(\n",
    "  lambda timestamp: str(datetime.fromtimestamp(timestamp)),\n",
    "  SyntheticField.STRING,\n",
    "  snapshot.Proposal.end,\n",
    ")"
   ],
   "metadata": {
    "collapsed": false,
    "pycharm": {
     "name": "#%%\n"
    }
   }
  },
  {
   "cell_type": "code",
   "execution_count": 5,
   "outputs": [],
   "source": [
    "spaces = snapshot.Query.spaces(\n",
    "    first=5000,\n",
    "    orderby = 'name',\n",
    "    orderdirection = 'asc'\n",
    ")"
   ],
   "metadata": {
    "collapsed": false,
    "pycharm": {
     "name": "#%%\n"
    }
   }
  },
  {
   "cell_type": "markdown",
   "source": [
    "spaces_list = sg.query_df([\n",
    "    spaces.name\n",
    "])\n",
    "spaces_list"
   ],
   "metadata": {
    "collapsed": false,
    "pycharm": {
     "name": "#%% md\n"
    }
   }
  },
  {
   "cell_type": "code",
   "execution_count": 6,
   "outputs": [],
   "source": [
    "spacename = input('spacename plz?')\n",
    "# based on their url, for example \"curve.eth\" for  https://snapshot.org/#/curve.eth\n"
   ],
   "metadata": {
    "collapsed": false,
    "pycharm": {
     "name": "#%%\n"
    }
   }
  },
  {
   "cell_type": "code",
   "execution_count": 7,
   "outputs": [],
   "source": [
    "proposals = snapshot.Query.proposals(\n",
    "  orderBy='created',\n",
    "  orderDirection='desc',\n",
    "  first=10000,\n",
    "  where=[\n",
    "    snapshot.Proposal.space == spacename, ##'fuse.eth',\n",
    "    snapshot.Proposal.state == 'closed'\n",
    "    ##snapshot.Proposal.title == 'OIP-18: Reward rate framework and reduction',\n",
    "  ]\n",
    ")\n"
   ],
   "metadata": {
    "collapsed": false,
    "pycharm": {
     "name": "#%%\n"
    }
   }
  },
  {
   "cell_type": "code",
   "execution_count": 8,
   "outputs": [
    {
     "data": {
      "text/plain": "                                      id                     name\nsymbol                                                           \nzoc                               01coin                   01coin\nalgohalf        0-5x-long-algorand-token       0.5X Long Algorand\nalthalf    0-5x-long-altcoin-index-token  0.5X Long Altcoin Index\nasdhalf   0-5x-long-ascendex-token-token       0.5X Long AscendEx\nbchhalf     0-5x-long-bitcoin-cash-token   0.5X Long Bitcoin Cash\nhalf             0-5x-long-bitcoin-token        0.5X Long Bitcoin\nadahalf          0-5x-long-cardano-token        0.5X Long Cardano\nlinkhalf       0-5x-long-chainlink-token      0.5X Long Chainlink\natomhalf          0-5x-long-cosmos-token         0.5X Long Cosmos\ndogehalf        0-5x-long-dogecoin-token       0.5X Long Dogecoin",
      "text/html": "<div>\n<style scoped>\n    .dataframe tbody tr th:only-of-type {\n        vertical-align: middle;\n    }\n\n    .dataframe tbody tr th {\n        vertical-align: top;\n    }\n\n    .dataframe thead th {\n        text-align: right;\n    }\n</style>\n<table border=\"1\" class=\"dataframe\">\n  <thead>\n    <tr style=\"text-align: right;\">\n      <th></th>\n      <th>id</th>\n      <th>name</th>\n    </tr>\n    <tr>\n      <th>symbol</th>\n      <th></th>\n      <th></th>\n    </tr>\n  </thead>\n  <tbody>\n    <tr>\n      <th>zoc</th>\n      <td>01coin</td>\n      <td>01coin</td>\n    </tr>\n    <tr>\n      <th>algohalf</th>\n      <td>0-5x-long-algorand-token</td>\n      <td>0.5X Long Algorand</td>\n    </tr>\n    <tr>\n      <th>althalf</th>\n      <td>0-5x-long-altcoin-index-token</td>\n      <td>0.5X Long Altcoin Index</td>\n    </tr>\n    <tr>\n      <th>asdhalf</th>\n      <td>0-5x-long-ascendex-token-token</td>\n      <td>0.5X Long AscendEx</td>\n    </tr>\n    <tr>\n      <th>bchhalf</th>\n      <td>0-5x-long-bitcoin-cash-token</td>\n      <td>0.5X Long Bitcoin Cash</td>\n    </tr>\n    <tr>\n      <th>half</th>\n      <td>0-5x-long-bitcoin-token</td>\n      <td>0.5X Long Bitcoin</td>\n    </tr>\n    <tr>\n      <th>adahalf</th>\n      <td>0-5x-long-cardano-token</td>\n      <td>0.5X Long Cardano</td>\n    </tr>\n    <tr>\n      <th>linkhalf</th>\n      <td>0-5x-long-chainlink-token</td>\n      <td>0.5X Long Chainlink</td>\n    </tr>\n    <tr>\n      <th>atomhalf</th>\n      <td>0-5x-long-cosmos-token</td>\n      <td>0.5X Long Cosmos</td>\n    </tr>\n    <tr>\n      <th>dogehalf</th>\n      <td>0-5x-long-dogecoin-token</td>\n      <td>0.5X Long Dogecoin</td>\n    </tr>\n  </tbody>\n</table>\n</div>"
     },
     "execution_count": 8,
     "metadata": {},
     "output_type": "execute_result"
    }
   ],
   "source": [
    "coinlist = pd.DataFrame(cg.get_coins_list())\n",
    "\n",
    "coinlist.set_index('symbol', inplace=True)\n",
    "coinlist.head(10)\n"
   ],
   "metadata": {
    "collapsed": false,
    "pycharm": {
     "name": "#%%\n"
    }
   }
  },
  {
   "cell_type": "code",
   "execution_count": 10,
   "outputs": [
    {
     "data": {
      "text/plain": "  symbol\n0    OHM",
      "text/html": "<div>\n<style scoped>\n    .dataframe tbody tr th:only-of-type {\n        vertical-align: middle;\n    }\n\n    .dataframe tbody tr th {\n        vertical-align: top;\n    }\n\n    .dataframe thead th {\n        text-align: right;\n    }\n</style>\n<table border=\"1\" class=\"dataframe\">\n  <thead>\n    <tr style=\"text-align: right;\">\n      <th></th>\n      <th>symbol</th>\n    </tr>\n  </thead>\n  <tbody>\n    <tr>\n      <th>0</th>\n      <td>OHM</td>\n    </tr>\n  </tbody>\n</table>\n</div>"
     },
     "execution_count": 10,
     "metadata": {},
     "output_type": "execute_result"
    }
   ],
   "source": [
    "tokens =  snapshot.Query.spaces(\n",
    "  where=[\n",
    "    snapshot.Query.space.id == spacename, ##'fuse.eth'\n",
    "    ##snapshot.Proposal.title == 'OIP-18: Reward rate framework and reduction',\n",
    "  ]\n",
    ")\n",
    "token_symbol = sg.query_df(tokens.symbol)\n",
    "token_symbol.columns = ['symbol']\n",
    "\n",
    "token_symbol\n"
   ],
   "metadata": {
    "collapsed": false,
    "pycharm": {
     "name": "#%%\n"
    }
   }
  },
  {
   "cell_type": "code",
   "execution_count": null,
   "outputs": [],
   "source": [
    "#WHYYYY doesn't this work?\n",
    "token_id = pd.merge('coinlist', 'token_symbol', on='symbol')"
   ],
   "metadata": {
    "collapsed": false,
    "pycharm": {
     "name": "#%%\n"
    }
   }
  },
  {
   "cell_type": "code",
   "execution_count": null,
   "outputs": [],
   "source": [
    "proposals_snapshots = sg.query_df([\n",
    "    proposals.title,\n",
    "    proposals.id,\n",
    "    proposals.body,\n",
    "    proposals.scores_total\n",
    "])"
   ],
   "metadata": {
    "collapsed": false,
    "pycharm": {
     "name": "#%%\n"
    }
   }
  },
  {
   "cell_type": "code",
   "execution_count": null,
   "outputs": [],
   "source": [
    "proposals_choices = sg.query(proposals.choices)"
   ],
   "metadata": {
    "collapsed": false,
    "pycharm": {
     "name": "#%%\n"
    }
   }
  },
  {
   "cell_type": "code",
   "execution_count": null,
   "outputs": [],
   "source": [
    "proposals_choices = pd.DataFrame(proposals_choices)"
   ],
   "metadata": {
    "collapsed": false,
    "pycharm": {
     "name": "#%%\n"
    }
   }
  },
  {
   "cell_type": "code",
   "execution_count": null,
   "outputs": [],
   "source": [
    "olympus_governance_view = pd.concat([proposals_snapshots,proposals_choices], axis=1)"
   ],
   "metadata": {
    "collapsed": false,
    "pycharm": {
     "name": "#%%\n"
    }
   }
  },
  {
   "cell_type": "code",
   "execution_count": null,
   "outputs": [],
   "source": [
    "##let's view the output just to make sure\n",
    "olympus_governance_view.head(5)"
   ],
   "metadata": {
    "collapsed": false,
    "pycharm": {
     "name": "#%%\n"
    }
   }
  },
  {
   "cell_type": "code",
   "execution_count": null,
   "outputs": [],
   "source": [
    "#let's remove duplicate rows the easy way, and add the name of the DAO to the table\n",
    "olympus_governance_view_clean = olympus_governance_view.copy(deep=True)\n",
    "olympus_governance_view_clean.insert(0, 'DAO', spacename)\n",
    "olympus_governance_view_clean.head(10)"
   ],
   "metadata": {
    "collapsed": false,
    "pycharm": {
     "name": "#%%\n"
    }
   }
  },
  {
   "cell_type": "code",
   "execution_count": null,
   "outputs": [],
   "source": [
    "path =file+'/'+spacename+'_proposals_table_'+str(date.today().strftime(\"%b-%d-%Y\"))+'_'+str(len(olympus_governance_view_clean))+'_proposals.csv'\n",
    "olympus_governance_view_clean.to_csv(path, index = False)"
   ],
   "metadata": {
    "collapsed": false,
    "pycharm": {
     "name": "#%%\n"
    }
   }
  },
  {
   "cell_type": "code",
   "execution_count": null,
   "outputs": [],
   "source": [
    "total_proposals = len(olympus_governance_view_clean)\n",
    "total_proposals"
   ],
   "metadata": {
    "collapsed": false,
    "pycharm": {
     "name": "#%%\n"
    }
   }
  },
  {
   "cell_type": "code",
   "execution_count": null,
   "outputs": [],
   "source": [
    "proposal_id = olympus_governance_view_clean.iloc[0,2]\n",
    "proposal_id"
   ],
   "metadata": {
    "collapsed": false,
    "pycharm": {
     "name": "#%%\n"
    }
   }
  },
  {
   "cell_type": "code",
   "execution_count": null,
   "outputs": [],
   "source": [
    "vote_tracker = snapshot.Query.votes(\n",
    "orderBy = 'created',\n",
    "orderDirection='desc',\n",
    "first=10000,\n",
    "where=[\n",
    "  snapshot.Vote.proposal == proposal_id\n",
    "]\n",
    ")"
   ],
   "metadata": {
    "collapsed": false,
    "pycharm": {
     "name": "#%%\n"
    }
   }
  },
  {
   "cell_type": "code",
   "execution_count": null,
   "outputs": [],
   "source": [
    "voting_snapshots_list = sg.query_df([\n",
    "    vote_tracker.id,\n",
    "    vote_tracker.voter,\n",
    "    vote_tracker.created,\n",
    "    vote_tracker.choice,\n",
    "    vote_tracker.vp\n",
    "])"
   ],
   "metadata": {
    "collapsed": false,
    "pycharm": {
     "name": "#%%\n"
    }
   }
  },
  {
   "cell_type": "code",
   "execution_count": null,
   "outputs": [],
   "source": [
    "voting_snapshots_list.head(10)"
   ],
   "metadata": {
    "collapsed": false,
    "pycharm": {
     "name": "#%%\n"
    }
   }
  },
  {
   "cell_type": "code",
   "execution_count": null,
   "outputs": [],
   "source": [
    "x=0\n",
    "while x <total_proposals:\n",
    "    proposal_id = olympus_governance_view_clean.iloc[x,2]\n",
    "\n",
    "    vote_tracker = snapshot.Query.votes(\n",
    "    orderBy = 'created',\n",
    "    orderDirection='desc',\n",
    "    first=10000,\n",
    "    where=[\n",
    "      snapshot.Vote.proposal == proposal_id\n",
    "    ]\n",
    "    )\n",
    "    voting_snapshots = sg.query_df([\n",
    "    vote_tracker.id,\n",
    "    vote_tracker.voter,\n",
    "    vote_tracker.created,\n",
    "    vote_tracker.choice,\n",
    "    vote_tracker.vp\n",
    "    ])\n",
    "\n",
    "    voting_snapshots['Proposal'] = proposal_id\n",
    "    voting_snapshots_list=pd.concat([voting_snapshots_list, voting_snapshots])\n",
    "\n",
    "    x=x+1\n",
    "    progress = 100*(round(x/total_proposals,0))\n",
    "    ##clear_output(wait=True)\n",
    "\n",
    "print(len(voting_snapshots_list),' records')"
   ],
   "metadata": {
    "collapsed": false,
    "pycharm": {
     "name": "#%%\n"
    }
   }
  },
  {
   "cell_type": "code",
   "execution_count": null,
   "outputs": [],
   "source": [
    "#spit out the file\n",
    "path =file+'/'+spacename+'_voting_snapshots_list_'+str(date.today().strftime(\"%b-%d-%Y\"))+'_'+str(len(olympus_governance_view_clean))+'.csv'\n",
    "voting_snapshots_list.to_csv(path, index = False)"
   ],
   "metadata": {
    "collapsed": false,
    "pycharm": {
     "name": "#%%\n"
    }
   }
  },
  {
   "cell_type": "code",
   "execution_count": null,
   "outputs": [],
   "source": [
    "#I join these two tables to create my charts as it makes life easier. We are going to build the charts here now, so here we go\n",
    "governance_data = pd.merge(voting_snapshots_list, olympus_governance_view_clean, how='inner', left_on='Proposal', right_on='proposals_id')\n",
    "del governance_data[\"proposals_body\"]\n",
    "governance_data.head(10)"
   ],
   "metadata": {
    "collapsed": false,
    "pycharm": {
     "name": "#%%\n"
    }
   }
  },
  {
   "cell_type": "code",
   "execution_count": null,
   "outputs": [],
   "source": [
    "#Spit out the file, but save it in its own folder for easy access\n",
    "final_file = file+'\\\\'+'final'\n",
    "final_raw_file = final_file\n",
    "os.makedirs(final_raw_file, exist_ok=True)\n",
    "final_path =file+'\\\\'+spacename+'governance_data_'+str(date.today().strftime(\"%b-%d-%Y\"))+'_'+str(len(governance_data))+'.csv'\n",
    "governance_data.to_csv(final_path, index = False)"
   ],
   "metadata": {
    "collapsed": false,
    "pycharm": {
     "name": "#%%\n"
    }
   }
  },
  {
   "cell_type": "code",
   "execution_count": null,
   "outputs": [],
   "source": [
    "crunch_data = db.query(\"select \"\n",
    "                           \"Proposal\"\n",
    "                           \",votes_voter \"\n",
    "                           \",votes_choice\"\n",
    "                           \",votes_vp\"\n",
    "                           \",votes_created \"\n",
    "                       \"    ,proposals_title \"\n",
    "                    \"       , to_timestamp(min(votes_Created::bigint)) proposal_date \"\n",
    "                           \",sum(votes_vp) over (Partition by Proposal  order by votes_vp desc, votes_created asc) as cumulative_vp\"\n",
    "                           \",sum(votes_vp) over (Partition by Proposal) as total_vp\"\n",
    "                           \",(votes_vp::decimal/sum(votes_vp::decimal) over (Partition by Proposal)) as percentage_of_total_vp \"\n",
    "                           \",((sum(votes_vp) over (Partition by Proposal  order by votes_vp desc, votes_created asc))::decimal/sum(votes_vp::decimal) over (Partition by Proposal)) as cum_percentage_of_total_vp \"\n",
    "                       \",round((sum(votes_vp) over (Partition by Proposal  order by votes_vp desc, votes_created asc))::decimal/sum(votes_vp::decimal) over (Partition by Proposal)) as cum_percentage_of_total_vp_stepped \"\n",
    "                           \",row_number() over (Partition by Proposal order by votes_vp desc, votes_created asc) as proposal_voter_rank \"\n",
    "                           \",count(votes_voter) over (Partition by Proposal  order by votes_vp desc, votes_created asc) total_voters \"\n",
    "                           \",(count(*) over (Partition by Proposal  order by votes_vp desc, votes_created asc))::decimal/(count(*) over (Partition by Proposal))::decimal percentage_voters_counted \"\n",
    "                           \",round(100*(count(*) over (Partition by Proposal  order by votes_vp desc, votes_created asc))::decimal/(count(*) over (Partition by Proposal)))::decimal percentage_voters_counted_stepped \"\n",
    "                       \"from \"\n",
    "                       \"    governance_data  \"\n",
    "                       \"\"\n",
    "                       \"Group by \"\n",
    "                       \"    Proposal\"\n",
    "                       \"    ,votes_voter\"\n",
    "                       \"    ,votes_choice\"\n",
    "                       \"    , votes_vp \"\n",
    "                       \"    , votes_created \"\n",
    "                       \"    , proposals_title \"\n",
    "                       \"\"\n",
    "                       \"Order by \"\n",
    "                       \"    7 asc, \"\n",
    "                       \"    votes_vp desc \"\n",
    "                       \"    , votes_created asc\"\n",
    "                       \"\").df()\n",
    "\n",
    "\n",
    "crunch_data.insert(0, 'DAO', spacename)\n",
    "crunch_data.head(n=10)\n"
   ],
   "metadata": {
    "collapsed": false,
    "pycharm": {
     "name": "#%%\n"
    }
   }
  },
  {
   "cell_type": "code",
   "execution_count": null,
   "outputs": [],
   "source": [
    "#leaders = crunch_data.loc[crunch_data['proposal_voter_rank'] <=3]\n",
    "#leader_count = leaders.votes_voter.nunique()\n",
    "#leader_count\n",
    "#DONT ASK ME WHY THIS DIDNT WORK. HAVE TO DO IT THE UGLY WAY\n",
    "\n",
    "leader_ranks = db.query(\"with leader_ranks as \"\n",
    "                        \"(Select distinct \"\n",
    "                        \"   B.Proposal\"\n",
    "                        \"   ,B.votes_voter\"\n",
    "                        \"   ,B.proposal_voter_rank \"\n",
    "                        \"   ,(B.proposal_voter_rank +1) as leader_rank \"\n",
    "                        \"From \"\n",
    "                        \"   (select \"\n",
    "                               \"Proposal\"\n",
    "                               \",votes_voter \"\n",
    "                               \",votes_choice\"\n",
    "                               \",votes_vp\"\n",
    "                               \",votes_created  \"\n",
    "                               \",sum(votes_vp) over (Partition by Proposal  order by votes_vp desc, votes_created asc) as cumulative_vp\"\n",
    "                               \",sum(votes_vp) over (Partition by Proposal) as total_vp\"\n",
    "                               \",(votes_vp::decimal/sum(votes_vp::decimal) over (Partition by Proposal)) as percentage_of_total_vp \"\n",
    "                               \",((sum(votes_vp) over (Partition by Proposal  order by votes_vp desc, votes_created asc))::decimal/sum(votes_vp::decimal) over (Partition by Proposal)) as cum_percentage_of_total_vp \"\n",
    "                           \"    ,round((sum(votes_vp) over (Partition by Proposal  order by votes_vp desc, votes_created asc))::decimal/sum(votes_vp::decimal) over (Partition by Proposal)) as cum_percentage_of_total_vp_stepped \"\n",
    "                               \",row_number() over (Partition by Proposal order by votes_vp desc, votes_created asc) as proposal_voter_rank \"\n",
    "                               \",count(votes_voter) over (Partition by Proposal  order by votes_vp desc, votes_created asc) total_voters \"\n",
    "                               \",(count(*) over (Partition by Proposal  order by votes_vp desc, votes_created asc))::decimal/(count(*) over (Partition by Proposal))::decimal percentage_voters_counted \"\n",
    "                               \",round(100*(count(*) over (Partition by Proposal  order by votes_vp desc, votes_created asc))::decimal/(count(*) over (Partition by Proposal)))::decimal percentage_voters_counted_stepped \"\n",
    "                           \"from \"\n",
    "                           \"    governance_data  \"\n",
    "                               \"\"\n",
    "                           \"Group by \"\n",
    "                           \"    Proposal\"\n",
    "                           \"    ,votes_voter\"\n",
    "                           \"    ,votes_choice\"\n",
    "                           \"    , votes_vp \"\n",
    "                           \"    , votes_created \"\n",
    "                           \"\"\n",
    "                           \"Order by \"\n",
    "                           \"    Proposal, \"\n",
    "                           \"    votes_vp desc \"\n",
    "                           \"    , votes_created asc) B \"\n",
    "                        \"where \"\n",
    "                        \"   B.cum_percentage_of_total_vp<=0.5) \"\n",
    "                        \"\"\n",
    "                        \"Select \"\n",
    "                        \"   *\"\n",
    "                        \"From crunch_data A\"\n",
    "                        \"   Join leader_ranks B on A.proposal_voter_rank = B.leader_rank and A.Proposal = B.Proposal\"\n",
    "                        \"\"\n",
    "                    ).df()\n",
    "leader_ranks\n",
    "\n",
    "\n"
   ],
   "metadata": {
    "collapsed": false,
    "pycharm": {
     "name": "#%%\n"
    }
   }
  },
  {
   "cell_type": "code",
   "execution_count": null,
   "outputs": [],
   "source": [
    "dao_members = crunch_data.groupby('DAO').votes_voter.nunique()\n",
    "dao_members = dao_members.iloc[0]\n",
    "leader_count =leader_ranks.votes_voter.nunique()\n",
    "elite = round((leader_count)/(dao_members),4)\n",
    "\n",
    "print(dao_members, \"{0:.2%}\".format(elite))\n"
   ],
   "metadata": {
    "collapsed": false,
    "pycharm": {
     "name": "#%%\n"
    }
   }
  },
  {
   "cell_type": "code",
   "execution_count": null,
   "outputs": [],
   "source": [
    "crunch_data.head(10)"
   ],
   "metadata": {
    "collapsed": false,
    "pycharm": {
     "name": "#%%\n"
    }
   }
  },
  {
   "cell_type": "code",
   "execution_count": null,
   "outputs": [],
   "source": [
    "crunch_data.describe()"
   ],
   "metadata": {
    "collapsed": false,
    "pycharm": {
     "name": "#%%\n"
    }
   }
  },
  {
   "cell_type": "code",
   "execution_count": null,
   "outputs": [],
   "source": [
    "##spit out the file!\n",
    "crunch_data_path =final_file+'\\\\'+spacename+'_crunch_data_path'+str(date.today().strftime(\"%b-%d-%Y\"))+'_'+str(len(crunch_data))+'.csv'\n",
    "crunch_data.to_csv(crunch_data_path, index = False)"
   ],
   "metadata": {
    "collapsed": false,
    "pycharm": {
     "name": "#%%\n"
    }
   }
  },
  {
   "cell_type": "code",
   "execution_count": null,
   "outputs": [],
   "source": [
    "data_means = crunch_data.groupby(\"percentage_voters_counted_stepped\")[\"cum_percentage_of_total_vp\", \"percentage_voters_counted\"].agg(\"mean\").reset_index()\n",
    "data_means.insert(0, 'DAO', spacename)"
   ],
   "metadata": {
    "collapsed": false,
    "pycharm": {
     "name": "#%%\n"
    }
   }
  },
  {
   "cell_type": "code",
   "execution_count": null,
   "outputs": [],
   "source": [
    "data_means_file =final_file+'\\\\'+spacename+'data_means_'+str(date.today().strftime(\"%b-%d-%Y\"))+'_'+str(len(crunch_data))+'.csv'\n",
    "crunch_data.to_csv(data_means_file, index = False)"
   ],
   "metadata": {
    "collapsed": false,
    "pycharm": {
     "name": "#%%\n"
    }
   }
  },
  {
   "cell_type": "code",
   "execution_count": null,
   "outputs": [],
   "source": [
    "plt.rc(\"figure\", figsize=(40, 20))\n",
    "sns.set_style(\"whitegrid\")\n",
    "plt.rc(\"font\", size=25)\n",
    "data_means = crunch_data.groupby(\"percentage_voters_counted_stepped\")[\"cum_percentage_of_total_vp\",\"percentage_voters_counted\"].agg(\"mean\").reset_index()\n",
    "##print(data_means)\n",
    "plot_title = spacename + ' snapshots % of vote along population with Average as X'\n",
    "\n",
    "ax=sns.scatterplot(data=crunch_data, y=\"cum_percentage_of_total_vp\",x=\"percentage_voters_counted_stepped\").set(title=plot_title,xlabel='% of voters',ylabel='% of voting power')\n",
    "chart = sns.scatterplot(data=data_means,x=\"percentage_voters_counted_stepped\",y=\"cum_percentage_of_total_vp\",zorder=3, s=600,marker='X',color = 'orange')\n",
    "#and save the chart file, too\n",
    "plt.savefig(final_file+'\\\\'+spacename+' vote power distribution.png', dpi=100)\n",
    "\n",
    "means_data_path =final_file+'\\\\'+spacename+'_means_'+'.csv'\n",
    "data_means.to_csv(means_data_path, index = False)\n",
    "\n",
    "print(chart)\n",
    "data_means"
   ],
   "metadata": {
    "collapsed": false,
    "pycharm": {
     "name": "#%%\n"
    }
   }
  },
  {
   "cell_type": "markdown",
   "source": [
    "The chart above shows what % of all possible votes has been cast (Y axis) as each incremental percent of the voting population casts their vote (X axis). Each line is a Proposal and has a unique color, so that a dot on each percent point represents what % of total voting power was accumulated by that group. The color represents which vote was cast.\n",
    "The Orange X shows the average % of power accumulated across all elections."
   ],
   "metadata": {
    "collapsed": false,
    "pycharm": {
     "name": "#%% md\n"
    }
   }
  },
  {
   "cell_type": "code",
   "execution_count": null,
   "outputs": [],
   "source": [
    "voters_df = db.query(\"select  proposals_title, count(distinct votes_voter) total_voters,  min(proposal_date) proposal_date from crunch_data group by 1 order by 1 asc\").df()\n",
    "\n",
    "chart = sns.barplot(data=voters_df,x=\"proposals_title\",y=\"total_voters\", color = 'orange')\n",
    "#and save the chart file, too\n",
    "\n",
    "print(chart)\n",
    "\n"
   ],
   "metadata": {
    "collapsed": false,
    "pycharm": {
     "name": "#%%\n"
    }
   }
  },
  {
   "cell_type": "code",
   "execution_count": 77,
   "outputs": [
    {
     "name": "stdout",
     "output_type": "stream",
     "text": [
      "AxesSubplot(0.125,0.125;0.775x0.755)\n"
     ]
    },
    {
     "name": "stderr",
     "output_type": "stream",
     "text": [
      "/Users/ianbrillembourg/PycharmProjects/Snapshotsurfer/venv/lib/python3.10/site-packages/IPython/core/pylabtools.py:151: UserWarning: Glyph 26376 (\\N{CJK UNIFIED IDEOGRAPH-6708}) missing from current font.\n",
      "  fig.canvas.print_figure(bytes_io, **kw)\n",
      "/Users/ianbrillembourg/PycharmProjects/Snapshotsurfer/venv/lib/python3.10/site-packages/IPython/core/pylabtools.py:151: UserWarning: Glyph 26085 (\\N{CJK UNIFIED IDEOGRAPH-65E5}) missing from current font.\n",
      "  fig.canvas.print_figure(bytes_io, **kw)\n",
      "/Users/ianbrillembourg/PycharmProjects/Snapshotsurfer/venv/lib/python3.10/site-packages/IPython/core/pylabtools.py:151: UserWarning: Glyph 21069 (\\N{CJK UNIFIED IDEOGRAPH-524D}) missing from current font.\n",
      "  fig.canvas.print_figure(bytes_io, **kw)\n",
      "/Users/ianbrillembourg/PycharmProjects/Snapshotsurfer/venv/lib/python3.10/site-packages/IPython/core/pylabtools.py:151: UserWarning: Glyph 33021 (\\N{CJK UNIFIED IDEOGRAPH-80FD}) missing from current font.\n",
      "  fig.canvas.print_figure(bytes_io, **kw)\n",
      "/Users/ianbrillembourg/PycharmProjects/Snapshotsurfer/venv/lib/python3.10/site-packages/IPython/core/pylabtools.py:151: UserWarning: Glyph 21040 (\\N{CJK UNIFIED IDEOGRAPH-5230}) missing from current font.\n",
      "  fig.canvas.print_figure(bytes_io, **kw)\n",
      "/Users/ianbrillembourg/PycharmProjects/Snapshotsurfer/venv/lib/python3.10/site-packages/IPython/core/pylabtools.py:151: UserWarning: Glyph 19975 (\\N{CJK UNIFIED IDEOGRAPH-4E07}) missing from current font.\n",
      "  fig.canvas.print_figure(bytes_io, **kw)\n",
      "/Users/ianbrillembourg/PycharmProjects/Snapshotsurfer/venv/lib/python3.10/site-packages/IPython/core/pylabtools.py:151: UserWarning: Glyph 20992 (\\N{CJK UNIFIED IDEOGRAPH-5200}) missing from current font.\n",
      "  fig.canvas.print_figure(bytes_io, **kw)\n",
      "/Users/ianbrillembourg/PycharmProjects/Snapshotsurfer/venv/lib/python3.10/site-packages/IPython/core/pylabtools.py:151: UserWarning: Glyph 21527 (\\N{CJK UNIFIED IDEOGRAPH-5417}) missing from current font.\n",
      "  fig.canvas.print_figure(bytes_io, **kw)\n",
      "/Users/ianbrillembourg/PycharmProjects/Snapshotsurfer/venv/lib/python3.10/site-packages/IPython/core/pylabtools.py:151: UserWarning: Glyph 65311 (\\N{FULLWIDTH QUESTION MARK}) missing from current font.\n",
      "  fig.canvas.print_figure(bytes_io, **kw)\n",
      "/Users/ianbrillembourg/PycharmProjects/Snapshotsurfer/venv/lib/python3.10/site-packages/IPython/core/pylabtools.py:151: UserWarning: Glyph 20102 (\\N{CJK UNIFIED IDEOGRAPH-4E86}) missing from current font.\n",
      "  fig.canvas.print_figure(bytes_io, **kw)\n",
      "/Users/ianbrillembourg/PycharmProjects/Snapshotsurfer/venv/lib/python3.10/site-packages/IPython/core/pylabtools.py:151: UserWarning: Glyph 35299 (\\N{CJK UNIFIED IDEOGRAPH-89E3}) missing from current font.\n",
      "  fig.canvas.print_figure(bytes_io, **kw)\n",
      "/Users/ianbrillembourg/PycharmProjects/Snapshotsurfer/venv/lib/python3.10/site-packages/IPython/core/pylabtools.py:151: UserWarning: Glyph 31243 (\\N{CJK UNIFIED IDEOGRAPH-7A0B}) missing from current font.\n",
      "  fig.canvas.print_figure(bytes_io, **kw)\n",
      "/Users/ianbrillembourg/PycharmProjects/Snapshotsurfer/venv/lib/python3.10/site-packages/IPython/core/pylabtools.py:151: UserWarning: Glyph 24230 (\\N{CJK UNIFIED IDEOGRAPH-5EA6}) missing from current font.\n",
      "  fig.canvas.print_figure(bytes_io, **kw)\n",
      "/Users/ianbrillembourg/PycharmProjects/Snapshotsurfer/venv/lib/python3.10/site-packages/IPython/core/pylabtools.py:151: UserWarning: Glyph 20570 (\\N{CJK UNIFIED IDEOGRAPH-505A}) missing from current font.\n",
      "  fig.canvas.print_figure(bytes_io, **kw)\n",
      "/Users/ianbrillembourg/PycharmProjects/Snapshotsurfer/venv/lib/python3.10/site-packages/IPython/core/pylabtools.py:151: UserWarning: Glyph 20219 (\\N{CJK UNIFIED IDEOGRAPH-4EFB}) missing from current font.\n",
      "  fig.canvas.print_figure(bytes_io, **kw)\n",
      "/Users/ianbrillembourg/PycharmProjects/Snapshotsurfer/venv/lib/python3.10/site-packages/IPython/core/pylabtools.py:151: UserWarning: Glyph 21153 (\\N{CJK UNIFIED IDEOGRAPH-52A1}) missing from current font.\n",
      "  fig.canvas.print_figure(bytes_io, **kw)\n"
     ]
    },
    {
     "data": {
      "text/plain": "<Figure size 2880x1440 with 1 Axes>",
      "image/png": "[encoded data removed]"
     },
     "metadata": {},
     "output_type": "display_data"
    }
   ],
   "source": [
    "voters_df = db.query(\"select  proposals_title, count(distinct votes_voter) total_voters,  min(proposal_date) proposal_date from crunch_data group by 1 order by 1 asc\").df()\n",
    "\n",
    "chart = sns.barplot(data=voters_df,x=\"proposals_title\",y=\"total_voters\", color = 'orange')\n",
    "#and save the chart file, too\n",
    "\n",
    "print(chart)\n",
    "\n"
   ],
   "metadata": {
    "collapsed": false,
    "pycharm": {
     "name": "#%%\n"
    }
   }
  },
  {
   "cell_type": "code",
   "execution_count": null,
   "outputs": [],
   "source": [
    "p50 = db.query(\"select min(percentage_voters_counted) \"\n",
    "               \"from data_means  where cum_percentage_of_total_vp>=0.5 \").df()\n",
    "p50display = round(100*(p50.iloc[0,0]),2)\n",
    "print('On average, a proposal at ', spacename, 'takes ',p50display,'% of the voting population.')\n",
    "\n",
    "print('A total of ',leader_count, 'wallets have driven the result of all proposals at',spacename,)\n",
    "print('That\\'s', (\"{0:.2%}\".format(elite)), 'of all DAO voters.')"
   ],
   "metadata": {
    "collapsed": false,
    "pycharm": {
     "name": "#%%\n"
    }
   }
  },
  {
   "cell_type": "code",
   "execution_count": null,
   "outputs": [],
   "source": [
    "\n"
   ],
   "metadata": {
    "collapsed": false,
    "pycharm": {
     "name": "#%%\n"
    }
   }
  },
  {
   "cell_type": "code",
   "execution_count": null,
   "outputs": [],
   "source": [],
   "metadata": {
    "collapsed": false,
    "pycharm": {
     "name": "#%%\n"
    }
   }
  },
  {
   "cell_type": "markdown",
   "source": [],
   "metadata": {
    "collapsed": false,
    "pycharm": {
     "name": "#%% md\n"
    }
   },
   "execution_count": 2074
  }
 ],
 "metadata": {
  "kernelspec": {
   "display_name": "Python 3",
   "language": "python",
   "name": "python3"
  },
  "language_info": {
   "codemirror_mode": {
    "name": "ipython",
    "version": 2
   },
   "file_extension": ".py",
   "mimetype": "text/x-python",
   "name": "python",
   "nbconvert_exporter": "python",
   "pygments_lexer": "ipython2",
   "version": "2.7.6"
  }
 },
 "nbformat": 4,
 "nbformat_minor": 0
}