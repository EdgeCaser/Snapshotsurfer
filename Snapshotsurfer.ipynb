{
 "cells": [
  {
   "cell_type": "code",
   "execution_count": 16,
   "outputs": [],
   "source": [
    "global file\n",
    "file = input('Selet a folder to save output') ##enter your file path here - the file is in the repo \"summary_stats.csv\".\n",
    "raw_file = file"
   ],
   "metadata": {
    "collapsed": false,
    "pycharm": {
     "name": "#%%\n"
    }
   }
  },
  {
   "cell_type": "code",
   "execution_count": 17,
   "outputs": [],
   "source": [
    "from datetime import datetime\n",
    "from datetime import date\n",
    "from subgrounds.subgraph import SyntheticField, FieldPath\n",
    "from subgrounds.subgrounds import Subgrounds\n",
    "import math\n",
    "import pandas as pd\n",
    "import  os as os\n",
    "import duckdb as db\n",
    "import seaborn as sns\n",
    "import matplotlib.pyplot as plt"
   ],
   "metadata": {
    "collapsed": false,
    "pycharm": {
     "name": "#%%\n"
    }
   }
  },
  {
   "cell_type": "code",
   "execution_count": 18,
   "outputs": [],
   "source": [
    "sg = Subgrounds()\n",
    "snapshot = sg.load_api('https://hub.snapshot.org/graphql')"
   ],
   "metadata": {
    "collapsed": false,
    "pycharm": {
     "name": "#%%\n"
    }
   }
  },
  {
   "cell_type": "code",
   "execution_count": 19,
   "outputs": [],
   "source": [
    "snapshot.Proposal.datetime = SyntheticField(\n",
    "  lambda timestamp: str(datetime.fromtimestamp(timestamp)),\n",
    "  SyntheticField.STRING,\n",
    "  snapshot.Proposal.end,\n",
    ")"
   ],
   "metadata": {
    "collapsed": false,
    "pycharm": {
     "name": "#%%\n"
    }
   }
  },
  {
   "cell_type": "code",
   "execution_count": 20,
   "outputs": [],
   "source": [
    "spacename = input('spacename plz?')\n",
    "# based on their url, for example \"curve.eth\" for  https://snapshot.org/#/curve.eth\n",
    "proposals = snapshot.Query.proposals(\n",
    "  orderBy='created',\n",
    "  orderDirection='desc',\n",
    "  first=10000,\n",
    "  where=[\n",
    "    snapshot.Proposal.space == spacename, ##'fuse.eth',\n",
    "    snapshot.Proposal.state == 'closed'\n",
    "    ##snapshot.Proposal.title == 'OIP-18: Reward rate framework and reduction',\n",
    "  ]\n",
    ")"
   ],
   "metadata": {
    "collapsed": false,
    "pycharm": {
     "name": "#%%\n"
    }
   }
  },
  {
   "cell_type": "code",
   "execution_count": 21,
   "outputs": [],
   "source": [
    "proposals_snapshots = sg.query_df([\n",
    "    proposals.title,\n",
    "    proposals.id,\n",
    "    proposals.body,\n",
    "    proposals.scores_total\n",
    "])"
   ],
   "metadata": {
    "collapsed": false,
    "pycharm": {
     "name": "#%%\n"
    }
   }
  },
  {
   "cell_type": "code",
   "execution_count": 22,
   "outputs": [],
   "source": [
    "proposals_choices = sg.query(proposals.choices)"
   ],
   "metadata": {
    "collapsed": false,
    "pycharm": {
     "name": "#%%\n"
    }
   }
  },
  {
   "cell_type": "code",
   "execution_count": 23,
   "outputs": [],
   "source": [
    "proposals_choices = pd.DataFrame(proposals_choices)"
   ],
   "metadata": {
    "collapsed": false,
    "pycharm": {
     "name": "#%%\n"
    }
   }
  },
  {
   "cell_type": "code",
   "execution_count": 24,
   "outputs": [],
   "source": [
    "olympus_governance_view = pd.concat([proposals_snapshots,proposals_choices], axis=1)"
   ],
   "metadata": {
    "collapsed": false,
    "pycharm": {
     "name": "#%%\n"
    }
   }
  },
  {
   "cell_type": "code",
   "execution_count": 25,
   "outputs": [
    {
     "data": {
      "text/plain": "                                     proposals_title  \\\n0  Temp Check: \"Fee switch\" activation for ETH/US...   \n1  Should Uniswap provide Rage Trade with an addi...   \n2  [Consensus Check] - Enable 1bp Fee Tier on Uni...   \n3  [Temperature Check] Should the Uniswap communi...   \n4  [Consensus Check] Should Uniswap v3 be deploye...   \n\n                                        proposals_id  \\\n0  0x4dd49ee723a7e506c6c6c15c8eabc8a7057f3f0760e4...   \n1  0x1bf2c3fb48e31f4e006ce6349967088fc726cbf1d151...   \n2     QmV8ZeseHEoAcGj51kGaC6gVF2BkL9BHACJDAaQ74uiaJi   \n3  0x7f196c3444623a33ac147d1676d84e45d3c4c56a94ba...   \n4  0x729c19f1cafab8ed884914549e147ef401532cf6680e...   \n\n                                      proposals_body  proposals_scores_total  \\\n0  See governance forum for details: https://gov....            3.530561e+06   \n1  Authors: [Noodles](https://twitter.com/crypto_...            3.642461e+06   \n2  **Summary**:\\n\\nEnable a 1bp, 1tick fee tier o...            1.162100e+07   \n3  Authors: [Trent](https://twitter.com/trent_van...            1.370368e+07   \n4  ## Context\\n\\nAfter passing the [Temperature C...            1.393446e+07   \n\n      0   1     2     3     4     5     6     7     8     9    10    11  \n0   Yes  No  None  None  None  None  None  None  None  None  None  None  \n1   Yes  No  None  None  None  None  None  None  None  None  None  None  \n2   YES  NO  None  None  None  None  None  None  None  None  None  None  \n3  Yes   No  None  None  None  None  None  None  None  None  None  None  \n4   Yes  No  None  None  None  None  None  None  None  None  None  None  ",
      "text/html": "<div>\n<style scoped>\n    .dataframe tbody tr th:only-of-type {\n        vertical-align: middle;\n    }\n\n    .dataframe tbody tr th {\n        vertical-align: top;\n    }\n\n    .dataframe thead th {\n        text-align: right;\n    }\n</style>\n<table border=\"1\" class=\"dataframe\">\n  <thead>\n    <tr style=\"text-align: right;\">\n      <th></th>\n      <th>proposals_title</th>\n      <th>proposals_id</th>\n      <th>proposals_body</th>\n      <th>proposals_scores_total</th>\n      <th>0</th>\n      <th>1</th>\n      <th>2</th>\n      <th>3</th>\n      <th>4</th>\n      <th>5</th>\n      <th>6</th>\n      <th>7</th>\n      <th>8</th>\n      <th>9</th>\n      <th>10</th>\n      <th>11</th>\n    </tr>\n  </thead>\n  <tbody>\n    <tr>\n      <th>0</th>\n      <td>Temp Check: \"Fee switch\" activation for ETH/US...</td>\n      <td>0x4dd49ee723a7e506c6c6c15c8eabc8a7057f3f0760e4...</td>\n      <td>See governance forum for details: https://gov....</td>\n      <td>3.530561e+06</td>\n      <td>Yes</td>\n      <td>No</td>\n      <td>None</td>\n      <td>None</td>\n      <td>None</td>\n      <td>None</td>\n      <td>None</td>\n      <td>None</td>\n      <td>None</td>\n      <td>None</td>\n      <td>None</td>\n      <td>None</td>\n    </tr>\n    <tr>\n      <th>1</th>\n      <td>Should Uniswap provide Rage Trade with an addi...</td>\n      <td>0x1bf2c3fb48e31f4e006ce6349967088fc726cbf1d151...</td>\n      <td>Authors: [Noodles](https://twitter.com/crypto_...</td>\n      <td>3.642461e+06</td>\n      <td>Yes</td>\n      <td>No</td>\n      <td>None</td>\n      <td>None</td>\n      <td>None</td>\n      <td>None</td>\n      <td>None</td>\n      <td>None</td>\n      <td>None</td>\n      <td>None</td>\n      <td>None</td>\n      <td>None</td>\n    </tr>\n    <tr>\n      <th>2</th>\n      <td>[Consensus Check] - Enable 1bp Fee Tier on Uni...</td>\n      <td>QmV8ZeseHEoAcGj51kGaC6gVF2BkL9BHACJDAaQ74uiaJi</td>\n      <td>**Summary**:\\n\\nEnable a 1bp, 1tick fee tier o...</td>\n      <td>1.162100e+07</td>\n      <td>YES</td>\n      <td>NO</td>\n      <td>None</td>\n      <td>None</td>\n      <td>None</td>\n      <td>None</td>\n      <td>None</td>\n      <td>None</td>\n      <td>None</td>\n      <td>None</td>\n      <td>None</td>\n      <td>None</td>\n    </tr>\n    <tr>\n      <th>3</th>\n      <td>[Temperature Check] Should the Uniswap communi...</td>\n      <td>0x7f196c3444623a33ac147d1676d84e45d3c4c56a94ba...</td>\n      <td>Authors: [Trent](https://twitter.com/trent_van...</td>\n      <td>1.370368e+07</td>\n      <td>Yes</td>\n      <td>No</td>\n      <td>None</td>\n      <td>None</td>\n      <td>None</td>\n      <td>None</td>\n      <td>None</td>\n      <td>None</td>\n      <td>None</td>\n      <td>None</td>\n      <td>None</td>\n      <td>None</td>\n    </tr>\n    <tr>\n      <th>4</th>\n      <td>[Consensus Check] Should Uniswap v3 be deploye...</td>\n      <td>0x729c19f1cafab8ed884914549e147ef401532cf6680e...</td>\n      <td>## Context\\n\\nAfter passing the [Temperature C...</td>\n      <td>1.393446e+07</td>\n      <td>Yes</td>\n      <td>No</td>\n      <td>None</td>\n      <td>None</td>\n      <td>None</td>\n      <td>None</td>\n      <td>None</td>\n      <td>None</td>\n      <td>None</td>\n      <td>None</td>\n      <td>None</td>\n      <td>None</td>\n    </tr>\n  </tbody>\n</table>\n</div>"
     },
     "execution_count": 25,
     "metadata": {},
     "output_type": "execute_result"
    }
   ],
   "source": [
    "##let's view the output just to make sure\n",
    "olympus_governance_view.head(5)"
   ],
   "metadata": {
    "collapsed": false,
    "pycharm": {
     "name": "#%%\n"
    }
   }
  },
  {
   "cell_type": "code",
   "execution_count": 26,
   "outputs": [
    {
     "data": {
      "text/plain": "       DAO                                    proposals_title  \\\n0  uniswap  Temp Check: \"Fee switch\" activation for ETH/US...   \n1  uniswap  Should Uniswap provide Rage Trade with an addi...   \n2  uniswap  [Consensus Check] - Enable 1bp Fee Tier on Uni...   \n3  uniswap  [Temperature Check] Should the Uniswap communi...   \n4  uniswap  [Consensus Check] Should Uniswap v3 be deploye...   \n5  uniswap    [Consensus Check] Deploy Uniswap V3 on Moonbeam   \n6  uniswap  [Temperature Check] Deploy Uniswap V3 on Moonbeam   \n7  uniswap  Temperature Check - Should Uniswap v3 be deplo...   \n8  uniswap  Consensus Check - Should Uniswap add the 1bp f...   \n9  uniswap  Temp Check - Should Uniswap add the 1bp fee ti...   \n\n                                        proposals_id  \\\n0  0x4dd49ee723a7e506c6c6c15c8eabc8a7057f3f0760e4...   \n1  0x1bf2c3fb48e31f4e006ce6349967088fc726cbf1d151...   \n2     QmV8ZeseHEoAcGj51kGaC6gVF2BkL9BHACJDAaQ74uiaJi   \n3  0x7f196c3444623a33ac147d1676d84e45d3c4c56a94ba...   \n4  0x729c19f1cafab8ed884914549e147ef401532cf6680e...   \n5     QmcVpxCSkL8rPmZgow8uL2GbdPZtUKS3huY9aSExKNfEK6   \n6     QmaG6nJYW3xLeQwAa6xxhpbuYS8h6PVQpbx1vfqpqxAtik   \n7  0xb328c7583c0f1ea85f8a273dd36977c95e47c3713744...   \n8     QmZ2D27uouvVEHGuRvydwmwepgL2PEXbGzYAXqYr9bMwLo   \n9     QmWhemJom3RZdH91rBPmjvAFZEr9HdFRSFVNtAae6kgbyE   \n\n                                      proposals_body  proposals_scores_total  \\\n0  See governance forum for details: https://gov....            3.530561e+06   \n1  Authors: [Noodles](https://twitter.com/crypto_...            3.642461e+06   \n2  **Summary**:\\n\\nEnable a 1bp, 1tick fee tier o...            1.162100e+07   \n3  Authors: [Trent](https://twitter.com/trent_van...            1.370368e+07   \n4  ## Context\\n\\nAfter passing the [Temperature C...            1.393446e+07   \n5  ## Proposal Topic\\n\\n[Blockchain at Berkeley](...            9.637142e+06   \n6  ## Proposal Discussion Topic\\n\\n[Blockchain at...            8.327675e+06   \n7  \\n#### Deploy Uni V3 to Gnosis Chain\\n\\nIn pro...            7.015899e+06   \n8  # Summary\\n\\nTo date, Uniswap has four deploym...            9.030399e+06   \n9  \\n# Summary\\n\\nTo date, Uniswap has four deplo...            8.931026e+06   \n\n      0   1     2     3     4     5     6     7     8     9    10    11  \n0   Yes  No  None  None  None  None  None  None  None  None  None  None  \n1   Yes  No  None  None  None  None  None  None  None  None  None  None  \n2   YES  NO  None  None  None  None  None  None  None  None  None  None  \n3  Yes   No  None  None  None  None  None  None  None  None  None  None  \n4   Yes  No  None  None  None  None  None  None  None  None  None  None  \n5   Yes  No  None  None  None  None  None  None  None  None  None  None  \n6   Yes  No  None  None  None  None  None  None  None  None  None  None  \n7   Yes  No  None  None  None  None  None  None  None  None  None  None  \n8   Yes  No  None  None  None  None  None  None  None  None  None  None  \n9   Yes  No  None  None  None  None  None  None  None  None  None  None  ",
      "text/html": "<div>\n<style scoped>\n    .dataframe tbody tr th:only-of-type {\n        vertical-align: middle;\n    }\n\n    .dataframe tbody tr th {\n        vertical-align: top;\n    }\n\n    .dataframe thead th {\n        text-align: right;\n    }\n</style>\n<table border=\"1\" class=\"dataframe\">\n  <thead>\n    <tr style=\"text-align: right;\">\n      <th></th>\n      <th>DAO</th>\n      <th>proposals_title</th>\n      <th>proposals_id</th>\n      <th>proposals_body</th>\n      <th>proposals_scores_total</th>\n      <th>0</th>\n      <th>1</th>\n      <th>2</th>\n      <th>3</th>\n      <th>4</th>\n      <th>5</th>\n      <th>6</th>\n      <th>7</th>\n      <th>8</th>\n      <th>9</th>\n      <th>10</th>\n      <th>11</th>\n    </tr>\n  </thead>\n  <tbody>\n    <tr>\n      <th>0</th>\n      <td>uniswap</td>\n      <td>Temp Check: \"Fee switch\" activation for ETH/US...</td>\n      <td>0x4dd49ee723a7e506c6c6c15c8eabc8a7057f3f0760e4...</td>\n      <td>See governance forum for details: https://gov....</td>\n      <td>3.530561e+06</td>\n      <td>Yes</td>\n      <td>No</td>\n      <td>None</td>\n      <td>None</td>\n      <td>None</td>\n      <td>None</td>\n      <td>None</td>\n      <td>None</td>\n      <td>None</td>\n      <td>None</td>\n      <td>None</td>\n      <td>None</td>\n    </tr>\n    <tr>\n      <th>1</th>\n      <td>uniswap</td>\n      <td>Should Uniswap provide Rage Trade with an addi...</td>\n      <td>0x1bf2c3fb48e31f4e006ce6349967088fc726cbf1d151...</td>\n      <td>Authors: [Noodles](https://twitter.com/crypto_...</td>\n      <td>3.642461e+06</td>\n      <td>Yes</td>\n      <td>No</td>\n      <td>None</td>\n      <td>None</td>\n      <td>None</td>\n      <td>None</td>\n      <td>None</td>\n      <td>None</td>\n      <td>None</td>\n      <td>None</td>\n      <td>None</td>\n      <td>None</td>\n    </tr>\n    <tr>\n      <th>2</th>\n      <td>uniswap</td>\n      <td>[Consensus Check] - Enable 1bp Fee Tier on Uni...</td>\n      <td>QmV8ZeseHEoAcGj51kGaC6gVF2BkL9BHACJDAaQ74uiaJi</td>\n      <td>**Summary**:\\n\\nEnable a 1bp, 1tick fee tier o...</td>\n      <td>1.162100e+07</td>\n      <td>YES</td>\n      <td>NO</td>\n      <td>None</td>\n      <td>None</td>\n      <td>None</td>\n      <td>None</td>\n      <td>None</td>\n      <td>None</td>\n      <td>None</td>\n      <td>None</td>\n      <td>None</td>\n      <td>None</td>\n    </tr>\n    <tr>\n      <th>3</th>\n      <td>uniswap</td>\n      <td>[Temperature Check] Should the Uniswap communi...</td>\n      <td>0x7f196c3444623a33ac147d1676d84e45d3c4c56a94ba...</td>\n      <td>Authors: [Trent](https://twitter.com/trent_van...</td>\n      <td>1.370368e+07</td>\n      <td>Yes</td>\n      <td>No</td>\n      <td>None</td>\n      <td>None</td>\n      <td>None</td>\n      <td>None</td>\n      <td>None</td>\n      <td>None</td>\n      <td>None</td>\n      <td>None</td>\n      <td>None</td>\n      <td>None</td>\n    </tr>\n    <tr>\n      <th>4</th>\n      <td>uniswap</td>\n      <td>[Consensus Check] Should Uniswap v3 be deploye...</td>\n      <td>0x729c19f1cafab8ed884914549e147ef401532cf6680e...</td>\n      <td>## Context\\n\\nAfter passing the [Temperature C...</td>\n      <td>1.393446e+07</td>\n      <td>Yes</td>\n      <td>No</td>\n      <td>None</td>\n      <td>None</td>\n      <td>None</td>\n      <td>None</td>\n      <td>None</td>\n      <td>None</td>\n      <td>None</td>\n      <td>None</td>\n      <td>None</td>\n      <td>None</td>\n    </tr>\n    <tr>\n      <th>5</th>\n      <td>uniswap</td>\n      <td>[Consensus Check] Deploy Uniswap V3 on Moonbeam</td>\n      <td>QmcVpxCSkL8rPmZgow8uL2GbdPZtUKS3huY9aSExKNfEK6</td>\n      <td>## Proposal Topic\\n\\n[Blockchain at Berkeley](...</td>\n      <td>9.637142e+06</td>\n      <td>Yes</td>\n      <td>No</td>\n      <td>None</td>\n      <td>None</td>\n      <td>None</td>\n      <td>None</td>\n      <td>None</td>\n      <td>None</td>\n      <td>None</td>\n      <td>None</td>\n      <td>None</td>\n      <td>None</td>\n    </tr>\n    <tr>\n      <th>6</th>\n      <td>uniswap</td>\n      <td>[Temperature Check] Deploy Uniswap V3 on Moonbeam</td>\n      <td>QmaG6nJYW3xLeQwAa6xxhpbuYS8h6PVQpbx1vfqpqxAtik</td>\n      <td>## Proposal Discussion Topic\\n\\n[Blockchain at...</td>\n      <td>8.327675e+06</td>\n      <td>Yes</td>\n      <td>No</td>\n      <td>None</td>\n      <td>None</td>\n      <td>None</td>\n      <td>None</td>\n      <td>None</td>\n      <td>None</td>\n      <td>None</td>\n      <td>None</td>\n      <td>None</td>\n      <td>None</td>\n    </tr>\n    <tr>\n      <th>7</th>\n      <td>uniswap</td>\n      <td>Temperature Check - Should Uniswap v3 be deplo...</td>\n      <td>0xb328c7583c0f1ea85f8a273dd36977c95e47c3713744...</td>\n      <td>\\n#### Deploy Uni V3 to Gnosis Chain\\n\\nIn pro...</td>\n      <td>7.015899e+06</td>\n      <td>Yes</td>\n      <td>No</td>\n      <td>None</td>\n      <td>None</td>\n      <td>None</td>\n      <td>None</td>\n      <td>None</td>\n      <td>None</td>\n      <td>None</td>\n      <td>None</td>\n      <td>None</td>\n      <td>None</td>\n    </tr>\n    <tr>\n      <th>8</th>\n      <td>uniswap</td>\n      <td>Consensus Check - Should Uniswap add the 1bp f...</td>\n      <td>QmZ2D27uouvVEHGuRvydwmwepgL2PEXbGzYAXqYr9bMwLo</td>\n      <td># Summary\\n\\nTo date, Uniswap has four deploym...</td>\n      <td>9.030399e+06</td>\n      <td>Yes</td>\n      <td>No</td>\n      <td>None</td>\n      <td>None</td>\n      <td>None</td>\n      <td>None</td>\n      <td>None</td>\n      <td>None</td>\n      <td>None</td>\n      <td>None</td>\n      <td>None</td>\n      <td>None</td>\n    </tr>\n    <tr>\n      <th>9</th>\n      <td>uniswap</td>\n      <td>Temp Check - Should Uniswap add the 1bp fee ti...</td>\n      <td>QmWhemJom3RZdH91rBPmjvAFZEr9HdFRSFVNtAae6kgbyE</td>\n      <td>\\n# Summary\\n\\nTo date, Uniswap has four deplo...</td>\n      <td>8.931026e+06</td>\n      <td>Yes</td>\n      <td>No</td>\n      <td>None</td>\n      <td>None</td>\n      <td>None</td>\n      <td>None</td>\n      <td>None</td>\n      <td>None</td>\n      <td>None</td>\n      <td>None</td>\n      <td>None</td>\n      <td>None</td>\n    </tr>\n  </tbody>\n</table>\n</div>"
     },
     "execution_count": 26,
     "metadata": {},
     "output_type": "execute_result"
    }
   ],
   "source": [
    "#let's remove duplicate rows the easy way, and add the name of the DAO to the table\n",
    "olympus_governance_view_clean = olympus_governance_view.copy(deep=True)\n",
    "olympus_governance_view_clean.insert(0, 'DAO', spacename)\n",
    "olympus_governance_view_clean.head(10)"
   ],
   "metadata": {
    "collapsed": false,
    "pycharm": {
     "name": "#%%\n"
    }
   }
  },
  {
   "cell_type": "code",
   "execution_count": 27,
   "outputs": [],
   "source": [
    "path =file+'/'+spacename+'_proposals_table_'+str(date.today().strftime(\"%b-%d-%Y\"))+'_'+str(len(olympus_governance_view_clean))+'_proposals.csv'\n",
    "olympus_governance_view_clean.to_csv(path, index = False)"
   ],
   "metadata": {
    "collapsed": false,
    "pycharm": {
     "name": "#%%\n"
    }
   }
  },
  {
   "cell_type": "code",
   "execution_count": 28,
   "outputs": [
    {
     "data": {
      "text/plain": "59"
     },
     "execution_count": 28,
     "metadata": {},
     "output_type": "execute_result"
    }
   ],
   "source": [
    "total_proposals = len(olympus_governance_view_clean)\n",
    "total_proposals"
   ],
   "metadata": {
    "collapsed": false,
    "pycharm": {
     "name": "#%%\n"
    }
   }
  },
  {
   "cell_type": "code",
   "execution_count": 29,
   "outputs": [
    {
     "data": {
      "text/plain": "'0x4dd49ee723a7e506c6c6c15c8eabc8a7057f3f0760e44ed2f475d42203c4e3e8'"
     },
     "execution_count": 29,
     "metadata": {},
     "output_type": "execute_result"
    }
   ],
   "source": [
    "proposal_id = olympus_governance_view_clean.iloc[0,2]\n",
    "proposal_id"
   ],
   "metadata": {
    "collapsed": false,
    "pycharm": {
     "name": "#%%\n"
    }
   }
  },
  {
   "cell_type": "code",
   "execution_count": 30,
   "outputs": [],
   "source": [
    "vote_tracker = snapshot.Query.votes(\n",
    "orderBy = 'created',\n",
    "orderDirection='desc',\n",
    "first=10000,\n",
    "where=[\n",
    "  snapshot.Vote.proposal == proposal_id\n",
    "]\n",
    ")"
   ],
   "metadata": {
    "collapsed": false,
    "pycharm": {
     "name": "#%%\n"
    }
   }
  },
  {
   "cell_type": "code",
   "execution_count": 31,
   "outputs": [],
   "source": [
    "voting_snapshots_list = sg.query_df([\n",
    "    vote_tracker.id,\n",
    "    vote_tracker.voter,\n",
    "    vote_tracker.created,\n",
    "    vote_tracker.choice,\n",
    "    vote_tracker.vp\n",
    "])"
   ],
   "metadata": {
    "collapsed": false,
    "pycharm": {
     "name": "#%%\n"
    }
   }
  },
  {
   "cell_type": "code",
   "execution_count": 32,
   "outputs": [
    {
     "data": {
      "text/plain": "                                            votes_id  \\\n0  0x02c9479c775e199a5422bbef61dc04a825ffd87a7379...   \n1  0x13d46d567735b8b2045be04aad193bc6662f3a1765dd...   \n2  0xaf93afeec5b35b247ba379a947cf42c7f15df4107645...   \n3  0xa1e88ad49e938c99d1b043b1a3024200ee1cc463d5f1...   \n4  0xc18ca81d995b87fbfd41570b727d4b47500b2a826ff4...   \n5  0xb95336e71e03038975df7adc755b7de556fdac2d805d...   \n6  0xf20809f14e6e20344c123be4bb8e2182b2b092f8ee3c...   \n7  0x4de3b330975873e2aef76152c30e3eb4ac92c0b708a6...   \n8  0x48744bf913ad4da425d160c53700b506e342d152e114...   \n9  0xa23f2a5d3884af725089e092529690aedd0c1528cf3c...   \n\n                                  votes_voter  votes_created  votes_choice  \\\n0  0x37c99C0Bd9149A9Cd5a3C7C150c604D896786945     1658413741             1   \n1  0xa698A0adFfDF132e3f8F35f3C89c0B9623835090     1658413410             1   \n2  0xDd66f428e43ccAB6bc35486dB866C7F672A7b2BE     1658413335             1   \n3  0x2681b212D98F811804d0cfB526f3F2De376267D7     1658412359             1   \n4  0x2959C374A9331B93FE56D0ab19ae77236Ab4566E     1658412324             1   \n5  0x97E5A15342e3c08Dd8882dc8033Be2D0271569C0     1658411910             1   \n6  0x78e95eABC4F0115E87825e20ef040ad89d973F0D     1658411881             1   \n7  0xe6318Ac14Dc1235E01aF21d354088118e15783BA     1658411860             1   \n8  0xDF23d6FD44249716a515bdddc81b82C18b915345     1658411852             1   \n9  0x42acf5773Af88b0e49f413E10edF9bcEf93C3805     1658411815             1   \n\n    votes_vp  \n0   1.000000  \n1  10.000000  \n2   1.000000  \n3   0.110000  \n4   0.104919  \n5   0.200000  \n6   0.100000  \n7   0.113577  \n8   0.110000  \n9   0.110000  ",
      "text/html": "<div>\n<style scoped>\n    .dataframe tbody tr th:only-of-type {\n        vertical-align: middle;\n    }\n\n    .dataframe tbody tr th {\n        vertical-align: top;\n    }\n\n    .dataframe thead th {\n        text-align: right;\n    }\n</style>\n<table border=\"1\" class=\"dataframe\">\n  <thead>\n    <tr style=\"text-align: right;\">\n      <th></th>\n      <th>votes_id</th>\n      <th>votes_voter</th>\n      <th>votes_created</th>\n      <th>votes_choice</th>\n      <th>votes_vp</th>\n    </tr>\n  </thead>\n  <tbody>\n    <tr>\n      <th>0</th>\n      <td>0x02c9479c775e199a5422bbef61dc04a825ffd87a7379...</td>\n      <td>0x37c99C0Bd9149A9Cd5a3C7C150c604D896786945</td>\n      <td>1658413741</td>\n      <td>1</td>\n      <td>1.000000</td>\n    </tr>\n    <tr>\n      <th>1</th>\n      <td>0x13d46d567735b8b2045be04aad193bc6662f3a1765dd...</td>\n      <td>0xa698A0adFfDF132e3f8F35f3C89c0B9623835090</td>\n      <td>1658413410</td>\n      <td>1</td>\n      <td>10.000000</td>\n    </tr>\n    <tr>\n      <th>2</th>\n      <td>0xaf93afeec5b35b247ba379a947cf42c7f15df4107645...</td>\n      <td>0xDd66f428e43ccAB6bc35486dB866C7F672A7b2BE</td>\n      <td>1658413335</td>\n      <td>1</td>\n      <td>1.000000</td>\n    </tr>\n    <tr>\n      <th>3</th>\n      <td>0xa1e88ad49e938c99d1b043b1a3024200ee1cc463d5f1...</td>\n      <td>0x2681b212D98F811804d0cfB526f3F2De376267D7</td>\n      <td>1658412359</td>\n      <td>1</td>\n      <td>0.110000</td>\n    </tr>\n    <tr>\n      <th>4</th>\n      <td>0xc18ca81d995b87fbfd41570b727d4b47500b2a826ff4...</td>\n      <td>0x2959C374A9331B93FE56D0ab19ae77236Ab4566E</td>\n      <td>1658412324</td>\n      <td>1</td>\n      <td>0.104919</td>\n    </tr>\n    <tr>\n      <th>5</th>\n      <td>0xb95336e71e03038975df7adc755b7de556fdac2d805d...</td>\n      <td>0x97E5A15342e3c08Dd8882dc8033Be2D0271569C0</td>\n      <td>1658411910</td>\n      <td>1</td>\n      <td>0.200000</td>\n    </tr>\n    <tr>\n      <th>6</th>\n      <td>0xf20809f14e6e20344c123be4bb8e2182b2b092f8ee3c...</td>\n      <td>0x78e95eABC4F0115E87825e20ef040ad89d973F0D</td>\n      <td>1658411881</td>\n      <td>1</td>\n      <td>0.100000</td>\n    </tr>\n    <tr>\n      <th>7</th>\n      <td>0x4de3b330975873e2aef76152c30e3eb4ac92c0b708a6...</td>\n      <td>0xe6318Ac14Dc1235E01aF21d354088118e15783BA</td>\n      <td>1658411860</td>\n      <td>1</td>\n      <td>0.113577</td>\n    </tr>\n    <tr>\n      <th>8</th>\n      <td>0x48744bf913ad4da425d160c53700b506e342d152e114...</td>\n      <td>0xDF23d6FD44249716a515bdddc81b82C18b915345</td>\n      <td>1658411852</td>\n      <td>1</td>\n      <td>0.110000</td>\n    </tr>\n    <tr>\n      <th>9</th>\n      <td>0xa23f2a5d3884af725089e092529690aedd0c1528cf3c...</td>\n      <td>0x42acf5773Af88b0e49f413E10edF9bcEf93C3805</td>\n      <td>1658411815</td>\n      <td>1</td>\n      <td>0.110000</td>\n    </tr>\n  </tbody>\n</table>\n</div>"
     },
     "execution_count": 32,
     "metadata": {},
     "output_type": "execute_result"
    }
   ],
   "source": [
    "voting_snapshots_list.head(10)"
   ],
   "metadata": {
    "collapsed": false,
    "pycharm": {
     "name": "#%%\n"
    }
   }
  },
  {
   "cell_type": "code",
   "execution_count": 33,
   "outputs": [
    {
     "name": "stdout",
     "output_type": "stream",
     "text": [
      "Progress 100.0 %\n",
      "36218  records\n"
     ]
    }
   ],
   "source": [
    "x=0\n",
    "while x <total_proposals:\n",
    "    proposal_id = olympus_governance_view_clean.iloc[x,2]\n",
    "\n",
    "    vote_tracker = snapshot.Query.votes(\n",
    "    orderBy = 'created',\n",
    "    orderDirection='desc',\n",
    "    first=10000,\n",
    "    where=[\n",
    "      snapshot.Vote.proposal == proposal_id\n",
    "    ]\n",
    "    )\n",
    "    voting_snapshots = sg.query_df([\n",
    "    vote_tracker.id,\n",
    "    vote_tracker.voter,\n",
    "    vote_tracker.created,\n",
    "    vote_tracker.choice,\n",
    "    vote_tracker.vp\n",
    "    ])\n",
    "\n",
    "    voting_snapshots['Proposal'] = proposal_id\n",
    "    voting_snapshots_list=pd.concat([voting_snapshots_list, voting_snapshots])\n",
    "\n",
    "    x=x+1\n",
    "    progress = 100*(round(x/total_proposals,4))\n",
    "    ##clear_output(wait=True)\n",
    "    if progress%5==0:\n",
    "        print(\"Progress\",progress,\"%\")\n",
    "\n",
    "print(len(voting_snapshots_list),' records')"
   ],
   "metadata": {
    "collapsed": false,
    "pycharm": {
     "name": "#%%\n"
    }
   }
  },
  {
   "cell_type": "code",
   "execution_count": 34,
   "outputs": [],
   "source": [
    "#spit out the file\n",
    "path =file+'/'+spacename+'_voting_snapshots_list_'+str(date.today().strftime(\"%b-%d-%Y\"))+'_'+str(len(olympus_governance_view_clean))+'.csv'\n",
    "voting_snapshots_list.to_csv(path, index = False)"
   ],
   "metadata": {
    "collapsed": false,
    "pycharm": {
     "name": "#%%\n"
    }
   }
  },
  {
   "cell_type": "code",
   "execution_count": 35,
   "outputs": [
    {
     "data": {
      "text/plain": "                                            votes_id  \\\n0  0x02c9479c775e199a5422bbef61dc04a825ffd87a7379...   \n1  0x13d46d567735b8b2045be04aad193bc6662f3a1765dd...   \n2  0xaf93afeec5b35b247ba379a947cf42c7f15df4107645...   \n3  0xa1e88ad49e938c99d1b043b1a3024200ee1cc463d5f1...   \n4  0xc18ca81d995b87fbfd41570b727d4b47500b2a826ff4...   \n5  0xb95336e71e03038975df7adc755b7de556fdac2d805d...   \n6  0xf20809f14e6e20344c123be4bb8e2182b2b092f8ee3c...   \n7  0x4de3b330975873e2aef76152c30e3eb4ac92c0b708a6...   \n8  0x48744bf913ad4da425d160c53700b506e342d152e114...   \n9  0xa23f2a5d3884af725089e092529690aedd0c1528cf3c...   \n\n                                  votes_voter  votes_created votes_choice  \\\n0  0x37c99C0Bd9149A9Cd5a3C7C150c604D896786945   1.658414e+09            1   \n1  0xa698A0adFfDF132e3f8F35f3C89c0B9623835090   1.658413e+09            1   \n2  0xDd66f428e43ccAB6bc35486dB866C7F672A7b2BE   1.658413e+09            1   \n3  0x2681b212D98F811804d0cfB526f3F2De376267D7   1.658412e+09            1   \n4  0x2959C374A9331B93FE56D0ab19ae77236Ab4566E   1.658412e+09            1   \n5  0x97E5A15342e3c08Dd8882dc8033Be2D0271569C0   1.658412e+09            1   \n6  0x78e95eABC4F0115E87825e20ef040ad89d973F0D   1.658412e+09            1   \n7  0xe6318Ac14Dc1235E01aF21d354088118e15783BA   1.658412e+09            1   \n8  0xDF23d6FD44249716a515bdddc81b82C18b915345   1.658412e+09            1   \n9  0x42acf5773Af88b0e49f413E10edF9bcEf93C3805   1.658412e+09            1   \n\n    votes_vp                                           Proposal      DAO  \\\n0   1.000000  0x4dd49ee723a7e506c6c6c15c8eabc8a7057f3f0760e4...  uniswap   \n1  10.000000  0x4dd49ee723a7e506c6c6c15c8eabc8a7057f3f0760e4...  uniswap   \n2   1.000000  0x4dd49ee723a7e506c6c6c15c8eabc8a7057f3f0760e4...  uniswap   \n3   0.110000  0x4dd49ee723a7e506c6c6c15c8eabc8a7057f3f0760e4...  uniswap   \n4   0.104919  0x4dd49ee723a7e506c6c6c15c8eabc8a7057f3f0760e4...  uniswap   \n5   0.200000  0x4dd49ee723a7e506c6c6c15c8eabc8a7057f3f0760e4...  uniswap   \n6   0.100000  0x4dd49ee723a7e506c6c6c15c8eabc8a7057f3f0760e4...  uniswap   \n7   0.113577  0x4dd49ee723a7e506c6c6c15c8eabc8a7057f3f0760e4...  uniswap   \n8   0.110000  0x4dd49ee723a7e506c6c6c15c8eabc8a7057f3f0760e4...  uniswap   \n9   0.110000  0x4dd49ee723a7e506c6c6c15c8eabc8a7057f3f0760e4...  uniswap   \n\n                                     proposals_title  \\\n0  Temp Check: \"Fee switch\" activation for ETH/US...   \n1  Temp Check: \"Fee switch\" activation for ETH/US...   \n2  Temp Check: \"Fee switch\" activation for ETH/US...   \n3  Temp Check: \"Fee switch\" activation for ETH/US...   \n4  Temp Check: \"Fee switch\" activation for ETH/US...   \n5  Temp Check: \"Fee switch\" activation for ETH/US...   \n6  Temp Check: \"Fee switch\" activation for ETH/US...   \n7  Temp Check: \"Fee switch\" activation for ETH/US...   \n8  Temp Check: \"Fee switch\" activation for ETH/US...   \n9  Temp Check: \"Fee switch\" activation for ETH/US...   \n\n                                        proposals_id  proposals_scores_total  \\\n0  0x4dd49ee723a7e506c6c6c15c8eabc8a7057f3f0760e4...            3.530561e+06   \n1  0x4dd49ee723a7e506c6c6c15c8eabc8a7057f3f0760e4...            3.530561e+06   \n2  0x4dd49ee723a7e506c6c6c15c8eabc8a7057f3f0760e4...            3.530561e+06   \n3  0x4dd49ee723a7e506c6c6c15c8eabc8a7057f3f0760e4...            3.530561e+06   \n4  0x4dd49ee723a7e506c6c6c15c8eabc8a7057f3f0760e4...            3.530561e+06   \n5  0x4dd49ee723a7e506c6c6c15c8eabc8a7057f3f0760e4...            3.530561e+06   \n6  0x4dd49ee723a7e506c6c6c15c8eabc8a7057f3f0760e4...            3.530561e+06   \n7  0x4dd49ee723a7e506c6c6c15c8eabc8a7057f3f0760e4...            3.530561e+06   \n8  0x4dd49ee723a7e506c6c6c15c8eabc8a7057f3f0760e4...            3.530561e+06   \n9  0x4dd49ee723a7e506c6c6c15c8eabc8a7057f3f0760e4...            3.530561e+06   \n\n   ...     2     3     4     5     6     7     8     9    10    11  \n0  ...  None  None  None  None  None  None  None  None  None  None  \n1  ...  None  None  None  None  None  None  None  None  None  None  \n2  ...  None  None  None  None  None  None  None  None  None  None  \n3  ...  None  None  None  None  None  None  None  None  None  None  \n4  ...  None  None  None  None  None  None  None  None  None  None  \n5  ...  None  None  None  None  None  None  None  None  None  None  \n6  ...  None  None  None  None  None  None  None  None  None  None  \n7  ...  None  None  None  None  None  None  None  None  None  None  \n8  ...  None  None  None  None  None  None  None  None  None  None  \n9  ...  None  None  None  None  None  None  None  None  None  None  \n\n[10 rows x 22 columns]",
      "text/html": "<div>\n<style scoped>\n    .dataframe tbody tr th:only-of-type {\n        vertical-align: middle;\n    }\n\n    .dataframe tbody tr th {\n        vertical-align: top;\n    }\n\n    .dataframe thead th {\n        text-align: right;\n    }\n</style>\n<table border=\"1\" class=\"dataframe\">\n  <thead>\n    <tr style=\"text-align: right;\">\n      <th></th>\n      <th>votes_id</th>\n      <th>votes_voter</th>\n      <th>votes_created</th>\n      <th>votes_choice</th>\n      <th>votes_vp</th>\n      <th>Proposal</th>\n      <th>DAO</th>\n      <th>proposals_title</th>\n      <th>proposals_id</th>\n      <th>proposals_scores_total</th>\n      <th>...</th>\n      <th>2</th>\n      <th>3</th>\n      <th>4</th>\n      <th>5</th>\n      <th>6</th>\n      <th>7</th>\n      <th>8</th>\n      <th>9</th>\n      <th>10</th>\n      <th>11</th>\n    </tr>\n  </thead>\n  <tbody>\n    <tr>\n      <th>0</th>\n      <td>0x02c9479c775e199a5422bbef61dc04a825ffd87a7379...</td>\n      <td>0x37c99C0Bd9149A9Cd5a3C7C150c604D896786945</td>\n      <td>1.658414e+09</td>\n      <td>1</td>\n      <td>1.000000</td>\n      <td>0x4dd49ee723a7e506c6c6c15c8eabc8a7057f3f0760e4...</td>\n      <td>uniswap</td>\n      <td>Temp Check: \"Fee switch\" activation for ETH/US...</td>\n      <td>0x4dd49ee723a7e506c6c6c15c8eabc8a7057f3f0760e4...</td>\n      <td>3.530561e+06</td>\n      <td>...</td>\n      <td>None</td>\n      <td>None</td>\n      <td>None</td>\n      <td>None</td>\n      <td>None</td>\n      <td>None</td>\n      <td>None</td>\n      <td>None</td>\n      <td>None</td>\n      <td>None</td>\n    </tr>\n    <tr>\n      <th>1</th>\n      <td>0x13d46d567735b8b2045be04aad193bc6662f3a1765dd...</td>\n      <td>0xa698A0adFfDF132e3f8F35f3C89c0B9623835090</td>\n      <td>1.658413e+09</td>\n      <td>1</td>\n      <td>10.000000</td>\n      <td>0x4dd49ee723a7e506c6c6c15c8eabc8a7057f3f0760e4...</td>\n      <td>uniswap</td>\n      <td>Temp Check: \"Fee switch\" activation for ETH/US...</td>\n      <td>0x4dd49ee723a7e506c6c6c15c8eabc8a7057f3f0760e4...</td>\n      <td>3.530561e+06</td>\n      <td>...</td>\n      <td>None</td>\n      <td>None</td>\n      <td>None</td>\n      <td>None</td>\n      <td>None</td>\n      <td>None</td>\n      <td>None</td>\n      <td>None</td>\n      <td>None</td>\n      <td>None</td>\n    </tr>\n    <tr>\n      <th>2</th>\n      <td>0xaf93afeec5b35b247ba379a947cf42c7f15df4107645...</td>\n      <td>0xDd66f428e43ccAB6bc35486dB866C7F672A7b2BE</td>\n      <td>1.658413e+09</td>\n      <td>1</td>\n      <td>1.000000</td>\n      <td>0x4dd49ee723a7e506c6c6c15c8eabc8a7057f3f0760e4...</td>\n      <td>uniswap</td>\n      <td>Temp Check: \"Fee switch\" activation for ETH/US...</td>\n      <td>0x4dd49ee723a7e506c6c6c15c8eabc8a7057f3f0760e4...</td>\n      <td>3.530561e+06</td>\n      <td>...</td>\n      <td>None</td>\n      <td>None</td>\n      <td>None</td>\n      <td>None</td>\n      <td>None</td>\n      <td>None</td>\n      <td>None</td>\n      <td>None</td>\n      <td>None</td>\n      <td>None</td>\n    </tr>\n    <tr>\n      <th>3</th>\n      <td>0xa1e88ad49e938c99d1b043b1a3024200ee1cc463d5f1...</td>\n      <td>0x2681b212D98F811804d0cfB526f3F2De376267D7</td>\n      <td>1.658412e+09</td>\n      <td>1</td>\n      <td>0.110000</td>\n      <td>0x4dd49ee723a7e506c6c6c15c8eabc8a7057f3f0760e4...</td>\n      <td>uniswap</td>\n      <td>Temp Check: \"Fee switch\" activation for ETH/US...</td>\n      <td>0x4dd49ee723a7e506c6c6c15c8eabc8a7057f3f0760e4...</td>\n      <td>3.530561e+06</td>\n      <td>...</td>\n      <td>None</td>\n      <td>None</td>\n      <td>None</td>\n      <td>None</td>\n      <td>None</td>\n      <td>None</td>\n      <td>None</td>\n      <td>None</td>\n      <td>None</td>\n      <td>None</td>\n    </tr>\n    <tr>\n      <th>4</th>\n      <td>0xc18ca81d995b87fbfd41570b727d4b47500b2a826ff4...</td>\n      <td>0x2959C374A9331B93FE56D0ab19ae77236Ab4566E</td>\n      <td>1.658412e+09</td>\n      <td>1</td>\n      <td>0.104919</td>\n      <td>0x4dd49ee723a7e506c6c6c15c8eabc8a7057f3f0760e4...</td>\n      <td>uniswap</td>\n      <td>Temp Check: \"Fee switch\" activation for ETH/US...</td>\n      <td>0x4dd49ee723a7e506c6c6c15c8eabc8a7057f3f0760e4...</td>\n      <td>3.530561e+06</td>\n      <td>...</td>\n      <td>None</td>\n      <td>None</td>\n      <td>None</td>\n      <td>None</td>\n      <td>None</td>\n      <td>None</td>\n      <td>None</td>\n      <td>None</td>\n      <td>None</td>\n      <td>None</td>\n    </tr>\n    <tr>\n      <th>5</th>\n      <td>0xb95336e71e03038975df7adc755b7de556fdac2d805d...</td>\n      <td>0x97E5A15342e3c08Dd8882dc8033Be2D0271569C0</td>\n      <td>1.658412e+09</td>\n      <td>1</td>\n      <td>0.200000</td>\n      <td>0x4dd49ee723a7e506c6c6c15c8eabc8a7057f3f0760e4...</td>\n      <td>uniswap</td>\n      <td>Temp Check: \"Fee switch\" activation for ETH/US...</td>\n      <td>0x4dd49ee723a7e506c6c6c15c8eabc8a7057f3f0760e4...</td>\n      <td>3.530561e+06</td>\n      <td>...</td>\n      <td>None</td>\n      <td>None</td>\n      <td>None</td>\n      <td>None</td>\n      <td>None</td>\n      <td>None</td>\n      <td>None</td>\n      <td>None</td>\n      <td>None</td>\n      <td>None</td>\n    </tr>\n    <tr>\n      <th>6</th>\n      <td>0xf20809f14e6e20344c123be4bb8e2182b2b092f8ee3c...</td>\n      <td>0x78e95eABC4F0115E87825e20ef040ad89d973F0D</td>\n      <td>1.658412e+09</td>\n      <td>1</td>\n      <td>0.100000</td>\n      <td>0x4dd49ee723a7e506c6c6c15c8eabc8a7057f3f0760e4...</td>\n      <td>uniswap</td>\n      <td>Temp Check: \"Fee switch\" activation for ETH/US...</td>\n      <td>0x4dd49ee723a7e506c6c6c15c8eabc8a7057f3f0760e4...</td>\n      <td>3.530561e+06</td>\n      <td>...</td>\n      <td>None</td>\n      <td>None</td>\n      <td>None</td>\n      <td>None</td>\n      <td>None</td>\n      <td>None</td>\n      <td>None</td>\n      <td>None</td>\n      <td>None</td>\n      <td>None</td>\n    </tr>\n    <tr>\n      <th>7</th>\n      <td>0x4de3b330975873e2aef76152c30e3eb4ac92c0b708a6...</td>\n      <td>0xe6318Ac14Dc1235E01aF21d354088118e15783BA</td>\n      <td>1.658412e+09</td>\n      <td>1</td>\n      <td>0.113577</td>\n      <td>0x4dd49ee723a7e506c6c6c15c8eabc8a7057f3f0760e4...</td>\n      <td>uniswap</td>\n      <td>Temp Check: \"Fee switch\" activation for ETH/US...</td>\n      <td>0x4dd49ee723a7e506c6c6c15c8eabc8a7057f3f0760e4...</td>\n      <td>3.530561e+06</td>\n      <td>...</td>\n      <td>None</td>\n      <td>None</td>\n      <td>None</td>\n      <td>None</td>\n      <td>None</td>\n      <td>None</td>\n      <td>None</td>\n      <td>None</td>\n      <td>None</td>\n      <td>None</td>\n    </tr>\n    <tr>\n      <th>8</th>\n      <td>0x48744bf913ad4da425d160c53700b506e342d152e114...</td>\n      <td>0xDF23d6FD44249716a515bdddc81b82C18b915345</td>\n      <td>1.658412e+09</td>\n      <td>1</td>\n      <td>0.110000</td>\n      <td>0x4dd49ee723a7e506c6c6c15c8eabc8a7057f3f0760e4...</td>\n      <td>uniswap</td>\n      <td>Temp Check: \"Fee switch\" activation for ETH/US...</td>\n      <td>0x4dd49ee723a7e506c6c6c15c8eabc8a7057f3f0760e4...</td>\n      <td>3.530561e+06</td>\n      <td>...</td>\n      <td>None</td>\n      <td>None</td>\n      <td>None</td>\n      <td>None</td>\n      <td>None</td>\n      <td>None</td>\n      <td>None</td>\n      <td>None</td>\n      <td>None</td>\n      <td>None</td>\n    </tr>\n    <tr>\n      <th>9</th>\n      <td>0xa23f2a5d3884af725089e092529690aedd0c1528cf3c...</td>\n      <td>0x42acf5773Af88b0e49f413E10edF9bcEf93C3805</td>\n      <td>1.658412e+09</td>\n      <td>1</td>\n      <td>0.110000</td>\n      <td>0x4dd49ee723a7e506c6c6c15c8eabc8a7057f3f0760e4...</td>\n      <td>uniswap</td>\n      <td>Temp Check: \"Fee switch\" activation for ETH/US...</td>\n      <td>0x4dd49ee723a7e506c6c6c15c8eabc8a7057f3f0760e4...</td>\n      <td>3.530561e+06</td>\n      <td>...</td>\n      <td>None</td>\n      <td>None</td>\n      <td>None</td>\n      <td>None</td>\n      <td>None</td>\n      <td>None</td>\n      <td>None</td>\n      <td>None</td>\n      <td>None</td>\n      <td>None</td>\n    </tr>\n  </tbody>\n</table>\n<p>10 rows × 22 columns</p>\n</div>"
     },
     "execution_count": 35,
     "metadata": {},
     "output_type": "execute_result"
    }
   ],
   "source": [
    "#I join these two tables to create my charts as it makes life easier. We are going to build the charts here now, so here we go\n",
    "governance_data = pd.merge(voting_snapshots_list, olympus_governance_view_clean, how='inner', left_on='Proposal', right_on='proposals_id')\n",
    "del governance_data[\"proposals_body\"]\n",
    "governance_data.head(10)"
   ],
   "metadata": {
    "collapsed": false,
    "pycharm": {
     "name": "#%%\n"
    }
   }
  },
  {
   "cell_type": "code",
   "execution_count": 36,
   "outputs": [],
   "source": [
    "#Spit out the file, but save it in its own folder for easy access\n",
    "final_file = file+'\\\\'+'final'\n",
    "final_raw_file = final_file\n",
    "os.makedirs(final_raw_file, exist_ok=True)\n",
    "final_path =file+'\\\\'+spacename+'governance_data_'+str(date.today().strftime(\"%b-%d-%Y\"))+'_'+str(len(governance_data))+'.csv'\n",
    "governance_data.to_csv(final_path, index = False)"
   ],
   "metadata": {
    "collapsed": false,
    "pycharm": {
     "name": "#%%\n"
    }
   }
  },
  {
   "cell_type": "code",
   "execution_count": 37,
   "outputs": [
    {
     "data": {
      "text/plain": "       DAO                                           Proposal  \\\n0  uniswap  0x1994d4598b81dbb511bc7068f65a12fdf0ddbf2b26f5...   \n1  uniswap  0x1994d4598b81dbb511bc7068f65a12fdf0ddbf2b26f5...   \n2  uniswap  0x1994d4598b81dbb511bc7068f65a12fdf0ddbf2b26f5...   \n3  uniswap  0x1994d4598b81dbb511bc7068f65a12fdf0ddbf2b26f5...   \n4  uniswap  0x1994d4598b81dbb511bc7068f65a12fdf0ddbf2b26f5...   \n5  uniswap  0x1994d4598b81dbb511bc7068f65a12fdf0ddbf2b26f5...   \n6  uniswap  0x1994d4598b81dbb511bc7068f65a12fdf0ddbf2b26f5...   \n7  uniswap  0x1994d4598b81dbb511bc7068f65a12fdf0ddbf2b26f5...   \n8  uniswap  0x1994d4598b81dbb511bc7068f65a12fdf0ddbf2b26f5...   \n9  uniswap  0x1994d4598b81dbb511bc7068f65a12fdf0ddbf2b26f5...   \n\n                                  votes_voter votes_choice      votes_vp  \\\n0  0x535b3ddD9939056cB6d74D1253Ae1A4Adf5d723A            2  2.500000e+06   \n1  0x7eD52863829AB99354F3a0503A622e82AcD5F7d3            2  5.000000e+05   \n2  0xbDCEe87119265FC0ec27a3113EFC3fBBB90D4D7b            2  8.080145e+03   \n3  0xB72eD8401892466Ea8aF528C1af1d0524bc5e105            1  4.621202e+03   \n4  0x599E0882768b34BeDBC1b8f5A03ED1301FAe359b            1  1.064387e+03   \n5  0x48A9789428F2067338D02B1EF3612DF64F05FeB7            1  1.011889e+03   \n6  0x9997d7120862CEda99aB4a1c43698e0941F87b20            1  1.000500e+03   \n7  0x85c0c09570C955F6e07522E9ad6041716CbBb7fE            1  8.215102e+02   \n8  0x68B8259078d18c43Fb02cBaCe669153c3D5fc479            2  7.611129e+02   \n9  0xF4844a06d4f995C4c03195AfcB5Aa59dCBB5b4Fc            2  6.335968e+02   \n\n   votes_created  cumulative_vp      total_vp  percentange_of_total_vp  \\\n0   1.639680e+09   2.500000e+06  3.023008e+06                 0.826991   \n1   1.639856e+09   3.000000e+06  3.023008e+06                 0.165398   \n2   1.639805e+09   3.008080e+06  3.023008e+06                 0.002673   \n3   1.639600e+09   3.012701e+06  3.023008e+06                 0.001529   \n4   1.639623e+09   3.013766e+06  3.023008e+06                 0.000352   \n5   1.639578e+09   3.014778e+06  3.023008e+06                 0.000335   \n6   1.639637e+09   3.015778e+06  3.023008e+06                 0.000331   \n7   1.639563e+09   3.016600e+06  3.023008e+06                 0.000272   \n8   1.639867e+09   3.017361e+06  3.023008e+06                 0.000252   \n9   1.639863e+09   3.017994e+06  3.023008e+06                 0.000210   \n\n   cum_percentage_of_total_vp  cum_percentange_of_total_vp_stepped  \\\n0                    0.826991                                  1.0   \n1                    0.992389                                  1.0   \n2                    0.995062                                  1.0   \n3                    0.996591                                  1.0   \n4                    0.996943                                  1.0   \n5                    0.997277                                  1.0   \n6                    0.997608                                  1.0   \n7                    0.997880                                  1.0   \n8                    0.998132                                  1.0   \n9                    0.998341                                  1.0   \n\n   proposal_voter_rank  voters_counted  percentage_voters_counted  \\\n0                    1               1                   0.003953   \n1                    2               2                   0.007905   \n2                    3               3                   0.011858   \n3                    4               4                   0.015810   \n4                    5               5                   0.019763   \n5                    6               6                   0.023715   \n6                    7               7                   0.027668   \n7                    8               8                   0.031621   \n8                    9               9                   0.035573   \n9                   10              10                   0.039526   \n\n   percentage_voters_counted_stepped  \n0                                0.0  \n1                                1.0  \n2                                1.0  \n3                                2.0  \n4                                2.0  \n5                                2.0  \n6                                3.0  \n7                                3.0  \n8                                4.0  \n9                                4.0  ",
      "text/html": "<div>\n<style scoped>\n    .dataframe tbody tr th:only-of-type {\n        vertical-align: middle;\n    }\n\n    .dataframe tbody tr th {\n        vertical-align: top;\n    }\n\n    .dataframe thead th {\n        text-align: right;\n    }\n</style>\n<table border=\"1\" class=\"dataframe\">\n  <thead>\n    <tr style=\"text-align: right;\">\n      <th></th>\n      <th>DAO</th>\n      <th>Proposal</th>\n      <th>votes_voter</th>\n      <th>votes_choice</th>\n      <th>votes_vp</th>\n      <th>votes_created</th>\n      <th>cumulative_vp</th>\n      <th>total_vp</th>\n      <th>percentange_of_total_vp</th>\n      <th>cum_percentage_of_total_vp</th>\n      <th>cum_percentange_of_total_vp_stepped</th>\n      <th>proposal_voter_rank</th>\n      <th>voters_counted</th>\n      <th>percentage_voters_counted</th>\n      <th>percentage_voters_counted_stepped</th>\n    </tr>\n  </thead>\n  <tbody>\n    <tr>\n      <th>0</th>\n      <td>uniswap</td>\n      <td>0x1994d4598b81dbb511bc7068f65a12fdf0ddbf2b26f5...</td>\n      <td>0x535b3ddD9939056cB6d74D1253Ae1A4Adf5d723A</td>\n      <td>2</td>\n      <td>2.500000e+06</td>\n      <td>1.639680e+09</td>\n      <td>2.500000e+06</td>\n      <td>3.023008e+06</td>\n      <td>0.826991</td>\n      <td>0.826991</td>\n      <td>1.0</td>\n      <td>1</td>\n      <td>1</td>\n      <td>0.003953</td>\n      <td>0.0</td>\n    </tr>\n    <tr>\n      <th>1</th>\n      <td>uniswap</td>\n      <td>0x1994d4598b81dbb511bc7068f65a12fdf0ddbf2b26f5...</td>\n      <td>0x7eD52863829AB99354F3a0503A622e82AcD5F7d3</td>\n      <td>2</td>\n      <td>5.000000e+05</td>\n      <td>1.639856e+09</td>\n      <td>3.000000e+06</td>\n      <td>3.023008e+06</td>\n      <td>0.165398</td>\n      <td>0.992389</td>\n      <td>1.0</td>\n      <td>2</td>\n      <td>2</td>\n      <td>0.007905</td>\n      <td>1.0</td>\n    </tr>\n    <tr>\n      <th>2</th>\n      <td>uniswap</td>\n      <td>0x1994d4598b81dbb511bc7068f65a12fdf0ddbf2b26f5...</td>\n      <td>0xbDCEe87119265FC0ec27a3113EFC3fBBB90D4D7b</td>\n      <td>2</td>\n      <td>8.080145e+03</td>\n      <td>1.639805e+09</td>\n      <td>3.008080e+06</td>\n      <td>3.023008e+06</td>\n      <td>0.002673</td>\n      <td>0.995062</td>\n      <td>1.0</td>\n      <td>3</td>\n      <td>3</td>\n      <td>0.011858</td>\n      <td>1.0</td>\n    </tr>\n    <tr>\n      <th>3</th>\n      <td>uniswap</td>\n      <td>0x1994d4598b81dbb511bc7068f65a12fdf0ddbf2b26f5...</td>\n      <td>0xB72eD8401892466Ea8aF528C1af1d0524bc5e105</td>\n      <td>1</td>\n      <td>4.621202e+03</td>\n      <td>1.639600e+09</td>\n      <td>3.012701e+06</td>\n      <td>3.023008e+06</td>\n      <td>0.001529</td>\n      <td>0.996591</td>\n      <td>1.0</td>\n      <td>4</td>\n      <td>4</td>\n      <td>0.015810</td>\n      <td>2.0</td>\n    </tr>\n    <tr>\n      <th>4</th>\n      <td>uniswap</td>\n      <td>0x1994d4598b81dbb511bc7068f65a12fdf0ddbf2b26f5...</td>\n      <td>0x599E0882768b34BeDBC1b8f5A03ED1301FAe359b</td>\n      <td>1</td>\n      <td>1.064387e+03</td>\n      <td>1.639623e+09</td>\n      <td>3.013766e+06</td>\n      <td>3.023008e+06</td>\n      <td>0.000352</td>\n      <td>0.996943</td>\n      <td>1.0</td>\n      <td>5</td>\n      <td>5</td>\n      <td>0.019763</td>\n      <td>2.0</td>\n    </tr>\n    <tr>\n      <th>5</th>\n      <td>uniswap</td>\n      <td>0x1994d4598b81dbb511bc7068f65a12fdf0ddbf2b26f5...</td>\n      <td>0x48A9789428F2067338D02B1EF3612DF64F05FeB7</td>\n      <td>1</td>\n      <td>1.011889e+03</td>\n      <td>1.639578e+09</td>\n      <td>3.014778e+06</td>\n      <td>3.023008e+06</td>\n      <td>0.000335</td>\n      <td>0.997277</td>\n      <td>1.0</td>\n      <td>6</td>\n      <td>6</td>\n      <td>0.023715</td>\n      <td>2.0</td>\n    </tr>\n    <tr>\n      <th>6</th>\n      <td>uniswap</td>\n      <td>0x1994d4598b81dbb511bc7068f65a12fdf0ddbf2b26f5...</td>\n      <td>0x9997d7120862CEda99aB4a1c43698e0941F87b20</td>\n      <td>1</td>\n      <td>1.000500e+03</td>\n      <td>1.639637e+09</td>\n      <td>3.015778e+06</td>\n      <td>3.023008e+06</td>\n      <td>0.000331</td>\n      <td>0.997608</td>\n      <td>1.0</td>\n      <td>7</td>\n      <td>7</td>\n      <td>0.027668</td>\n      <td>3.0</td>\n    </tr>\n    <tr>\n      <th>7</th>\n      <td>uniswap</td>\n      <td>0x1994d4598b81dbb511bc7068f65a12fdf0ddbf2b26f5...</td>\n      <td>0x85c0c09570C955F6e07522E9ad6041716CbBb7fE</td>\n      <td>1</td>\n      <td>8.215102e+02</td>\n      <td>1.639563e+09</td>\n      <td>3.016600e+06</td>\n      <td>3.023008e+06</td>\n      <td>0.000272</td>\n      <td>0.997880</td>\n      <td>1.0</td>\n      <td>8</td>\n      <td>8</td>\n      <td>0.031621</td>\n      <td>3.0</td>\n    </tr>\n    <tr>\n      <th>8</th>\n      <td>uniswap</td>\n      <td>0x1994d4598b81dbb511bc7068f65a12fdf0ddbf2b26f5...</td>\n      <td>0x68B8259078d18c43Fb02cBaCe669153c3D5fc479</td>\n      <td>2</td>\n      <td>7.611129e+02</td>\n      <td>1.639867e+09</td>\n      <td>3.017361e+06</td>\n      <td>3.023008e+06</td>\n      <td>0.000252</td>\n      <td>0.998132</td>\n      <td>1.0</td>\n      <td>9</td>\n      <td>9</td>\n      <td>0.035573</td>\n      <td>4.0</td>\n    </tr>\n    <tr>\n      <th>9</th>\n      <td>uniswap</td>\n      <td>0x1994d4598b81dbb511bc7068f65a12fdf0ddbf2b26f5...</td>\n      <td>0xF4844a06d4f995C4c03195AfcB5Aa59dCBB5b4Fc</td>\n      <td>2</td>\n      <td>6.335968e+02</td>\n      <td>1.639863e+09</td>\n      <td>3.017994e+06</td>\n      <td>3.023008e+06</td>\n      <td>0.000210</td>\n      <td>0.998341</td>\n      <td>1.0</td>\n      <td>10</td>\n      <td>10</td>\n      <td>0.039526</td>\n      <td>4.0</td>\n    </tr>\n  </tbody>\n</table>\n</div>"
     },
     "execution_count": 37,
     "metadata": {},
     "output_type": "execute_result"
    }
   ],
   "source": [
    "crunch_data = db.query(\"select \"\n",
    "                           \"Proposal\"\n",
    "                           \",votes_voter \"\n",
    "                           \",votes_choice\"\n",
    "                           \",votes_vp\"\n",
    "                           \",votes_created\"\n",
    "                           \",sum(votes_vp) over (Partition by Proposal  order by votes_vp desc, votes_created asc) as cumulative_vp\"\n",
    "                           \",sum(votes_vp) over (Partition by Proposal) as total_vp\"\n",
    "                           \",(votes_vp::decimal/sum(votes_vp::decimal) over (Partition by Proposal)) as percentange_of_total_vp \"\n",
    "                           \",((sum(votes_vp) over (Partition by Proposal  order by votes_vp desc, votes_created asc))::decimal/sum(votes_vp::decimal) over (Partition by Proposal)) as cum_percentage_of_total_vp \"\n",
    "                       \",round((sum(votes_vp) over (Partition by Proposal  order by votes_vp desc, votes_created asc))::decimal/sum(votes_vp::decimal) over (Partition by Proposal)) as cum_percentange_of_total_vp_stepped \"\n",
    "                           \",row_number() over (Partition by Proposal order by votes_vp desc, votes_created asc) as proposal_voter_rank \"\n",
    "                           \",count(votes_voter) over (Partition by Proposal  order by votes_vp desc, votes_created asc) voters_counted \"\n",
    "                           \",(count(*) over (Partition by Proposal  order by votes_vp desc, votes_created asc))::decimal/(count(*) over (Partition by Proposal))::decimal percentage_voters_counted \"\n",
    "                           \",round(100*(count(*) over (Partition by Proposal  order by votes_vp desc, votes_created asc))::decimal/(count(*) over (Partition by Proposal)))::decimal percentage_voters_counted_stepped \"\n",
    "                       \"from \"\n",
    "                       \"    governance_data  \"\n",
    "                       \"\"\n",
    "                       \"Group by \"\n",
    "                       \"    Proposal\"\n",
    "                       \"    ,votes_voter\"\n",
    "                       \"    ,votes_choice\"\n",
    "                       \"    , votes_vp \"\n",
    "                       \"    , votes_created \"\n",
    "                       \"\"\n",
    "                       \"Order by \"\n",
    "                       \"    Proposal, \"\n",
    "                       \"    votes_vp desc \"\n",
    "                       \"    , votes_created asc\"\n",
    "                       \"\").df()\n",
    "crunch_data.insert(0, 'DAO', spacename)\n",
    "crunch_data.head(n=10)"
   ],
   "metadata": {
    "collapsed": false,
    "pycharm": {
     "name": "#%%\n"
    }
   }
  },
  {
   "cell_type": "code",
   "execution_count": 38,
   "outputs": [],
   "source": [
    "##spit out the file!\n",
    "crunch_data_path =final_file+'\\\\'+spacename+'_crunch_data_path'+str(date.today().strftime(\"%b-%d-%Y\"))+'_'+str(len(crunch_data))+'.csv'\n",
    "crunch_data.to_csv(crunch_data_path, index = False)"
   ],
   "metadata": {
    "collapsed": false,
    "pycharm": {
     "name": "#%%\n"
    }
   }
  },
  {
   "cell_type": "code",
   "execution_count": 39,
   "outputs": [
    {
     "name": "stderr",
     "output_type": "stream",
     "text": [
      "C:\\Users\\ianfe\\AppData\\Local\\Temp\\ipykernel_19500\\2233744753.py:4: FutureWarning: Indexing with multiple keys (implicitly converted to a tuple of keys) will be deprecated, use a list instead.\n",
      "  data_means = crunch_data.groupby(\"percentage_voters_counted_stepped\")[\"cum_percentage_of_total_vp\",\"percentage_voters_counted\"].agg(\"mean\").reset_index()\n"
     ]
    },
    {
     "name": "stdout",
     "output_type": "stream",
     "text": [
      "AxesSubplot(0.125,0.125;0.775x0.755)\n"
     ]
    },
    {
     "data": {
      "text/plain": "     percentage_voters_counted_stepped  cum_percentage_of_total_vp  \\\n0                                  0.0                    0.800171   \n1                                  1.0                    0.948418   \n2                                  2.0                    0.981935   \n3                                  3.0                    0.990123   \n4                                  4.0                    0.994568   \n..                                 ...                         ...   \n96                                96.0                    1.000000   \n97                                97.0                    1.000000   \n98                                98.0                    1.000000   \n99                                99.0                    1.000000   \n100                              100.0                    1.000000   \n\n     percentage_voters_counted  \n0                     0.002876  \n1                     0.010042  \n2                     0.020006  \n3                     0.029958  \n4                     0.040049  \n..                         ...  \n96                    0.960429  \n97                    0.970139  \n98                    0.980132  \n99                    0.989820  \n100                   0.997912  \n\n[101 rows x 3 columns]",
      "text/html": "<div>\n<style scoped>\n    .dataframe tbody tr th:only-of-type {\n        vertical-align: middle;\n    }\n\n    .dataframe tbody tr th {\n        vertical-align: top;\n    }\n\n    .dataframe thead th {\n        text-align: right;\n    }\n</style>\n<table border=\"1\" class=\"dataframe\">\n  <thead>\n    <tr style=\"text-align: right;\">\n      <th></th>\n      <th>percentage_voters_counted_stepped</th>\n      <th>cum_percentage_of_total_vp</th>\n      <th>percentage_voters_counted</th>\n    </tr>\n  </thead>\n  <tbody>\n    <tr>\n      <th>0</th>\n      <td>0.0</td>\n      <td>0.800171</td>\n      <td>0.002876</td>\n    </tr>\n    <tr>\n      <th>1</th>\n      <td>1.0</td>\n      <td>0.948418</td>\n      <td>0.010042</td>\n    </tr>\n    <tr>\n      <th>2</th>\n      <td>2.0</td>\n      <td>0.981935</td>\n      <td>0.020006</td>\n    </tr>\n    <tr>\n      <th>3</th>\n      <td>3.0</td>\n      <td>0.990123</td>\n      <td>0.029958</td>\n    </tr>\n    <tr>\n      <th>4</th>\n      <td>4.0</td>\n      <td>0.994568</td>\n      <td>0.040049</td>\n    </tr>\n    <tr>\n      <th>...</th>\n      <td>...</td>\n      <td>...</td>\n      <td>...</td>\n    </tr>\n    <tr>\n      <th>96</th>\n      <td>96.0</td>\n      <td>1.000000</td>\n      <td>0.960429</td>\n    </tr>\n    <tr>\n      <th>97</th>\n      <td>97.0</td>\n      <td>1.000000</td>\n      <td>0.970139</td>\n    </tr>\n    <tr>\n      <th>98</th>\n      <td>98.0</td>\n      <td>1.000000</td>\n      <td>0.980132</td>\n    </tr>\n    <tr>\n      <th>99</th>\n      <td>99.0</td>\n      <td>1.000000</td>\n      <td>0.989820</td>\n    </tr>\n    <tr>\n      <th>100</th>\n      <td>100.0</td>\n      <td>1.000000</td>\n      <td>0.997912</td>\n    </tr>\n  </tbody>\n</table>\n<p>101 rows × 3 columns</p>\n</div>"
     },
     "execution_count": 39,
     "metadata": {},
     "output_type": "execute_result"
    },
    {
     "data": {
      "text/plain": "<Figure size 432x288 with 1 Axes>",
      "image/png": "[encoded data removed]"
     },
     "metadata": {
      "needs_background": "light"
     },
     "output_type": "display_data"
    }
   ],
   "source": [
    "plt.rc(\"figure\", figsize=(40, 20))\n",
    "sns.set_style(\"whitegrid\")\n",
    "plt.rc(\"font\", size=25)\n",
    "data_means = crunch_data.groupby(\"percentage_voters_counted_stepped\")[\"cum_percentage_of_total_vp\",\"percentage_voters_counted\"].agg(\"mean\").reset_index()\n",
    "##print(data_means)\n",
    "plot_title = spacename + ' snapshots % of vote along population with Average as X'\n",
    "\n",
    "ax=sns.scatterplot(data=crunch_data, y=\"cum_percentage_of_total_vp\",x=\"percentage_voters_counted_stepped\").set(title=plot_title,xlabel='% of voters',ylabel='% of voting power')\n",
    "chart = sns.scatterplot(data=data_means,x=\"percentage_voters_counted_stepped\",y=\"cum_percentage_of_total_vp\",zorder=3, s=600,marker='X',color = 'orange')\n",
    "#and save the chart file, too\n",
    "plt.savefig(final_file+'\\\\'+spacename+' vote power distribution.png', dpi=100)\n",
    "\n",
    "means_data_path =final_file+'\\\\'+spacename+'_means_'+'.csv'\n",
    "data_means.to_csv(means_data_path, index = False)\n",
    "\n",
    "print(chart)\n",
    "data_means"
   ],
   "metadata": {
    "collapsed": false,
    "pycharm": {
     "name": "#%%\n"
    }
   }
  },
  {
   "cell_type": "markdown",
   "source": [
    "The chart above shows what % of all possible votes has been cast (Y axis) as each incremental percent of the voting population casts their vote (X axis). Each line is a Proposal and has a unique color, so that a dot on each percent point represents what % of total voting power was accumulated by that group. The color represents which vote was cast.\n",
    "The Orange X shows the average % of power accumulated across all elections."
   ],
   "metadata": {
    "collapsed": false,
    "pycharm": {
     "name": "#%% md\n"
    }
   }
  },
  {
   "cell_type": "code",
   "execution_count": 40,
   "outputs": [
    {
     "name": "stdout",
     "output_type": "stream",
     "text": [
      "On average, a proposal at  uniswap takes  0.29 % of the voting population.\n"
     ]
    }
   ],
   "source": [
    "p50 = db.query(\"select min(percentage_voters_counted) \"\n",
    "               \"from data_means  where cum_percentage_of_total_vp>=0.5 \").df()\n",
    "p50display = round(100*(p50.iloc[0,0]),2)\n",
    "print('On average, a proposal at ', spacename, 'takes ',p50display,'% of the voting population.')"
   ],
   "metadata": {
    "collapsed": false,
    "pycharm": {
     "name": "#%%\n"
    }
   }
  },
  {
   "cell_type": "code",
   "execution_count": 41,
   "outputs": [
    {
     "data": {
      "text/plain": "Empty DataFrame\nColumns: [proposals_id]\nIndex: []",
      "text/html": "<div>\n<style scoped>\n    .dataframe tbody tr th:only-of-type {\n        vertical-align: middle;\n    }\n\n    .dataframe tbody tr th {\n        vertical-align: top;\n    }\n\n    .dataframe thead th {\n        text-align: right;\n    }\n</style>\n<table border=\"1\" class=\"dataframe\">\n  <thead>\n    <tr style=\"text-align: right;\">\n      <th></th>\n      <th>proposals_id</th>\n    </tr>\n  </thead>\n  <tbody>\n  </tbody>\n</table>\n</div>"
     },
     "execution_count": 41,
     "metadata": {},
     "output_type": "execute_result"
    }
   ],
   "source": [
    "Snapshots = db.query(\"select distinct proposals_title, proposals_id  \"\n",
    "                       \"from olympus_governance_view_clean  \").df()\n",
    "\n",
    "colname= 'proposals_id'\n",
    "propid = str(Snapshots.iloc[0,0])\n",
    "frame = pd.DataFrame(columns=[colname])\n",
    "row = pd.DataFrame([propid],columns=[colname])\n",
    "\n",
    "prop_select =  db.query(\"select Snapshots.proposals_id \"\n",
    "                       \"from Snapshots join row on Snapshots.proposals_id = row.proposals_id \").df()\n",
    "\n",
    "\n",
    "prop_select\n",
    "\n",
    "\n",
    "\n",
    "\n",
    "#prop_select = pd.DataFrame((Snapshots.iloc[0,0]),columns='proposals_title')\n",
    "#prop_select"
   ],
   "metadata": {
    "collapsed": false,
    "pycharm": {
     "name": "#%%\n"
    }
   }
  }
 ],
 "metadata": {
  "kernelspec": {
   "display_name": "Python 3",
   "language": "python",
   "name": "python3"
  },
  "language_info": {
   "codemirror_mode": {
    "name": "ipython",
    "version": 2
   },
   "file_extension": ".py",
   "mimetype": "text/x-python",
   "name": "python",
   "nbconvert_exporter": "python",
   "pygments_lexer": "ipython2",
   "version": "2.7.6"
  }
 },
 "nbformat": 4,
 "nbformat_minor": 0
}